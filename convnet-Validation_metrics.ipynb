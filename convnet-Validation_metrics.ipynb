{
 "cells": [
  {
   "cell_type": "markdown",
   "metadata": {},
   "source": [
    "# Parkzap Labs Machine Learning Associate Task\n"
   ]
  },
  {
   "cell_type": "markdown",
   "metadata": {},
   "source": [
    "# TO DO \n",
    "\n",
    "1. Switch to validation metrics form of model\n",
    "2. Evaluate, Try increasing image dimensions (Image size 150 * 150, 200 * 200 goes out of memory on 750ti), more data ?\n",
    "3. Write report\n",
    "4. Check performance on resnet version"
   ]
  },
  {
   "cell_type": "markdown",
   "metadata": {},
   "source": [
    "# Preparing Dataset \n",
    "Preparing classes, labels, training test sets."
   ]
  },
  {
   "cell_type": "code",
   "execution_count": 1,
   "metadata": {},
   "outputs": [
    {
     "name": "stderr",
     "output_type": "stream",
     "text": [
      "  4%|▎         | 38/1068 [00:00<00:02, 367.21it/s]"
     ]
    },
    {
     "name": "stdout",
     "output_type": "stream",
     "text": [
      "CarImages/Swift\n"
     ]
    },
    {
     "name": "stderr",
     "output_type": "stream",
     "text": [
      "100%|██████████| 1068/1068 [00:03<00:00, 272.42it/s]\n",
      "  2%|▏         | 20/1014 [00:00<00:09, 109.83it/s]"
     ]
    },
    {
     "name": "stdout",
     "output_type": "stream",
     "text": [
      "CarImages/Innova\n"
     ]
    },
    {
     "name": "stderr",
     "output_type": "stream",
     "text": [
      "100%|██████████| 1014/1014 [00:04<00:00, 247.87it/s]"
     ]
    },
    {
     "name": "stdout",
     "output_type": "stream",
     "text": [
      "Innova Count : 1001\n",
      "Swift Count : 1037\n"
     ]
    },
    {
     "name": "stderr",
     "output_type": "stream",
     "text": [
      "\n"
     ]
    }
   ],
   "source": [
    "import os\n",
    "import cv2\n",
    "import numpy as np\n",
    "from tqdm import tqdm    # for progress meter in loop\n",
    "\n",
    "\n",
    "REBUILD_DATA = True   # Set to false if you don't want to rebuild train, test sets for each execution. \n",
    "\n",
    "class SwiftVsInnova():\n",
    "    IMG_SIZE = 120\n",
    "    Swift = \"CarImages/Swift\"\n",
    "    Innova = \"CarImages/Innova\"\n",
    "    labels = {Swift : 0, Innova : 1}    \n",
    "    training_data = []\n",
    "    swiftcount = 0\n",
    "    innovacount = 0\n",
    "    \n",
    "    def Make_Training_Data(self) :\n",
    "        for label in self.labels :\n",
    "            print(label)\n",
    "            for f in tqdm(os.listdir(label)):\n",
    "                if \"jpg\" in f:\n",
    "                    try:\n",
    "                        path = os.path.join(label, f)\n",
    "                        img = cv2.imread(path, cv2.IMREAD_GRAYSCALE)\n",
    "                        img = cv2.resize(img, (self.IMG_SIZE, self.IMG_SIZE))\n",
    "                        self.training_data.append([np.array(img), np.eye(2)[self.labels[label]]])\n",
    "                        \n",
    "                        if label == self.Swift:\n",
    "                            self.swiftcount +=1\n",
    "                        elif label == self.Innova:\n",
    "                            self.innovacount +=1\n",
    "                    except Exception as e:\n",
    "                        pass\n",
    "                        #print(str(e))\n",
    "                \n",
    "        np.random.shuffle(self.training_data)\n",
    "        np.save(\"Car_classifier_data_120_val.npy\", self.training_data)\n",
    "        # To check balance of data in terms of target variables.\n",
    "        print(\"Innova Count :\", self.innovacount)\n",
    "        print(\"Swift Count :\", self.swiftcount)\n",
    "\n",
    "if REBUILD_DATA:\n",
    "    swiftvinnova = SwiftVsInnova()\n",
    "    swiftvinnova.Make_Training_Data()\n"
   ]
  },
  {
   "cell_type": "code",
   "execution_count": 2,
   "metadata": {},
   "outputs": [
    {
     "name": "stdout",
     "output_type": "stream",
     "text": [
      "2038\n",
      "[[ 50  43  47 ...  52  23  38]\n",
      " [ 41  45  50 ...  74  70  37]\n",
      " [ 44  46  50 ...  79  83  30]\n",
      " ...\n",
      " [246 246 248 ... 219 205 234]\n",
      " [243 245 246 ... 157 172 186]\n",
      " [225 215 218 ... 166 173 196]]\n"
     ]
    }
   ],
   "source": [
    "training_data = np.load(\"Car_classifier_data_120_val.npy\", allow_pickle=True)\n",
    "print(len(training_data))\n",
    "print(training_data[0][0])"
   ]
  },
  {
   "cell_type": "code",
   "execution_count": 3,
   "metadata": {},
   "outputs": [
    {
     "name": "stdout",
     "output_type": "stream",
     "text": [
      "566\n"
     ]
    },
    {
     "data": {
      "image/png": "[encoded data removed]",
      "text/plain": [
       "<Figure size 432x288 with 1 Axes>"
      ]
     },
     "metadata": {
      "needs_background": "light"
     },
     "output_type": "display_data"
    },
    {
     "name": "stdout",
     "output_type": "stream",
     "text": [
      "[1. 0.]\n"
     ]
    }
   ],
   "source": [
    "import matplotlib.pyplot as plt\n",
    "num = np.random.randint(1291)\n",
    "print(num)\n",
    "plt.imshow(training_data[num][0], cmap = \"gray\")\n",
    "plt.show()\n",
    "print(training_data[num][1]) "
   ]
  },
  {
   "cell_type": "markdown",
   "metadata": {},
   "source": [
    "# Building the Model/Passing data in feed forward "
   ]
  },
  {
   "cell_type": "code",
   "execution_count": 4,
   "metadata": {},
   "outputs": [
    {
     "name": "stdout",
     "output_type": "stream",
     "text": [
      "Running on the GPU\n",
      "Net(\n",
      "  (conv1): Conv2d(1, 32, kernel_size=(5, 5), stride=(1, 1))\n",
      "  (conv2): Conv2d(32, 64, kernel_size=(5, 5), stride=(1, 1))\n",
      "  (conv3): Conv2d(64, 128, kernel_size=(5, 5), stride=(1, 1))\n",
      "  (fc1): Linear(in_features=15488, out_features=512, bias=True)\n",
      "  (fc2): Linear(in_features=512, out_features=2, bias=True)\n",
      ")\n"
     ]
    }
   ],
   "source": [
    "import torch\n",
    "import torch.nn as nn\n",
    "import torch.nn.functional as F\n",
    "\n",
    "from IPython.core.debugger import set_trace # For debugging in Python\n",
    "\n",
    "# Selecting whether to run on GPU (if available) or CPU\n",
    "if torch.cuda.is_available():\n",
    "    device = torch.device(\"cuda:0\")  # you can continue going on here, like cuda:1 cuda:2....etc. \n",
    "    print(\"Running on the GPU\")\n",
    "else:\n",
    "    device = torch.device(\"cpu\")\n",
    "    print(\"Running on the CPU\")\n",
    "\n",
    "class Net(nn.Module) :\n",
    "    def __init__(self) :\n",
    "        super().__init__()\n",
    "        # torch.nn.Conv2d(in_channels, out_channels, kernel_size, stride=1, padding=0, dilation=1, groups=1, bias=True, padding_mode='zeros')\n",
    "        self.conv1 = nn.Conv2d(1, 32, 5)\n",
    "        # Output of first conv layer : O = { (W - k + 2*P)/s } + 1, Initially image size, W = 28\n",
    "        # Kernel Size, k = 5    Stride , s = 1  Padding, P = 0\n",
    "        # in our case W =50, k = 5, s = 1, so O1 = (50-5 + 0)/1 + 1 = 46 for first conv2d output\n",
    "        self.conv2 = nn.Conv2d(32, 64, 5)\n",
    "        # here O = { (W - k + 2*P)/s } + 1, But first the output of conv1 will run through a maxpool so,it gets complicated \n",
    "        self.conv3 = nn.Conv2d(64, 128, 5)\n",
    "        \n",
    "        # We dont know input shape into First linear layer after passing through convolution layers. \n",
    "        # It can be calculated or follow the method in video\n",
    "        \n",
    "        # Passing random data x \n",
    "        \n",
    "        #set_trace() # Set trace for debugging value of X\n",
    "        x = torch.randn(120,120).view(-1,1,120,120)\n",
    "        self._to_linear = None\n",
    "        self.convs(x)   # Partial forward pass\n",
    "        \n",
    "        self.fc1 = nn.Linear(self._to_linear, 512) # Flattening , from calculation should be 2*2, 4\n",
    "        self.fc2 = nn.Linear(512, 2)   # Output 2 because we're doing 2 classes\n",
    "    def convs(self, x):           # Passing data through conv, using Relu activation and maxpool layer \n",
    "        x = F.relu(self.conv1(x))\n",
    "        x = F.max_pool2d(x,(2,2))\n",
    "        x = F.relu(self.conv2(x))\n",
    "        x = F.max_pool2d(x,(2,2))\n",
    "        x = F.relu(self.conv3(x))\n",
    "        x = F.max_pool2d(x,(2,2))\n",
    "        # Print shape of Tensor after passing through convs, \n",
    "        # print(x[0].shape)\n",
    "        if self._to_linear is None:\n",
    "            self._to_linear = x[0].shape[0]*x[0].shape[1]*x[0].shape[2]\n",
    "        return x\n",
    " # Feed forward propogation   \n",
    "    def forward(self, x):\n",
    "        x = self.convs(x)\n",
    "        x = x.view(-1, self._to_linear)\n",
    "        x = F.relu(self.fc1(x))\n",
    "        x = self.fc2(x)\n",
    "        return F.softmax(x, dim=1)\n",
    "net = Net().to(device)\n",
    "print(net)"
   ]
  },
  {
   "cell_type": "markdown",
   "metadata": {},
   "source": [
    "# Calculating output of pass through cov, maxpool and input dimension of FC\n",
    "\n",
    "The input image is 50 * 50, so:\n",
    "O1 = (50-5+2*0)/1 + 1=46\n",
    "O1 max pooling = (46)/2 = 23\n",
    "O2 = (23-5+2*0)/1 + 1 = 19\n",
    "O2 max pooling = (19)/2 = 8.5 # O2 max pooling = (18)/2 = 9\n",
    "O3 = (8.5-5+2*0)/1 + 1 = 4.5  # O3 = (9-5+2*0)/1 +1 = 5\n",
    "O3 max pooling = 4.5=2.25     # O3 max pooling = 4/2 = 2\n",
    "\n",
    "We cannot have output/input shapes as decimal numbers (Just think about how can we represent 0.5 pixel as?). PyTorch like Keras/TensorFlow probably handles it by simple cropping the last column of pixels off. So for layer \"02 max pooling\" in your case, PyTorch will consider 18 columns only (so 18/2 = 9 and subsequent calculations are again similar). Paddings are generally added to handle such cases."
   ]
  },
  {
   "cell_type": "markdown",
   "metadata": {},
   "source": [
    "# Training - Loss and Optimizing parameters\n",
    "Passing the Training data through the Model and calculating loss (Mean Squared Error). Then using Adam optimizer to adjust parameters/weights of the model."
   ]
  },
  {
   "cell_type": "code",
   "execution_count": 5,
   "metadata": {},
   "outputs": [
    {
     "name": "stdout",
     "output_type": "stream",
     "text": [
      "203\n"
     ]
    }
   ],
   "source": [
    "import torch.optim as optim\n",
    "\n",
    "optimizer = optim.Adam(net.parameters(), lr = .001)  #Passing model to optimizer and setting Learning rate\n",
    "loss_function = nn.MSELoss()\n",
    "\n",
    "X = torch.Tensor([i[0] for i in training_data]).view(-1, 120, 120)\n",
    "X = X/255.0    # Pixel values are between 0 and 255, to transform to 0 - 1 range\n",
    "y = torch.Tensor([i[1] for i in training_data])\n",
    "\n",
    "# Creating validation set/ Test set\n",
    "VAL_PCT = 0.1\n",
    "val_size = int(len(X)*VAL_PCT) # coverting to int as it will be used as a number to slice with\n",
    "print(val_size)"
   ]
  },
  {
   "cell_type": "code",
   "execution_count": 6,
   "metadata": {},
   "outputs": [
    {
     "name": "stdout",
     "output_type": "stream",
     "text": [
      "1835\n",
      "203\n"
     ]
    }
   ],
   "source": [
    "train_X = X[:-val_size]\n",
    "train_y = y[:-val_size]\n",
    "test_X = X[-val_size:]\n",
    "test_y = y[-val_size:]\n",
    "\n",
    "print(len(train_X))\n",
    "print(len(test_X))"
   ]
  },
  {
   "cell_type": "code",
   "execution_count": 7,
   "metadata": {},
   "outputs": [],
   "source": [
    "# new Forward pass function \n",
    "\n",
    "def fwd_pass(X, y, train=False):\n",
    "\n",
    "    if train:\n",
    "        net.zero_grad()\n",
    "    outputs = net(X)\n",
    "    # addition that compares the argmax of the vectors, zip for list comprehension \n",
    "    matches  = [torch.argmax(i)==torch.argmax(j) for i, j in zip(outputs, y)]\n",
    "    # Accuracy percentage in sample\n",
    "    #(IN SAMPLE ACCURACY WHILE TRAINING)\n",
    "    acc = matches.count(True)/len(matches)\n",
    "    loss = loss_function(outputs, y)\n",
    "\n",
    "    if train:\n",
    "        loss.backward()\n",
    "        optimizer.step()\n",
    "\n",
    "    return acc, loss\n",
    "\n"
   ]
  },
  {
   "cell_type": "code",
   "execution_count": 8,
   "metadata": {},
   "outputs": [
    {
     "name": "stdout",
     "output_type": "stream",
     "text": [
      "0.53125 tensor(0.2493, device='cuda:0', grad_fn=<MseLossBackward>)\n"
     ]
    }
   ],
   "source": [
    "def test(size=32):\n",
    "    X, y = test_X[:size], test_y[:size]\n",
    "    val_acc, val_loss = fwd_pass(X.view(-1, 1, 120, 120).to(device), y.to(device))\n",
    "    return val_acc, val_loss\n",
    "\n",
    "val_acc, val_loss = test(size=32)\n",
    "print(val_acc, val_loss)"
   ]
  },
  {
   "cell_type": "code",
   "execution_count": 9,
   "metadata": {},
   "outputs": [
    {
     "name": "stderr",
     "output_type": "stream",
     "text": [
      "  3%|▎         | 1/37 [00:00<00:05,  6.09it/s]"
     ]
    },
    {
     "name": "stdout",
     "output_type": "stream",
     "text": [
      "model-1579336059\n",
      "Acc: 0.3  Loss: 0.2544\n"
     ]
    },
    {
     "name": "stderr",
     "output_type": "stream",
     "text": [
      "  8%|▊         | 3/37 [00:00<00:05,  6.28it/s]"
     ]
    },
    {
     "name": "stdout",
     "output_type": "stream",
     "text": [
      "Acc: 0.56  Loss: 0.3489\n",
      "Acc: 0.6  Loss: 0.2431\n"
     ]
    },
    {
     "name": "stderr",
     "output_type": "stream",
     "text": [
      " 14%|█▎        | 5/37 [00:00<00:04,  6.48it/s]"
     ]
    },
    {
     "name": "stdout",
     "output_type": "stream",
     "text": [
      "Acc: 0.4  Loss: 0.2551\n",
      "Acc: 0.58  Loss: 0.2481\n"
     ]
    },
    {
     "name": "stderr",
     "output_type": "stream",
     "text": [
      " 19%|█▉        | 7/37 [00:01<00:04,  6.63it/s]"
     ]
    },
    {
     "name": "stdout",
     "output_type": "stream",
     "text": [
      "Acc: 0.38  Loss: 0.258\n",
      "Acc: 0.46  Loss: 0.2516\n"
     ]
    },
    {
     "name": "stderr",
     "output_type": "stream",
     "text": [
      " 24%|██▍       | 9/37 [00:01<00:04,  6.69it/s]"
     ]
    },
    {
     "name": "stdout",
     "output_type": "stream",
     "text": [
      "Acc: 0.44  Loss: 0.251\n",
      "Acc: 0.52  Loss: 0.2496\n"
     ]
    },
    {
     "name": "stderr",
     "output_type": "stream",
     "text": [
      " 30%|██▉       | 11/37 [00:01<00:03,  6.68it/s]"
     ]
    },
    {
     "name": "stdout",
     "output_type": "stream",
     "text": [
      "Acc: 0.54  Loss: 0.2498\n",
      "Acc: 0.48  Loss: 0.2522\n"
     ]
    },
    {
     "name": "stderr",
     "output_type": "stream",
     "text": [
      " 35%|███▌      | 13/37 [00:01<00:03,  6.69it/s]"
     ]
    },
    {
     "name": "stdout",
     "output_type": "stream",
     "text": [
      "Acc: 0.56  Loss: 0.2491\n",
      "Acc: 0.42  Loss: 0.2516\n"
     ]
    },
    {
     "name": "stderr",
     "output_type": "stream",
     "text": [
      " 41%|████      | 15/37 [00:02<00:03,  6.75it/s]"
     ]
    },
    {
     "name": "stdout",
     "output_type": "stream",
     "text": [
      "Acc: 0.5  Loss: 0.2503\n",
      "Acc: 0.48  Loss: 0.2503\n"
     ]
    },
    {
     "name": "stderr",
     "output_type": "stream",
     "text": [
      " 46%|████▌     | 17/37 [00:02<00:02,  6.77it/s]"
     ]
    },
    {
     "name": "stdout",
     "output_type": "stream",
     "text": [
      "Acc: 0.5  Loss: 0.2499\n",
      "Acc: 0.5  Loss: 0.25\n"
     ]
    },
    {
     "name": "stderr",
     "output_type": "stream",
     "text": [
      " 51%|█████▏    | 19/37 [00:02<00:02,  6.72it/s]"
     ]
    },
    {
     "name": "stdout",
     "output_type": "stream",
     "text": [
      "Acc: 0.5  Loss: 0.2498\n",
      "Acc: 0.48  Loss: 0.2504\n"
     ]
    },
    {
     "name": "stderr",
     "output_type": "stream",
     "text": [
      " 57%|█████▋    | 21/37 [00:03<00:02,  6.61it/s]"
     ]
    },
    {
     "name": "stdout",
     "output_type": "stream",
     "text": [
      "Acc: 0.54  Loss: 0.2488\n",
      "Acc: 0.48  Loss: 0.2501\n"
     ]
    },
    {
     "name": "stderr",
     "output_type": "stream",
     "text": [
      " 62%|██████▏   | 23/37 [00:03<00:02,  6.41it/s]"
     ]
    },
    {
     "name": "stdout",
     "output_type": "stream",
     "text": [
      "Acc: 0.6  Loss: 0.2471\n",
      "Acc: 0.54  Loss: 0.2481\n"
     ]
    },
    {
     "name": "stderr",
     "output_type": "stream",
     "text": [
      " 68%|██████▊   | 25/37 [00:03<00:01,  6.50it/s]"
     ]
    },
    {
     "name": "stdout",
     "output_type": "stream",
     "text": [
      "Acc: 0.54  Loss: 0.2479\n",
      "Acc: 0.56  Loss: 0.244\n"
     ]
    },
    {
     "name": "stderr",
     "output_type": "stream",
     "text": [
      " 73%|███████▎  | 27/37 [00:04<00:01,  6.58it/s]"
     ]
    },
    {
     "name": "stdout",
     "output_type": "stream",
     "text": [
      "Acc: 0.42  Loss: 0.2632\n",
      "Acc: 0.44  Loss: 0.26\n"
     ]
    },
    {
     "name": "stderr",
     "output_type": "stream",
     "text": [
      " 78%|███████▊  | 29/37 [00:04<00:01,  6.55it/s]"
     ]
    },
    {
     "name": "stdout",
     "output_type": "stream",
     "text": [
      "Acc: 0.58  Loss: 0.2445\n",
      "Acc: 0.54  Loss: 0.2476\n"
     ]
    },
    {
     "name": "stderr",
     "output_type": "stream",
     "text": [
      " 84%|████████▍ | 31/37 [00:04<00:00,  6.42it/s]"
     ]
    },
    {
     "name": "stdout",
     "output_type": "stream",
     "text": [
      "Acc: 0.54  Loss: 0.2468\n",
      "Acc: 0.44  Loss: 0.2528\n"
     ]
    },
    {
     "name": "stderr",
     "output_type": "stream",
     "text": [
      " 89%|████████▉ | 33/37 [00:05<00:00,  6.38it/s]"
     ]
    },
    {
     "name": "stdout",
     "output_type": "stream",
     "text": [
      "Acc: 0.34  Loss: 0.2534\n",
      "Acc: 0.56  Loss: 0.249\n"
     ]
    },
    {
     "name": "stderr",
     "output_type": "stream",
     "text": [
      " 95%|█████████▍| 35/37 [00:05<00:00,  6.30it/s]"
     ]
    },
    {
     "name": "stdout",
     "output_type": "stream",
     "text": [
      "Acc: 0.62  Loss: 0.2495\n",
      "Acc: 0.56  Loss: 0.2499\n"
     ]
    },
    {
     "name": "stderr",
     "output_type": "stream",
     "text": [
      "100%|██████████| 37/37 [00:05<00:00,  6.57it/s]\n",
      "  0%|          | 0/37 [00:00<?, ?it/s]"
     ]
    },
    {
     "name": "stdout",
     "output_type": "stream",
     "text": [
      "Acc: 0.56  Loss: 0.2498\n",
      "Acc: 0.51  Loss: 0.2498\n"
     ]
    },
    {
     "name": "stderr",
     "output_type": "stream",
     "text": [
      "  5%|▌         | 2/37 [00:00<00:05,  6.66it/s]"
     ]
    },
    {
     "name": "stdout",
     "output_type": "stream",
     "text": [
      "Acc: 0.7  Loss: 0.2492\n",
      "Acc: 0.56  Loss: 0.2496\n"
     ]
    },
    {
     "name": "stderr",
     "output_type": "stream",
     "text": [
      " 11%|█         | 4/37 [00:00<00:04,  6.69it/s]"
     ]
    },
    {
     "name": "stdout",
     "output_type": "stream",
     "text": [
      "Acc: 0.6  Loss: 0.2493\n",
      "Acc: 0.4  Loss: 0.2509\n"
     ]
    },
    {
     "name": "stderr",
     "output_type": "stream",
     "text": [
      " 16%|█▌        | 6/37 [00:00<00:04,  6.71it/s]"
     ]
    },
    {
     "name": "stdout",
     "output_type": "stream",
     "text": [
      "Acc: 0.42  Loss: 0.2509\n",
      "Acc: 0.62  Loss: 0.2487\n"
     ]
    },
    {
     "name": "stderr",
     "output_type": "stream",
     "text": [
      " 22%|██▏       | 8/37 [00:01<00:04,  6.54it/s]"
     ]
    },
    {
     "name": "stdout",
     "output_type": "stream",
     "text": [
      "Acc: 0.54  Loss: 0.2492\n",
      "Acc: 0.56  Loss: 0.2485\n"
     ]
    },
    {
     "name": "stderr",
     "output_type": "stream",
     "text": [
      " 27%|██▋       | 10/37 [00:01<00:04,  6.38it/s]"
     ]
    },
    {
     "name": "stdout",
     "output_type": "stream",
     "text": [
      "Acc: 0.52  Loss: 0.2506\n",
      "Acc: 0.54  Loss: 0.2468\n"
     ]
    },
    {
     "name": "stderr",
     "output_type": "stream",
     "text": [
      " 32%|███▏      | 12/37 [00:01<00:03,  6.38it/s]"
     ]
    },
    {
     "name": "stdout",
     "output_type": "stream",
     "text": [
      "Acc: 0.48  Loss: 0.2527\n",
      "Acc: 0.56  Loss: 0.2474\n"
     ]
    },
    {
     "name": "stderr",
     "output_type": "stream",
     "text": [
      " 38%|███▊      | 14/37 [00:02<00:03,  6.69it/s]"
     ]
    },
    {
     "name": "stdout",
     "output_type": "stream",
     "text": [
      "Acc: 0.42  Loss: 0.2527\n",
      "Acc: 0.5  Loss: 0.2494\n"
     ]
    },
    {
     "name": "stderr",
     "output_type": "stream",
     "text": [
      " 43%|████▎     | 16/37 [00:02<00:03,  6.85it/s]"
     ]
    },
    {
     "name": "stdout",
     "output_type": "stream",
     "text": [
      "Acc: 0.48  Loss: 0.2503\n",
      "Acc: 0.5  Loss: 0.25\n"
     ]
    },
    {
     "name": "stderr",
     "output_type": "stream",
     "text": [
      " 49%|████▊     | 18/37 [00:02<00:02,  6.94it/s]"
     ]
    },
    {
     "name": "stdout",
     "output_type": "stream",
     "text": [
      "Acc: 0.5  Loss: 0.2501\n",
      "Acc: 0.5  Loss: 0.2498\n"
     ]
    },
    {
     "name": "stderr",
     "output_type": "stream",
     "text": [
      " 54%|█████▍    | 20/37 [00:03<00:02,  6.62it/s]"
     ]
    },
    {
     "name": "stdout",
     "output_type": "stream",
     "text": [
      "Acc: 0.52  Loss: 0.2498\n",
      "Acc: 0.46  Loss: 0.2503\n"
     ]
    },
    {
     "name": "stderr",
     "output_type": "stream",
     "text": [
      " 59%|█████▉    | 22/37 [00:03<00:02,  6.42it/s]"
     ]
    },
    {
     "name": "stdout",
     "output_type": "stream",
     "text": [
      "Acc: 0.52  Loss: 0.2497\n",
      "Acc: 0.4  Loss: 0.2513\n"
     ]
    },
    {
     "name": "stderr",
     "output_type": "stream",
     "text": [
      " 65%|██████▍   | 24/37 [00:03<00:01,  6.53it/s]"
     ]
    },
    {
     "name": "stdout",
     "output_type": "stream",
     "text": [
      "Acc: 0.46  Loss: 0.2502\n",
      "Acc: 0.46  Loss: 0.2501\n"
     ]
    },
    {
     "name": "stderr",
     "output_type": "stream",
     "text": [
      " 70%|███████   | 26/37 [00:03<00:01,  6.77it/s]"
     ]
    },
    {
     "name": "stdout",
     "output_type": "stream",
     "text": [
      "Acc: 0.54  Loss: 0.2494\n",
      "Acc: 0.56  Loss: 0.2487\n"
     ]
    },
    {
     "name": "stderr",
     "output_type": "stream",
     "text": [
      " 76%|███████▌  | 28/37 [00:04<00:01,  6.90it/s]"
     ]
    },
    {
     "name": "stdout",
     "output_type": "stream",
     "text": [
      "Acc: 0.52  Loss: 0.2503\n",
      "Acc: 0.62  Loss: 0.247\n"
     ]
    },
    {
     "name": "stderr",
     "output_type": "stream",
     "text": [
      " 81%|████████  | 30/37 [00:04<00:01,  6.96it/s]"
     ]
    },
    {
     "name": "stdout",
     "output_type": "stream",
     "text": [
      "Acc: 0.54  Loss: 0.2466\n",
      "Acc: 0.56  Loss: 0.241\n"
     ]
    },
    {
     "name": "stderr",
     "output_type": "stream",
     "text": [
      " 86%|████████▋ | 32/37 [00:04<00:00,  6.59it/s]"
     ]
    },
    {
     "name": "stdout",
     "output_type": "stream",
     "text": [
      "Acc: 0.44  Loss: 0.2715\n",
      "Acc: 0.34  Loss: 0.2674\n"
     ]
    },
    {
     "name": "stderr",
     "output_type": "stream",
     "text": [
      " 92%|█████████▏| 34/37 [00:05<00:00,  6.63it/s]"
     ]
    },
    {
     "name": "stdout",
     "output_type": "stream",
     "text": [
      "Acc: 0.5  Loss: 0.2491\n",
      "Acc: 0.46  Loss: 0.2521\n"
     ]
    },
    {
     "name": "stderr",
     "output_type": "stream",
     "text": [
      " 97%|█████████▋| 36/37 [00:05<00:00,  6.82it/s]"
     ]
    },
    {
     "name": "stdout",
     "output_type": "stream",
     "text": [
      "Acc: 0.56  Loss: 0.2446\n",
      "Acc: 0.5  Loss: 0.2484\n"
     ]
    },
    {
     "name": "stderr",
     "output_type": "stream",
     "text": [
      "100%|██████████| 37/37 [00:05<00:00,  6.71it/s]\n",
      "  3%|▎         | 1/37 [00:00<00:05,  6.40it/s]"
     ]
    },
    {
     "name": "stdout",
     "output_type": "stream",
     "text": [
      "Acc: 0.54  Loss: 0.2474\n",
      "Acc: 0.68  Loss: 0.2396\n"
     ]
    },
    {
     "name": "stderr",
     "output_type": "stream",
     "text": [
      "  8%|▊         | 3/37 [00:00<00:05,  6.31it/s]"
     ]
    },
    {
     "name": "stdout",
     "output_type": "stream",
     "text": [
      "Acc: 0.56  Loss: 0.2419\n",
      "Acc: 0.6  Loss: 0.239\n"
     ]
    },
    {
     "name": "stderr",
     "output_type": "stream",
     "text": [
      " 14%|█▎        | 5/37 [00:00<00:04,  6.53it/s]"
     ]
    },
    {
     "name": "stdout",
     "output_type": "stream",
     "text": [
      "Acc: 0.4  Loss: 0.2672\n",
      "Acc: 0.42  Loss: 0.2583\n"
     ]
    },
    {
     "name": "stderr",
     "output_type": "stream",
     "text": [
      " 19%|█▉        | 7/37 [00:01<00:04,  6.38it/s]"
     ]
    },
    {
     "name": "stdout",
     "output_type": "stream",
     "text": [
      "Acc: 0.6  Loss: 0.2454\n",
      "Acc: 0.6  Loss: 0.2445\n"
     ]
    },
    {
     "name": "stderr",
     "output_type": "stream",
     "text": [
      " 24%|██▍       | 9/37 [00:01<00:04,  6.33it/s]"
     ]
    },
    {
     "name": "stdout",
     "output_type": "stream",
     "text": [
      "Acc: 0.64  Loss: 0.2452\n",
      "Acc: 0.56  Loss: 0.246\n"
     ]
    },
    {
     "name": "stderr",
     "output_type": "stream",
     "text": [
      " 30%|██▉       | 11/37 [00:01<00:03,  6.66it/s]"
     ]
    },
    {
     "name": "stdout",
     "output_type": "stream",
     "text": [
      "Acc: 0.64  Loss: 0.246\n",
      "Acc: 0.58  Loss: 0.2457\n"
     ]
    },
    {
     "name": "stderr",
     "output_type": "stream",
     "text": [
      " 35%|███▌      | 13/37 [00:01<00:03,  6.72it/s]"
     ]
    },
    {
     "name": "stdout",
     "output_type": "stream",
     "text": [
      "Acc: 0.5  Loss: 0.2519\n",
      "Acc: 0.68  Loss: 0.2434\n"
     ]
    },
    {
     "name": "stderr",
     "output_type": "stream",
     "text": [
      " 41%|████      | 15/37 [00:02<00:03,  6.46it/s]"
     ]
    },
    {
     "name": "stdout",
     "output_type": "stream",
     "text": [
      "Acc: 0.62  Loss: 0.2425\n",
      "Acc: 0.58  Loss: 0.2422\n"
     ]
    },
    {
     "name": "stderr",
     "output_type": "stream",
     "text": [
      " 46%|████▌     | 17/37 [00:02<00:03,  6.56it/s]"
     ]
    },
    {
     "name": "stdout",
     "output_type": "stream",
     "text": [
      "Acc: 0.58  Loss: 0.244\n",
      "Acc: 0.54  Loss: 0.2493\n"
     ]
    },
    {
     "name": "stderr",
     "output_type": "stream",
     "text": [
      " 51%|█████▏    | 19/37 [00:02<00:02,  6.50it/s]"
     ]
    },
    {
     "name": "stdout",
     "output_type": "stream",
     "text": [
      "Acc: 0.58  Loss: 0.2381\n",
      "Acc: 0.44  Loss: 0.2516\n"
     ]
    },
    {
     "name": "stderr",
     "output_type": "stream",
     "text": [
      " 57%|█████▋    | 21/37 [00:03<00:02,  6.76it/s]"
     ]
    },
    {
     "name": "stdout",
     "output_type": "stream",
     "text": [
      "Acc: 0.66  Loss: 0.2284\n",
      "Acc: 0.58  Loss: 0.2406\n"
     ]
    },
    {
     "name": "stderr",
     "output_type": "stream",
     "text": [
      " 62%|██████▏   | 23/37 [00:03<00:02,  6.61it/s]"
     ]
    },
    {
     "name": "stdout",
     "output_type": "stream",
     "text": [
      "Acc: 0.62  Loss: 0.2422\n",
      "Acc: 0.62  Loss: 0.2345\n"
     ]
    },
    {
     "name": "stderr",
     "output_type": "stream",
     "text": [
      " 68%|██████▊   | 25/37 [00:03<00:01,  6.65it/s]"
     ]
    },
    {
     "name": "stdout",
     "output_type": "stream",
     "text": [
      "Acc: 0.58  Loss: 0.2503\n",
      "Acc: 0.62  Loss: 0.2222\n"
     ]
    },
    {
     "name": "stderr",
     "output_type": "stream",
     "text": [
      " 73%|███████▎  | 27/37 [00:04<00:01,  6.43it/s]"
     ]
    },
    {
     "name": "stdout",
     "output_type": "stream",
     "text": [
      "Acc: 0.7  Loss: 0.2264\n",
      "Acc: 0.6  Loss: 0.2327\n"
     ]
    },
    {
     "name": "stderr",
     "output_type": "stream",
     "text": [
      " 78%|███████▊  | 29/37 [00:04<00:01,  6.35it/s]"
     ]
    },
    {
     "name": "stdout",
     "output_type": "stream",
     "text": [
      "Acc: 0.5  Loss: 0.2822\n",
      "Acc: 0.54  Loss: 0.2432\n"
     ]
    },
    {
     "name": "stderr",
     "output_type": "stream",
     "text": [
      " 84%|████████▍ | 31/37 [00:04<00:00,  6.53it/s]"
     ]
    },
    {
     "name": "stdout",
     "output_type": "stream",
     "text": [
      "Acc: 0.64  Loss: 0.2215\n",
      "Acc: 0.48  Loss: 0.2522\n"
     ]
    },
    {
     "name": "stderr",
     "output_type": "stream",
     "text": [
      " 89%|████████▉ | 33/37 [00:05<00:00,  6.76it/s]"
     ]
    },
    {
     "name": "stdout",
     "output_type": "stream",
     "text": [
      "Acc: 0.5  Loss: 0.2565\n",
      "Acc: 0.58  Loss: 0.2313\n"
     ]
    },
    {
     "name": "stderr",
     "output_type": "stream",
     "text": [
      " 95%|█████████▍| 35/37 [00:05<00:00,  6.86it/s]"
     ]
    },
    {
     "name": "stdout",
     "output_type": "stream",
     "text": [
      "Acc: 0.7  Loss: 0.2208\n",
      "Acc: 0.62  Loss: 0.232\n"
     ]
    },
    {
     "name": "stderr",
     "output_type": "stream",
     "text": [
      "100%|██████████| 37/37 [00:05<00:00,  6.62it/s]\n",
      "  0%|          | 0/37 [00:00<?, ?it/s]"
     ]
    },
    {
     "name": "stdout",
     "output_type": "stream",
     "text": [
      "Acc: 0.62  Loss: 0.2368\n",
      "Acc: 0.57  Loss: 0.2332\n"
     ]
    },
    {
     "name": "stderr",
     "output_type": "stream",
     "text": [
      "  5%|▌         | 2/37 [00:00<00:05,  6.70it/s]"
     ]
    },
    {
     "name": "stdout",
     "output_type": "stream",
     "text": [
      "Acc: 0.66  Loss: 0.2294\n",
      "Acc: 0.7  Loss: 0.2138\n"
     ]
    },
    {
     "name": "stderr",
     "output_type": "stream",
     "text": [
      " 11%|█         | 4/37 [00:00<00:05,  6.45it/s]"
     ]
    },
    {
     "name": "stdout",
     "output_type": "stream",
     "text": [
      "Acc: 0.62  Loss: 0.2246\n",
      "Acc: 0.54  Loss: 0.2348\n"
     ]
    },
    {
     "name": "stderr",
     "output_type": "stream",
     "text": [
      " 16%|█▌        | 6/37 [00:00<00:04,  6.39it/s]"
     ]
    },
    {
     "name": "stdout",
     "output_type": "stream",
     "text": [
      "Acc: 0.62  Loss: 0.2116\n",
      "Acc: 0.58  Loss: 0.2404\n"
     ]
    },
    {
     "name": "stderr",
     "output_type": "stream",
     "text": [
      " 22%|██▏       | 8/37 [00:01<00:04,  6.60it/s]"
     ]
    },
    {
     "name": "stdout",
     "output_type": "stream",
     "text": [
      "Acc: 0.76  Loss: 0.1906\n",
      "Acc: 0.54  Loss: 0.243\n"
     ]
    },
    {
     "name": "stderr",
     "output_type": "stream",
     "text": [
      " 27%|██▋       | 10/37 [00:01<00:03,  6.80it/s]"
     ]
    },
    {
     "name": "stdout",
     "output_type": "stream",
     "text": [
      "Acc: 0.68  Loss: 0.1945\n",
      "Acc: 0.72  Loss: 0.2013\n"
     ]
    },
    {
     "name": "stderr",
     "output_type": "stream",
     "text": [
      " 32%|███▏      | 12/37 [00:01<00:03,  6.91it/s]"
     ]
    },
    {
     "name": "stdout",
     "output_type": "stream",
     "text": [
      "Acc: 0.62  Loss: 0.2185\n",
      "Acc: 0.64  Loss: 0.2372\n"
     ]
    },
    {
     "name": "stderr",
     "output_type": "stream",
     "text": [
      " 38%|███▊      | 14/37 [00:02<00:03,  6.91it/s]"
     ]
    },
    {
     "name": "stdout",
     "output_type": "stream",
     "text": [
      "Acc: 0.72  Loss: 0.1793\n",
      "Acc: 0.66  Loss: 0.2228\n"
     ]
    },
    {
     "name": "stderr",
     "output_type": "stream",
     "text": [
      " 43%|████▎     | 16/37 [00:02<00:03,  6.73it/s]"
     ]
    },
    {
     "name": "stdout",
     "output_type": "stream",
     "text": [
      "Acc: 0.74  Loss: 0.1974\n",
      "Acc: 0.62  Loss: 0.2386\n"
     ]
    },
    {
     "name": "stderr",
     "output_type": "stream",
     "text": [
      " 49%|████▊     | 18/37 [00:02<00:02,  6.45it/s]"
     ]
    },
    {
     "name": "stdout",
     "output_type": "stream",
     "text": [
      "Acc: 0.74  Loss: 0.1753\n",
      "Acc: 0.66  Loss: 0.1965\n"
     ]
    },
    {
     "name": "stderr",
     "output_type": "stream",
     "text": [
      " 54%|█████▍    | 20/37 [00:03<00:02,  6.58it/s]"
     ]
    },
    {
     "name": "stdout",
     "output_type": "stream",
     "text": [
      "Acc: 0.7  Loss: 0.2031\n",
      "Acc: 0.72  Loss: 0.2024\n"
     ]
    },
    {
     "name": "stderr",
     "output_type": "stream",
     "text": [
      " 59%|█████▉    | 22/37 [00:03<00:02,  6.78it/s]"
     ]
    },
    {
     "name": "stdout",
     "output_type": "stream",
     "text": [
      "Acc: 0.78  Loss: 0.1591\n",
      "Acc: 0.66  Loss: 0.2075\n"
     ]
    },
    {
     "name": "stderr",
     "output_type": "stream",
     "text": [
      " 65%|██████▍   | 24/37 [00:03<00:01,  6.88it/s]"
     ]
    },
    {
     "name": "stdout",
     "output_type": "stream",
     "text": [
      "Acc: 0.7  Loss: 0.2018\n",
      "Acc: 0.68  Loss: 0.2347\n"
     ]
    },
    {
     "name": "stderr",
     "output_type": "stream",
     "text": [
      " 70%|███████   | 26/37 [00:03<00:01,  6.94it/s]"
     ]
    },
    {
     "name": "stdout",
     "output_type": "stream",
     "text": [
      "Acc: 0.7  Loss: 0.1845\n",
      "Acc: 0.74  Loss: 0.1614\n"
     ]
    },
    {
     "name": "stderr",
     "output_type": "stream",
     "text": [
      " 76%|███████▌  | 28/37 [00:04<00:01,  6.91it/s]"
     ]
    },
    {
     "name": "stdout",
     "output_type": "stream",
     "text": [
      "Acc: 0.76  Loss: 0.1679\n",
      "Acc: 0.58  Loss: 0.2291\n"
     ]
    },
    {
     "name": "stderr",
     "output_type": "stream",
     "text": [
      " 81%|████████  | 30/37 [00:04<00:01,  6.84it/s]"
     ]
    },
    {
     "name": "stdout",
     "output_type": "stream",
     "text": [
      "Acc: 0.72  Loss: 0.1717\n",
      "Acc: 0.66  Loss: 0.1894\n"
     ]
    },
    {
     "name": "stderr",
     "output_type": "stream",
     "text": [
      " 86%|████████▋ | 32/37 [00:04<00:00,  6.81it/s]"
     ]
    },
    {
     "name": "stdout",
     "output_type": "stream",
     "text": [
      "Acc: 0.6  Loss: 0.2425\n",
      "Acc: 0.54  Loss: 0.2295\n"
     ]
    },
    {
     "name": "stderr",
     "output_type": "stream",
     "text": [
      " 92%|█████████▏| 34/37 [00:05<00:00,  6.92it/s]"
     ]
    },
    {
     "name": "stdout",
     "output_type": "stream",
     "text": [
      "Acc: 0.74  Loss: 0.185\n",
      "Acc: 0.78  Loss: 0.1789\n"
     ]
    },
    {
     "name": "stderr",
     "output_type": "stream",
     "text": [
      " 97%|█████████▋| 36/37 [00:05<00:00,  6.94it/s]"
     ]
    },
    {
     "name": "stdout",
     "output_type": "stream",
     "text": [
      "Acc: 0.76  Loss: 0.1756\n",
      "Acc: 0.7  Loss: 0.2224\n"
     ]
    },
    {
     "name": "stderr",
     "output_type": "stream",
     "text": [
      "100%|██████████| 37/37 [00:05<00:00,  6.78it/s]\n",
      "  3%|▎         | 1/37 [00:00<00:05,  7.00it/s]"
     ]
    },
    {
     "name": "stdout",
     "output_type": "stream",
     "text": [
      "Acc: 0.69  Loss: 0.2295\n",
      "Acc: 0.82  Loss: 0.1664\n"
     ]
    },
    {
     "name": "stderr",
     "output_type": "stream",
     "text": [
      "  8%|▊         | 3/37 [00:00<00:04,  7.01it/s]"
     ]
    },
    {
     "name": "stdout",
     "output_type": "stream",
     "text": [
      "Acc: 0.8  Loss: 0.1481\n",
      "Acc: 0.6  Loss: 0.2645\n"
     ]
    },
    {
     "name": "stderr",
     "output_type": "stream",
     "text": [
      " 14%|█▎        | 5/37 [00:00<00:04,  6.97it/s]"
     ]
    },
    {
     "name": "stdout",
     "output_type": "stream",
     "text": [
      "Acc: 0.7  Loss: 0.1794\n",
      "Acc: 0.7  Loss: 0.1645\n"
     ]
    },
    {
     "name": "stderr",
     "output_type": "stream",
     "text": [
      " 19%|█▉        | 7/37 [00:01<00:04,  6.97it/s]"
     ]
    },
    {
     "name": "stdout",
     "output_type": "stream",
     "text": [
      "Acc: 0.74  Loss: 0.1686\n",
      "Acc: 0.78  Loss: 0.1546\n"
     ]
    },
    {
     "name": "stderr",
     "output_type": "stream",
     "text": [
      " 24%|██▍       | 9/37 [00:01<00:04,  6.94it/s]"
     ]
    },
    {
     "name": "stdout",
     "output_type": "stream",
     "text": [
      "Acc: 0.72  Loss: 0.1927\n",
      "Acc: 0.8  Loss: 0.1533\n"
     ]
    },
    {
     "name": "stderr",
     "output_type": "stream",
     "text": [
      " 30%|██▉       | 11/37 [00:01<00:03,  6.98it/s]"
     ]
    },
    {
     "name": "stdout",
     "output_type": "stream",
     "text": [
      "Acc: 0.78  Loss: 0.1524\n",
      "Acc: 0.82  Loss: 0.1688\n"
     ]
    },
    {
     "name": "stderr",
     "output_type": "stream",
     "text": [
      " 35%|███▌      | 13/37 [00:01<00:03,  6.98it/s]"
     ]
    },
    {
     "name": "stdout",
     "output_type": "stream",
     "text": [
      "Acc: 0.66  Loss: 0.195\n",
      "Acc: 0.8  Loss: 0.1343\n"
     ]
    },
    {
     "name": "stderr",
     "output_type": "stream",
     "text": [
      " 41%|████      | 15/37 [00:02<00:03,  6.99it/s]"
     ]
    },
    {
     "name": "stdout",
     "output_type": "stream",
     "text": [
      "Acc: 0.76  Loss: 0.1581\n",
      "Acc: 0.76  Loss: 0.1539\n"
     ]
    },
    {
     "name": "stderr",
     "output_type": "stream",
     "text": [
      " 46%|████▌     | 17/37 [00:02<00:02,  7.00it/s]"
     ]
    },
    {
     "name": "stdout",
     "output_type": "stream",
     "text": [
      "Acc: 0.6  Loss: 0.2488\n",
      "Acc: 0.74  Loss: 0.1773\n"
     ]
    },
    {
     "name": "stderr",
     "output_type": "stream",
     "text": [
      " 51%|█████▏    | 19/37 [00:02<00:02,  6.90it/s]"
     ]
    },
    {
     "name": "stdout",
     "output_type": "stream",
     "text": [
      "Acc: 0.76  Loss: 0.1773\n",
      "Acc: 0.72  Loss: 0.1861\n"
     ]
    },
    {
     "name": "stderr",
     "output_type": "stream",
     "text": [
      " 57%|█████▋    | 21/37 [00:03<00:02,  6.54it/s]"
     ]
    },
    {
     "name": "stdout",
     "output_type": "stream",
     "text": [
      "Acc: 0.78  Loss: 0.1424\n",
      "Acc: 0.74  Loss: 0.1576\n"
     ]
    },
    {
     "name": "stderr",
     "output_type": "stream",
     "text": [
      " 62%|██████▏   | 23/37 [00:03<00:02,  6.50it/s]"
     ]
    },
    {
     "name": "stdout",
     "output_type": "stream",
     "text": [
      "Acc: 0.8  Loss: 0.1612\n",
      "Acc: 0.74  Loss: 0.1653\n"
     ]
    },
    {
     "name": "stderr",
     "output_type": "stream",
     "text": [
      " 68%|██████▊   | 25/37 [00:03<00:01,  6.76it/s]"
     ]
    },
    {
     "name": "stdout",
     "output_type": "stream",
     "text": [
      "Acc: 0.7  Loss: 0.1895\n",
      "Acc: 0.88  Loss: 0.1262\n"
     ]
    },
    {
     "name": "stderr",
     "output_type": "stream",
     "text": [
      " 73%|███████▎  | 27/37 [00:03<00:01,  6.89it/s]"
     ]
    },
    {
     "name": "stdout",
     "output_type": "stream",
     "text": [
      "Acc: 0.82  Loss: 0.1396\n",
      "Acc: 0.78  Loss: 0.1525\n"
     ]
    },
    {
     "name": "stderr",
     "output_type": "stream",
     "text": [
      " 78%|███████▊  | 29/37 [00:04<00:01,  6.96it/s]"
     ]
    },
    {
     "name": "stdout",
     "output_type": "stream",
     "text": [
      "Acc: 0.8  Loss: 0.1456\n",
      "Acc: 0.86  Loss: 0.1125\n"
     ]
    },
    {
     "name": "stderr",
     "output_type": "stream",
     "text": [
      " 84%|████████▍ | 31/37 [00:04<00:00,  7.00it/s]"
     ]
    },
    {
     "name": "stdout",
     "output_type": "stream",
     "text": [
      "Acc: 0.72  Loss: 0.1614\n",
      "Acc: 0.66  Loss: 0.2141\n"
     ]
    },
    {
     "name": "stderr",
     "output_type": "stream",
     "text": [
      " 89%|████████▉ | 33/37 [00:04<00:00,  6.94it/s]"
     ]
    },
    {
     "name": "stdout",
     "output_type": "stream",
     "text": [
      "Acc: 0.68  Loss: 0.1937\n",
      "Acc: 0.76  Loss: 0.1717\n"
     ]
    },
    {
     "name": "stderr",
     "output_type": "stream",
     "text": [
      " 95%|█████████▍| 35/37 [00:05<00:00,  6.90it/s]"
     ]
    },
    {
     "name": "stdout",
     "output_type": "stream",
     "text": [
      "Acc: 0.78  Loss: 0.1669\n",
      "Acc: 0.82  Loss: 0.1462\n"
     ]
    },
    {
     "name": "stderr",
     "output_type": "stream",
     "text": [
      "100%|██████████| 37/37 [00:05<00:00,  6.91it/s]\n",
      "  0%|          | 0/37 [00:00<?, ?it/s]"
     ]
    },
    {
     "name": "stdout",
     "output_type": "stream",
     "text": [
      "Acc: 0.76  Loss: 0.1731\n",
      "Acc: 0.71  Loss: 0.2019\n"
     ]
    },
    {
     "name": "stderr",
     "output_type": "stream",
     "text": [
      "  5%|▌         | 2/37 [00:00<00:05,  6.92it/s]"
     ]
    },
    {
     "name": "stdout",
     "output_type": "stream",
     "text": [
      "Acc: 0.8  Loss: 0.151\n",
      "Acc: 0.84  Loss: 0.1196\n"
     ]
    },
    {
     "name": "stderr",
     "output_type": "stream",
     "text": [
      " 11%|█         | 4/37 [00:00<00:04,  6.97it/s]"
     ]
    },
    {
     "name": "stdout",
     "output_type": "stream",
     "text": [
      "Acc: 0.66  Loss: 0.2448\n",
      "Acc: 0.8  Loss: 0.1295\n"
     ]
    },
    {
     "name": "stderr",
     "output_type": "stream",
     "text": [
      " 16%|█▌        | 6/37 [00:00<00:04,  6.95it/s]"
     ]
    },
    {
     "name": "stdout",
     "output_type": "stream",
     "text": [
      "Acc: 0.74  Loss: 0.1452\n",
      "Acc: 0.78  Loss: 0.1565\n"
     ]
    },
    {
     "name": "stderr",
     "output_type": "stream",
     "text": [
      " 22%|██▏       | 8/37 [00:01<00:04,  6.98it/s]"
     ]
    },
    {
     "name": "stdout",
     "output_type": "stream",
     "text": [
      "Acc: 0.84  Loss: 0.1274\n",
      "Acc: 0.72  Loss: 0.166\n"
     ]
    },
    {
     "name": "stderr",
     "output_type": "stream",
     "text": [
      " 27%|██▋       | 10/37 [00:01<00:03,  6.99it/s]"
     ]
    },
    {
     "name": "stdout",
     "output_type": "stream",
     "text": [
      "Acc: 0.84  Loss: 0.1368\n",
      "Acc: 0.8  Loss: 0.1145\n"
     ]
    },
    {
     "name": "stderr",
     "output_type": "stream",
     "text": [
      " 32%|███▏      | 12/37 [00:01<00:03,  7.01it/s]"
     ]
    },
    {
     "name": "stdout",
     "output_type": "stream",
     "text": [
      "Acc: 0.82  Loss: 0.1254\n",
      "Acc: 0.7  Loss: 0.178\n"
     ]
    },
    {
     "name": "stderr",
     "output_type": "stream",
     "text": [
      " 38%|███▊      | 14/37 [00:02<00:03,  7.00it/s]"
     ]
    },
    {
     "name": "stdout",
     "output_type": "stream",
     "text": [
      "Acc: 0.84  Loss: 0.1077\n",
      "Acc: 0.8  Loss: 0.1304\n"
     ]
    },
    {
     "name": "stderr",
     "output_type": "stream",
     "text": [
      " 43%|████▎     | 16/37 [00:02<00:02,  7.02it/s]"
     ]
    },
    {
     "name": "stdout",
     "output_type": "stream",
     "text": [
      "Acc: 0.82  Loss: 0.1265\n",
      "Acc: 0.68  Loss: 0.2154\n"
     ]
    },
    {
     "name": "stderr",
     "output_type": "stream",
     "text": [
      " 49%|████▊     | 18/37 [00:02<00:02,  7.00it/s]"
     ]
    },
    {
     "name": "stdout",
     "output_type": "stream",
     "text": [
      "Acc: 0.78  Loss: 0.1372\n",
      "Acc: 0.74  Loss: 0.1585\n"
     ]
    },
    {
     "name": "stderr",
     "output_type": "stream",
     "text": [
      " 54%|█████▍    | 20/37 [00:02<00:02,  7.01it/s]"
     ]
    },
    {
     "name": "stdout",
     "output_type": "stream",
     "text": [
      "Acc: 0.74  Loss: 0.1632\n",
      "Acc: 0.82  Loss: 0.1309\n"
     ]
    },
    {
     "name": "stderr",
     "output_type": "stream",
     "text": [
      " 59%|█████▉    | 22/37 [00:03<00:02,  7.00it/s]"
     ]
    },
    {
     "name": "stdout",
     "output_type": "stream",
     "text": [
      "Acc: 0.82  Loss: 0.1185\n",
      "Acc: 0.76  Loss: 0.1602\n"
     ]
    },
    {
     "name": "stderr",
     "output_type": "stream",
     "text": [
      " 65%|██████▍   | 24/37 [00:03<00:01,  7.02it/s]"
     ]
    },
    {
     "name": "stdout",
     "output_type": "stream",
     "text": [
      "Acc: 0.82  Loss: 0.1344\n",
      "Acc: 0.78  Loss: 0.1787\n"
     ]
    },
    {
     "name": "stderr",
     "output_type": "stream",
     "text": [
      " 70%|███████   | 26/37 [00:03<00:01,  7.00it/s]"
     ]
    },
    {
     "name": "stdout",
     "output_type": "stream",
     "text": [
      "Acc: 0.84  Loss: 0.1096\n",
      "Acc: 0.8  Loss: 0.1179\n"
     ]
    },
    {
     "name": "stderr",
     "output_type": "stream",
     "text": [
      " 76%|███████▌  | 28/37 [00:04<00:01,  6.99it/s]"
     ]
    },
    {
     "name": "stdout",
     "output_type": "stream",
     "text": [
      "Acc: 0.82  Loss: 0.1234\n",
      "Acc: 0.88  Loss: 0.1035\n"
     ]
    },
    {
     "name": "stderr",
     "output_type": "stream",
     "text": [
      " 81%|████████  | 30/37 [00:04<00:01,  6.97it/s]"
     ]
    },
    {
     "name": "stdout",
     "output_type": "stream",
     "text": [
      "Acc: 0.86  Loss: 0.0985\n",
      "Acc: 0.84  Loss: 0.1394\n"
     ]
    },
    {
     "name": "stderr",
     "output_type": "stream",
     "text": [
      " 86%|████████▋ | 32/37 [00:04<00:00,  6.99it/s]"
     ]
    },
    {
     "name": "stdout",
     "output_type": "stream",
     "text": [
      "Acc: 0.74  Loss: 0.166\n",
      "Acc: 0.8  Loss: 0.127\n"
     ]
    },
    {
     "name": "stderr",
     "output_type": "stream",
     "text": [
      " 92%|█████████▏| 34/37 [00:04<00:00,  6.91it/s]"
     ]
    },
    {
     "name": "stdout",
     "output_type": "stream",
     "text": [
      "Acc: 0.76  Loss: 0.1876\n",
      "Acc: 0.82  Loss: 0.1424\n"
     ]
    },
    {
     "name": "stderr",
     "output_type": "stream",
     "text": [
      " 97%|█████████▋| 36/37 [00:05<00:00,  6.60it/s]"
     ]
    },
    {
     "name": "stdout",
     "output_type": "stream",
     "text": [
      "Acc: 0.88  Loss: 0.1164\n",
      "Acc: 0.86  Loss: 0.135\n"
     ]
    },
    {
     "name": "stderr",
     "output_type": "stream",
     "text": [
      "100%|██████████| 37/37 [00:05<00:00,  6.96it/s]\n",
      "  3%|▎         | 1/37 [00:00<00:05,  6.95it/s]"
     ]
    },
    {
     "name": "stdout",
     "output_type": "stream",
     "text": [
      "Acc: 0.8  Loss: 0.1849\n",
      "Acc: 0.86  Loss: 0.1203\n"
     ]
    },
    {
     "name": "stderr",
     "output_type": "stream",
     "text": [
      "  8%|▊         | 3/37 [00:00<00:04,  6.95it/s]"
     ]
    },
    {
     "name": "stdout",
     "output_type": "stream",
     "text": [
      "Acc: 0.84  Loss: 0.1066\n",
      "Acc: 0.62  Loss: 0.2196\n"
     ]
    },
    {
     "name": "stderr",
     "output_type": "stream",
     "text": [
      " 14%|█▎        | 5/37 [00:00<00:04,  6.88it/s]"
     ]
    },
    {
     "name": "stdout",
     "output_type": "stream",
     "text": [
      "Acc: 0.64  Loss: 0.1788\n",
      "Acc: 0.7  Loss: 0.1467\n"
     ]
    },
    {
     "name": "stderr",
     "output_type": "stream",
     "text": [
      " 19%|█▉        | 7/37 [00:01<00:04,  6.64it/s]"
     ]
    },
    {
     "name": "stdout",
     "output_type": "stream",
     "text": [
      "Acc: 0.84  Loss: 0.1349\n",
      "Acc: 0.84  Loss: 0.1194\n"
     ]
    },
    {
     "name": "stderr",
     "output_type": "stream",
     "text": [
      " 24%|██▍       | 9/37 [00:01<00:04,  6.53it/s]"
     ]
    },
    {
     "name": "stdout",
     "output_type": "stream",
     "text": [
      "Acc: 0.86  Loss: 0.1335\n",
      "Acc: 0.9  Loss: 0.1059\n"
     ]
    },
    {
     "name": "stderr",
     "output_type": "stream",
     "text": [
      " 30%|██▉       | 11/37 [00:01<00:03,  6.51it/s]"
     ]
    },
    {
     "name": "stdout",
     "output_type": "stream",
     "text": [
      "Acc: 0.88  Loss: 0.0965\n",
      "Acc: 0.92  Loss: 0.0933\n"
     ]
    },
    {
     "name": "stderr",
     "output_type": "stream",
     "text": [
      " 35%|███▌      | 13/37 [00:01<00:03,  6.62it/s]"
     ]
    },
    {
     "name": "stdout",
     "output_type": "stream",
     "text": [
      "Acc: 0.76  Loss: 0.151\n",
      "Acc: 0.86  Loss: 0.0938\n"
     ]
    },
    {
     "name": "stderr",
     "output_type": "stream",
     "text": [
      " 41%|████      | 15/37 [00:02<00:03,  6.79it/s]"
     ]
    },
    {
     "name": "stdout",
     "output_type": "stream",
     "text": [
      "Acc: 0.84  Loss: 0.1231\n",
      "Acc: 0.84  Loss: 0.1099\n"
     ]
    },
    {
     "name": "stderr",
     "output_type": "stream",
     "text": [
      " 46%|████▌     | 17/37 [00:02<00:02,  6.86it/s]"
     ]
    },
    {
     "name": "stdout",
     "output_type": "stream",
     "text": [
      "Acc: 0.74  Loss: 0.1993\n",
      "Acc: 0.82  Loss: 0.1226\n"
     ]
    },
    {
     "name": "stderr",
     "output_type": "stream",
     "text": [
      " 51%|█████▏    | 19/37 [00:02<00:02,  6.82it/s]"
     ]
    },
    {
     "name": "stdout",
     "output_type": "stream",
     "text": [
      "Acc: 0.76  Loss: 0.1472\n",
      "Acc: 0.76  Loss: 0.1684\n"
     ]
    },
    {
     "name": "stderr",
     "output_type": "stream",
     "text": [
      " 57%|█████▋    | 21/37 [00:03<00:02,  6.81it/s]"
     ]
    },
    {
     "name": "stdout",
     "output_type": "stream",
     "text": [
      "Acc: 0.82  Loss: 0.1259\n",
      "Acc: 0.82  Loss: 0.1056\n"
     ]
    },
    {
     "name": "stderr",
     "output_type": "stream",
     "text": [
      " 62%|██████▏   | 23/37 [00:03<00:02,  6.89it/s]"
     ]
    },
    {
     "name": "stdout",
     "output_type": "stream",
     "text": [
      "Acc: 0.76  Loss: 0.1381\n",
      "Acc: 0.86  Loss: 0.1168\n"
     ]
    },
    {
     "name": "stderr",
     "output_type": "stream",
     "text": [
      " 68%|██████▊   | 25/37 [00:03<00:01,  6.86it/s]"
     ]
    },
    {
     "name": "stdout",
     "output_type": "stream",
     "text": [
      "Acc: 0.82  Loss: 0.1376\n",
      "Acc: 0.86  Loss: 0.1027\n"
     ]
    },
    {
     "name": "stderr",
     "output_type": "stream",
     "text": [
      " 73%|███████▎  | 27/37 [00:03<00:01,  6.88it/s]"
     ]
    },
    {
     "name": "stdout",
     "output_type": "stream",
     "text": [
      "Acc: 0.86  Loss: 0.1022\n",
      "Acc: 0.8  Loss: 0.1244\n"
     ]
    },
    {
     "name": "stderr",
     "output_type": "stream",
     "text": [
      " 78%|███████▊  | 29/37 [00:04<00:01,  6.94it/s]"
     ]
    },
    {
     "name": "stdout",
     "output_type": "stream",
     "text": [
      "Acc: 0.8  Loss: 0.1207\n",
      "Acc: 0.94  Loss: 0.0738\n"
     ]
    },
    {
     "name": "stderr",
     "output_type": "stream",
     "text": [
      " 84%|████████▍ | 31/37 [00:04<00:00,  6.91it/s]"
     ]
    },
    {
     "name": "stdout",
     "output_type": "stream",
     "text": [
      "Acc: 0.84  Loss: 0.1168\n",
      "Acc: 0.8  Loss: 0.1507\n"
     ]
    },
    {
     "name": "stderr",
     "output_type": "stream",
     "text": [
      " 89%|████████▉ | 33/37 [00:04<00:00,  6.96it/s]"
     ]
    },
    {
     "name": "stdout",
     "output_type": "stream",
     "text": [
      "Acc: 0.82  Loss: 0.1211\n",
      "Acc: 0.88  Loss: 0.104\n"
     ]
    },
    {
     "name": "stderr",
     "output_type": "stream",
     "text": [
      " 95%|█████████▍| 35/37 [00:05<00:00,  6.71it/s]"
     ]
    },
    {
     "name": "stdout",
     "output_type": "stream",
     "text": [
      "Acc: 0.86  Loss: 0.1037\n",
      "Acc: 0.92  Loss: 0.0877\n"
     ]
    },
    {
     "name": "stderr",
     "output_type": "stream",
     "text": [
      "100%|██████████| 37/37 [00:05<00:00,  6.79it/s]\n",
      "  0%|          | 0/37 [00:00<?, ?it/s]"
     ]
    },
    {
     "name": "stdout",
     "output_type": "stream",
     "text": [
      "Acc: 0.82  Loss: 0.1302\n",
      "Acc: 0.8  Loss: 0.1464\n"
     ]
    },
    {
     "name": "stderr",
     "output_type": "stream",
     "text": [
      "  5%|▌         | 2/37 [00:00<00:05,  6.34it/s]"
     ]
    },
    {
     "name": "stdout",
     "output_type": "stream",
     "text": [
      "Acc: 0.9  Loss: 0.109\n",
      "Acc: 0.86  Loss: 0.1034\n"
     ]
    },
    {
     "name": "stderr",
     "output_type": "stream",
     "text": [
      " 11%|█         | 4/37 [00:00<00:05,  6.31it/s]"
     ]
    },
    {
     "name": "stdout",
     "output_type": "stream",
     "text": [
      "Acc: 0.74  Loss: 0.1983\n",
      "Acc: 0.8  Loss: 0.1163\n"
     ]
    },
    {
     "name": "stderr",
     "output_type": "stream",
     "text": [
      " 16%|█▌        | 6/37 [00:00<00:04,  6.36it/s]"
     ]
    },
    {
     "name": "stdout",
     "output_type": "stream",
     "text": [
      "Acc: 0.78  Loss: 0.118\n",
      "Acc: 0.86  Loss: 0.1186\n"
     ]
    },
    {
     "name": "stderr",
     "output_type": "stream",
     "text": [
      " 22%|██▏       | 8/37 [00:01<00:04,  6.68it/s]"
     ]
    },
    {
     "name": "stdout",
     "output_type": "stream",
     "text": [
      "Acc: 0.86  Loss: 0.0838\n",
      "Acc: 0.84  Loss: 0.1202\n"
     ]
    },
    {
     "name": "stderr",
     "output_type": "stream",
     "text": [
      " 27%|██▋       | 10/37 [00:01<00:04,  6.51it/s]"
     ]
    },
    {
     "name": "stdout",
     "output_type": "stream",
     "text": [
      "Acc: 0.92  Loss: 0.0993\n",
      "Acc: 0.88  Loss: 0.0842\n"
     ]
    },
    {
     "name": "stderr",
     "output_type": "stream",
     "text": [
      " 32%|███▏      | 12/37 [00:01<00:03,  6.40it/s]"
     ]
    },
    {
     "name": "stdout",
     "output_type": "stream",
     "text": [
      "Acc: 0.9  Loss: 0.0825\n",
      "Acc: 0.84  Loss: 0.1179\n"
     ]
    },
    {
     "name": "stderr",
     "output_type": "stream",
     "text": [
      " 38%|███▊      | 14/37 [00:02<00:03,  6.45it/s]"
     ]
    },
    {
     "name": "stdout",
     "output_type": "stream",
     "text": [
      "Acc: 0.96  Loss: 0.0621\n",
      "Acc: 0.84  Loss: 0.1083\n"
     ]
    },
    {
     "name": "stderr",
     "output_type": "stream",
     "text": [
      " 43%|████▎     | 16/37 [00:02<00:03,  6.60it/s]"
     ]
    },
    {
     "name": "stdout",
     "output_type": "stream",
     "text": [
      "Acc: 0.88  Loss: 0.0985\n",
      "Acc: 0.76  Loss: 0.1621\n"
     ]
    },
    {
     "name": "stderr",
     "output_type": "stream",
     "text": [
      " 49%|████▊     | 18/37 [00:02<00:02,  6.80it/s]"
     ]
    },
    {
     "name": "stdout",
     "output_type": "stream",
     "text": [
      "Acc: 0.84  Loss: 0.1157\n",
      "Acc: 0.84  Loss: 0.1393\n"
     ]
    },
    {
     "name": "stderr",
     "output_type": "stream",
     "text": [
      " 54%|█████▍    | 20/37 [00:03<00:02,  6.67it/s]"
     ]
    },
    {
     "name": "stdout",
     "output_type": "stream",
     "text": [
      "Acc: 0.78  Loss: 0.1658\n",
      "Acc: 0.82  Loss: 0.1258\n"
     ]
    },
    {
     "name": "stderr",
     "output_type": "stream",
     "text": [
      " 59%|█████▉    | 22/37 [00:03<00:02,  6.45it/s]"
     ]
    },
    {
     "name": "stdout",
     "output_type": "stream",
     "text": [
      "Acc: 0.84  Loss: 0.0991\n",
      "Acc: 0.86  Loss: 0.1178\n"
     ]
    },
    {
     "name": "stderr",
     "output_type": "stream",
     "text": [
      " 65%|██████▍   | 24/37 [00:03<00:02,  6.39it/s]"
     ]
    },
    {
     "name": "stdout",
     "output_type": "stream",
     "text": [
      "Acc: 0.88  Loss: 0.1142\n",
      "Acc: 0.8  Loss: 0.162\n"
     ]
    },
    {
     "name": "stderr",
     "output_type": "stream",
     "text": [
      " 70%|███████   | 26/37 [00:04<00:01,  6.31it/s]"
     ]
    },
    {
     "name": "stdout",
     "output_type": "stream",
     "text": [
      "Acc: 0.86  Loss: 0.1049\n",
      "Acc: 0.86  Loss: 0.1116\n"
     ]
    },
    {
     "name": "stderr",
     "output_type": "stream",
     "text": [
      " 76%|███████▌  | 28/37 [00:04<00:01,  6.46it/s]"
     ]
    },
    {
     "name": "stdout",
     "output_type": "stream",
     "text": [
      "Acc: 0.84  Loss: 0.1101\n",
      "Acc: 0.86  Loss: 0.1139\n"
     ]
    },
    {
     "name": "stderr",
     "output_type": "stream",
     "text": [
      " 81%|████████  | 30/37 [00:04<00:01,  6.72it/s]"
     ]
    },
    {
     "name": "stdout",
     "output_type": "stream",
     "text": [
      "Acc: 0.88  Loss: 0.0936\n",
      "Acc: 0.7  Loss: 0.187\n"
     ]
    },
    {
     "name": "stderr",
     "output_type": "stream",
     "text": [
      " 86%|████████▋ | 32/37 [00:04<00:00,  6.86it/s]"
     ]
    },
    {
     "name": "stdout",
     "output_type": "stream",
     "text": [
      "Acc: 0.78  Loss: 0.138\n",
      "Acc: 0.84  Loss: 0.1018\n"
     ]
    },
    {
     "name": "stderr",
     "output_type": "stream",
     "text": [
      " 92%|█████████▏| 34/37 [00:05<00:00,  6.94it/s]"
     ]
    },
    {
     "name": "stdout",
     "output_type": "stream",
     "text": [
      "Acc: 0.78  Loss: 0.1186\n",
      "Acc: 0.82  Loss: 0.1138\n"
     ]
    },
    {
     "name": "stderr",
     "output_type": "stream",
     "text": [
      " 97%|█████████▋| 36/37 [00:05<00:00,  6.99it/s]"
     ]
    },
    {
     "name": "stdout",
     "output_type": "stream",
     "text": [
      "Acc: 0.86  Loss: 0.0975\n",
      "Acc: 0.88  Loss: 0.1133\n"
     ]
    },
    {
     "name": "stderr",
     "output_type": "stream",
     "text": [
      "100%|██████████| 37/37 [00:05<00:00,  6.64it/s]\n",
      "  3%|▎         | 1/37 [00:00<00:05,  7.06it/s]"
     ]
    },
    {
     "name": "stdout",
     "output_type": "stream",
     "text": [
      "Acc: 0.74  Loss: 0.1539\n",
      "Acc: 0.82  Loss: 0.1342\n"
     ]
    },
    {
     "name": "stderr",
     "output_type": "stream",
     "text": [
      "  8%|▊         | 3/37 [00:00<00:04,  7.04it/s]"
     ]
    },
    {
     "name": "stdout",
     "output_type": "stream",
     "text": [
      "Acc: 0.86  Loss: 0.1032\n",
      "Acc: 0.78  Loss: 0.1748\n"
     ]
    },
    {
     "name": "stderr",
     "output_type": "stream",
     "text": [
      " 14%|█▎        | 5/37 [00:00<00:04,  7.02it/s]"
     ]
    },
    {
     "name": "stdout",
     "output_type": "stream",
     "text": [
      "Acc: 0.84  Loss: 0.0914\n",
      "Acc: 0.78  Loss: 0.135\n"
     ]
    },
    {
     "name": "stderr",
     "output_type": "stream",
     "text": [
      " 19%|█▉        | 7/37 [00:00<00:04,  7.03it/s]"
     ]
    },
    {
     "name": "stdout",
     "output_type": "stream",
     "text": [
      "Acc: 0.86  Loss: 0.0993\n",
      "Acc: 0.88  Loss: 0.0972\n"
     ]
    },
    {
     "name": "stderr",
     "output_type": "stream",
     "text": [
      " 24%|██▍       | 9/37 [00:01<00:03,  7.00it/s]"
     ]
    },
    {
     "name": "stdout",
     "output_type": "stream",
     "text": [
      "Acc: 0.82  Loss: 0.1334\n",
      "Acc: 0.92  Loss: 0.076\n"
     ]
    },
    {
     "name": "stderr",
     "output_type": "stream",
     "text": [
      " 30%|██▉       | 11/37 [00:01<00:03,  6.99it/s]"
     ]
    },
    {
     "name": "stdout",
     "output_type": "stream",
     "text": [
      "Acc: 0.94  Loss: 0.065\n",
      "Acc: 0.9  Loss: 0.0809\n"
     ]
    },
    {
     "name": "stderr",
     "output_type": "stream",
     "text": [
      " 35%|███▌      | 13/37 [00:01<00:03,  6.99it/s]"
     ]
    },
    {
     "name": "stdout",
     "output_type": "stream",
     "text": [
      "Acc: 0.84  Loss: 0.1022\n",
      "Acc: 1.0  Loss: 0.0451\n"
     ]
    },
    {
     "name": "stderr",
     "output_type": "stream",
     "text": [
      " 41%|████      | 15/37 [00:02<00:03,  7.00it/s]"
     ]
    },
    {
     "name": "stdout",
     "output_type": "stream",
     "text": [
      "Acc: 0.92  Loss: 0.0819\n",
      "Acc: 0.84  Loss: 0.1158\n"
     ]
    },
    {
     "name": "stderr",
     "output_type": "stream",
     "text": [
      " 46%|████▌     | 17/37 [00:02<00:02,  7.00it/s]"
     ]
    },
    {
     "name": "stdout",
     "output_type": "stream",
     "text": [
      "Acc: 0.8  Loss: 0.138\n",
      "Acc: 0.84  Loss: 0.1132\n"
     ]
    },
    {
     "name": "stderr",
     "output_type": "stream",
     "text": [
      " 51%|█████▏    | 19/37 [00:02<00:02,  7.02it/s]"
     ]
    },
    {
     "name": "stdout",
     "output_type": "stream",
     "text": [
      "Acc: 0.8  Loss: 0.1359\n",
      "Acc: 0.82  Loss: 0.141\n"
     ]
    },
    {
     "name": "stderr",
     "output_type": "stream",
     "text": [
      " 57%|█████▋    | 21/37 [00:02<00:02,  7.03it/s]"
     ]
    },
    {
     "name": "stdout",
     "output_type": "stream",
     "text": [
      "Acc: 0.9  Loss: 0.0727\n",
      "Acc: 0.84  Loss: 0.0929\n"
     ]
    },
    {
     "name": "stderr",
     "output_type": "stream",
     "text": [
      " 62%|██████▏   | 23/37 [00:03<00:02,  6.84it/s]"
     ]
    },
    {
     "name": "stdout",
     "output_type": "stream",
     "text": [
      "Acc: 0.86  Loss: 0.1184\n",
      "Acc: 0.92  Loss: 0.0709\n"
     ]
    },
    {
     "name": "stderr",
     "output_type": "stream",
     "text": [
      " 68%|██████▊   | 25/37 [00:03<00:01,  6.84it/s]"
     ]
    },
    {
     "name": "stdout",
     "output_type": "stream",
     "text": [
      "Acc: 0.9  Loss: 0.0815\n",
      "Acc: 0.92  Loss: 0.0681\n"
     ]
    },
    {
     "name": "stderr",
     "output_type": "stream",
     "text": [
      " 73%|███████▎  | 27/37 [00:03<00:01,  6.76it/s]"
     ]
    },
    {
     "name": "stdout",
     "output_type": "stream",
     "text": [
      "Acc: 0.84  Loss: 0.1128\n",
      "Acc: 0.88  Loss: 0.1193\n"
     ]
    },
    {
     "name": "stderr",
     "output_type": "stream",
     "text": [
      " 78%|███████▊  | 29/37 [00:04<00:01,  6.87it/s]"
     ]
    },
    {
     "name": "stdout",
     "output_type": "stream",
     "text": [
      "Acc: 0.88  Loss: 0.0679\n",
      "Acc: 0.92  Loss: 0.0541\n"
     ]
    },
    {
     "name": "stderr",
     "output_type": "stream",
     "text": [
      " 84%|████████▍ | 31/37 [00:04<00:00,  6.85it/s]"
     ]
    },
    {
     "name": "stdout",
     "output_type": "stream",
     "text": [
      "Acc: 0.84  Loss: 0.1151\n",
      "Acc: 0.84  Loss: 0.0929\n"
     ]
    },
    {
     "name": "stderr",
     "output_type": "stream",
     "text": [
      " 89%|████████▉ | 33/37 [00:04<00:00,  6.93it/s]"
     ]
    },
    {
     "name": "stdout",
     "output_type": "stream",
     "text": [
      "Acc: 0.9  Loss: 0.0569\n",
      "Acc: 0.84  Loss: 0.0952\n"
     ]
    },
    {
     "name": "stderr",
     "output_type": "stream",
     "text": [
      " 95%|█████████▍| 35/37 [00:05<00:00,  6.96it/s]"
     ]
    },
    {
     "name": "stdout",
     "output_type": "stream",
     "text": [
      "Acc: 0.9  Loss: 0.0692\n",
      "Acc: 0.94  Loss: 0.0624\n"
     ]
    },
    {
     "name": "stderr",
     "output_type": "stream",
     "text": [
      "100%|██████████| 37/37 [00:05<00:00,  6.98it/s]\n",
      "  0%|          | 0/37 [00:00<?, ?it/s]"
     ]
    },
    {
     "name": "stdout",
     "output_type": "stream",
     "text": [
      "Acc: 0.92  Loss: 0.0746\n",
      "Acc: 0.83  Loss: 0.1199\n"
     ]
    },
    {
     "name": "stderr",
     "output_type": "stream",
     "text": [
      "  5%|▌         | 2/37 [00:00<00:05,  6.91it/s]"
     ]
    },
    {
     "name": "stdout",
     "output_type": "stream",
     "text": [
      "Acc: 0.88  Loss: 0.1078\n",
      "Acc: 0.88  Loss: 0.1028\n"
     ]
    },
    {
     "name": "stderr",
     "output_type": "stream",
     "text": [
      " 11%|█         | 4/37 [00:00<00:04,  6.97it/s]"
     ]
    },
    {
     "name": "stdout",
     "output_type": "stream",
     "text": [
      "Acc: 0.82  Loss: 0.124\n",
      "Acc: 0.86  Loss: 0.081\n"
     ]
    },
    {
     "name": "stderr",
     "output_type": "stream",
     "text": [
      " 16%|█▌        | 6/37 [00:00<00:04,  6.97it/s]"
     ]
    },
    {
     "name": "stdout",
     "output_type": "stream",
     "text": [
      "Acc: 0.8  Loss: 0.1022\n",
      "Acc: 0.9  Loss: 0.0708\n"
     ]
    },
    {
     "name": "stderr",
     "output_type": "stream",
     "text": [
      " 22%|██▏       | 8/37 [00:01<00:04,  6.95it/s]"
     ]
    },
    {
     "name": "stdout",
     "output_type": "stream",
     "text": [
      "Acc: 0.9  Loss: 0.0754\n",
      "Acc: 0.92  Loss: 0.0732\n"
     ]
    },
    {
     "name": "stderr",
     "output_type": "stream",
     "text": [
      " 27%|██▋       | 10/37 [00:01<00:03,  6.99it/s]"
     ]
    },
    {
     "name": "stdout",
     "output_type": "stream",
     "text": [
      "Acc: 0.94  Loss: 0.0669\n",
      "Acc: 0.94  Loss: 0.0402\n"
     ]
    },
    {
     "name": "stderr",
     "output_type": "stream",
     "text": [
      " 32%|███▏      | 12/37 [00:01<00:03,  6.99it/s]"
     ]
    },
    {
     "name": "stdout",
     "output_type": "stream",
     "text": [
      "Acc: 0.92  Loss: 0.0582\n",
      "Acc: 0.94  Loss: 0.0732\n"
     ]
    },
    {
     "name": "stderr",
     "output_type": "stream",
     "text": [
      " 38%|███▊      | 14/37 [00:02<00:03,  6.99it/s]"
     ]
    },
    {
     "name": "stdout",
     "output_type": "stream",
     "text": [
      "Acc: 0.98  Loss: 0.0386\n",
      "Acc: 0.92  Loss: 0.0746\n"
     ]
    },
    {
     "name": "stderr",
     "output_type": "stream",
     "text": [
      " 43%|████▎     | 16/37 [00:02<00:03,  6.92it/s]"
     ]
    },
    {
     "name": "stdout",
     "output_type": "stream",
     "text": [
      "Acc: 0.92  Loss: 0.0668\n",
      "Acc: 0.84  Loss: 0.1066\n"
     ]
    },
    {
     "name": "stderr",
     "output_type": "stream",
     "text": [
      " 49%|████▊     | 18/37 [00:02<00:02,  6.95it/s]"
     ]
    },
    {
     "name": "stdout",
     "output_type": "stream",
     "text": [
      "Acc: 0.9  Loss: 0.0787\n",
      "Acc: 0.88  Loss: 0.0892\n"
     ]
    },
    {
     "name": "stderr",
     "output_type": "stream",
     "text": [
      " 54%|█████▍    | 20/37 [00:02<00:02,  6.98it/s]"
     ]
    },
    {
     "name": "stdout",
     "output_type": "stream",
     "text": [
      "Acc: 0.84  Loss: 0.1095\n",
      "Acc: 0.94  Loss: 0.0466\n"
     ]
    },
    {
     "name": "stderr",
     "output_type": "stream",
     "text": [
      " 59%|█████▉    | 22/37 [00:03<00:02,  7.00it/s]"
     ]
    },
    {
     "name": "stdout",
     "output_type": "stream",
     "text": [
      "Acc: 0.92  Loss: 0.0697\n",
      "Acc: 0.88  Loss: 0.0695\n"
     ]
    },
    {
     "name": "stderr",
     "output_type": "stream",
     "text": [
      " 65%|██████▍   | 24/37 [00:03<00:01,  6.94it/s]"
     ]
    },
    {
     "name": "stdout",
     "output_type": "stream",
     "text": [
      "Acc: 0.94  Loss: 0.0631\n",
      "Acc: 0.92  Loss: 0.0647\n"
     ]
    },
    {
     "name": "stderr",
     "output_type": "stream",
     "text": [
      " 70%|███████   | 26/37 [00:03<00:01,  6.98it/s]"
     ]
    },
    {
     "name": "stdout",
     "output_type": "stream",
     "text": [
      "Acc: 0.94  Loss: 0.0376\n",
      "Acc: 0.92  Loss: 0.0566\n"
     ]
    },
    {
     "name": "stderr",
     "output_type": "stream",
     "text": [
      " 76%|███████▌  | 28/37 [00:04<00:01,  6.98it/s]"
     ]
    },
    {
     "name": "stdout",
     "output_type": "stream",
     "text": [
      "Acc: 0.88  Loss: 0.098\n",
      "Acc: 0.92  Loss: 0.0587\n"
     ]
    },
    {
     "name": "stderr",
     "output_type": "stream",
     "text": [
      " 81%|████████  | 30/37 [00:04<00:00,  7.00it/s]"
     ]
    },
    {
     "name": "stdout",
     "output_type": "stream",
     "text": [
      "Acc: 0.98  Loss: 0.0359\n",
      "Acc: 0.88  Loss: 0.0775\n"
     ]
    },
    {
     "name": "stderr",
     "output_type": "stream",
     "text": [
      " 86%|████████▋ | 32/37 [00:04<00:00,  6.70it/s]"
     ]
    },
    {
     "name": "stdout",
     "output_type": "stream",
     "text": [
      "Acc: 0.94  Loss: 0.0525\n",
      "Acc: 1.0  Loss: 0.022\n"
     ]
    },
    {
     "name": "stderr",
     "output_type": "stream",
     "text": [
      " 92%|█████████▏| 34/37 [00:04<00:00,  6.77it/s]"
     ]
    },
    {
     "name": "stdout",
     "output_type": "stream",
     "text": [
      "Acc: 0.9  Loss: 0.0739\n",
      "Acc: 0.98  Loss: 0.0355\n"
     ]
    },
    {
     "name": "stderr",
     "output_type": "stream",
     "text": [
      " 97%|█████████▋| 36/37 [00:05<00:00,  6.87it/s]"
     ]
    },
    {
     "name": "stdout",
     "output_type": "stream",
     "text": [
      "Acc: 0.98  Loss: 0.0392\n",
      "Acc: 0.94  Loss: 0.0537\n"
     ]
    },
    {
     "name": "stderr",
     "output_type": "stream",
     "text": [
      "100%|██████████| 37/37 [00:05<00:00,  6.96it/s]\n",
      "  3%|▎         | 1/37 [00:00<00:05,  6.32it/s]"
     ]
    },
    {
     "name": "stdout",
     "output_type": "stream",
     "text": [
      "Acc: 0.89  Loss: 0.0941\n",
      "Acc: 0.92  Loss: 0.072\n"
     ]
    },
    {
     "name": "stderr",
     "output_type": "stream",
     "text": [
      "  8%|▊         | 3/37 [00:00<00:05,  6.42it/s]"
     ]
    },
    {
     "name": "stdout",
     "output_type": "stream",
     "text": [
      "Acc: 0.92  Loss: 0.0718\n",
      "Acc: 0.86  Loss: 0.1022\n"
     ]
    },
    {
     "name": "stderr",
     "output_type": "stream",
     "text": [
      " 14%|█▎        | 5/37 [00:00<00:04,  6.72it/s]"
     ]
    },
    {
     "name": "stdout",
     "output_type": "stream",
     "text": [
      "Acc: 0.96  Loss: 0.041\n",
      "Acc: 0.9  Loss: 0.0795\n"
     ]
    },
    {
     "name": "stderr",
     "output_type": "stream",
     "text": [
      " 19%|█▉        | 7/37 [00:01<00:04,  6.56it/s]"
     ]
    },
    {
     "name": "stdout",
     "output_type": "stream",
     "text": [
      "Acc: 0.92  Loss: 0.0571\n",
      "Acc: 0.92  Loss: 0.0708\n"
     ]
    },
    {
     "name": "stderr",
     "output_type": "stream",
     "text": [
      " 24%|██▍       | 9/37 [00:01<00:04,  6.62it/s]"
     ]
    },
    {
     "name": "stdout",
     "output_type": "stream",
     "text": [
      "Acc: 0.96  Loss: 0.054\n",
      "Acc: 0.94  Loss: 0.0439\n"
     ]
    },
    {
     "name": "stderr",
     "output_type": "stream",
     "text": [
      " 30%|██▉       | 11/37 [00:01<00:03,  6.81it/s]"
     ]
    },
    {
     "name": "stdout",
     "output_type": "stream",
     "text": [
      "Acc: 0.96  Loss: 0.0394\n",
      "Acc: 0.9  Loss: 0.0716\n"
     ]
    },
    {
     "name": "stderr",
     "output_type": "stream",
     "text": [
      " 35%|███▌      | 13/37 [00:01<00:03,  6.61it/s]"
     ]
    },
    {
     "name": "stdout",
     "output_type": "stream",
     "text": [
      "Acc: 0.94  Loss: 0.074\n",
      "Acc: 0.96  Loss: 0.0305\n"
     ]
    },
    {
     "name": "stderr",
     "output_type": "stream",
     "text": [
      " 41%|████      | 15/37 [00:02<00:03,  6.73it/s]"
     ]
    },
    {
     "name": "stdout",
     "output_type": "stream",
     "text": [
      "Acc: 0.92  Loss: 0.0633\n",
      "Acc: 0.94  Loss: 0.0538\n"
     ]
    },
    {
     "name": "stderr",
     "output_type": "stream",
     "text": [
      " 46%|████▌     | 17/37 [00:02<00:02,  6.79it/s]"
     ]
    },
    {
     "name": "stdout",
     "output_type": "stream",
     "text": [
      "Acc: 0.9  Loss: 0.0854\n",
      "Acc: 0.96  Loss: 0.0438\n"
     ]
    },
    {
     "name": "stderr",
     "output_type": "stream",
     "text": [
      " 51%|█████▏    | 19/37 [00:02<00:02,  6.63it/s]"
     ]
    },
    {
     "name": "stdout",
     "output_type": "stream",
     "text": [
      "Acc: 0.88  Loss: 0.0714\n",
      "Acc: 0.88  Loss: 0.0803\n"
     ]
    },
    {
     "name": "stderr",
     "output_type": "stream",
     "text": [
      " 57%|█████▋    | 21/37 [00:03<00:02,  6.82it/s]"
     ]
    },
    {
     "name": "stdout",
     "output_type": "stream",
     "text": [
      "Acc: 0.96  Loss: 0.0303\n",
      "Acc: 0.92  Loss: 0.0572\n"
     ]
    },
    {
     "name": "stderr",
     "output_type": "stream",
     "text": [
      " 62%|██████▏   | 23/37 [00:03<00:02,  6.93it/s]"
     ]
    },
    {
     "name": "stdout",
     "output_type": "stream",
     "text": [
      "Acc: 0.92  Loss: 0.0705\n",
      "Acc: 0.98  Loss: 0.0362\n"
     ]
    },
    {
     "name": "stderr",
     "output_type": "stream",
     "text": [
      " 68%|██████▊   | 25/37 [00:03<00:01,  6.99it/s]"
     ]
    },
    {
     "name": "stdout",
     "output_type": "stream",
     "text": [
      "Acc: 0.96  Loss: 0.0471\n",
      "Acc: 0.98  Loss: 0.0243\n"
     ]
    },
    {
     "name": "stderr",
     "output_type": "stream",
     "text": [
      " 73%|███████▎  | 27/37 [00:04<00:01,  6.75it/s]"
     ]
    },
    {
     "name": "stdout",
     "output_type": "stream",
     "text": [
      "Acc: 0.96  Loss: 0.0508\n",
      "Acc: 0.78  Loss: 0.1208\n"
     ]
    },
    {
     "name": "stderr",
     "output_type": "stream",
     "text": [
      " 78%|███████▊  | 29/37 [00:04<00:01,  6.74it/s]"
     ]
    },
    {
     "name": "stdout",
     "output_type": "stream",
     "text": [
      "Acc: 0.98  Loss: 0.0272\n",
      "Acc: 0.96  Loss: 0.0412\n"
     ]
    },
    {
     "name": "stderr",
     "output_type": "stream",
     "text": [
      " 84%|████████▍ | 31/37 [00:04<00:00,  6.88it/s]"
     ]
    },
    {
     "name": "stdout",
     "output_type": "stream",
     "text": [
      "Acc: 0.94  Loss: 0.0705\n",
      "Acc: 0.9  Loss: 0.0898\n"
     ]
    },
    {
     "name": "stderr",
     "output_type": "stream",
     "text": [
      " 89%|████████▉ | 33/37 [00:04<00:00,  6.79it/s]"
     ]
    },
    {
     "name": "stdout",
     "output_type": "stream",
     "text": [
      "Acc: 0.98  Loss: 0.0357\n",
      "Acc: 0.9  Loss: 0.0833\n"
     ]
    },
    {
     "name": "stderr",
     "output_type": "stream",
     "text": [
      " 95%|█████████▍| 35/37 [00:05<00:00,  6.58it/s]"
     ]
    },
    {
     "name": "stdout",
     "output_type": "stream",
     "text": [
      "Acc: 0.98  Loss: 0.0344\n",
      "Acc: 0.98  Loss: 0.0188\n"
     ]
    },
    {
     "name": "stderr",
     "output_type": "stream",
     "text": [
      "100%|██████████| 37/37 [00:05<00:00,  6.77it/s]\n",
      "  0%|          | 0/37 [00:00<?, ?it/s]"
     ]
    },
    {
     "name": "stdout",
     "output_type": "stream",
     "text": [
      "Acc: 0.96  Loss: 0.0473\n",
      "Acc: 0.91  Loss: 0.0824\n"
     ]
    },
    {
     "name": "stderr",
     "output_type": "stream",
     "text": [
      "  5%|▌         | 2/37 [00:00<00:05,  6.84it/s]"
     ]
    },
    {
     "name": "stdout",
     "output_type": "stream",
     "text": [
      "Acc: 0.9  Loss: 0.0983\n",
      "Acc: 0.88  Loss: 0.0851\n"
     ]
    },
    {
     "name": "stderr",
     "output_type": "stream",
     "text": [
      " 11%|█         | 4/37 [00:00<00:04,  6.63it/s]"
     ]
    },
    {
     "name": "stdout",
     "output_type": "stream",
     "text": [
      "Acc: 0.8  Loss: 0.1319\n",
      "Acc: 0.96  Loss: 0.0299\n"
     ]
    },
    {
     "name": "stderr",
     "output_type": "stream",
     "text": [
      " 16%|█▌        | 6/37 [00:00<00:04,  6.83it/s]"
     ]
    },
    {
     "name": "stdout",
     "output_type": "stream",
     "text": [
      "Acc: 0.94  Loss: 0.0367\n",
      "Acc: 0.98  Loss: 0.0394\n"
     ]
    },
    {
     "name": "stderr",
     "output_type": "stream",
     "text": [
      " 22%|██▏       | 8/37 [00:01<00:04,  6.64it/s]"
     ]
    },
    {
     "name": "stdout",
     "output_type": "stream",
     "text": [
      "Acc: 0.94  Loss: 0.0707\n",
      "Acc: 0.9  Loss: 0.083\n"
     ]
    },
    {
     "name": "stderr",
     "output_type": "stream",
     "text": [
      " 27%|██▋       | 10/37 [00:01<00:04,  6.71it/s]"
     ]
    },
    {
     "name": "stdout",
     "output_type": "stream",
     "text": [
      "Acc: 0.98  Loss: 0.0307\n",
      "Acc: 0.98  Loss: 0.029\n"
     ]
    },
    {
     "name": "stderr",
     "output_type": "stream",
     "text": [
      " 32%|███▏      | 12/37 [00:01<00:03,  6.70it/s]"
     ]
    },
    {
     "name": "stdout",
     "output_type": "stream",
     "text": [
      "Acc: 0.84  Loss: 0.1174\n",
      "Acc: 0.86  Loss: 0.0863\n"
     ]
    },
    {
     "name": "stderr",
     "output_type": "stream",
     "text": [
      " 38%|███▊      | 14/37 [00:02<00:03,  6.51it/s]"
     ]
    },
    {
     "name": "stdout",
     "output_type": "stream",
     "text": [
      "Acc: 0.94  Loss: 0.0456\n",
      "Acc: 0.94  Loss: 0.0561\n"
     ]
    },
    {
     "name": "stderr",
     "output_type": "stream",
     "text": [
      " 43%|████▎     | 16/37 [00:02<00:03,  6.72it/s]"
     ]
    },
    {
     "name": "stdout",
     "output_type": "stream",
     "text": [
      "Acc: 0.94  Loss: 0.0553\n",
      "Acc: 0.88  Loss: 0.0958\n"
     ]
    },
    {
     "name": "stderr",
     "output_type": "stream",
     "text": [
      " 49%|████▊     | 18/37 [00:02<00:02,  6.66it/s]"
     ]
    },
    {
     "name": "stdout",
     "output_type": "stream",
     "text": [
      "Acc: 0.96  Loss: 0.0412\n",
      "Acc: 0.88  Loss: 0.0742\n"
     ]
    },
    {
     "name": "stderr",
     "output_type": "stream",
     "text": [
      " 54%|█████▍    | 20/37 [00:03<00:02,  6.48it/s]"
     ]
    },
    {
     "name": "stdout",
     "output_type": "stream",
     "text": [
      "Acc: 0.92  Loss: 0.0659\n",
      "Acc: 0.96  Loss: 0.0346\n"
     ]
    },
    {
     "name": "stderr",
     "output_type": "stream",
     "text": [
      " 59%|█████▉    | 22/37 [00:03<00:02,  6.63it/s]"
     ]
    },
    {
     "name": "stdout",
     "output_type": "stream",
     "text": [
      "Acc: 0.92  Loss: 0.0672\n",
      "Acc: 0.92  Loss: 0.0616\n"
     ]
    },
    {
     "name": "stderr",
     "output_type": "stream",
     "text": [
      " 65%|██████▍   | 24/37 [00:03<00:01,  6.61it/s]"
     ]
    },
    {
     "name": "stdout",
     "output_type": "stream",
     "text": [
      "Acc: 0.9  Loss: 0.0624\n",
      "Acc: 0.96  Loss: 0.0451\n"
     ]
    },
    {
     "name": "stderr",
     "output_type": "stream",
     "text": [
      " 70%|███████   | 26/37 [00:03<00:01,  6.53it/s]"
     ]
    },
    {
     "name": "stdout",
     "output_type": "stream",
     "text": [
      "Acc: 1.0  Loss: 0.0187\n",
      "Acc: 0.96  Loss: 0.0323\n"
     ]
    },
    {
     "name": "stderr",
     "output_type": "stream",
     "text": [
      " 76%|███████▌  | 28/37 [00:04<00:01,  6.77it/s]"
     ]
    },
    {
     "name": "stdout",
     "output_type": "stream",
     "text": [
      "Acc: 0.98  Loss: 0.0418\n",
      "Acc: 0.94  Loss: 0.0267\n"
     ]
    },
    {
     "name": "stderr",
     "output_type": "stream",
     "text": [
      " 81%|████████  | 30/37 [00:04<00:01,  6.89it/s]"
     ]
    },
    {
     "name": "stdout",
     "output_type": "stream",
     "text": [
      "Acc: 0.96  Loss: 0.0362\n",
      "Acc: 0.9  Loss: 0.0567\n"
     ]
    },
    {
     "name": "stderr",
     "output_type": "stream",
     "text": [
      " 86%|████████▋ | 32/37 [00:04<00:00,  6.63it/s]"
     ]
    },
    {
     "name": "stdout",
     "output_type": "stream",
     "text": [
      "Acc: 0.94  Loss: 0.0431\n",
      "Acc: 0.96  Loss: 0.0256\n"
     ]
    },
    {
     "name": "stderr",
     "output_type": "stream",
     "text": [
      " 92%|█████████▏| 34/37 [00:05<00:00,  6.72it/s]"
     ]
    },
    {
     "name": "stdout",
     "output_type": "stream",
     "text": [
      "Acc: 0.92  Loss: 0.0752\n",
      "Acc: 0.94  Loss: 0.054\n"
     ]
    },
    {
     "name": "stderr",
     "output_type": "stream",
     "text": [
      " 97%|█████████▋| 36/37 [00:05<00:00,  6.71it/s]"
     ]
    },
    {
     "name": "stdout",
     "output_type": "stream",
     "text": [
      "Acc: 0.84  Loss: 0.0996\n",
      "Acc: 0.92  Loss: 0.069\n"
     ]
    },
    {
     "name": "stderr",
     "output_type": "stream",
     "text": [
      "100%|██████████| 37/37 [00:05<00:00,  6.69it/s]\n",
      "  3%|▎         | 1/37 [00:00<00:05,  6.36it/s]"
     ]
    },
    {
     "name": "stdout",
     "output_type": "stream",
     "text": [
      "Acc: 0.89  Loss: 0.0754\n",
      "Acc: 0.9  Loss: 0.0702\n"
     ]
    },
    {
     "name": "stderr",
     "output_type": "stream",
     "text": [
      "  8%|▊         | 3/37 [00:00<00:05,  6.59it/s]"
     ]
    },
    {
     "name": "stdout",
     "output_type": "stream",
     "text": [
      "Acc: 0.92  Loss: 0.0576\n",
      "Acc: 0.86  Loss: 0.1043\n"
     ]
    },
    {
     "name": "stderr",
     "output_type": "stream",
     "text": [
      " 14%|█▎        | 5/37 [00:00<00:04,  6.80it/s]"
     ]
    },
    {
     "name": "stdout",
     "output_type": "stream",
     "text": [
      "Acc: 0.98  Loss: 0.0239\n",
      "Acc: 0.96  Loss: 0.0437\n"
     ]
    },
    {
     "name": "stderr",
     "output_type": "stream",
     "text": [
      " 19%|█▉        | 7/37 [00:01<00:04,  6.72it/s]"
     ]
    },
    {
     "name": "stdout",
     "output_type": "stream",
     "text": [
      "Acc: 0.92  Loss: 0.0603\n",
      "Acc: 0.94  Loss: 0.0493\n"
     ]
    },
    {
     "name": "stderr",
     "output_type": "stream",
     "text": [
      " 24%|██▍       | 9/37 [00:01<00:04,  6.54it/s]"
     ]
    },
    {
     "name": "stdout",
     "output_type": "stream",
     "text": [
      "Acc: 0.88  Loss: 0.074\n",
      "Acc: 0.98  Loss: 0.0284\n"
     ]
    },
    {
     "name": "stderr",
     "output_type": "stream",
     "text": [
      " 30%|██▉       | 11/37 [00:01<00:03,  6.77it/s]"
     ]
    },
    {
     "name": "stdout",
     "output_type": "stream",
     "text": [
      "Acc: 0.94  Loss: 0.0581\n",
      "Acc: 0.88  Loss: 0.0837\n"
     ]
    },
    {
     "name": "stderr",
     "output_type": "stream",
     "text": [
      " 35%|███▌      | 13/37 [00:01<00:03,  6.72it/s]"
     ]
    },
    {
     "name": "stdout",
     "output_type": "stream",
     "text": [
      "Acc: 0.9  Loss: 0.0822\n",
      "Acc: 1.0  Loss: 0.0089\n"
     ]
    },
    {
     "name": "stderr",
     "output_type": "stream",
     "text": [
      " 41%|████      | 15/37 [00:02<00:03,  6.61it/s]"
     ]
    },
    {
     "name": "stdout",
     "output_type": "stream",
     "text": [
      "Acc: 0.96  Loss: 0.0552\n",
      "Acc: 0.94  Loss: 0.055\n"
     ]
    },
    {
     "name": "stderr",
     "output_type": "stream",
     "text": [
      " 46%|████▌     | 17/37 [00:02<00:02,  6.80it/s]"
     ]
    },
    {
     "name": "stdout",
     "output_type": "stream",
     "text": [
      "Acc: 0.86  Loss: 0.0948\n",
      "Acc: 0.92  Loss: 0.0547\n"
     ]
    },
    {
     "name": "stderr",
     "output_type": "stream",
     "text": [
      " 51%|█████▏    | 19/37 [00:02<00:02,  6.88it/s]"
     ]
    },
    {
     "name": "stdout",
     "output_type": "stream",
     "text": [
      "Acc: 0.98  Loss: 0.0293\n",
      "Acc: 0.96  Loss: 0.0392\n"
     ]
    },
    {
     "name": "stderr",
     "output_type": "stream",
     "text": [
      " 57%|█████▋    | 21/37 [00:03<00:02,  6.60it/s]"
     ]
    },
    {
     "name": "stdout",
     "output_type": "stream",
     "text": [
      "Acc: 0.94  Loss: 0.0538\n",
      "Acc: 0.94  Loss: 0.0347\n"
     ]
    },
    {
     "name": "stderr",
     "output_type": "stream",
     "text": [
      " 62%|██████▏   | 23/37 [00:03<00:02,  6.74it/s]"
     ]
    },
    {
     "name": "stdout",
     "output_type": "stream",
     "text": [
      "Acc: 0.92  Loss: 0.0628\n",
      "Acc: 0.96  Loss: 0.044\n"
     ]
    },
    {
     "name": "stderr",
     "output_type": "stream",
     "text": [
      " 68%|██████▊   | 25/37 [00:03<00:01,  6.56it/s]"
     ]
    },
    {
     "name": "stdout",
     "output_type": "stream",
     "text": [
      "Acc: 0.94  Loss: 0.0489\n",
      "Acc: 1.0  Loss: 0.0088\n"
     ]
    },
    {
     "name": "stderr",
     "output_type": "stream",
     "text": [
      " 73%|███████▎  | 27/37 [00:04<00:01,  6.70it/s]"
     ]
    },
    {
     "name": "stdout",
     "output_type": "stream",
     "text": [
      "Acc: 0.98  Loss: 0.0275\n",
      "Acc: 0.96  Loss: 0.0489\n"
     ]
    },
    {
     "name": "stderr",
     "output_type": "stream",
     "text": [
      " 78%|███████▊  | 29/37 [00:04<00:01,  6.86it/s]"
     ]
    },
    {
     "name": "stdout",
     "output_type": "stream",
     "text": [
      "Acc: 0.94  Loss: 0.0457\n",
      "Acc: 0.92  Loss: 0.0447\n"
     ]
    },
    {
     "name": "stderr",
     "output_type": "stream",
     "text": [
      " 84%|████████▍ | 31/37 [00:04<00:00,  6.64it/s]"
     ]
    },
    {
     "name": "stdout",
     "output_type": "stream",
     "text": [
      "Acc: 0.96  Loss: 0.0398\n",
      "Acc: 0.96  Loss: 0.032\n"
     ]
    },
    {
     "name": "stderr",
     "output_type": "stream",
     "text": [
      " 89%|████████▉ | 33/37 [00:04<00:00,  6.72it/s]"
     ]
    },
    {
     "name": "stdout",
     "output_type": "stream",
     "text": [
      "Acc: 1.0  Loss: 0.0063\n",
      "Acc: 0.96  Loss: 0.0349\n"
     ]
    },
    {
     "name": "stderr",
     "output_type": "stream",
     "text": [
      " 95%|█████████▍| 35/37 [00:05<00:00,  6.87it/s]"
     ]
    },
    {
     "name": "stdout",
     "output_type": "stream",
     "text": [
      "Acc: 0.96  Loss: 0.0301\n",
      "Acc: 0.94  Loss: 0.0571\n"
     ]
    },
    {
     "name": "stderr",
     "output_type": "stream",
     "text": [
      "100%|██████████| 37/37 [00:05<00:00,  6.74it/s]\n",
      "  0%|          | 0/37 [00:00<?, ?it/s]"
     ]
    },
    {
     "name": "stdout",
     "output_type": "stream",
     "text": [
      "Acc: 0.82  Loss: 0.1201\n",
      "Acc: 0.86  Loss: 0.0725\n"
     ]
    },
    {
     "name": "stderr",
     "output_type": "stream",
     "text": [
      "  5%|▌         | 2/37 [00:00<00:05,  6.55it/s]"
     ]
    },
    {
     "name": "stdout",
     "output_type": "stream",
     "text": [
      "Acc: 0.92  Loss: 0.0708\n",
      "Acc: 0.96  Loss: 0.0419\n"
     ]
    },
    {
     "name": "stderr",
     "output_type": "stream",
     "text": [
      " 11%|█         | 4/37 [00:00<00:04,  6.78it/s]"
     ]
    },
    {
     "name": "stdout",
     "output_type": "stream",
     "text": [
      "Acc: 0.84  Loss: 0.1083\n",
      "Acc: 0.92  Loss: 0.0435\n"
     ]
    },
    {
     "name": "stderr",
     "output_type": "stream",
     "text": [
      " 16%|█▌        | 6/37 [00:00<00:04,  6.58it/s]"
     ]
    },
    {
     "name": "stdout",
     "output_type": "stream",
     "text": [
      "Acc: 0.94  Loss: 0.05\n",
      "Acc: 0.9  Loss: 0.0564\n"
     ]
    },
    {
     "name": "stderr",
     "output_type": "stream",
     "text": [
      " 22%|██▏       | 8/37 [00:01<00:04,  6.67it/s]"
     ]
    },
    {
     "name": "stdout",
     "output_type": "stream",
     "text": [
      "Acc: 0.94  Loss: 0.04\n",
      "Acc: 0.96  Loss: 0.0298\n"
     ]
    },
    {
     "name": "stderr",
     "output_type": "stream",
     "text": [
      " 27%|██▋       | 10/37 [00:01<00:04,  6.73it/s]"
     ]
    },
    {
     "name": "stdout",
     "output_type": "stream",
     "text": [
      "Acc: 0.98  Loss: 0.0223\n",
      "Acc: 0.92  Loss: 0.0654\n"
     ]
    },
    {
     "name": "stderr",
     "output_type": "stream",
     "text": [
      " 32%|███▏      | 12/37 [00:01<00:03,  6.59it/s]"
     ]
    },
    {
     "name": "stdout",
     "output_type": "stream",
     "text": [
      "Acc: 0.82  Loss: 0.1328\n",
      "Acc: 0.84  Loss: 0.1176\n"
     ]
    },
    {
     "name": "stderr",
     "output_type": "stream",
     "text": [
      " 38%|███▊      | 14/37 [00:02<00:03,  6.81it/s]"
     ]
    },
    {
     "name": "stdout",
     "output_type": "stream",
     "text": [
      "Acc: 0.98  Loss: 0.0371\n",
      "Acc: 0.96  Loss: 0.0387\n"
     ]
    },
    {
     "name": "stderr",
     "output_type": "stream",
     "text": [
      " 43%|████▎     | 16/37 [00:02<00:03,  6.65it/s]"
     ]
    },
    {
     "name": "stdout",
     "output_type": "stream",
     "text": [
      "Acc: 0.88  Loss: 0.0575\n",
      "Acc: 0.9  Loss: 0.0841\n"
     ]
    },
    {
     "name": "stderr",
     "output_type": "stream",
     "text": [
      " 49%|████▊     | 18/37 [00:02<00:02,  6.73it/s]"
     ]
    },
    {
     "name": "stdout",
     "output_type": "stream",
     "text": [
      "Acc: 0.88  Loss: 0.0847\n",
      "Acc: 0.9  Loss: 0.0715\n"
     ]
    },
    {
     "name": "stderr",
     "output_type": "stream",
     "text": [
      " 54%|█████▍    | 20/37 [00:02<00:02,  6.83it/s]"
     ]
    },
    {
     "name": "stdout",
     "output_type": "stream",
     "text": [
      "Acc: 0.88  Loss: 0.0634\n",
      "Acc: 0.96  Loss: 0.0296\n"
     ]
    },
    {
     "name": "stderr",
     "output_type": "stream",
     "text": [
      " 59%|█████▉    | 22/37 [00:03<00:02,  6.57it/s]"
     ]
    },
    {
     "name": "stdout",
     "output_type": "stream",
     "text": [
      "Acc: 0.98  Loss: 0.0217\n",
      "Acc: 0.98  Loss: 0.0374\n"
     ]
    },
    {
     "name": "stderr",
     "output_type": "stream",
     "text": [
      " 65%|██████▍   | 24/37 [00:03<00:01,  6.78it/s]"
     ]
    },
    {
     "name": "stdout",
     "output_type": "stream",
     "text": [
      "Acc: 0.9  Loss: 0.0604\n",
      "Acc: 0.9  Loss: 0.0632\n"
     ]
    },
    {
     "name": "stderr",
     "output_type": "stream",
     "text": [
      " 70%|███████   | 26/37 [00:03<00:01,  6.90it/s]"
     ]
    },
    {
     "name": "stdout",
     "output_type": "stream",
     "text": [
      "Acc: 0.92  Loss: 0.0487\n",
      "Acc: 0.96  Loss: 0.0311\n"
     ]
    },
    {
     "name": "stderr",
     "output_type": "stream",
     "text": [
      " 76%|███████▌  | 28/37 [00:04<00:01,  6.95it/s]"
     ]
    },
    {
     "name": "stdout",
     "output_type": "stream",
     "text": [
      "Acc: 0.98  Loss: 0.0318\n",
      "Acc: 1.0  Loss: 0.0126\n"
     ]
    },
    {
     "name": "stderr",
     "output_type": "stream",
     "text": [
      " 81%|████████  | 30/37 [00:04<00:01,  6.94it/s]"
     ]
    },
    {
     "name": "stdout",
     "output_type": "stream",
     "text": [
      "Acc: 0.98  Loss: 0.0407\n",
      "Acc: 0.92  Loss: 0.0601\n"
     ]
    },
    {
     "name": "stderr",
     "output_type": "stream",
     "text": [
      " 86%|████████▋ | 32/37 [00:04<00:00,  6.63it/s]"
     ]
    },
    {
     "name": "stdout",
     "output_type": "stream",
     "text": [
      "Acc: 0.9  Loss: 0.0598\n",
      "Acc: 0.92  Loss: 0.0542\n"
     ]
    },
    {
     "name": "stderr",
     "output_type": "stream",
     "text": [
      " 92%|█████████▏| 34/37 [00:05<00:00,  6.76it/s]"
     ]
    },
    {
     "name": "stdout",
     "output_type": "stream",
     "text": [
      "Acc: 1.0  Loss: 0.0067\n",
      "Acc: 1.0  Loss: 0.0104\n"
     ]
    },
    {
     "name": "stderr",
     "output_type": "stream",
     "text": [
      " 97%|█████████▋| 36/37 [00:05<00:00,  6.56it/s]"
     ]
    },
    {
     "name": "stdout",
     "output_type": "stream",
     "text": [
      "Acc: 0.98  Loss: 0.0319\n",
      "Acc: 0.92  Loss: 0.0663\n"
     ]
    },
    {
     "name": "stderr",
     "output_type": "stream",
     "text": [
      "100%|██████████| 37/37 [00:05<00:00,  6.75it/s]\n",
      "  3%|▎         | 1/37 [00:00<00:05,  6.96it/s]"
     ]
    },
    {
     "name": "stdout",
     "output_type": "stream",
     "text": [
      "Acc: 0.97  Loss: 0.0228\n",
      "Acc: 0.96  Loss: 0.044\n"
     ]
    },
    {
     "name": "stderr",
     "output_type": "stream",
     "text": [
      "  8%|▊         | 3/37 [00:00<00:04,  6.99it/s]"
     ]
    },
    {
     "name": "stdout",
     "output_type": "stream",
     "text": [
      "Acc: 0.9  Loss: 0.0593\n",
      "Acc: 0.94  Loss: 0.0564\n"
     ]
    },
    {
     "name": "stderr",
     "output_type": "stream",
     "text": [
      " 14%|█▎        | 5/37 [00:00<00:04,  6.64it/s]"
     ]
    },
    {
     "name": "stdout",
     "output_type": "stream",
     "text": [
      "Acc: 0.98  Loss: 0.0152\n",
      "Acc: 0.98  Loss: 0.025\n"
     ]
    },
    {
     "name": "stderr",
     "output_type": "stream",
     "text": [
      " 19%|█▉        | 7/37 [00:01<00:04,  6.68it/s]"
     ]
    },
    {
     "name": "stdout",
     "output_type": "stream",
     "text": [
      "Acc: 1.0  Loss: 0.0072\n",
      "Acc: 0.98  Loss: 0.0208\n"
     ]
    },
    {
     "name": "stderr",
     "output_type": "stream",
     "text": [
      " 24%|██▍       | 9/37 [00:01<00:04,  6.85it/s]"
     ]
    },
    {
     "name": "stdout",
     "output_type": "stream",
     "text": [
      "Acc: 1.0  Loss: 0.02\n",
      "Acc: 0.96  Loss: 0.0289\n"
     ]
    },
    {
     "name": "stderr",
     "output_type": "stream",
     "text": [
      " 30%|██▉       | 11/37 [00:01<00:03,  6.79it/s]"
     ]
    },
    {
     "name": "stdout",
     "output_type": "stream",
     "text": [
      "Acc: 1.0  Loss: 0.0109\n",
      "Acc: 1.0  Loss: 0.0081\n"
     ]
    },
    {
     "name": "stderr",
     "output_type": "stream",
     "text": [
      " 35%|███▌      | 13/37 [00:01<00:03,  6.54it/s]"
     ]
    },
    {
     "name": "stdout",
     "output_type": "stream",
     "text": [
      "Acc: 0.98  Loss: 0.0215\n",
      "Acc: 1.0  Loss: 0.0048\n"
     ]
    },
    {
     "name": "stderr",
     "output_type": "stream",
     "text": [
      " 41%|████      | 15/37 [00:02<00:03,  6.59it/s]"
     ]
    },
    {
     "name": "stdout",
     "output_type": "stream",
     "text": [
      "Acc: 0.96  Loss: 0.0369\n",
      "Acc: 0.98  Loss: 0.0233\n"
     ]
    },
    {
     "name": "stderr",
     "output_type": "stream",
     "text": [
      " 46%|████▌     | 17/37 [00:02<00:02,  6.79it/s]"
     ]
    },
    {
     "name": "stdout",
     "output_type": "stream",
     "text": [
      "Acc: 0.94  Loss: 0.0532\n",
      "Acc: 0.98  Loss: 0.0095\n"
     ]
    },
    {
     "name": "stderr",
     "output_type": "stream",
     "text": [
      " 51%|█████▏    | 19/37 [00:02<00:02,  6.76it/s]"
     ]
    },
    {
     "name": "stdout",
     "output_type": "stream",
     "text": [
      "Acc: 0.98  Loss: 0.0195\n",
      "Acc: 1.0  Loss: 0.0152\n"
     ]
    },
    {
     "name": "stderr",
     "output_type": "stream",
     "text": [
      " 57%|█████▋    | 21/37 [00:03<00:02,  6.59it/s]"
     ]
    },
    {
     "name": "stdout",
     "output_type": "stream",
     "text": [
      "Acc: 0.98  Loss: 0.0146\n",
      "Acc: 0.96  Loss: 0.0429\n"
     ]
    },
    {
     "name": "stderr",
     "output_type": "stream",
     "text": [
      " 62%|██████▏   | 23/37 [00:03<00:02,  6.80it/s]"
     ]
    },
    {
     "name": "stdout",
     "output_type": "stream",
     "text": [
      "Acc: 0.96  Loss: 0.0395\n",
      "Acc: 0.98  Loss: 0.0207\n"
     ]
    },
    {
     "name": "stderr",
     "output_type": "stream",
     "text": [
      " 68%|██████▊   | 25/37 [00:03<00:01,  6.89it/s]"
     ]
    },
    {
     "name": "stdout",
     "output_type": "stream",
     "text": [
      "Acc: 1.0  Loss: 0.0072\n",
      "Acc: 1.0  Loss: 0.0017\n"
     ]
    },
    {
     "name": "stderr",
     "output_type": "stream",
     "text": [
      " 73%|███████▎  | 27/37 [00:03<00:01,  6.95it/s]"
     ]
    },
    {
     "name": "stdout",
     "output_type": "stream",
     "text": [
      "Acc: 1.0  Loss: 0.0091\n",
      "Acc: 0.98  Loss: 0.0247\n"
     ]
    },
    {
     "name": "stderr",
     "output_type": "stream",
     "text": [
      " 78%|███████▊  | 29/37 [00:04<00:01,  6.99it/s]"
     ]
    },
    {
     "name": "stdout",
     "output_type": "stream",
     "text": [
      "Acc: 1.0  Loss: 0.0087\n",
      "Acc: 0.98  Loss: 0.0104\n"
     ]
    },
    {
     "name": "stderr",
     "output_type": "stream",
     "text": [
      " 84%|████████▍ | 31/37 [00:04<00:00,  6.86it/s]"
     ]
    },
    {
     "name": "stdout",
     "output_type": "stream",
     "text": [
      "Acc: 0.98  Loss: 0.0236\n",
      "Acc: 0.98  Loss: 0.0117\n"
     ]
    },
    {
     "name": "stderr",
     "output_type": "stream",
     "text": [
      " 89%|████████▉ | 33/37 [00:04<00:00,  6.64it/s]"
     ]
    },
    {
     "name": "stdout",
     "output_type": "stream",
     "text": [
      "Acc: 0.98  Loss: 0.0078\n",
      "Acc: 1.0  Loss: 0.0061\n"
     ]
    },
    {
     "name": "stderr",
     "output_type": "stream",
     "text": [
      " 95%|█████████▍| 35/37 [00:05<00:00,  6.82it/s]"
     ]
    },
    {
     "name": "stdout",
     "output_type": "stream",
     "text": [
      "Acc: 1.0  Loss: 0.0022\n",
      "Acc: 1.0  Loss: 0.0079\n"
     ]
    },
    {
     "name": "stderr",
     "output_type": "stream",
     "text": [
      "100%|██████████| 37/37 [00:05<00:00,  6.78it/s]\n",
      "  0%|          | 0/37 [00:00<?, ?it/s]"
     ]
    },
    {
     "name": "stdout",
     "output_type": "stream",
     "text": [
      "Acc: 1.0  Loss: 0.0091\n",
      "Acc: 1.0  Loss: 0.0032\n"
     ]
    },
    {
     "name": "stderr",
     "output_type": "stream",
     "text": [
      "  5%|▌         | 2/37 [00:00<00:05,  6.66it/s]"
     ]
    },
    {
     "name": "stdout",
     "output_type": "stream",
     "text": [
      "Acc: 0.96  Loss: 0.0253\n",
      "Acc: 0.94  Loss: 0.0474\n"
     ]
    },
    {
     "name": "stderr",
     "output_type": "stream",
     "text": [
      " 11%|█         | 4/37 [00:00<00:04,  6.85it/s]"
     ]
    },
    {
     "name": "stdout",
     "output_type": "stream",
     "text": [
      "Acc: 0.98  Loss: 0.0236\n",
      "Acc: 1.0  Loss: 0.0109\n"
     ]
    },
    {
     "name": "stderr",
     "output_type": "stream",
     "text": [
      " 16%|█▌        | 6/37 [00:00<00:04,  6.94it/s]"
     ]
    },
    {
     "name": "stdout",
     "output_type": "stream",
     "text": [
      "Acc: 0.98  Loss: 0.008\n",
      "Acc: 1.0  Loss: 0.0031\n"
     ]
    },
    {
     "name": "stderr",
     "output_type": "stream",
     "text": [
      " 22%|██▏       | 8/37 [00:01<00:04,  6.68it/s]"
     ]
    },
    {
     "name": "stdout",
     "output_type": "stream",
     "text": [
      "Acc: 1.0  Loss: 0.0019\n",
      "Acc: 1.0  Loss: 0.0122\n"
     ]
    },
    {
     "name": "stderr",
     "output_type": "stream",
     "text": [
      " 27%|██▋       | 10/37 [00:01<00:03,  6.76it/s]"
     ]
    },
    {
     "name": "stdout",
     "output_type": "stream",
     "text": [
      "Acc: 0.98  Loss: 0.0217\n",
      "Acc: 0.98  Loss: 0.0075\n"
     ]
    },
    {
     "name": "stderr",
     "output_type": "stream",
     "text": [
      " 32%|███▏      | 12/37 [00:01<00:03,  6.77it/s]"
     ]
    },
    {
     "name": "stdout",
     "output_type": "stream",
     "text": [
      "Acc: 0.98  Loss: 0.0086\n",
      "Acc: 0.98  Loss: 0.0193\n"
     ]
    },
    {
     "name": "stderr",
     "output_type": "stream",
     "text": [
      " 38%|███▊      | 14/37 [00:02<00:03,  6.58it/s]"
     ]
    },
    {
     "name": "stdout",
     "output_type": "stream",
     "text": [
      "Acc: 1.0  Loss: 0.0013\n",
      "Acc: 0.98  Loss: 0.0215\n"
     ]
    },
    {
     "name": "stderr",
     "output_type": "stream",
     "text": [
      " 43%|████▎     | 16/37 [00:02<00:03,  6.79it/s]"
     ]
    },
    {
     "name": "stdout",
     "output_type": "stream",
     "text": [
      "Acc: 0.98  Loss: 0.0164\n",
      "Acc: 0.98  Loss: 0.0238\n"
     ]
    },
    {
     "name": "stderr",
     "output_type": "stream",
     "text": [
      " 49%|████▊     | 18/37 [00:02<00:02,  6.88it/s]"
     ]
    },
    {
     "name": "stdout",
     "output_type": "stream",
     "text": [
      "Acc: 1.0  Loss: 0.0014\n",
      "Acc: 1.0  Loss: 0.0063\n"
     ]
    },
    {
     "name": "stderr",
     "output_type": "stream",
     "text": [
      " 54%|█████▍    | 20/37 [00:02<00:02,  6.60it/s]"
     ]
    },
    {
     "name": "stdout",
     "output_type": "stream",
     "text": [
      "Acc: 1.0  Loss: 0.0086\n",
      "Acc: 1.0  Loss: 0.0022\n"
     ]
    },
    {
     "name": "stderr",
     "output_type": "stream",
     "text": [
      " 59%|█████▉    | 22/37 [00:03<00:02,  6.76it/s]"
     ]
    },
    {
     "name": "stdout",
     "output_type": "stream",
     "text": [
      "Acc: 1.0  Loss: 0.005\n",
      "Acc: 0.98  Loss: 0.0216\n"
     ]
    },
    {
     "name": "stderr",
     "output_type": "stream",
     "text": [
      " 65%|██████▍   | 24/37 [00:03<00:01,  6.85it/s]"
     ]
    },
    {
     "name": "stdout",
     "output_type": "stream",
     "text": [
      "Acc: 0.98  Loss: 0.0209\n",
      "Acc: 1.0  Loss: 0.0038\n"
     ]
    },
    {
     "name": "stderr",
     "output_type": "stream",
     "text": [
      " 70%|███████   | 26/37 [00:03<00:01,  6.60it/s]"
     ]
    },
    {
     "name": "stdout",
     "output_type": "stream",
     "text": [
      "Acc: 1.0  Loss: 0.0008\n",
      "Acc: 1.0  Loss: 0.0073\n"
     ]
    },
    {
     "name": "stderr",
     "output_type": "stream",
     "text": [
      " 76%|███████▌  | 28/37 [00:04<00:01,  6.76it/s]"
     ]
    },
    {
     "name": "stdout",
     "output_type": "stream",
     "text": [
      "Acc: 1.0  Loss: 0.0033\n",
      "Acc: 1.0  Loss: 0.0032\n"
     ]
    },
    {
     "name": "stderr",
     "output_type": "stream",
     "text": [
      " 81%|████████  | 30/37 [00:04<00:01,  6.85it/s]"
     ]
    },
    {
     "name": "stdout",
     "output_type": "stream",
     "text": [
      "Acc: 0.98  Loss: 0.0136\n",
      "Acc: 0.96  Loss: 0.0279\n"
     ]
    },
    {
     "name": "stderr",
     "output_type": "stream",
     "text": [
      " 86%|████████▋ | 32/37 [00:04<00:00,  6.60it/s]"
     ]
    },
    {
     "name": "stdout",
     "output_type": "stream",
     "text": [
      "Acc: 1.0  Loss: 0.0083\n",
      "Acc: 1.0  Loss: 0.0012\n"
     ]
    },
    {
     "name": "stderr",
     "output_type": "stream",
     "text": [
      " 92%|█████████▏| 34/37 [00:05<00:00,  6.81it/s]"
     ]
    },
    {
     "name": "stdout",
     "output_type": "stream",
     "text": [
      "Acc: 1.0  Loss: 0.0008\n",
      "Acc: 1.0  Loss: 0.0059\n"
     ]
    },
    {
     "name": "stderr",
     "output_type": "stream",
     "text": [
      " 97%|█████████▋| 36/37 [00:05<00:00,  6.64it/s]"
     ]
    },
    {
     "name": "stdout",
     "output_type": "stream",
     "text": [
      "Acc: 1.0  Loss: 0.0006\n",
      "Acc: 1.0  Loss: 0.0029\n"
     ]
    },
    {
     "name": "stderr",
     "output_type": "stream",
     "text": [
      "100%|██████████| 37/37 [00:05<00:00,  6.77it/s]\n",
      "  3%|▎         | 1/37 [00:00<00:05,  6.92it/s]"
     ]
    },
    {
     "name": "stdout",
     "output_type": "stream",
     "text": [
      "Acc: 0.97  Loss: 0.0295\n",
      "Acc: 1.0  Loss: 0.0023\n"
     ]
    },
    {
     "name": "stderr",
     "output_type": "stream",
     "text": [
      "  8%|▊         | 3/37 [00:00<00:04,  6.98it/s]"
     ]
    },
    {
     "name": "stdout",
     "output_type": "stream",
     "text": [
      "Acc: 0.98  Loss: 0.0213\n",
      "Acc: 0.98  Loss: 0.007\n"
     ]
    },
    {
     "name": "stderr",
     "output_type": "stream",
     "text": [
      " 14%|█▎        | 5/37 [00:00<00:04,  6.71it/s]"
     ]
    },
    {
     "name": "stdout",
     "output_type": "stream",
     "text": [
      "Acc: 1.0  Loss: 0.0037\n",
      "Acc: 1.0  Loss: 0.0021\n"
     ]
    },
    {
     "name": "stderr",
     "output_type": "stream",
     "text": [
      " 19%|█▉        | 7/37 [00:01<00:04,  6.77it/s]"
     ]
    },
    {
     "name": "stdout",
     "output_type": "stream",
     "text": [
      "Acc: 1.0  Loss: 0.0009\n",
      "Acc: 1.0  Loss: 0.0004\n"
     ]
    },
    {
     "name": "stderr",
     "output_type": "stream",
     "text": [
      " 24%|██▍       | 9/37 [00:01<00:04,  6.69it/s]"
     ]
    },
    {
     "name": "stdout",
     "output_type": "stream",
     "text": [
      "Acc: 1.0  Loss: 0.0016\n",
      "Acc: 1.0  Loss: 0.0015\n"
     ]
    },
    {
     "name": "stderr",
     "output_type": "stream",
     "text": [
      " 30%|██▉       | 11/37 [00:01<00:03,  6.71it/s]"
     ]
    },
    {
     "name": "stdout",
     "output_type": "stream",
     "text": [
      "Acc: 1.0  Loss: 0.0029\n",
      "Acc: 1.0  Loss: 0.0013\n"
     ]
    },
    {
     "name": "stderr",
     "output_type": "stream",
     "text": [
      " 35%|███▌      | 13/37 [00:01<00:03,  6.86it/s]"
     ]
    },
    {
     "name": "stdout",
     "output_type": "stream",
     "text": [
      "Acc: 0.98  Loss: 0.0139\n",
      "Acc: 1.0  Loss: 0.0004\n"
     ]
    },
    {
     "name": "stderr",
     "output_type": "stream",
     "text": [
      " 41%|████      | 15/37 [00:02<00:03,  6.71it/s]"
     ]
    },
    {
     "name": "stdout",
     "output_type": "stream",
     "text": [
      "Acc: 0.98  Loss: 0.0218\n",
      "Acc: 1.0  Loss: 0.0047\n"
     ]
    },
    {
     "name": "stderr",
     "output_type": "stream",
     "text": [
      " 46%|████▌     | 17/37 [00:02<00:03,  6.61it/s]"
     ]
    },
    {
     "name": "stdout",
     "output_type": "stream",
     "text": [
      "Acc: 0.98  Loss: 0.0204\n",
      "Acc: 1.0  Loss: 0.0004\n"
     ]
    },
    {
     "name": "stderr",
     "output_type": "stream",
     "text": [
      " 51%|█████▏    | 19/37 [00:02<00:02,  6.80it/s]"
     ]
    },
    {
     "name": "stdout",
     "output_type": "stream",
     "text": [
      "Acc: 1.0  Loss: 0.002\n",
      "Acc: 1.0  Loss: 0.0024\n"
     ]
    },
    {
     "name": "stderr",
     "output_type": "stream",
     "text": [
      " 57%|█████▋    | 21/37 [00:03<00:02,  6.61it/s]"
     ]
    },
    {
     "name": "stdout",
     "output_type": "stream",
     "text": [
      "Acc: 1.0  Loss: 0.0017\n",
      "Acc: 1.0  Loss: 0.0032\n"
     ]
    },
    {
     "name": "stderr",
     "output_type": "stream",
     "text": [
      " 62%|██████▏   | 23/37 [00:03<00:02,  6.63it/s]"
     ]
    },
    {
     "name": "stdout",
     "output_type": "stream",
     "text": [
      "Acc: 0.98  Loss: 0.0217\n",
      "Acc: 1.0  Loss: 0.0053\n"
     ]
    },
    {
     "name": "stderr",
     "output_type": "stream",
     "text": [
      " 68%|██████▊   | 25/37 [00:03<00:01,  6.79it/s]"
     ]
    },
    {
     "name": "stdout",
     "output_type": "stream",
     "text": [
      "Acc: 1.0  Loss: 0.0015\n",
      "Acc: 1.0  Loss: 0.0009\n"
     ]
    },
    {
     "name": "stderr",
     "output_type": "stream",
     "text": [
      " 73%|███████▎  | 27/37 [00:04<00:01,  6.55it/s]"
     ]
    },
    {
     "name": "stdout",
     "output_type": "stream",
     "text": [
      "Acc: 1.0  Loss: 0.0025\n",
      "Acc: 1.0  Loss: 0.0017\n"
     ]
    },
    {
     "name": "stderr",
     "output_type": "stream",
     "text": [
      " 78%|███████▊  | 29/37 [00:04<00:01,  6.77it/s]"
     ]
    },
    {
     "name": "stdout",
     "output_type": "stream",
     "text": [
      "Acc: 1.0  Loss: 0.0012\n",
      "Acc: 1.0  Loss: 0.0051\n"
     ]
    },
    {
     "name": "stderr",
     "output_type": "stream",
     "text": [
      " 84%|████████▍ | 31/37 [00:04<00:00,  6.56it/s]"
     ]
    },
    {
     "name": "stdout",
     "output_type": "stream",
     "text": [
      "Acc: 0.98  Loss: 0.0221\n",
      "Acc: 1.0  Loss: 0.0065\n"
     ]
    },
    {
     "name": "stderr",
     "output_type": "stream",
     "text": [
      " 89%|████████▉ | 33/37 [00:04<00:00,  6.73it/s]"
     ]
    },
    {
     "name": "stdout",
     "output_type": "stream",
     "text": [
      "Acc: 1.0  Loss: 0.0006\n",
      "Acc: 1.0  Loss: 0.0016\n"
     ]
    },
    {
     "name": "stderr",
     "output_type": "stream",
     "text": [
      " 95%|█████████▍| 35/37 [00:05<00:00,  6.66it/s]"
     ]
    },
    {
     "name": "stdout",
     "output_type": "stream",
     "text": [
      "Acc: 1.0  Loss: 0.0016\n",
      "Acc: 1.0  Loss: 0.0012\n"
     ]
    },
    {
     "name": "stderr",
     "output_type": "stream",
     "text": [
      "100%|██████████| 37/37 [00:05<00:00,  6.72it/s]\n",
      "  0%|          | 0/37 [00:00<?, ?it/s]"
     ]
    },
    {
     "name": "stdout",
     "output_type": "stream",
     "text": [
      "Acc: 1.0  Loss: 0.0012\n",
      "Acc: 1.0  Loss: 0.0008\n"
     ]
    },
    {
     "name": "stderr",
     "output_type": "stream",
     "text": [
      "  5%|▌         | 2/37 [00:00<00:05,  6.99it/s]"
     ]
    },
    {
     "name": "stdout",
     "output_type": "stream",
     "text": [
      "Acc: 1.0  Loss: 0.0041\n",
      "Acc: 0.98  Loss: 0.0219\n"
     ]
    },
    {
     "name": "stderr",
     "output_type": "stream",
     "text": [
      " 11%|█         | 4/37 [00:00<00:04,  6.68it/s]"
     ]
    },
    {
     "name": "stdout",
     "output_type": "stream",
     "text": [
      "Acc: 1.0  Loss: 0.0024\n",
      "Acc: 1.0  Loss: 0.002\n"
     ]
    },
    {
     "name": "stderr",
     "output_type": "stream",
     "text": [
      " 16%|█▌        | 6/37 [00:00<00:04,  6.70it/s]"
     ]
    },
    {
     "name": "stdout",
     "output_type": "stream",
     "text": [
      "Acc: 1.0  Loss: 0.0032\n",
      "Acc: 1.0  Loss: 0.0037\n"
     ]
    },
    {
     "name": "stderr",
     "output_type": "stream",
     "text": [
      " 22%|██▏       | 8/37 [00:01<00:04,  6.67it/s]"
     ]
    },
    {
     "name": "stdout",
     "output_type": "stream",
     "text": [
      "Acc: 1.0  Loss: 0.0005\n",
      "Acc: 1.0  Loss: 0.0078\n"
     ]
    },
    {
     "name": "stderr",
     "output_type": "stream",
     "text": [
      " 27%|██▋       | 10/37 [00:01<00:04,  6.50it/s]"
     ]
    },
    {
     "name": "stdout",
     "output_type": "stream",
     "text": [
      "Acc: 1.0  Loss: 0.0003\n",
      "Acc: 1.0  Loss: 0.0002\n"
     ]
    },
    {
     "name": "stderr",
     "output_type": "stream",
     "text": [
      " 32%|███▏      | 12/37 [00:01<00:03,  6.74it/s]"
     ]
    },
    {
     "name": "stdout",
     "output_type": "stream",
     "text": [
      "Acc: 1.0  Loss: 0.0005\n",
      "Acc: 1.0  Loss: 0.0006\n"
     ]
    },
    {
     "name": "stderr",
     "output_type": "stream",
     "text": [
      " 38%|███▊      | 14/37 [00:02<00:03,  6.52it/s]"
     ]
    },
    {
     "name": "stdout",
     "output_type": "stream",
     "text": [
      "Acc: 1.0  Loss: 0.0001\n",
      "Acc: 0.98  Loss: 0.0205\n"
     ]
    },
    {
     "name": "stderr",
     "output_type": "stream",
     "text": [
      " 43%|████▎     | 16/37 [00:02<00:03,  6.76it/s]"
     ]
    },
    {
     "name": "stdout",
     "output_type": "stream",
     "text": [
      "Acc: 1.0  Loss: 0.0013\n",
      "Acc: 0.98  Loss: 0.0204\n"
     ]
    },
    {
     "name": "stderr",
     "output_type": "stream",
     "text": [
      " 49%|████▊     | 18/37 [00:02<00:02,  6.62it/s]"
     ]
    },
    {
     "name": "stdout",
     "output_type": "stream",
     "text": [
      "Acc: 1.0  Loss: 0.0001\n",
      "Acc: 1.0  Loss: 0.0003\n"
     ]
    },
    {
     "name": "stderr",
     "output_type": "stream",
     "text": [
      " 54%|█████▍    | 20/37 [00:03<00:02,  6.69it/s]"
     ]
    },
    {
     "name": "stdout",
     "output_type": "stream",
     "text": [
      "Acc: 1.0  Loss: 0.0014\n",
      "Acc: 1.0  Loss: 0.0025\n"
     ]
    },
    {
     "name": "stderr",
     "output_type": "stream",
     "text": [
      " 59%|█████▉    | 22/37 [00:03<00:02,  6.84it/s]"
     ]
    },
    {
     "name": "stdout",
     "output_type": "stream",
     "text": [
      "Acc: 1.0  Loss: 0.0009\n",
      "Acc: 0.98  Loss: 0.0205\n"
     ]
    },
    {
     "name": "stderr",
     "output_type": "stream",
     "text": [
      " 65%|██████▍   | 24/37 [00:03<00:01,  6.70it/s]"
     ]
    },
    {
     "name": "stdout",
     "output_type": "stream",
     "text": [
      "Acc: 1.0  Loss: 0.0015\n",
      "Acc: 1.0  Loss: 0.0009\n"
     ]
    },
    {
     "name": "stderr",
     "output_type": "stream",
     "text": [
      " 70%|███████   | 26/37 [00:03<00:01,  6.66it/s]"
     ]
    },
    {
     "name": "stdout",
     "output_type": "stream",
     "text": [
      "Acc: 1.0  Loss: 0.0002\n",
      "Acc: 1.0  Loss: 0.0005\n"
     ]
    },
    {
     "name": "stderr",
     "output_type": "stream",
     "text": [
      " 76%|███████▌  | 28/37 [00:04<00:01,  6.60it/s]"
     ]
    },
    {
     "name": "stdout",
     "output_type": "stream",
     "text": [
      "Acc: 1.0  Loss: 0.0013\n",
      "Acc: 1.0  Loss: 0.0005\n"
     ]
    },
    {
     "name": "stderr",
     "output_type": "stream",
     "text": [
      " 81%|████████  | 30/37 [00:04<00:01,  6.48it/s]"
     ]
    },
    {
     "name": "stdout",
     "output_type": "stream",
     "text": [
      "Acc: 1.0  Loss: 0.0002\n",
      "Acc: 0.98  Loss: 0.0205\n"
     ]
    },
    {
     "name": "stderr",
     "output_type": "stream",
     "text": [
      " 86%|████████▋ | 32/37 [00:04<00:00,  6.73it/s]"
     ]
    },
    {
     "name": "stdout",
     "output_type": "stream",
     "text": [
      "Acc: 1.0  Loss: 0.0016\n",
      "Acc: 1.0  Loss: 0.0003\n"
     ]
    },
    {
     "name": "stderr",
     "output_type": "stream",
     "text": [
      " 92%|█████████▏| 34/37 [00:05<00:00,  6.62it/s]"
     ]
    },
    {
     "name": "stdout",
     "output_type": "stream",
     "text": [
      "Acc: 1.0  Loss: 0.0005\n",
      "Acc: 1.0  Loss: 0.0004\n"
     ]
    },
    {
     "name": "stderr",
     "output_type": "stream",
     "text": [
      " 97%|█████████▋| 36/37 [00:05<00:00,  6.67it/s]"
     ]
    },
    {
     "name": "stdout",
     "output_type": "stream",
     "text": [
      "Acc: 1.0  Loss: 0.0006\n",
      "Acc: 1.0  Loss: 0.0004\n"
     ]
    },
    {
     "name": "stderr",
     "output_type": "stream",
     "text": [
      "100%|██████████| 37/37 [00:05<00:00,  6.70it/s]\n",
      "  3%|▎         | 1/37 [00:00<00:05,  6.99it/s]"
     ]
    },
    {
     "name": "stdout",
     "output_type": "stream",
     "text": [
      "Acc: 1.0  Loss: 0.0006\n",
      "Acc: 1.0  Loss: 0.0006\n"
     ]
    },
    {
     "name": "stderr",
     "output_type": "stream",
     "text": [
      "  8%|▊         | 3/37 [00:00<00:05,  6.77it/s]"
     ]
    },
    {
     "name": "stdout",
     "output_type": "stream",
     "text": [
      "Acc: 0.98  Loss: 0.0203\n",
      "Acc: 1.0  Loss: 0.0002\n"
     ]
    },
    {
     "name": "stderr",
     "output_type": "stream",
     "text": [
      " 14%|█▎        | 5/37 [00:00<00:04,  6.61it/s]"
     ]
    },
    {
     "name": "stdout",
     "output_type": "stream",
     "text": [
      "Acc: 1.0  Loss: 0.0003\n",
      "Acc: 1.0  Loss: 0.0001\n"
     ]
    },
    {
     "name": "stderr",
     "output_type": "stream",
     "text": [
      " 19%|█▉        | 7/37 [00:01<00:04,  6.81it/s]"
     ]
    },
    {
     "name": "stdout",
     "output_type": "stream",
     "text": [
      "Acc: 1.0  Loss: 0.0001\n",
      "Acc: 1.0  Loss: 0.0002\n"
     ]
    },
    {
     "name": "stderr",
     "output_type": "stream",
     "text": [
      " 24%|██▍       | 9/37 [00:01<00:04,  6.91it/s]"
     ]
    },
    {
     "name": "stdout",
     "output_type": "stream",
     "text": [
      "Acc: 1.0  Loss: 0.0\n",
      "Acc: 1.0  Loss: 0.0001\n"
     ]
    },
    {
     "name": "stderr",
     "output_type": "stream",
     "text": [
      " 30%|██▉       | 11/37 [00:01<00:03,  6.63it/s]"
     ]
    },
    {
     "name": "stdout",
     "output_type": "stream",
     "text": [
      "Acc: 1.0  Loss: 0.0001\n",
      "Acc: 1.0  Loss: 0.0019\n"
     ]
    },
    {
     "name": "stderr",
     "output_type": "stream",
     "text": [
      " 35%|███▌      | 13/37 [00:01<00:03,  6.81it/s]"
     ]
    },
    {
     "name": "stdout",
     "output_type": "stream",
     "text": [
      "Acc: 1.0  Loss: 0.0005\n",
      "Acc: 1.0  Loss: 0.0002\n"
     ]
    },
    {
     "name": "stderr",
     "output_type": "stream",
     "text": [
      " 41%|████      | 15/37 [00:02<00:03,  6.91it/s]"
     ]
    },
    {
     "name": "stdout",
     "output_type": "stream",
     "text": [
      "Acc: 0.98  Loss: 0.0205\n",
      "Acc: 1.0  Loss: 0.0012\n"
     ]
    },
    {
     "name": "stderr",
     "output_type": "stream",
     "text": [
      " 46%|████▌     | 17/37 [00:02<00:02,  6.96it/s]"
     ]
    },
    {
     "name": "stdout",
     "output_type": "stream",
     "text": [
      "Acc: 0.98  Loss: 0.0206\n",
      "Acc: 1.0  Loss: 0.0002\n"
     ]
    },
    {
     "name": "stderr",
     "output_type": "stream",
     "text": [
      " 51%|█████▏    | 19/37 [00:02<00:02,  6.83it/s]"
     ]
    },
    {
     "name": "stdout",
     "output_type": "stream",
     "text": [
      "Acc: 1.0  Loss: 0.0004\n",
      "Acc: 1.0  Loss: 0.0001\n"
     ]
    },
    {
     "name": "stderr",
     "output_type": "stream",
     "text": [
      " 57%|█████▋    | 21/37 [00:03<00:02,  6.56it/s]"
     ]
    },
    {
     "name": "stdout",
     "output_type": "stream",
     "text": [
      "Acc: 1.0  Loss: 0.0003\n",
      "Acc: 1.0  Loss: 0.0006\n"
     ]
    },
    {
     "name": "stderr",
     "output_type": "stream",
     "text": [
      " 62%|██████▏   | 23/37 [00:03<00:02,  6.59it/s]"
     ]
    },
    {
     "name": "stdout",
     "output_type": "stream",
     "text": [
      "Acc: 0.98  Loss: 0.0201\n",
      "Acc: 1.0  Loss: 0.0001\n"
     ]
    },
    {
     "name": "stderr",
     "output_type": "stream",
     "text": [
      " 68%|██████▊   | 25/37 [00:03<00:01,  6.80it/s]"
     ]
    },
    {
     "name": "stdout",
     "output_type": "stream",
     "text": [
      "Acc: 1.0  Loss: 0.0008\n",
      "Acc: 1.0  Loss: 0.0001\n"
     ]
    },
    {
     "name": "stderr",
     "output_type": "stream",
     "text": [
      " 73%|███████▎  | 27/37 [00:03<00:01,  6.90it/s]"
     ]
    },
    {
     "name": "stdout",
     "output_type": "stream",
     "text": [
      "Acc: 1.0  Loss: 0.0002\n",
      "Acc: 1.0  Loss: 0.0001\n"
     ]
    },
    {
     "name": "stderr",
     "output_type": "stream",
     "text": [
      " 78%|███████▊  | 29/37 [00:04<00:01,  6.96it/s]"
     ]
    },
    {
     "name": "stdout",
     "output_type": "stream",
     "text": [
      "Acc: 1.0  Loss: 0.0002\n",
      "Acc: 1.0  Loss: 0.0001\n"
     ]
    },
    {
     "name": "stderr",
     "output_type": "stream",
     "text": [
      " 84%|████████▍ | 31/37 [00:04<00:00,  6.98it/s]"
     ]
    },
    {
     "name": "stdout",
     "output_type": "stream",
     "text": [
      "Acc: 0.98  Loss: 0.0202\n",
      "Acc: 1.0  Loss: 0.0005\n"
     ]
    },
    {
     "name": "stderr",
     "output_type": "stream",
     "text": [
      " 89%|████████▉ | 33/37 [00:04<00:00,  7.00it/s]"
     ]
    },
    {
     "name": "stdout",
     "output_type": "stream",
     "text": [
      "Acc: 1.0  Loss: 0.0005\n",
      "Acc: 1.0  Loss: 0.0008\n"
     ]
    },
    {
     "name": "stderr",
     "output_type": "stream",
     "text": [
      " 95%|█████████▍| 35/37 [00:05<00:00,  7.01it/s]"
     ]
    },
    {
     "name": "stdout",
     "output_type": "stream",
     "text": [
      "Acc: 1.0  Loss: 0.0004\n",
      "Acc: 1.0  Loss: 0.0006\n"
     ]
    },
    {
     "name": "stderr",
     "output_type": "stream",
     "text": [
      "100%|██████████| 37/37 [00:05<00:00,  6.87it/s]\n",
      "  0%|          | 0/37 [00:00<?, ?it/s]"
     ]
    },
    {
     "name": "stdout",
     "output_type": "stream",
     "text": [
      "Acc: 1.0  Loss: 0.0006\n",
      "Acc: 1.0  Loss: 0.0004\n"
     ]
    },
    {
     "name": "stderr",
     "output_type": "stream",
     "text": [
      "  5%|▌         | 2/37 [00:00<00:04,  7.01it/s]"
     ]
    },
    {
     "name": "stdout",
     "output_type": "stream",
     "text": [
      "Acc: 1.0  Loss: 0.0004\n",
      "Acc: 0.98  Loss: 0.0202\n"
     ]
    },
    {
     "name": "stderr",
     "output_type": "stream",
     "text": [
      " 11%|█         | 4/37 [00:00<00:04,  7.01it/s]"
     ]
    },
    {
     "name": "stdout",
     "output_type": "stream",
     "text": [
      "Acc: 1.0  Loss: 0.0002\n",
      "Acc: 1.0  Loss: 0.0001\n"
     ]
    },
    {
     "name": "stderr",
     "output_type": "stream",
     "text": [
      " 16%|█▌        | 6/37 [00:00<00:04,  7.01it/s]"
     ]
    },
    {
     "name": "stdout",
     "output_type": "stream",
     "text": [
      "Acc: 1.0  Loss: 0.0002\n",
      "Acc: 1.0  Loss: 0.0\n"
     ]
    },
    {
     "name": "stderr",
     "output_type": "stream",
     "text": [
      " 22%|██▏       | 8/37 [00:01<00:04,  7.01it/s]"
     ]
    },
    {
     "name": "stdout",
     "output_type": "stream",
     "text": [
      "Acc: 1.0  Loss: 0.0001\n",
      "Acc: 1.0  Loss: 0.0\n"
     ]
    },
    {
     "name": "stderr",
     "output_type": "stream",
     "text": [
      " 27%|██▋       | 10/37 [00:01<00:03,  6.88it/s]"
     ]
    },
    {
     "name": "stdout",
     "output_type": "stream",
     "text": [
      "Acc: 1.0  Loss: 0.0\n",
      "Acc: 1.0  Loss: 0.0001\n"
     ]
    },
    {
     "name": "stderr",
     "output_type": "stream",
     "text": [
      " 32%|███▏      | 12/37 [00:01<00:03,  6.60it/s]"
     ]
    },
    {
     "name": "stdout",
     "output_type": "stream",
     "text": [
      "Acc: 1.0  Loss: 0.0\n",
      "Acc: 1.0  Loss: 0.0001\n"
     ]
    },
    {
     "name": "stderr",
     "output_type": "stream",
     "text": [
      " 38%|███▊      | 14/37 [00:02<00:03,  6.79it/s]"
     ]
    },
    {
     "name": "stdout",
     "output_type": "stream",
     "text": [
      "Acc: 1.0  Loss: 0.0001\n",
      "Acc: 0.98  Loss: 0.0201\n"
     ]
    },
    {
     "name": "stderr",
     "output_type": "stream",
     "text": [
      " 43%|████▎     | 16/37 [00:02<00:03,  6.74it/s]"
     ]
    },
    {
     "name": "stdout",
     "output_type": "stream",
     "text": [
      "Acc: 1.0  Loss: 0.0002\n",
      "Acc: 0.98  Loss: 0.02\n"
     ]
    },
    {
     "name": "stderr",
     "output_type": "stream",
     "text": [
      " 49%|████▊     | 18/37 [00:02<00:02,  6.64it/s]"
     ]
    },
    {
     "name": "stdout",
     "output_type": "stream",
     "text": [
      "Acc: 1.0  Loss: 0.0001\n",
      "Acc: 1.0  Loss: 0.0002\n"
     ]
    },
    {
     "name": "stderr",
     "output_type": "stream",
     "text": [
      " 54%|█████▍    | 20/37 [00:02<00:02,  6.82it/s]"
     ]
    },
    {
     "name": "stdout",
     "output_type": "stream",
     "text": [
      "Acc: 1.0  Loss: 0.0001\n",
      "Acc: 1.0  Loss: 0.0002\n"
     ]
    },
    {
     "name": "stderr",
     "output_type": "stream",
     "text": [
      " 59%|█████▉    | 22/37 [00:03<00:02,  6.92it/s]"
     ]
    },
    {
     "name": "stdout",
     "output_type": "stream",
     "text": [
      "Acc: 1.0  Loss: 0.0004\n",
      "Acc: 0.98  Loss: 0.0203\n"
     ]
    },
    {
     "name": "stderr",
     "output_type": "stream",
     "text": [
      " 65%|██████▍   | 24/37 [00:03<00:01,  6.95it/s]"
     ]
    },
    {
     "name": "stdout",
     "output_type": "stream",
     "text": [
      "Acc: 1.0  Loss: 0.0001\n",
      "Acc: 1.0  Loss: 0.001\n"
     ]
    },
    {
     "name": "stderr",
     "output_type": "stream",
     "text": [
      " 70%|███████   | 26/37 [00:03<00:01,  6.63it/s]"
     ]
    },
    {
     "name": "stdout",
     "output_type": "stream",
     "text": [
      "Acc: 1.0  Loss: 0.0001\n",
      "Acc: 1.0  Loss: 0.0004\n"
     ]
    },
    {
     "name": "stderr",
     "output_type": "stream",
     "text": [
      " 76%|███████▌  | 28/37 [00:04<00:01,  6.77it/s]"
     ]
    },
    {
     "name": "stdout",
     "output_type": "stream",
     "text": [
      "Acc: 1.0  Loss: 0.0002\n",
      "Acc: 1.0  Loss: 0.0\n"
     ]
    },
    {
     "name": "stderr",
     "output_type": "stream",
     "text": [
      " 81%|████████  | 30/37 [00:04<00:01,  6.88it/s]"
     ]
    },
    {
     "name": "stdout",
     "output_type": "stream",
     "text": [
      "Acc: 1.0  Loss: 0.0\n",
      "Acc: 0.98  Loss: 0.0202\n"
     ]
    },
    {
     "name": "stderr",
     "output_type": "stream",
     "text": [
      " 86%|████████▋ | 32/37 [00:04<00:00,  6.73it/s]"
     ]
    },
    {
     "name": "stdout",
     "output_type": "stream",
     "text": [
      "Acc: 1.0  Loss: 0.0002\n",
      "Acc: 1.0  Loss: 0.0001\n"
     ]
    },
    {
     "name": "stderr",
     "output_type": "stream",
     "text": [
      " 92%|█████████▏| 34/37 [00:04<00:00,  6.66it/s]"
     ]
    },
    {
     "name": "stdout",
     "output_type": "stream",
     "text": [
      "Acc: 1.0  Loss: 0.0001\n",
      "Acc: 1.0  Loss: 0.0001\n"
     ]
    },
    {
     "name": "stderr",
     "output_type": "stream",
     "text": [
      " 97%|█████████▋| 36/37 [00:05<00:00,  6.69it/s]"
     ]
    },
    {
     "name": "stdout",
     "output_type": "stream",
     "text": [
      "Acc: 1.0  Loss: 0.0001\n",
      "Acc: 1.0  Loss: 0.0001\n"
     ]
    },
    {
     "name": "stderr",
     "output_type": "stream",
     "text": [
      "100%|██████████| 37/37 [00:05<00:00,  6.82it/s]"
     ]
    },
    {
     "name": "stdout",
     "output_type": "stream",
     "text": [
      "Acc: 1.0  Loss: 0.0001\n"
     ]
    },
    {
     "name": "stderr",
     "output_type": "stream",
     "text": [
      "\n"
     ]
    }
   ],
   "source": [
    "import time\n",
    "\n",
    "MODEL_NAME = f\"model-{int(time.time())}\"  # gives a dynamic model name, to just help with things getting messy over time. \n",
    "net = Net().to(device)\n",
    "optimizer = optim.Adam(net.parameters(), lr=0.001)\n",
    "loss_function = nn.MSELoss()\n",
    "\n",
    "print(MODEL_NAME)\n",
    "def train(net):\n",
    "    BATCH_SIZE = 50\n",
    "    EPOCHS = 20\n",
    "\n",
    "    with open(\"model.log\", \"a\") as f:\n",
    "        for epoch in range(EPOCHS):\n",
    "            for i in tqdm(range(0, len(train_X), BATCH_SIZE)):\n",
    "                batch_X = train_X[i:i+BATCH_SIZE].view(-1,1,120,120)\n",
    "                batch_y = train_y[i:i+BATCH_SIZE]\n",
    "\n",
    "                batch_X, batch_y = batch_X.to(device), batch_y.to(device)\n",
    "\n",
    "                acc, loss = fwd_pass(batch_X, batch_y, train=True)\n",
    "\n",
    "                print(f\"Acc: {round(float(acc),2)}  Loss: {round(float(loss),4)}\")\n",
    "                #f.write(f\"{MODEL_NAME},{round(time.time(),3)},train,{round(float(acc),2)},{round(float(loss),4)}\\n\")\n",
    "                # just to show the above working, and then get out:\n",
    "                if i % 50 == 0:\n",
    "                    val_acc, val_loss = test(size=32)\n",
    "                    f.write(f\"{MODEL_NAME},{round(time.time(),3)},{round(float(acc),2)},{round(float(loss), 4)},{round(float(val_acc),2)},{round(float(val_loss),4)},{epoch}\\n\")\n",
    "train(net)"
   ]
  },
  {
   "cell_type": "code",
   "execution_count": 10,
   "metadata": {},
   "outputs": [
    {
     "data": {
      "application/javascript": [
       "/* Put everything inside the global mpl namespace */\n",
       "window.mpl = {};\n",
       "\n",
       "\n",
       "mpl.get_websocket_type = function() {\n",
       "    if (typeof(WebSocket) !== 'undefined') {\n",
       "        return WebSocket;\n",
       "    } else if (typeof(MozWebSocket) !== 'undefined') {\n",
       "        return MozWebSocket;\n",
       "    } else {\n",
       "        alert('Your browser does not have WebSocket support. ' +\n",
       "              'Please try Chrome, Safari or Firefox ≥ 6. ' +\n",
       "              'Firefox 4 and 5 are also supported but you ' +\n",
       "              'have to enable WebSockets in about:config.');\n",
       "    };\n",
       "}\n",
       "\n",
       "mpl.figure = function(figure_id, websocket, ondownload, parent_element) {\n",
       "    this.id = figure_id;\n",
       "\n",
       "    this.ws = websocket;\n",
       "\n",
       "    this.supports_binary = (this.ws.binaryType != undefined);\n",
       "\n",
       "    if (!this.supports_binary) {\n",
       "        var warnings = document.getElementById(\"mpl-warnings\");\n",
       "        if (warnings) {\n",
       "            warnings.style.display = 'block';\n",
       "            warnings.textContent = (\n",
       "                \"This browser does not support binary websocket messages. \" +\n",
       "                    \"Performance may be slow.\");\n",
       "        }\n",
       "    }\n",
       "\n",
       "    this.imageObj = new Image();\n",
       "\n",
       "    this.context = undefined;\n",
       "    this.message = undefined;\n",
       "    this.canvas = undefined;\n",
       "    this.rubberband_canvas = undefined;\n",
       "    this.rubberband_context = undefined;\n",
       "    this.format_dropdown = undefined;\n",
       "\n",
       "    this.image_mode = 'full';\n",
       "\n",
       "    this.root = $('<div/>');\n",
       "    this._root_extra_style(this.root)\n",
       "    this.root.attr('style', 'display: inline-block');\n",
       "\n",
       "    $(parent_element).append(this.root);\n",
       "\n",
       "    this._init_header(this);\n",
       "    this._init_canvas(this);\n",
       "    this._init_toolbar(this);\n",
       "\n",
       "    var fig = this;\n",
       "\n",
       "    this.waiting = false;\n",
       "\n",
       "    this.ws.onopen =  function () {\n",
       "            fig.send_message(\"supports_binary\", {value: fig.supports_binary});\n",
       "            fig.send_message(\"send_image_mode\", {});\n",
       "            if (mpl.ratio != 1) {\n",
       "                fig.send_message(\"set_dpi_ratio\", {'dpi_ratio': mpl.ratio});\n",
       "            }\n",
       "            fig.send_message(\"refresh\", {});\n",
       "        }\n",
       "\n",
       "    this.imageObj.onload = function() {\n",
       "            if (fig.image_mode == 'full') {\n",
       "                // Full images could contain transparency (where diff images\n",
       "                // almost always do), so we need to clear the canvas so that\n",
       "                // there is no ghosting.\n",
       "                fig.context.clearRect(0, 0, fig.canvas.width, fig.canvas.height);\n",
       "            }\n",
       "            fig.context.drawImage(fig.imageObj, 0, 0);\n",
       "        };\n",
       "\n",
       "    this.imageObj.onunload = function() {\n",
       "        fig.ws.close();\n",
       "    }\n",
       "\n",
       "    this.ws.onmessage = this._make_on_message_function(this);\n",
       "\n",
       "    this.ondownload = ondownload;\n",
       "}\n",
       "\n",
       "mpl.figure.prototype._init_header = function() {\n",
       "    var titlebar = $(\n",
       "        '<div class=\"ui-dialog-titlebar ui-widget-header ui-corner-all ' +\n",
       "        'ui-helper-clearfix\"/>');\n",
       "    var titletext = $(\n",
       "        '<div class=\"ui-dialog-title\" style=\"width: 100%; ' +\n",
       "        'text-align: center; padding: 3px;\"/>');\n",
       "    titlebar.append(titletext)\n",
       "    this.root.append(titlebar);\n",
       "    this.header = titletext[0];\n",
       "}\n",
       "\n",
       "\n",
       "\n",
       "mpl.figure.prototype._canvas_extra_style = function(canvas_div) {\n",
       "\n",
       "}\n",
       "\n",
       "\n",
       "mpl.figure.prototype._root_extra_style = function(canvas_div) {\n",
       "\n",
       "}\n",
       "\n",
       "mpl.figure.prototype._init_canvas = function() {\n",
       "    var fig = this;\n",
       "\n",
       "    var canvas_div = $('<div/>');\n",
       "\n",
       "    canvas_div.attr('style', 'position: relative; clear: both; outline: 0');\n",
       "\n",
       "    function canvas_keyboard_event(event) {\n",
       "        return fig.key_event(event, event['data']);\n",
       "    }\n",
       "\n",
       "    canvas_div.keydown('key_press', canvas_keyboard_event);\n",
       "    canvas_div.keyup('key_release', canvas_keyboard_event);\n",
       "    this.canvas_div = canvas_div\n",
       "    this._canvas_extra_style(canvas_div)\n",
       "    this.root.append(canvas_div);\n",
       "\n",
       "    var canvas = $('<canvas/>');\n",
       "    canvas.addClass('mpl-canvas');\n",
       "    canvas.attr('style', \"left: 0; top: 0; z-index: 0; outline: 0\")\n",
       "\n",
       "    this.canvas = canvas[0];\n",
       "    this.context = canvas[0].getContext(\"2d\");\n",
       "\n",
       "    var backingStore = this.context.backingStorePixelRatio ||\n",
       "\tthis.context.webkitBackingStorePixelRatio ||\n",
       "\tthis.context.mozBackingStorePixelRatio ||\n",
       "\tthis.context.msBackingStorePixelRatio ||\n",
       "\tthis.context.oBackingStorePixelRatio ||\n",
       "\tthis.context.backingStorePixelRatio || 1;\n",
       "\n",
       "    mpl.ratio = (window.devicePixelRatio || 1) / backingStore;\n",
       "\n",
       "    var rubberband = $('<canvas/>');\n",
       "    rubberband.attr('style', \"position: absolute; left: 0; top: 0; z-index: 1;\")\n",
       "\n",
       "    var pass_mouse_events = true;\n",
       "\n",
       "    canvas_div.resizable({\n",
       "        start: function(event, ui) {\n",
       "            pass_mouse_events = false;\n",
       "        },\n",
       "        resize: function(event, ui) {\n",
       "            fig.request_resize(ui.size.width, ui.size.height);\n",
       "        },\n",
       "        stop: function(event, ui) {\n",
       "            pass_mouse_events = true;\n",
       "            fig.request_resize(ui.size.width, ui.size.height);\n",
       "        },\n",
       "    });\n",
       "\n",
       "    function mouse_event_fn(event) {\n",
       "        if (pass_mouse_events)\n",
       "            return fig.mouse_event(event, event['data']);\n",
       "    }\n",
       "\n",
       "    rubberband.mousedown('button_press', mouse_event_fn);\n",
       "    rubberband.mouseup('button_release', mouse_event_fn);\n",
       "    // Throttle sequential mouse events to 1 every 20ms.\n",
       "    rubberband.mousemove('motion_notify', mouse_event_fn);\n",
       "\n",
       "    rubberband.mouseenter('figure_enter', mouse_event_fn);\n",
       "    rubberband.mouseleave('figure_leave', mouse_event_fn);\n",
       "\n",
       "    canvas_div.on(\"wheel\", function (event) {\n",
       "        event = event.originalEvent;\n",
       "        event['data'] = 'scroll'\n",
       "        if (event.deltaY < 0) {\n",
       "            event.step = 1;\n",
       "        } else {\n",
       "            event.step = -1;\n",
       "        }\n",
       "        mouse_event_fn(event);\n",
       "    });\n",
       "\n",
       "    canvas_div.append(canvas);\n",
       "    canvas_div.append(rubberband);\n",
       "\n",
       "    this.rubberband = rubberband;\n",
       "    this.rubberband_canvas = rubberband[0];\n",
       "    this.rubberband_context = rubberband[0].getContext(\"2d\");\n",
       "    this.rubberband_context.strokeStyle = \"#000000\";\n",
       "\n",
       "    this._resize_canvas = function(width, height) {\n",
       "        // Keep the size of the canvas, canvas container, and rubber band\n",
       "        // canvas in synch.\n",
       "        canvas_div.css('width', width)\n",
       "        canvas_div.css('height', height)\n",
       "\n",
       "        canvas.attr('width', width * mpl.ratio);\n",
       "        canvas.attr('height', height * mpl.ratio);\n",
       "        canvas.attr('style', 'width: ' + width + 'px; height: ' + height + 'px;');\n",
       "\n",
       "        rubberband.attr('width', width);\n",
       "        rubberband.attr('height', height);\n",
       "    }\n",
       "\n",
       "    // Set the figure to an initial 600x600px, this will subsequently be updated\n",
       "    // upon first draw.\n",
       "    this._resize_canvas(600, 600);\n",
       "\n",
       "    // Disable right mouse context menu.\n",
       "    $(this.rubberband_canvas).bind(\"contextmenu\",function(e){\n",
       "        return false;\n",
       "    });\n",
       "\n",
       "    function set_focus () {\n",
       "        canvas.focus();\n",
       "        canvas_div.focus();\n",
       "    }\n",
       "\n",
       "    window.setTimeout(set_focus, 100);\n",
       "}\n",
       "\n",
       "mpl.figure.prototype._init_toolbar = function() {\n",
       "    var fig = this;\n",
       "\n",
       "    var nav_element = $('<div/>');\n",
       "    nav_element.attr('style', 'width: 100%');\n",
       "    this.root.append(nav_element);\n",
       "\n",
       "    // Define a callback function for later on.\n",
       "    function toolbar_event(event) {\n",
       "        return fig.toolbar_button_onclick(event['data']);\n",
       "    }\n",
       "    function toolbar_mouse_event(event) {\n",
       "        return fig.toolbar_button_onmouseover(event['data']);\n",
       "    }\n",
       "\n",
       "    for(var toolbar_ind in mpl.toolbar_items) {\n",
       "        var name = mpl.toolbar_items[toolbar_ind][0];\n",
       "        var tooltip = mpl.toolbar_items[toolbar_ind][1];\n",
       "        var image = mpl.toolbar_items[toolbar_ind][2];\n",
       "        var method_name = mpl.toolbar_items[toolbar_ind][3];\n",
       "\n",
       "        if (!name) {\n",
       "            // put a spacer in here.\n",
       "            continue;\n",
       "        }\n",
       "        var button = $('<button/>');\n",
       "        button.addClass('ui-button ui-widget ui-state-default ui-corner-all ' +\n",
       "                        'ui-button-icon-only');\n",
       "        button.attr('role', 'button');\n",
       "        button.attr('aria-disabled', 'false');\n",
       "        button.click(method_name, toolbar_event);\n",
       "        button.mouseover(tooltip, toolbar_mouse_event);\n",
       "\n",
       "        var icon_img = $('<span/>');\n",
       "        icon_img.addClass('ui-button-icon-primary ui-icon');\n",
       "        icon_img.addClass(image);\n",
       "        icon_img.addClass('ui-corner-all');\n",
       "\n",
       "        var tooltip_span = $('<span/>');\n",
       "        tooltip_span.addClass('ui-button-text');\n",
       "        tooltip_span.html(tooltip);\n",
       "\n",
       "        button.append(icon_img);\n",
       "        button.append(tooltip_span);\n",
       "\n",
       "        nav_element.append(button);\n",
       "    }\n",
       "\n",
       "    var fmt_picker_span = $('<span/>');\n",
       "\n",
       "    var fmt_picker = $('<select/>');\n",
       "    fmt_picker.addClass('mpl-toolbar-option ui-widget ui-widget-content');\n",
       "    fmt_picker_span.append(fmt_picker);\n",
       "    nav_element.append(fmt_picker_span);\n",
       "    this.format_dropdown = fmt_picker[0];\n",
       "\n",
       "    for (var ind in mpl.extensions) {\n",
       "        var fmt = mpl.extensions[ind];\n",
       "        var option = $(\n",
       "            '<option/>', {selected: fmt === mpl.default_extension}).html(fmt);\n",
       "        fmt_picker.append(option);\n",
       "    }\n",
       "\n",
       "    // Add hover states to the ui-buttons\n",
       "    $( \".ui-button\" ).hover(\n",
       "        function() { $(this).addClass(\"ui-state-hover\");},\n",
       "        function() { $(this).removeClass(\"ui-state-hover\");}\n",
       "    );\n",
       "\n",
       "    var status_bar = $('<span class=\"mpl-message\"/>');\n",
       "    nav_element.append(status_bar);\n",
       "    this.message = status_bar[0];\n",
       "}\n",
       "\n",
       "mpl.figure.prototype.request_resize = function(x_pixels, y_pixels) {\n",
       "    // Request matplotlib to resize the figure. Matplotlib will then trigger a resize in the client,\n",
       "    // which will in turn request a refresh of the image.\n",
       "    this.send_message('resize', {'width': x_pixels, 'height': y_pixels});\n",
       "}\n",
       "\n",
       "mpl.figure.prototype.send_message = function(type, properties) {\n",
       "    properties['type'] = type;\n",
       "    properties['figure_id'] = this.id;\n",
       "    this.ws.send(JSON.stringify(properties));\n",
       "}\n",
       "\n",
       "mpl.figure.prototype.send_draw_message = function() {\n",
       "    if (!this.waiting) {\n",
       "        this.waiting = true;\n",
       "        this.ws.send(JSON.stringify({type: \"draw\", figure_id: this.id}));\n",
       "    }\n",
       "}\n",
       "\n",
       "\n",
       "mpl.figure.prototype.handle_save = function(fig, msg) {\n",
       "    var format_dropdown = fig.format_dropdown;\n",
       "    var format = format_dropdown.options[format_dropdown.selectedIndex].value;\n",
       "    fig.ondownload(fig, format);\n",
       "}\n",
       "\n",
       "\n",
       "mpl.figure.prototype.handle_resize = function(fig, msg) {\n",
       "    var size = msg['size'];\n",
       "    if (size[0] != fig.canvas.width || size[1] != fig.canvas.height) {\n",
       "        fig._resize_canvas(size[0], size[1]);\n",
       "        fig.send_message(\"refresh\", {});\n",
       "    };\n",
       "}\n",
       "\n",
       "mpl.figure.prototype.handle_rubberband = function(fig, msg) {\n",
       "    var x0 = msg['x0'] / mpl.ratio;\n",
       "    var y0 = (fig.canvas.height - msg['y0']) / mpl.ratio;\n",
       "    var x1 = msg['x1'] / mpl.ratio;\n",
       "    var y1 = (fig.canvas.height - msg['y1']) / mpl.ratio;\n",
       "    x0 = Math.floor(x0) + 0.5;\n",
       "    y0 = Math.floor(y0) + 0.5;\n",
       "    x1 = Math.floor(x1) + 0.5;\n",
       "    y1 = Math.floor(y1) + 0.5;\n",
       "    var min_x = Math.min(x0, x1);\n",
       "    var min_y = Math.min(y0, y1);\n",
       "    var width = Math.abs(x1 - x0);\n",
       "    var height = Math.abs(y1 - y0);\n",
       "\n",
       "    fig.rubberband_context.clearRect(\n",
       "        0, 0, fig.canvas.width / mpl.ratio, fig.canvas.height / mpl.ratio);\n",
       "\n",
       "    fig.rubberband_context.strokeRect(min_x, min_y, width, height);\n",
       "}\n",
       "\n",
       "mpl.figure.prototype.handle_figure_label = function(fig, msg) {\n",
       "    // Updates the figure title.\n",
       "    fig.header.textContent = msg['label'];\n",
       "}\n",
       "\n",
       "mpl.figure.prototype.handle_cursor = function(fig, msg) {\n",
       "    var cursor = msg['cursor'];\n",
       "    switch(cursor)\n",
       "    {\n",
       "    case 0:\n",
       "        cursor = 'pointer';\n",
       "        break;\n",
       "    case 1:\n",
       "        cursor = 'default';\n",
       "        break;\n",
       "    case 2:\n",
       "        cursor = 'crosshair';\n",
       "        break;\n",
       "    case 3:\n",
       "        cursor = 'move';\n",
       "        break;\n",
       "    }\n",
       "    fig.rubberband_canvas.style.cursor = cursor;\n",
       "}\n",
       "\n",
       "mpl.figure.prototype.handle_message = function(fig, msg) {\n",
       "    fig.message.textContent = msg['message'];\n",
       "}\n",
       "\n",
       "mpl.figure.prototype.handle_draw = function(fig, msg) {\n",
       "    // Request the server to send over a new figure.\n",
       "    fig.send_draw_message();\n",
       "}\n",
       "\n",
       "mpl.figure.prototype.handle_image_mode = function(fig, msg) {\n",
       "    fig.image_mode = msg['mode'];\n",
       "}\n",
       "\n",
       "mpl.figure.prototype.updated_canvas_event = function() {\n",
       "    // Called whenever the canvas gets updated.\n",
       "    this.send_message(\"ack\", {});\n",
       "}\n",
       "\n",
       "// A function to construct a web socket function for onmessage handling.\n",
       "// Called in the figure constructor.\n",
       "mpl.figure.prototype._make_on_message_function = function(fig) {\n",
       "    return function socket_on_message(evt) {\n",
       "        if (evt.data instanceof Blob) {\n",
       "            /* FIXME: We get \"Resource interpreted as Image but\n",
       "             * transferred with MIME type text/plain:\" errors on\n",
       "             * Chrome.  But how to set the MIME type?  It doesn't seem\n",
       "             * to be part of the websocket stream */\n",
       "            evt.data.type = \"image/png\";\n",
       "\n",
       "            /* Free the memory for the previous frames */\n",
       "            if (fig.imageObj.src) {\n",
       "                (window.URL || window.webkitURL).revokeObjectURL(\n",
       "                    fig.imageObj.src);\n",
       "            }\n",
       "\n",
       "            fig.imageObj.src = (window.URL || window.webkitURL).createObjectURL(\n",
       "                evt.data);\n",
       "            fig.updated_canvas_event();\n",
       "            fig.waiting = false;\n",
       "            return;\n",
       "        }\n",
       "        else if (typeof evt.data === 'string' && evt.data.slice(0, 21) == \"data:image/png;base64\") {\n",
       "            fig.imageObj.src = evt.data;\n",
       "            fig.updated_canvas_event();\n",
       "            fig.waiting = false;\n",
       "            return;\n",
       "        }\n",
       "\n",
       "        var msg = JSON.parse(evt.data);\n",
       "        var msg_type = msg['type'];\n",
       "\n",
       "        // Call the  \"handle_{type}\" callback, which takes\n",
       "        // the figure and JSON message as its only arguments.\n",
       "        try {\n",
       "            var callback = fig[\"handle_\" + msg_type];\n",
       "        } catch (e) {\n",
       "            console.log(\"No handler for the '\" + msg_type + \"' message type: \", msg);\n",
       "            return;\n",
       "        }\n",
       "\n",
       "        if (callback) {\n",
       "            try {\n",
       "                // console.log(\"Handling '\" + msg_type + \"' message: \", msg);\n",
       "                callback(fig, msg);\n",
       "            } catch (e) {\n",
       "                console.log(\"Exception inside the 'handler_\" + msg_type + \"' callback:\", e, e.stack, msg);\n",
       "            }\n",
       "        }\n",
       "    };\n",
       "}\n",
       "\n",
       "// from http://stackoverflow.com/questions/1114465/getting-mouse-location-in-canvas\n",
       "mpl.findpos = function(e) {\n",
       "    //this section is from http://www.quirksmode.org/js/events_properties.html\n",
       "    var targ;\n",
       "    if (!e)\n",
       "        e = window.event;\n",
       "    if (e.target)\n",
       "        targ = e.target;\n",
       "    else if (e.srcElement)\n",
       "        targ = e.srcElement;\n",
       "    if (targ.nodeType == 3) // defeat Safari bug\n",
       "        targ = targ.parentNode;\n",
       "\n",
       "    // jQuery normalizes the pageX and pageY\n",
       "    // pageX,Y are the mouse positions relative to the document\n",
       "    // offset() returns the position of the element relative to the document\n",
       "    var x = e.pageX - $(targ).offset().left;\n",
       "    var y = e.pageY - $(targ).offset().top;\n",
       "\n",
       "    return {\"x\": x, \"y\": y};\n",
       "};\n",
       "\n",
       "/*\n",
       " * return a copy of an object with only non-object keys\n",
       " * we need this to avoid circular references\n",
       " * http://stackoverflow.com/a/24161582/3208463\n",
       " */\n",
       "function simpleKeys (original) {\n",
       "  return Object.keys(original).reduce(function (obj, key) {\n",
       "    if (typeof original[key] !== 'object')\n",
       "        obj[key] = original[key]\n",
       "    return obj;\n",
       "  }, {});\n",
       "}\n",
       "\n",
       "mpl.figure.prototype.mouse_event = function(event, name) {\n",
       "    var canvas_pos = mpl.findpos(event)\n",
       "\n",
       "    if (name === 'button_press')\n",
       "    {\n",
       "        this.canvas.focus();\n",
       "        this.canvas_div.focus();\n",
       "    }\n",
       "\n",
       "    var x = canvas_pos.x * mpl.ratio;\n",
       "    var y = canvas_pos.y * mpl.ratio;\n",
       "\n",
       "    this.send_message(name, {x: x, y: y, button: event.button,\n",
       "                             step: event.step,\n",
       "                             guiEvent: simpleKeys(event)});\n",
       "\n",
       "    /* This prevents the web browser from automatically changing to\n",
       "     * the text insertion cursor when the button is pressed.  We want\n",
       "     * to control all of the cursor setting manually through the\n",
       "     * 'cursor' event from matplotlib */\n",
       "    event.preventDefault();\n",
       "    return false;\n",
       "}\n",
       "\n",
       "mpl.figure.prototype._key_event_extra = function(event, name) {\n",
       "    // Handle any extra behaviour associated with a key event\n",
       "}\n",
       "\n",
       "mpl.figure.prototype.key_event = function(event, name) {\n",
       "\n",
       "    // Prevent repeat events\n",
       "    if (name == 'key_press')\n",
       "    {\n",
       "        if (event.which === this._key)\n",
       "            return;\n",
       "        else\n",
       "            this._key = event.which;\n",
       "    }\n",
       "    if (name == 'key_release')\n",
       "        this._key = null;\n",
       "\n",
       "    var value = '';\n",
       "    if (event.ctrlKey && event.which != 17)\n",
       "        value += \"ctrl+\";\n",
       "    if (event.altKey && event.which != 18)\n",
       "        value += \"alt+\";\n",
       "    if (event.shiftKey && event.which != 16)\n",
       "        value += \"shift+\";\n",
       "\n",
       "    value += 'k';\n",
       "    value += event.which.toString();\n",
       "\n",
       "    this._key_event_extra(event, name);\n",
       "\n",
       "    this.send_message(name, {key: value,\n",
       "                             guiEvent: simpleKeys(event)});\n",
       "    return false;\n",
       "}\n",
       "\n",
       "mpl.figure.prototype.toolbar_button_onclick = function(name) {\n",
       "    if (name == 'download') {\n",
       "        this.handle_save(this, null);\n",
       "    } else {\n",
       "        this.send_message(\"toolbar_button\", {name: name});\n",
       "    }\n",
       "};\n",
       "\n",
       "mpl.figure.prototype.toolbar_button_onmouseover = function(tooltip) {\n",
       "    this.message.textContent = tooltip;\n",
       "};\n",
       "mpl.toolbar_items = [[\"Home\", \"Reset original view\", \"fa fa-home icon-home\", \"home\"], [\"Back\", \"Back to previous view\", \"fa fa-arrow-left icon-arrow-left\", \"back\"], [\"Forward\", \"Forward to next view\", \"fa fa-arrow-right icon-arrow-right\", \"forward\"], [\"\", \"\", \"\", \"\"], [\"Pan\", \"Pan axes with left mouse, zoom with right\", \"fa fa-arrows icon-move\", \"pan\"], [\"Zoom\", \"Zoom to rectangle\", \"fa fa-square-o icon-check-empty\", \"zoom\"], [\"\", \"\", \"\", \"\"], [\"Download\", \"Download plot\", \"fa fa-floppy-o icon-save\", \"download\"]];\n",
       "\n",
       "mpl.extensions = [\"eps\", \"jpeg\", \"pdf\", \"png\", \"ps\", \"raw\", \"svg\", \"tif\"];\n",
       "\n",
       "mpl.default_extension = \"png\";var comm_websocket_adapter = function(comm) {\n",
       "    // Create a \"websocket\"-like object which calls the given IPython comm\n",
       "    // object with the appropriate methods. Currently this is a non binary\n",
       "    // socket, so there is still some room for performance tuning.\n",
       "    var ws = {};\n",
       "\n",
       "    ws.close = function() {\n",
       "        comm.close()\n",
       "    };\n",
       "    ws.send = function(m) {\n",
       "        //console.log('sending', m);\n",
       "        comm.send(m);\n",
       "    };\n",
       "    // Register the callback with on_msg.\n",
       "    comm.on_msg(function(msg) {\n",
       "        //console.log('receiving', msg['content']['data'], msg);\n",
       "        // Pass the mpl event to the overridden (by mpl) onmessage function.\n",
       "        ws.onmessage(msg['content']['data'])\n",
       "    });\n",
       "    return ws;\n",
       "}\n",
       "\n",
       "mpl.mpl_figure_comm = function(comm, msg) {\n",
       "    // This is the function which gets called when the mpl process\n",
       "    // starts-up an IPython Comm through the \"matplotlib\" channel.\n",
       "\n",
       "    var id = msg.content.data.id;\n",
       "    // Get hold of the div created by the display call when the Comm\n",
       "    // socket was opened in Python.\n",
       "    var element = $(\"#\" + id);\n",
       "    var ws_proxy = comm_websocket_adapter(comm)\n",
       "\n",
       "    function ondownload(figure, format) {\n",
       "        window.open(figure.imageObj.src);\n",
       "    }\n",
       "\n",
       "    var fig = new mpl.figure(id, ws_proxy,\n",
       "                           ondownload,\n",
       "                           element.get(0));\n",
       "\n",
       "    // Call onopen now - mpl needs it, as it is assuming we've passed it a real\n",
       "    // web socket which is closed, not our websocket->open comm proxy.\n",
       "    ws_proxy.onopen();\n",
       "\n",
       "    fig.parent_element = element.get(0);\n",
       "    fig.cell_info = mpl.find_output_cell(\"<div id='\" + id + \"'></div>\");\n",
       "    if (!fig.cell_info) {\n",
       "        console.error(\"Failed to find cell for figure\", id, fig);\n",
       "        return;\n",
       "    }\n",
       "\n",
       "    var output_index = fig.cell_info[2]\n",
       "    var cell = fig.cell_info[0];\n",
       "\n",
       "};\n",
       "\n",
       "mpl.figure.prototype.handle_close = function(fig, msg) {\n",
       "    var width = fig.canvas.width/mpl.ratio\n",
       "    fig.root.unbind('remove')\n",
       "\n",
       "    // Update the output cell to use the data from the current canvas.\n",
       "    fig.push_to_output();\n",
       "    var dataURL = fig.canvas.toDataURL();\n",
       "    // Re-enable the keyboard manager in IPython - without this line, in FF,\n",
       "    // the notebook keyboard shortcuts fail.\n",
       "    IPython.keyboard_manager.enable()\n",
       "    $(fig.parent_element).html('<img src=\"' + dataURL + '\" width=\"' + width + '\">');\n",
       "    fig.close_ws(fig, msg);\n",
       "}\n",
       "\n",
       "mpl.figure.prototype.close_ws = function(fig, msg){\n",
       "    fig.send_message('closing', msg);\n",
       "    // fig.ws.close()\n",
       "}\n",
       "\n",
       "mpl.figure.prototype.push_to_output = function(remove_interactive) {\n",
       "    // Turn the data on the canvas into data in the output cell.\n",
       "    var width = this.canvas.width/mpl.ratio\n",
       "    var dataURL = this.canvas.toDataURL();\n",
       "    this.cell_info[1]['text/html'] = '<img src=\"' + dataURL + '\" width=\"' + width + '\">';\n",
       "}\n",
       "\n",
       "mpl.figure.prototype.updated_canvas_event = function() {\n",
       "    // Tell IPython that the notebook contents must change.\n",
       "    IPython.notebook.set_dirty(true);\n",
       "    this.send_message(\"ack\", {});\n",
       "    var fig = this;\n",
       "    // Wait a second, then push the new image to the DOM so\n",
       "    // that it is saved nicely (might be nice to debounce this).\n",
       "    setTimeout(function () { fig.push_to_output() }, 1000);\n",
       "}\n",
       "\n",
       "mpl.figure.prototype._init_toolbar = function() {\n",
       "    var fig = this;\n",
       "\n",
       "    var nav_element = $('<div/>');\n",
       "    nav_element.attr('style', 'width: 100%');\n",
       "    this.root.append(nav_element);\n",
       "\n",
       "    // Define a callback function for later on.\n",
       "    function toolbar_event(event) {\n",
       "        return fig.toolbar_button_onclick(event['data']);\n",
       "    }\n",
       "    function toolbar_mouse_event(event) {\n",
       "        return fig.toolbar_button_onmouseover(event['data']);\n",
       "    }\n",
       "\n",
       "    for(var toolbar_ind in mpl.toolbar_items){\n",
       "        var name = mpl.toolbar_items[toolbar_ind][0];\n",
       "        var tooltip = mpl.toolbar_items[toolbar_ind][1];\n",
       "        var image = mpl.toolbar_items[toolbar_ind][2];\n",
       "        var method_name = mpl.toolbar_items[toolbar_ind][3];\n",
       "\n",
       "        if (!name) { continue; };\n",
       "\n",
       "        var button = $('<button class=\"btn btn-default\" href=\"#\" title=\"' + name + '\"><i class=\"fa ' + image + ' fa-lg\"></i></button>');\n",
       "        button.click(method_name, toolbar_event);\n",
       "        button.mouseover(tooltip, toolbar_mouse_event);\n",
       "        nav_element.append(button);\n",
       "    }\n",
       "\n",
       "    // Add the status bar.\n",
       "    var status_bar = $('<span class=\"mpl-message\" style=\"text-align:right; float: right;\"/>');\n",
       "    nav_element.append(status_bar);\n",
       "    this.message = status_bar[0];\n",
       "\n",
       "    // Add the close button to the window.\n",
       "    var buttongrp = $('<div class=\"btn-group inline pull-right\"></div>');\n",
       "    var button = $('<button class=\"btn btn-mini btn-primary\" href=\"#\" title=\"Stop Interaction\"><i class=\"fa fa-power-off icon-remove icon-large\"></i></button>');\n",
       "    button.click(function (evt) { fig.handle_close(fig, {}); } );\n",
       "    button.mouseover('Stop Interaction', toolbar_mouse_event);\n",
       "    buttongrp.append(button);\n",
       "    var titlebar = this.root.find($('.ui-dialog-titlebar'));\n",
       "    titlebar.prepend(buttongrp);\n",
       "}\n",
       "\n",
       "mpl.figure.prototype._root_extra_style = function(el){\n",
       "    var fig = this\n",
       "    el.on(\"remove\", function(){\n",
       "\tfig.close_ws(fig, {});\n",
       "    });\n",
       "}\n",
       "\n",
       "mpl.figure.prototype._canvas_extra_style = function(el){\n",
       "    // this is important to make the div 'focusable\n",
       "    el.attr('tabindex', 0)\n",
       "    // reach out to IPython and tell the keyboard manager to turn it's self\n",
       "    // off when our div gets focus\n",
       "\n",
       "    // location in version 3\n",
       "    if (IPython.notebook.keyboard_manager) {\n",
       "        IPython.notebook.keyboard_manager.register_events(el);\n",
       "    }\n",
       "    else {\n",
       "        // location in version 2\n",
       "        IPython.keyboard_manager.register_events(el);\n",
       "    }\n",
       "\n",
       "}\n",
       "\n",
       "mpl.figure.prototype._key_event_extra = function(event, name) {\n",
       "    var manager = IPython.notebook.keyboard_manager;\n",
       "    if (!manager)\n",
       "        manager = IPython.keyboard_manager;\n",
       "\n",
       "    // Check for shift+enter\n",
       "    if (event.shiftKey && event.which == 13) {\n",
       "        this.canvas_div.blur();\n",
       "        // select the cell after this one\n",
       "        var index = IPython.notebook.find_cell_index(this.cell_info[0]);\n",
       "        IPython.notebook.select(index + 1);\n",
       "    }\n",
       "}\n",
       "\n",
       "mpl.figure.prototype.handle_save = function(fig, msg) {\n",
       "    fig.ondownload(fig, null);\n",
       "}\n",
       "\n",
       "\n",
       "mpl.find_output_cell = function(html_output) {\n",
       "    // Return the cell and output element which can be found *uniquely* in the notebook.\n",
       "    // Note - this is a bit hacky, but it is done because the \"notebook_saving.Notebook\"\n",
       "    // IPython event is triggered only after the cells have been serialised, which for\n",
       "    // our purposes (turning an active figure into a static one), is too late.\n",
       "    var cells = IPython.notebook.get_cells();\n",
       "    var ncells = cells.length;\n",
       "    for (var i=0; i<ncells; i++) {\n",
       "        var cell = cells[i];\n",
       "        if (cell.cell_type === 'code'){\n",
       "            for (var j=0; j<cell.output_area.outputs.length; j++) {\n",
       "                var data = cell.output_area.outputs[j];\n",
       "                if (data.data) {\n",
       "                    // IPython >= 3 moved mimebundle to data attribute of output\n",
       "                    data = data.data;\n",
       "                }\n",
       "                if (data['text/html'] == html_output) {\n",
       "                    return [cell, data, j];\n",
       "                }\n",
       "            }\n",
       "        }\n",
       "    }\n",
       "}\n",
       "\n",
       "// Register the function which deals with the matplotlib target/channel.\n",
       "// The kernel may be null if the page has been refreshed.\n",
       "if (IPython.notebook.kernel != null) {\n",
       "    IPython.notebook.kernel.comm_manager.register_target('matplotlib', mpl.mpl_figure_comm);\n",
       "}\n"
      ],
      "text/plain": [
       "<IPython.core.display.Javascript object>"
      ]
     },
     "metadata": {},
     "output_type": "display_data"
    },
    {
     "data": {
      "text/html": [
       "<img src=\"data:image/png;base64,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\" width=\"640\">"
      ],
      "text/plain": [
       "<IPython.core.display.HTML object>"
      ]
     },
     "metadata": {},
     "output_type": "display_data"
    }
   ],
   "source": [
    "%matplotlib notebook\n",
    "import matplotlib.pyplot as plt\n",
    "from matplotlib import style\n",
    "\n",
    "style.use(\"ggplot\")\n",
    "\n",
    "model_name = \"model-1579336059\" # grab whichever model name you want here. We could also just reference the MODEL_NAME if you're in a notebook still.\n",
    "\n",
    "\n",
    "def create_acc_loss_graph(model_name):\n",
    "    contents = open(\"model.log\", \"r\").read().split(\"\\n\")\n",
    "\n",
    "    times = []\n",
    "    accuracies = []\n",
    "    losses = []\n",
    "\n",
    "    val_accs = []\n",
    "    val_losses = []\n",
    "\n",
    "    for c in contents:\n",
    "        if model_name in c:\n",
    "            name, timestamp, acc, loss, val_acc, val_loss, epoch = c.split(\",\")\n",
    "\n",
    "            times.append(float(timestamp))\n",
    "            accuracies.append(float(acc))\n",
    "            losses.append(float(loss))\n",
    "\n",
    "            val_accs.append(float(val_acc))\n",
    "            val_losses.append(float(val_loss))\n",
    "\n",
    "\n",
    "    fig = plt.figure()\n",
    "\n",
    "    ax1 = plt.subplot2grid((2,1), (0,0))\n",
    "    ax2 = plt.subplot2grid((2,1), (1,0), sharex=ax1)\n",
    "\n",
    "\n",
    "    ax1.plot(times, accuracies, label=\"acc\")\n",
    "    ax1.plot(times, val_accs, label=\"val_acc\")\n",
    "    ax1.legend(loc=2)\n",
    "    ax2.plot(times,losses, label=\"loss\")\n",
    "    ax2.plot(times,val_losses, label=\"val_loss\")\n",
    "    ax2.legend(loc=2)\n",
    "    plt.show()\n",
    "\n",
    "create_acc_loss_graph(model_name)"
   ]
  },
  {
   "cell_type": "markdown",
   "metadata": {},
   "source": [
    "# Validating/Testing Model"
   ]
  },
  {
   "cell_type": "code",
   "execution_count": 13,
   "metadata": {
    "scrolled": true
   },
   "outputs": [
    {
     "name": "stderr",
     "output_type": "stream",
     "text": [
      "100%|██████████| 203/203 [00:02<00:00, 86.32it/s]"
     ]
    },
    {
     "name": "stdout",
     "output_type": "stream",
     "text": [
      "Accuracy : 0.783\n"
     ]
    },
    {
     "name": "stderr",
     "output_type": "stream",
     "text": [
      "\n"
     ]
    }
   ],
   "source": [
    "# moving testing tensors to the GPU if available\n",
    "test_X.to(device)\n",
    "test_y.to(device)\n",
    "\n",
    "def test(net):\n",
    "    correct = 0 \n",
    "    total = 0\n",
    "    with torch.no_grad():\n",
    "        for i in tqdm(range(len(test_X))) :\n",
    "            real_class = torch.argmax(test_y[i]).to(device)\n",
    "            net_out = net(test_X[i].view(-1,1,120,120).to(device))[0]\n",
    "            predicted_class = torch.argmax(net_out)\n",
    "            if predicted_class == real_class :\n",
    "                correct += 1\n",
    "            total += 1\n",
    "\n",
    "    print(\"Accuracy :\", round(correct/total,3))\n",
    "    \n",
    "test(net)"
   ]
  },
  {
   "cell_type": "markdown",
   "metadata": {},
   "source": [
    "# Model starts training with low loss, accuracy is still low\n",
    "\n",
    "High variance problem ? Model won't generalise due to lack of samples ? \n"
   ]
  },
  {
   "cell_type": "markdown",
   "metadata": {},
   "source": [
    "# Manual Validation\n",
    "\n",
    "Check logic of manual validation function."
   ]
  },
  {
   "cell_type": "code",
   "execution_count": 14,
   "metadata": {},
   "outputs": [
    {
     "name": "stdout",
     "output_type": "stream",
     "text": [
      "52\n"
     ]
    },
    {
     "data": {
      "application/javascript": [
       "/* Put everything inside the global mpl namespace */\n",
       "window.mpl = {};\n",
       "\n",
       "\n",
       "mpl.get_websocket_type = function() {\n",
       "    if (typeof(WebSocket) !== 'undefined') {\n",
       "        return WebSocket;\n",
       "    } else if (typeof(MozWebSocket) !== 'undefined') {\n",
       "        return MozWebSocket;\n",
       "    } else {\n",
       "        alert('Your browser does not have WebSocket support. ' +\n",
       "              'Please try Chrome, Safari or Firefox ≥ 6. ' +\n",
       "              'Firefox 4 and 5 are also supported but you ' +\n",
       "              'have to enable WebSockets in about:config.');\n",
       "    };\n",
       "}\n",
       "\n",
       "mpl.figure = function(figure_id, websocket, ondownload, parent_element) {\n",
       "    this.id = figure_id;\n",
       "\n",
       "    this.ws = websocket;\n",
       "\n",
       "    this.supports_binary = (this.ws.binaryType != undefined);\n",
       "\n",
       "    if (!this.supports_binary) {\n",
       "        var warnings = document.getElementById(\"mpl-warnings\");\n",
       "        if (warnings) {\n",
       "            warnings.style.display = 'block';\n",
       "            warnings.textContent = (\n",
       "                \"This browser does not support binary websocket messages. \" +\n",
       "                    \"Performance may be slow.\");\n",
       "        }\n",
       "    }\n",
       "\n",
       "    this.imageObj = new Image();\n",
       "\n",
       "    this.context = undefined;\n",
       "    this.message = undefined;\n",
       "    this.canvas = undefined;\n",
       "    this.rubberband_canvas = undefined;\n",
       "    this.rubberband_context = undefined;\n",
       "    this.format_dropdown = undefined;\n",
       "\n",
       "    this.image_mode = 'full';\n",
       "\n",
       "    this.root = $('<div/>');\n",
       "    this._root_extra_style(this.root)\n",
       "    this.root.attr('style', 'display: inline-block');\n",
       "\n",
       "    $(parent_element).append(this.root);\n",
       "\n",
       "    this._init_header(this);\n",
       "    this._init_canvas(this);\n",
       "    this._init_toolbar(this);\n",
       "\n",
       "    var fig = this;\n",
       "\n",
       "    this.waiting = false;\n",
       "\n",
       "    this.ws.onopen =  function () {\n",
       "            fig.send_message(\"supports_binary\", {value: fig.supports_binary});\n",
       "            fig.send_message(\"send_image_mode\", {});\n",
       "            if (mpl.ratio != 1) {\n",
       "                fig.send_message(\"set_dpi_ratio\", {'dpi_ratio': mpl.ratio});\n",
       "            }\n",
       "            fig.send_message(\"refresh\", {});\n",
       "        }\n",
       "\n",
       "    this.imageObj.onload = function() {\n",
       "            if (fig.image_mode == 'full') {\n",
       "                // Full images could contain transparency (where diff images\n",
       "                // almost always do), so we need to clear the canvas so that\n",
       "                // there is no ghosting.\n",
       "                fig.context.clearRect(0, 0, fig.canvas.width, fig.canvas.height);\n",
       "            }\n",
       "            fig.context.drawImage(fig.imageObj, 0, 0);\n",
       "        };\n",
       "\n",
       "    this.imageObj.onunload = function() {\n",
       "        fig.ws.close();\n",
       "    }\n",
       "\n",
       "    this.ws.onmessage = this._make_on_message_function(this);\n",
       "\n",
       "    this.ondownload = ondownload;\n",
       "}\n",
       "\n",
       "mpl.figure.prototype._init_header = function() {\n",
       "    var titlebar = $(\n",
       "        '<div class=\"ui-dialog-titlebar ui-widget-header ui-corner-all ' +\n",
       "        'ui-helper-clearfix\"/>');\n",
       "    var titletext = $(\n",
       "        '<div class=\"ui-dialog-title\" style=\"width: 100%; ' +\n",
       "        'text-align: center; padding: 3px;\"/>');\n",
       "    titlebar.append(titletext)\n",
       "    this.root.append(titlebar);\n",
       "    this.header = titletext[0];\n",
       "}\n",
       "\n",
       "\n",
       "\n",
       "mpl.figure.prototype._canvas_extra_style = function(canvas_div) {\n",
       "\n",
       "}\n",
       "\n",
       "\n",
       "mpl.figure.prototype._root_extra_style = function(canvas_div) {\n",
       "\n",
       "}\n",
       "\n",
       "mpl.figure.prototype._init_canvas = function() {\n",
       "    var fig = this;\n",
       "\n",
       "    var canvas_div = $('<div/>');\n",
       "\n",
       "    canvas_div.attr('style', 'position: relative; clear: both; outline: 0');\n",
       "\n",
       "    function canvas_keyboard_event(event) {\n",
       "        return fig.key_event(event, event['data']);\n",
       "    }\n",
       "\n",
       "    canvas_div.keydown('key_press', canvas_keyboard_event);\n",
       "    canvas_div.keyup('key_release', canvas_keyboard_event);\n",
       "    this.canvas_div = canvas_div\n",
       "    this._canvas_extra_style(canvas_div)\n",
       "    this.root.append(canvas_div);\n",
       "\n",
       "    var canvas = $('<canvas/>');\n",
       "    canvas.addClass('mpl-canvas');\n",
       "    canvas.attr('style', \"left: 0; top: 0; z-index: 0; outline: 0\")\n",
       "\n",
       "    this.canvas = canvas[0];\n",
       "    this.context = canvas[0].getContext(\"2d\");\n",
       "\n",
       "    var backingStore = this.context.backingStorePixelRatio ||\n",
       "\tthis.context.webkitBackingStorePixelRatio ||\n",
       "\tthis.context.mozBackingStorePixelRatio ||\n",
       "\tthis.context.msBackingStorePixelRatio ||\n",
       "\tthis.context.oBackingStorePixelRatio ||\n",
       "\tthis.context.backingStorePixelRatio || 1;\n",
       "\n",
       "    mpl.ratio = (window.devicePixelRatio || 1) / backingStore;\n",
       "\n",
       "    var rubberband = $('<canvas/>');\n",
       "    rubberband.attr('style', \"position: absolute; left: 0; top: 0; z-index: 1;\")\n",
       "\n",
       "    var pass_mouse_events = true;\n",
       "\n",
       "    canvas_div.resizable({\n",
       "        start: function(event, ui) {\n",
       "            pass_mouse_events = false;\n",
       "        },\n",
       "        resize: function(event, ui) {\n",
       "            fig.request_resize(ui.size.width, ui.size.height);\n",
       "        },\n",
       "        stop: function(event, ui) {\n",
       "            pass_mouse_events = true;\n",
       "            fig.request_resize(ui.size.width, ui.size.height);\n",
       "        },\n",
       "    });\n",
       "\n",
       "    function mouse_event_fn(event) {\n",
       "        if (pass_mouse_events)\n",
       "            return fig.mouse_event(event, event['data']);\n",
       "    }\n",
       "\n",
       "    rubberband.mousedown('button_press', mouse_event_fn);\n",
       "    rubberband.mouseup('button_release', mouse_event_fn);\n",
       "    // Throttle sequential mouse events to 1 every 20ms.\n",
       "    rubberband.mousemove('motion_notify', mouse_event_fn);\n",
       "\n",
       "    rubberband.mouseenter('figure_enter', mouse_event_fn);\n",
       "    rubberband.mouseleave('figure_leave', mouse_event_fn);\n",
       "\n",
       "    canvas_div.on(\"wheel\", function (event) {\n",
       "        event = event.originalEvent;\n",
       "        event['data'] = 'scroll'\n",
       "        if (event.deltaY < 0) {\n",
       "            event.step = 1;\n",
       "        } else {\n",
       "            event.step = -1;\n",
       "        }\n",
       "        mouse_event_fn(event);\n",
       "    });\n",
       "\n",
       "    canvas_div.append(canvas);\n",
       "    canvas_div.append(rubberband);\n",
       "\n",
       "    this.rubberband = rubberband;\n",
       "    this.rubberband_canvas = rubberband[0];\n",
       "    this.rubberband_context = rubberband[0].getContext(\"2d\");\n",
       "    this.rubberband_context.strokeStyle = \"#000000\";\n",
       "\n",
       "    this._resize_canvas = function(width, height) {\n",
       "        // Keep the size of the canvas, canvas container, and rubber band\n",
       "        // canvas in synch.\n",
       "        canvas_div.css('width', width)\n",
       "        canvas_div.css('height', height)\n",
       "\n",
       "        canvas.attr('width', width * mpl.ratio);\n",
       "        canvas.attr('height', height * mpl.ratio);\n",
       "        canvas.attr('style', 'width: ' + width + 'px; height: ' + height + 'px;');\n",
       "\n",
       "        rubberband.attr('width', width);\n",
       "        rubberband.attr('height', height);\n",
       "    }\n",
       "\n",
       "    // Set the figure to an initial 600x600px, this will subsequently be updated\n",
       "    // upon first draw.\n",
       "    this._resize_canvas(600, 600);\n",
       "\n",
       "    // Disable right mouse context menu.\n",
       "    $(this.rubberband_canvas).bind(\"contextmenu\",function(e){\n",
       "        return false;\n",
       "    });\n",
       "\n",
       "    function set_focus () {\n",
       "        canvas.focus();\n",
       "        canvas_div.focus();\n",
       "    }\n",
       "\n",
       "    window.setTimeout(set_focus, 100);\n",
       "}\n",
       "\n",
       "mpl.figure.prototype._init_toolbar = function() {\n",
       "    var fig = this;\n",
       "\n",
       "    var nav_element = $('<div/>');\n",
       "    nav_element.attr('style', 'width: 100%');\n",
       "    this.root.append(nav_element);\n",
       "\n",
       "    // Define a callback function for later on.\n",
       "    function toolbar_event(event) {\n",
       "        return fig.toolbar_button_onclick(event['data']);\n",
       "    }\n",
       "    function toolbar_mouse_event(event) {\n",
       "        return fig.toolbar_button_onmouseover(event['data']);\n",
       "    }\n",
       "\n",
       "    for(var toolbar_ind in mpl.toolbar_items) {\n",
       "        var name = mpl.toolbar_items[toolbar_ind][0];\n",
       "        var tooltip = mpl.toolbar_items[toolbar_ind][1];\n",
       "        var image = mpl.toolbar_items[toolbar_ind][2];\n",
       "        var method_name = mpl.toolbar_items[toolbar_ind][3];\n",
       "\n",
       "        if (!name) {\n",
       "            // put a spacer in here.\n",
       "            continue;\n",
       "        }\n",
       "        var button = $('<button/>');\n",
       "        button.addClass('ui-button ui-widget ui-state-default ui-corner-all ' +\n",
       "                        'ui-button-icon-only');\n",
       "        button.attr('role', 'button');\n",
       "        button.attr('aria-disabled', 'false');\n",
       "        button.click(method_name, toolbar_event);\n",
       "        button.mouseover(tooltip, toolbar_mouse_event);\n",
       "\n",
       "        var icon_img = $('<span/>');\n",
       "        icon_img.addClass('ui-button-icon-primary ui-icon');\n",
       "        icon_img.addClass(image);\n",
       "        icon_img.addClass('ui-corner-all');\n",
       "\n",
       "        var tooltip_span = $('<span/>');\n",
       "        tooltip_span.addClass('ui-button-text');\n",
       "        tooltip_span.html(tooltip);\n",
       "\n",
       "        button.append(icon_img);\n",
       "        button.append(tooltip_span);\n",
       "\n",
       "        nav_element.append(button);\n",
       "    }\n",
       "\n",
       "    var fmt_picker_span = $('<span/>');\n",
       "\n",
       "    var fmt_picker = $('<select/>');\n",
       "    fmt_picker.addClass('mpl-toolbar-option ui-widget ui-widget-content');\n",
       "    fmt_picker_span.append(fmt_picker);\n",
       "    nav_element.append(fmt_picker_span);\n",
       "    this.format_dropdown = fmt_picker[0];\n",
       "\n",
       "    for (var ind in mpl.extensions) {\n",
       "        var fmt = mpl.extensions[ind];\n",
       "        var option = $(\n",
       "            '<option/>', {selected: fmt === mpl.default_extension}).html(fmt);\n",
       "        fmt_picker.append(option);\n",
       "    }\n",
       "\n",
       "    // Add hover states to the ui-buttons\n",
       "    $( \".ui-button\" ).hover(\n",
       "        function() { $(this).addClass(\"ui-state-hover\");},\n",
       "        function() { $(this).removeClass(\"ui-state-hover\");}\n",
       "    );\n",
       "\n",
       "    var status_bar = $('<span class=\"mpl-message\"/>');\n",
       "    nav_element.append(status_bar);\n",
       "    this.message = status_bar[0];\n",
       "}\n",
       "\n",
       "mpl.figure.prototype.request_resize = function(x_pixels, y_pixels) {\n",
       "    // Request matplotlib to resize the figure. Matplotlib will then trigger a resize in the client,\n",
       "    // which will in turn request a refresh of the image.\n",
       "    this.send_message('resize', {'width': x_pixels, 'height': y_pixels});\n",
       "}\n",
       "\n",
       "mpl.figure.prototype.send_message = function(type, properties) {\n",
       "    properties['type'] = type;\n",
       "    properties['figure_id'] = this.id;\n",
       "    this.ws.send(JSON.stringify(properties));\n",
       "}\n",
       "\n",
       "mpl.figure.prototype.send_draw_message = function() {\n",
       "    if (!this.waiting) {\n",
       "        this.waiting = true;\n",
       "        this.ws.send(JSON.stringify({type: \"draw\", figure_id: this.id}));\n",
       "    }\n",
       "}\n",
       "\n",
       "\n",
       "mpl.figure.prototype.handle_save = function(fig, msg) {\n",
       "    var format_dropdown = fig.format_dropdown;\n",
       "    var format = format_dropdown.options[format_dropdown.selectedIndex].value;\n",
       "    fig.ondownload(fig, format);\n",
       "}\n",
       "\n",
       "\n",
       "mpl.figure.prototype.handle_resize = function(fig, msg) {\n",
       "    var size = msg['size'];\n",
       "    if (size[0] != fig.canvas.width || size[1] != fig.canvas.height) {\n",
       "        fig._resize_canvas(size[0], size[1]);\n",
       "        fig.send_message(\"refresh\", {});\n",
       "    };\n",
       "}\n",
       "\n",
       "mpl.figure.prototype.handle_rubberband = function(fig, msg) {\n",
       "    var x0 = msg['x0'] / mpl.ratio;\n",
       "    var y0 = (fig.canvas.height - msg['y0']) / mpl.ratio;\n",
       "    var x1 = msg['x1'] / mpl.ratio;\n",
       "    var y1 = (fig.canvas.height - msg['y1']) / mpl.ratio;\n",
       "    x0 = Math.floor(x0) + 0.5;\n",
       "    y0 = Math.floor(y0) + 0.5;\n",
       "    x1 = Math.floor(x1) + 0.5;\n",
       "    y1 = Math.floor(y1) + 0.5;\n",
       "    var min_x = Math.min(x0, x1);\n",
       "    var min_y = Math.min(y0, y1);\n",
       "    var width = Math.abs(x1 - x0);\n",
       "    var height = Math.abs(y1 - y0);\n",
       "\n",
       "    fig.rubberband_context.clearRect(\n",
       "        0, 0, fig.canvas.width / mpl.ratio, fig.canvas.height / mpl.ratio);\n",
       "\n",
       "    fig.rubberband_context.strokeRect(min_x, min_y, width, height);\n",
       "}\n",
       "\n",
       "mpl.figure.prototype.handle_figure_label = function(fig, msg) {\n",
       "    // Updates the figure title.\n",
       "    fig.header.textContent = msg['label'];\n",
       "}\n",
       "\n",
       "mpl.figure.prototype.handle_cursor = function(fig, msg) {\n",
       "    var cursor = msg['cursor'];\n",
       "    switch(cursor)\n",
       "    {\n",
       "    case 0:\n",
       "        cursor = 'pointer';\n",
       "        break;\n",
       "    case 1:\n",
       "        cursor = 'default';\n",
       "        break;\n",
       "    case 2:\n",
       "        cursor = 'crosshair';\n",
       "        break;\n",
       "    case 3:\n",
       "        cursor = 'move';\n",
       "        break;\n",
       "    }\n",
       "    fig.rubberband_canvas.style.cursor = cursor;\n",
       "}\n",
       "\n",
       "mpl.figure.prototype.handle_message = function(fig, msg) {\n",
       "    fig.message.textContent = msg['message'];\n",
       "}\n",
       "\n",
       "mpl.figure.prototype.handle_draw = function(fig, msg) {\n",
       "    // Request the server to send over a new figure.\n",
       "    fig.send_draw_message();\n",
       "}\n",
       "\n",
       "mpl.figure.prototype.handle_image_mode = function(fig, msg) {\n",
       "    fig.image_mode = msg['mode'];\n",
       "}\n",
       "\n",
       "mpl.figure.prototype.updated_canvas_event = function() {\n",
       "    // Called whenever the canvas gets updated.\n",
       "    this.send_message(\"ack\", {});\n",
       "}\n",
       "\n",
       "// A function to construct a web socket function for onmessage handling.\n",
       "// Called in the figure constructor.\n",
       "mpl.figure.prototype._make_on_message_function = function(fig) {\n",
       "    return function socket_on_message(evt) {\n",
       "        if (evt.data instanceof Blob) {\n",
       "            /* FIXME: We get \"Resource interpreted as Image but\n",
       "             * transferred with MIME type text/plain:\" errors on\n",
       "             * Chrome.  But how to set the MIME type?  It doesn't seem\n",
       "             * to be part of the websocket stream */\n",
       "            evt.data.type = \"image/png\";\n",
       "\n",
       "            /* Free the memory for the previous frames */\n",
       "            if (fig.imageObj.src) {\n",
       "                (window.URL || window.webkitURL).revokeObjectURL(\n",
       "                    fig.imageObj.src);\n",
       "            }\n",
       "\n",
       "            fig.imageObj.src = (window.URL || window.webkitURL).createObjectURL(\n",
       "                evt.data);\n",
       "            fig.updated_canvas_event();\n",
       "            fig.waiting = false;\n",
       "            return;\n",
       "        }\n",
       "        else if (typeof evt.data === 'string' && evt.data.slice(0, 21) == \"data:image/png;base64\") {\n",
       "            fig.imageObj.src = evt.data;\n",
       "            fig.updated_canvas_event();\n",
       "            fig.waiting = false;\n",
       "            return;\n",
       "        }\n",
       "\n",
       "        var msg = JSON.parse(evt.data);\n",
       "        var msg_type = msg['type'];\n",
       "\n",
       "        // Call the  \"handle_{type}\" callback, which takes\n",
       "        // the figure and JSON message as its only arguments.\n",
       "        try {\n",
       "            var callback = fig[\"handle_\" + msg_type];\n",
       "        } catch (e) {\n",
       "            console.log(\"No handler for the '\" + msg_type + \"' message type: \", msg);\n",
       "            return;\n",
       "        }\n",
       "\n",
       "        if (callback) {\n",
       "            try {\n",
       "                // console.log(\"Handling '\" + msg_type + \"' message: \", msg);\n",
       "                callback(fig, msg);\n",
       "            } catch (e) {\n",
       "                console.log(\"Exception inside the 'handler_\" + msg_type + \"' callback:\", e, e.stack, msg);\n",
       "            }\n",
       "        }\n",
       "    };\n",
       "}\n",
       "\n",
       "// from http://stackoverflow.com/questions/1114465/getting-mouse-location-in-canvas\n",
       "mpl.findpos = function(e) {\n",
       "    //this section is from http://www.quirksmode.org/js/events_properties.html\n",
       "    var targ;\n",
       "    if (!e)\n",
       "        e = window.event;\n",
       "    if (e.target)\n",
       "        targ = e.target;\n",
       "    else if (e.srcElement)\n",
       "        targ = e.srcElement;\n",
       "    if (targ.nodeType == 3) // defeat Safari bug\n",
       "        targ = targ.parentNode;\n",
       "\n",
       "    // jQuery normalizes the pageX and pageY\n",
       "    // pageX,Y are the mouse positions relative to the document\n",
       "    // offset() returns the position of the element relative to the document\n",
       "    var x = e.pageX - $(targ).offset().left;\n",
       "    var y = e.pageY - $(targ).offset().top;\n",
       "\n",
       "    return {\"x\": x, \"y\": y};\n",
       "};\n",
       "\n",
       "/*\n",
       " * return a copy of an object with only non-object keys\n",
       " * we need this to avoid circular references\n",
       " * http://stackoverflow.com/a/24161582/3208463\n",
       " */\n",
       "function simpleKeys (original) {\n",
       "  return Object.keys(original).reduce(function (obj, key) {\n",
       "    if (typeof original[key] !== 'object')\n",
       "        obj[key] = original[key]\n",
       "    return obj;\n",
       "  }, {});\n",
       "}\n",
       "\n",
       "mpl.figure.prototype.mouse_event = function(event, name) {\n",
       "    var canvas_pos = mpl.findpos(event)\n",
       "\n",
       "    if (name === 'button_press')\n",
       "    {\n",
       "        this.canvas.focus();\n",
       "        this.canvas_div.focus();\n",
       "    }\n",
       "\n",
       "    var x = canvas_pos.x * mpl.ratio;\n",
       "    var y = canvas_pos.y * mpl.ratio;\n",
       "\n",
       "    this.send_message(name, {x: x, y: y, button: event.button,\n",
       "                             step: event.step,\n",
       "                             guiEvent: simpleKeys(event)});\n",
       "\n",
       "    /* This prevents the web browser from automatically changing to\n",
       "     * the text insertion cursor when the button is pressed.  We want\n",
       "     * to control all of the cursor setting manually through the\n",
       "     * 'cursor' event from matplotlib */\n",
       "    event.preventDefault();\n",
       "    return false;\n",
       "}\n",
       "\n",
       "mpl.figure.prototype._key_event_extra = function(event, name) {\n",
       "    // Handle any extra behaviour associated with a key event\n",
       "}\n",
       "\n",
       "mpl.figure.prototype.key_event = function(event, name) {\n",
       "\n",
       "    // Prevent repeat events\n",
       "    if (name == 'key_press')\n",
       "    {\n",
       "        if (event.which === this._key)\n",
       "            return;\n",
       "        else\n",
       "            this._key = event.which;\n",
       "    }\n",
       "    if (name == 'key_release')\n",
       "        this._key = null;\n",
       "\n",
       "    var value = '';\n",
       "    if (event.ctrlKey && event.which != 17)\n",
       "        value += \"ctrl+\";\n",
       "    if (event.altKey && event.which != 18)\n",
       "        value += \"alt+\";\n",
       "    if (event.shiftKey && event.which != 16)\n",
       "        value += \"shift+\";\n",
       "\n",
       "    value += 'k';\n",
       "    value += event.which.toString();\n",
       "\n",
       "    this._key_event_extra(event, name);\n",
       "\n",
       "    this.send_message(name, {key: value,\n",
       "                             guiEvent: simpleKeys(event)});\n",
       "    return false;\n",
       "}\n",
       "\n",
       "mpl.figure.prototype.toolbar_button_onclick = function(name) {\n",
       "    if (name == 'download') {\n",
       "        this.handle_save(this, null);\n",
       "    } else {\n",
       "        this.send_message(\"toolbar_button\", {name: name});\n",
       "    }\n",
       "};\n",
       "\n",
       "mpl.figure.prototype.toolbar_button_onmouseover = function(tooltip) {\n",
       "    this.message.textContent = tooltip;\n",
       "};\n",
       "mpl.toolbar_items = [[\"Home\", \"Reset original view\", \"fa fa-home icon-home\", \"home\"], [\"Back\", \"Back to previous view\", \"fa fa-arrow-left icon-arrow-left\", \"back\"], [\"Forward\", \"Forward to next view\", \"fa fa-arrow-right icon-arrow-right\", \"forward\"], [\"\", \"\", \"\", \"\"], [\"Pan\", \"Pan axes with left mouse, zoom with right\", \"fa fa-arrows icon-move\", \"pan\"], [\"Zoom\", \"Zoom to rectangle\", \"fa fa-square-o icon-check-empty\", \"zoom\"], [\"\", \"\", \"\", \"\"], [\"Download\", \"Download plot\", \"fa fa-floppy-o icon-save\", \"download\"]];\n",
       "\n",
       "mpl.extensions = [\"eps\", \"jpeg\", \"pdf\", \"png\", \"ps\", \"raw\", \"svg\", \"tif\"];\n",
       "\n",
       "mpl.default_extension = \"png\";var comm_websocket_adapter = function(comm) {\n",
       "    // Create a \"websocket\"-like object which calls the given IPython comm\n",
       "    // object with the appropriate methods. Currently this is a non binary\n",
       "    // socket, so there is still some room for performance tuning.\n",
       "    var ws = {};\n",
       "\n",
       "    ws.close = function() {\n",
       "        comm.close()\n",
       "    };\n",
       "    ws.send = function(m) {\n",
       "        //console.log('sending', m);\n",
       "        comm.send(m);\n",
       "    };\n",
       "    // Register the callback with on_msg.\n",
       "    comm.on_msg(function(msg) {\n",
       "        //console.log('receiving', msg['content']['data'], msg);\n",
       "        // Pass the mpl event to the overridden (by mpl) onmessage function.\n",
       "        ws.onmessage(msg['content']['data'])\n",
       "    });\n",
       "    return ws;\n",
       "}\n",
       "\n",
       "mpl.mpl_figure_comm = function(comm, msg) {\n",
       "    // This is the function which gets called when the mpl process\n",
       "    // starts-up an IPython Comm through the \"matplotlib\" channel.\n",
       "\n",
       "    var id = msg.content.data.id;\n",
       "    // Get hold of the div created by the display call when the Comm\n",
       "    // socket was opened in Python.\n",
       "    var element = $(\"#\" + id);\n",
       "    var ws_proxy = comm_websocket_adapter(comm)\n",
       "\n",
       "    function ondownload(figure, format) {\n",
       "        window.open(figure.imageObj.src);\n",
       "    }\n",
       "\n",
       "    var fig = new mpl.figure(id, ws_proxy,\n",
       "                           ondownload,\n",
       "                           element.get(0));\n",
       "\n",
       "    // Call onopen now - mpl needs it, as it is assuming we've passed it a real\n",
       "    // web socket which is closed, not our websocket->open comm proxy.\n",
       "    ws_proxy.onopen();\n",
       "\n",
       "    fig.parent_element = element.get(0);\n",
       "    fig.cell_info = mpl.find_output_cell(\"<div id='\" + id + \"'></div>\");\n",
       "    if (!fig.cell_info) {\n",
       "        console.error(\"Failed to find cell for figure\", id, fig);\n",
       "        return;\n",
       "    }\n",
       "\n",
       "    var output_index = fig.cell_info[2]\n",
       "    var cell = fig.cell_info[0];\n",
       "\n",
       "};\n",
       "\n",
       "mpl.figure.prototype.handle_close = function(fig, msg) {\n",
       "    var width = fig.canvas.width/mpl.ratio\n",
       "    fig.root.unbind('remove')\n",
       "\n",
       "    // Update the output cell to use the data from the current canvas.\n",
       "    fig.push_to_output();\n",
       "    var dataURL = fig.canvas.toDataURL();\n",
       "    // Re-enable the keyboard manager in IPython - without this line, in FF,\n",
       "    // the notebook keyboard shortcuts fail.\n",
       "    IPython.keyboard_manager.enable()\n",
       "    $(fig.parent_element).html('<img src=\"' + dataURL + '\" width=\"' + width + '\">');\n",
       "    fig.close_ws(fig, msg);\n",
       "}\n",
       "\n",
       "mpl.figure.prototype.close_ws = function(fig, msg){\n",
       "    fig.send_message('closing', msg);\n",
       "    // fig.ws.close()\n",
       "}\n",
       "\n",
       "mpl.figure.prototype.push_to_output = function(remove_interactive) {\n",
       "    // Turn the data on the canvas into data in the output cell.\n",
       "    var width = this.canvas.width/mpl.ratio\n",
       "    var dataURL = this.canvas.toDataURL();\n",
       "    this.cell_info[1]['text/html'] = '<img src=\"' + dataURL + '\" width=\"' + width + '\">';\n",
       "}\n",
       "\n",
       "mpl.figure.prototype.updated_canvas_event = function() {\n",
       "    // Tell IPython that the notebook contents must change.\n",
       "    IPython.notebook.set_dirty(true);\n",
       "    this.send_message(\"ack\", {});\n",
       "    var fig = this;\n",
       "    // Wait a second, then push the new image to the DOM so\n",
       "    // that it is saved nicely (might be nice to debounce this).\n",
       "    setTimeout(function () { fig.push_to_output() }, 1000);\n",
       "}\n",
       "\n",
       "mpl.figure.prototype._init_toolbar = function() {\n",
       "    var fig = this;\n",
       "\n",
       "    var nav_element = $('<div/>');\n",
       "    nav_element.attr('style', 'width: 100%');\n",
       "    this.root.append(nav_element);\n",
       "\n",
       "    // Define a callback function for later on.\n",
       "    function toolbar_event(event) {\n",
       "        return fig.toolbar_button_onclick(event['data']);\n",
       "    }\n",
       "    function toolbar_mouse_event(event) {\n",
       "        return fig.toolbar_button_onmouseover(event['data']);\n",
       "    }\n",
       "\n",
       "    for(var toolbar_ind in mpl.toolbar_items){\n",
       "        var name = mpl.toolbar_items[toolbar_ind][0];\n",
       "        var tooltip = mpl.toolbar_items[toolbar_ind][1];\n",
       "        var image = mpl.toolbar_items[toolbar_ind][2];\n",
       "        var method_name = mpl.toolbar_items[toolbar_ind][3];\n",
       "\n",
       "        if (!name) { continue; };\n",
       "\n",
       "        var button = $('<button class=\"btn btn-default\" href=\"#\" title=\"' + name + '\"><i class=\"fa ' + image + ' fa-lg\"></i></button>');\n",
       "        button.click(method_name, toolbar_event);\n",
       "        button.mouseover(tooltip, toolbar_mouse_event);\n",
       "        nav_element.append(button);\n",
       "    }\n",
       "\n",
       "    // Add the status bar.\n",
       "    var status_bar = $('<span class=\"mpl-message\" style=\"text-align:right; float: right;\"/>');\n",
       "    nav_element.append(status_bar);\n",
       "    this.message = status_bar[0];\n",
       "\n",
       "    // Add the close button to the window.\n",
       "    var buttongrp = $('<div class=\"btn-group inline pull-right\"></div>');\n",
       "    var button = $('<button class=\"btn btn-mini btn-primary\" href=\"#\" title=\"Stop Interaction\"><i class=\"fa fa-power-off icon-remove icon-large\"></i></button>');\n",
       "    button.click(function (evt) { fig.handle_close(fig, {}); } );\n",
       "    button.mouseover('Stop Interaction', toolbar_mouse_event);\n",
       "    buttongrp.append(button);\n",
       "    var titlebar = this.root.find($('.ui-dialog-titlebar'));\n",
       "    titlebar.prepend(buttongrp);\n",
       "}\n",
       "\n",
       "mpl.figure.prototype._root_extra_style = function(el){\n",
       "    var fig = this\n",
       "    el.on(\"remove\", function(){\n",
       "\tfig.close_ws(fig, {});\n",
       "    });\n",
       "}\n",
       "\n",
       "mpl.figure.prototype._canvas_extra_style = function(el){\n",
       "    // this is important to make the div 'focusable\n",
       "    el.attr('tabindex', 0)\n",
       "    // reach out to IPython and tell the keyboard manager to turn it's self\n",
       "    // off when our div gets focus\n",
       "\n",
       "    // location in version 3\n",
       "    if (IPython.notebook.keyboard_manager) {\n",
       "        IPython.notebook.keyboard_manager.register_events(el);\n",
       "    }\n",
       "    else {\n",
       "        // location in version 2\n",
       "        IPython.keyboard_manager.register_events(el);\n",
       "    }\n",
       "\n",
       "}\n",
       "\n",
       "mpl.figure.prototype._key_event_extra = function(event, name) {\n",
       "    var manager = IPython.notebook.keyboard_manager;\n",
       "    if (!manager)\n",
       "        manager = IPython.keyboard_manager;\n",
       "\n",
       "    // Check for shift+enter\n",
       "    if (event.shiftKey && event.which == 13) {\n",
       "        this.canvas_div.blur();\n",
       "        // select the cell after this one\n",
       "        var index = IPython.notebook.find_cell_index(this.cell_info[0]);\n",
       "        IPython.notebook.select(index + 1);\n",
       "    }\n",
       "}\n",
       "\n",
       "mpl.figure.prototype.handle_save = function(fig, msg) {\n",
       "    fig.ondownload(fig, null);\n",
       "}\n",
       "\n",
       "\n",
       "mpl.find_output_cell = function(html_output) {\n",
       "    // Return the cell and output element which can be found *uniquely* in the notebook.\n",
       "    // Note - this is a bit hacky, but it is done because the \"notebook_saving.Notebook\"\n",
       "    // IPython event is triggered only after the cells have been serialised, which for\n",
       "    // our purposes (turning an active figure into a static one), is too late.\n",
       "    var cells = IPython.notebook.get_cells();\n",
       "    var ncells = cells.length;\n",
       "    for (var i=0; i<ncells; i++) {\n",
       "        var cell = cells[i];\n",
       "        if (cell.cell_type === 'code'){\n",
       "            for (var j=0; j<cell.output_area.outputs.length; j++) {\n",
       "                var data = cell.output_area.outputs[j];\n",
       "                if (data.data) {\n",
       "                    // IPython >= 3 moved mimebundle to data attribute of output\n",
       "                    data = data.data;\n",
       "                }\n",
       "                if (data['text/html'] == html_output) {\n",
       "                    return [cell, data, j];\n",
       "                }\n",
       "            }\n",
       "        }\n",
       "    }\n",
       "}\n",
       "\n",
       "// Register the function which deals with the matplotlib target/channel.\n",
       "// The kernel may be null if the page has been refreshed.\n",
       "if (IPython.notebook.kernel != null) {\n",
       "    IPython.notebook.kernel.comm_manager.register_target('matplotlib', mpl.mpl_figure_comm);\n",
       "}\n"
      ],
      "text/plain": [
       "<IPython.core.display.Javascript object>"
      ]
     },
     "metadata": {},
     "output_type": "display_data"
    },
    {
     "data": {
      "text/html": [
       "<img src=\"data:image/png;base64,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\" width=\"640\">"
      ],
      "text/plain": [
       "<IPython.core.display.HTML object>"
      ]
     },
     "metadata": {},
     "output_type": "display_data"
    },
    {
     "name": "stdout",
     "output_type": "stream",
     "text": [
      "tensor(0, device='cuda:0')\n"
     ]
    }
   ],
   "source": [
    "%matplotlib notebook\n",
    "\n",
    "## import matplotlib.pyplot as plt\n",
    "#plt.imshow(X[2].view(50,50))\n",
    "\n",
    "num = np.random.randint(203)\n",
    "print(num)\n",
    "plt.imshow(test_X[num].view(120,120), cmap = \"gray\")\n",
    "plt.show()\n",
    "net_out = net(test_X[num].view(-1,1,120,120).to(device))[0]\n",
    "print(torch.argmax(net_out))"
   ]
  },
  {
   "cell_type": "code",
   "execution_count": 15,
   "metadata": {},
   "outputs": [
    {
     "name": "stdout",
     "output_type": "stream",
     "text": [
      "Model's state_dict:\n",
      "conv1.weight \t torch.Size([32, 1, 5, 5])\n",
      "conv1.bias \t torch.Size([32])\n",
      "conv2.weight \t torch.Size([64, 32, 5, 5])\n",
      "conv2.bias \t torch.Size([64])\n",
      "conv3.weight \t torch.Size([128, 64, 5, 5])\n",
      "conv3.bias \t torch.Size([128])\n",
      "fc1.weight \t torch.Size([512, 15488])\n",
      "fc1.bias \t torch.Size([512])\n",
      "fc2.weight \t torch.Size([2, 512])\n",
      "fc2.bias \t torch.Size([2])\n",
      "\n",
      "\n",
      "\n",
      "Optimizer's state_dict:\n",
      "state \t {139943011403888: {'step': 740, 'exp_avg': tensor([[[[-7.5106e-05, -6.3434e-05, -7.8959e-05, -8.8536e-05, -9.1839e-05],\n",
      "          [-1.6158e-04, -1.6271e-04, -1.7299e-04, -1.9732e-04, -1.8529e-04],\n",
      "          [-1.7341e-04, -1.6486e-04, -1.6519e-04, -1.6145e-04, -1.4833e-04],\n",
      "          [-1.2762e-04, -1.1443e-04, -1.1531e-04, -1.1244e-04, -1.0461e-04],\n",
      "          [-6.9903e-05, -4.9262e-05, -4.5129e-05, -5.5856e-05, -5.9850e-05]]],\n",
      "\n",
      "\n",
      "        [[[ 1.0411e-05,  2.2529e-05,  2.2867e-05,  4.3546e-06,  3.9334e-06],\n",
      "          [ 1.0245e-05,  3.6712e-05,  1.8992e-05,  1.8796e-05,  2.0633e-05],\n",
      "          [ 2.0686e-05,  2.4897e-05,  1.2273e-05,  1.3340e-05,  1.8474e-05],\n",
      "          [ 8.8832e-06,  2.9341e-05,  2.7954e-05,  2.0442e-05,  1.7385e-05],\n",
      "          [ 2.0972e-05,  2.1139e-05,  1.5471e-05,  6.7353e-06,  1.9960e-05]]],\n",
      "\n",
      "\n",
      "        [[[-1.3944e-05, -1.6227e-05, -1.6137e-05, -1.9929e-05, -1.7720e-05],\n",
      "          [-1.6471e-06, -7.5783e-06, -7.2949e-07, -3.7883e-06, -2.5297e-06],\n",
      "          [-8.5223e-06, -1.0721e-05, -6.2689e-06, -4.4805e-06, -2.5745e-06],\n",
      "          [-1.0607e-05, -1.2018e-05, -7.8221e-06, -1.0161e-05, -1.4050e-05],\n",
      "          [-1.7435e-05, -1.2115e-05, -1.2879e-05, -1.3668e-05, -1.8652e-05]]],\n",
      "\n",
      "\n",
      "        [[[-4.2763e-04, -4.6920e-04, -4.6183e-04, -4.8089e-04, -4.5498e-04],\n",
      "          [-2.6370e-04, -2.3877e-04, -2.3631e-04, -2.1825e-04, -1.9913e-04],\n",
      "          [-2.2335e-04, -2.3695e-04, -2.6046e-04, -2.1533e-04, -2.3211e-04],\n",
      "          [-3.3738e-04, -3.6056e-04, -4.1554e-04, -3.9821e-04, -4.4808e-04],\n",
      "          [-4.8121e-04, -5.1018e-04, -5.6234e-04, -5.3461e-04, -5.3881e-04]]],\n",
      "\n",
      "\n",
      "        [[[-4.2648e-04, -4.3622e-04, -4.1454e-04, -4.2494e-04, -4.2122e-04],\n",
      "          [-4.9511e-04, -4.9238e-04, -4.8478e-04, -4.8651e-04, -4.6504e-04],\n",
      "          [-2.6930e-04, -2.3582e-04, -2.2498e-04, -2.3010e-04, -2.3578e-04],\n",
      "          [-1.9641e-04, -1.5323e-04, -1.5734e-04, -1.4108e-04, -1.4605e-04],\n",
      "          [-1.3626e-04, -1.1236e-04, -1.1757e-04, -1.1898e-04, -1.2051e-04]]],\n",
      "\n",
      "\n",
      "        [[[-1.2356e-04, -1.3687e-04, -1.4714e-04, -1.5072e-04, -1.4295e-04],\n",
      "          [-1.2293e-04, -1.1626e-04, -1.2265e-04, -1.0297e-04, -9.3314e-05],\n",
      "          [-6.7198e-05, -5.5755e-05, -6.5506e-05, -6.8409e-05, -7.3674e-05],\n",
      "          [-4.9780e-05, -5.0819e-05, -6.2099e-05, -6.6662e-05, -7.9581e-05],\n",
      "          [-6.3790e-05, -7.2861e-05, -8.1956e-05, -7.8391e-05, -1.0419e-04]]],\n",
      "\n",
      "\n",
      "        [[[ 3.3018e-05,  3.5685e-05,  2.3261e-05,  2.9680e-05,  1.5822e-05],\n",
      "          [ 7.5845e-06,  2.1888e-05,  1.9301e-05,  2.6712e-05,  7.4658e-06],\n",
      "          [-7.7641e-05, -7.7961e-05, -8.1411e-05, -7.2433e-05, -5.1027e-05],\n",
      "          [-3.1210e-05, -4.1446e-05, -3.5748e-05, -2.1667e-05, -1.9591e-05],\n",
      "          [ 2.8162e-05,  2.2866e-05,  2.3887e-05,  3.6509e-05,  2.4458e-05]]],\n",
      "\n",
      "\n",
      "        [[[-7.2947e-05, -8.0267e-05, -7.9877e-05, -8.8522e-05, -7.7349e-05],\n",
      "          [-4.4618e-05, -4.4083e-05, -4.2821e-05, -4.1015e-05, -4.1699e-05],\n",
      "          [-3.9409e-05, -4.2669e-05, -3.9897e-05, -3.4716e-05, -2.8294e-05],\n",
      "          [-5.0873e-05, -5.5960e-05, -4.9880e-05, -4.6240e-05, -4.6780e-05],\n",
      "          [-5.4088e-05, -4.6623e-05, -4.1004e-05, -4.1615e-05, -5.8382e-05]]],\n",
      "\n",
      "\n",
      "        [[[ 1.3836e-04,  1.3383e-04,  1.1956e-04,  1.4238e-04,  1.2977e-04],\n",
      "          [ 1.3849e-04,  1.1986e-04,  9.8139e-05,  1.6381e-04,  1.9038e-04],\n",
      "          [ 1.7781e-04,  1.6420e-04,  1.4795e-04,  1.6989e-04,  1.5680e-04],\n",
      "          [ 1.2589e-04,  1.1953e-04,  1.2214e-04,  1.2545e-04,  1.0550e-04],\n",
      "          [ 1.4428e-04,  1.4293e-04,  1.3385e-04,  1.0755e-04,  8.4482e-05]]],\n",
      "\n",
      "\n",
      "        [[[ 1.1311e-04,  1.0390e-04,  7.3420e-05,  8.1094e-05,  1.1741e-04],\n",
      "          [ 1.1693e-04,  1.1633e-04,  1.1865e-04,  1.5050e-04,  1.1790e-04],\n",
      "          [ 1.6412e-04,  1.5371e-04,  1.9276e-04,  2.3592e-04,  2.1903e-04],\n",
      "          [ 2.0508e-04,  1.9400e-04,  2.0301e-04,  2.1519e-04,  2.0739e-04],\n",
      "          [ 2.4103e-04,  2.1674e-04,  2.0030e-04,  2.0548e-04,  1.9725e-04]]],\n",
      "\n",
      "\n",
      "        [[[ 5.0513e-05,  3.9251e-05,  2.6405e-05,  1.1614e-05,  3.1986e-05],\n",
      "          [ 3.8088e-05,  2.2826e-05,  1.5012e-05,  1.5741e-05,  2.5877e-05],\n",
      "          [ 3.1443e-05,  1.2306e-05,  1.5858e-05,  2.4850e-05,  3.4392e-05],\n",
      "          [ 2.0256e-06,  3.9047e-06, -3.3101e-06,  1.6173e-05,  1.4574e-05],\n",
      "          [ 1.0948e-05,  1.2519e-05, -2.2225e-06,  1.3401e-05,  3.2705e-06]]],\n",
      "\n",
      "\n",
      "        [[[ 8.5007e-05,  8.5574e-05,  7.3576e-05,  6.1281e-05,  6.8685e-05],\n",
      "          [ 6.7977e-05,  7.4901e-05,  6.4489e-05,  5.4221e-05,  6.3805e-05],\n",
      "          [ 6.9759e-05,  6.0617e-05,  4.5898e-05,  4.7281e-05,  5.2944e-05],\n",
      "          [ 8.7718e-05,  8.3077e-05,  6.8425e-05,  7.1168e-05,  7.0535e-05],\n",
      "          [ 5.7178e-05,  5.0973e-05,  4.5289e-05,  4.7601e-05,  4.0605e-05]]],\n",
      "\n",
      "\n",
      "        [[[ 1.3672e-04,  1.3434e-04,  1.2202e-04,  1.2310e-04,  1.2345e-04],\n",
      "          [ 1.1910e-04,  1.1331e-04,  1.0711e-04,  1.1599e-04,  1.1502e-04],\n",
      "          [ 1.1236e-04,  1.1325e-04,  1.1136e-04,  1.1107e-04,  1.1578e-04],\n",
      "          [ 9.5444e-05,  8.7028e-05,  8.3569e-05,  7.5324e-05,  8.9791e-05],\n",
      "          [ 9.4688e-05,  9.3997e-05,  8.1318e-05,  7.9009e-05,  7.4016e-05]]],\n",
      "\n",
      "\n",
      "        [[[ 7.7391e-06,  8.4909e-06,  6.2534e-06,  8.9797e-06,  2.8668e-05],\n",
      "          [ 1.5458e-05,  2.4532e-05,  2.2626e-05,  2.6788e-05,  3.6724e-05],\n",
      "          [ 1.8098e-05,  1.9359e-05,  1.6069e-05,  1.8671e-05,  3.6643e-05],\n",
      "          [ 4.5044e-05,  4.5879e-05,  3.6168e-05,  4.8847e-05,  4.7219e-05],\n",
      "          [ 3.7167e-05,  4.1986e-05,  3.7292e-05,  4.8902e-05,  4.6219e-05]]],\n",
      "\n",
      "\n",
      "        [[[-6.5234e-04, -6.3670e-04, -6.4387e-04, -5.6457e-04, -5.5898e-04],\n",
      "          [-5.6840e-04, -6.2893e-04, -6.9976e-04, -6.8654e-04, -6.5996e-04],\n",
      "          [-3.1217e-04, -3.3981e-04, -3.5099e-04, -2.9480e-04, -3.0964e-04],\n",
      "          [-2.5403e-04, -2.4164e-04, -2.5064e-04, -2.2379e-04, -2.3754e-04],\n",
      "          [-2.4553e-04, -2.8756e-04, -3.1616e-04, -3.0073e-04, -3.4338e-04]]],\n",
      "\n",
      "\n",
      "        [[[-1.3433e-04, -1.4060e-04, -1.3314e-04, -1.2053e-04, -1.3655e-04],\n",
      "          [-9.8312e-05, -1.0008e-04, -1.0437e-04, -9.4351e-05, -1.1279e-04],\n",
      "          [-1.0025e-04, -1.1416e-04, -1.0315e-04, -9.5339e-05, -1.0439e-04],\n",
      "          [-1.3414e-04, -1.3033e-04, -1.3006e-04, -1.1206e-04, -1.1367e-04],\n",
      "          [-1.2329e-04, -1.2961e-04, -1.1467e-04, -1.1213e-04, -1.0891e-04]]],\n",
      "\n",
      "\n",
      "        [[[-1.7383e-04, -1.9215e-04, -1.9079e-04, -1.5487e-04, -1.6401e-04],\n",
      "          [-8.3102e-05, -9.6500e-05, -9.2451e-05, -8.6946e-05, -1.0424e-04],\n",
      "          [-7.6050e-05, -8.8634e-05, -8.5956e-05, -7.9798e-05, -8.9863e-05],\n",
      "          [-6.7398e-05, -7.6250e-05, -6.6434e-05, -6.5996e-05, -7.6989e-05],\n",
      "          [-6.1465e-05, -6.3806e-05, -6.1818e-05, -5.5304e-05, -6.5521e-05]]],\n",
      "\n",
      "\n",
      "        [[[ 2.0032e-05,  2.4721e-05,  1.6945e-05,  1.8654e-05,  1.3471e-05],\n",
      "          [ 3.5628e-05,  3.8693e-05,  1.3183e-05,  1.0128e-05,  7.1641e-06],\n",
      "          [ 5.1873e-05,  5.1915e-05,  2.0356e-05,  2.0100e-05,  1.4939e-05],\n",
      "          [ 8.8752e-05,  8.1498e-05,  4.5954e-05,  3.9760e-05,  3.0885e-05],\n",
      "          [ 5.8548e-05,  6.2065e-05,  3.3282e-05,  4.2681e-05,  4.6110e-05]]],\n",
      "\n",
      "\n",
      "        [[[-2.8198e-04, -2.8529e-04, -2.8242e-04, -2.6911e-04, -2.3776e-04],\n",
      "          [-1.7455e-04, -1.6333e-04, -1.5149e-04, -1.4648e-04, -1.4122e-04],\n",
      "          [-1.2500e-04, -1.1340e-04, -1.0831e-04, -1.0137e-04, -1.0960e-04],\n",
      "          [-2.0300e-04, -1.9381e-04, -1.9127e-04, -1.9543e-04, -2.1066e-04],\n",
      "          [-2.5947e-04, -2.6012e-04, -2.3915e-04, -2.2507e-04, -2.3533e-04]]],\n",
      "\n",
      "\n",
      "        [[[-4.5192e-05, -5.9257e-05, -5.7527e-05, -5.6961e-05, -5.5898e-05],\n",
      "          [-4.9885e-05, -5.5738e-05, -4.2607e-05, -4.1802e-05, -4.2797e-05],\n",
      "          [-2.0653e-05, -2.7948e-05, -2.4109e-05, -2.5026e-05, -3.1389e-05],\n",
      "          [-1.3052e-05, -2.3981e-05, -2.3503e-05, -2.5528e-05, -2.6633e-05],\n",
      "          [-2.0432e-05, -3.2720e-05, -3.2858e-05, -2.9025e-05, -2.6521e-05]]],\n",
      "\n",
      "\n",
      "        [[[-3.1884e-05, -3.5606e-05, -2.5518e-05, -2.3642e-05, -2.1832e-05],\n",
      "          [-2.6929e-05, -2.2884e-05, -2.1015e-05, -1.5670e-05, -1.6528e-05],\n",
      "          [-1.9459e-05, -1.9121e-05, -1.7842e-05, -2.0799e-05, -2.3682e-05],\n",
      "          [-1.8551e-05, -1.6948e-05, -2.3652e-05, -1.9502e-05, -2.5384e-05],\n",
      "          [-3.1082e-05, -3.8101e-05, -4.1792e-05, -3.3838e-05, -4.0284e-05]]],\n",
      "\n",
      "\n",
      "        [[[-8.7729e-05, -8.7812e-05, -8.9162e-05, -8.2577e-05, -8.2923e-05],\n",
      "          [-1.0520e-04, -1.0377e-04, -1.0329e-04, -9.5421e-05, -9.1462e-05],\n",
      "          [-7.6195e-05, -7.3529e-05, -7.2379e-05, -6.8275e-05, -6.9729e-05],\n",
      "          [-1.9369e-05, -1.2850e-05, -1.9940e-05, -1.8618e-05, -2.8692e-05],\n",
      "          [-2.4940e-05, -1.6502e-05, -2.4438e-05, -2.2188e-05, -2.4939e-05]]],\n",
      "\n",
      "\n",
      "        [[[ 1.6092e-04,  1.4836e-04,  1.5747e-04,  1.7325e-04,  1.6916e-04],\n",
      "          [ 1.6563e-04,  1.4008e-04,  1.4467e-04,  1.6227e-04,  1.6502e-04],\n",
      "          [ 1.9745e-04,  1.8016e-04,  1.8478e-04,  1.7319e-04,  1.7362e-04],\n",
      "          [ 1.6952e-04,  1.8320e-04,  1.8136e-04,  1.7094e-04,  1.7620e-04],\n",
      "          [ 1.6124e-04,  1.7378e-04,  1.6928e-04,  1.6648e-04,  1.8611e-04]]],\n",
      "\n",
      "\n",
      "        [[[-2.2531e-04, -2.2612e-04, -2.1296e-04, -1.8674e-04, -1.8668e-04],\n",
      "          [-2.0892e-04, -2.0131e-04, -1.9989e-04, -1.9702e-04, -2.0055e-04],\n",
      "          [-3.2424e-04, -3.3504e-04, -3.1051e-04, -3.1190e-04, -3.2382e-04],\n",
      "          [-4.1160e-04, -4.2703e-04, -4.0844e-04, -4.1610e-04, -4.1804e-04],\n",
      "          [-2.6865e-04, -2.6669e-04, -2.4210e-04, -2.3538e-04, -2.6437e-04]]],\n",
      "\n",
      "\n",
      "        [[[ 8.4901e-06,  3.6872e-06,  8.6053e-06,  4.9896e-06,  6.2108e-07],\n",
      "          [ 6.5068e-06,  4.7953e-06,  6.8054e-06,  7.1554e-06,  4.8161e-06],\n",
      "          [ 1.2413e-05,  1.2421e-05,  1.5080e-05,  1.8323e-05,  1.3782e-05],\n",
      "          [ 7.5960e-06,  5.0529e-06,  5.0669e-06,  1.0305e-05,  8.7275e-06],\n",
      "          [ 1.6887e-06,  6.9832e-07, -9.2031e-07, -3.1394e-06, -2.3022e-06]]],\n",
      "\n",
      "\n",
      "        [[[ 3.7326e-05,  2.8768e-05,  2.3955e-05,  8.2550e-06,  2.0269e-05],\n",
      "          [ 3.4431e-05,  3.3599e-05,  2.9308e-05,  2.0952e-05,  1.5187e-05],\n",
      "          [ 2.2398e-05,  2.1141e-05,  1.6975e-05,  2.7863e-05,  3.1218e-05],\n",
      "          [ 1.7033e-05,  1.6052e-05,  2.2661e-06,  1.0406e-05,  1.5802e-05],\n",
      "          [ 8.1583e-06,  1.9642e-06,  9.9966e-07,  1.3255e-06,  7.9220e-06]]],\n",
      "\n",
      "\n",
      "        [[[ 6.4558e-05,  5.8143e-05,  2.8568e-05,  2.5488e-05,  3.0442e-05],\n",
      "          [ 1.1968e-04,  9.6463e-05,  4.7542e-05,  3.6519e-05,  3.3117e-05],\n",
      "          [ 1.0263e-04,  9.6714e-05,  6.2808e-05,  6.0425e-05,  4.9022e-05],\n",
      "          [ 7.3283e-05,  9.1780e-05,  7.5409e-05,  9.6343e-05,  8.8792e-05],\n",
      "          [ 6.7697e-05,  6.0935e-05,  5.0944e-05,  6.7922e-05,  6.8548e-05]]],\n",
      "\n",
      "\n",
      "        [[[-6.5666e-05, -7.8071e-05, -8.4122e-05, -7.3473e-05, -7.1257e-05],\n",
      "          [-7.4804e-05, -8.6979e-05, -9.0722e-05, -8.0726e-05, -8.7311e-05],\n",
      "          [-5.4712e-05, -6.1336e-05, -6.4307e-05, -5.0657e-05, -5.7749e-05],\n",
      "          [-5.5691e-05, -6.1216e-05, -6.2373e-05, -5.0373e-05, -5.1670e-05],\n",
      "          [-4.7275e-05, -5.1039e-05, -4.9867e-05, -4.2887e-05, -4.9329e-05]]],\n",
      "\n",
      "\n",
      "        [[[-5.1076e-04, -5.4584e-04, -5.1072e-04, -4.8933e-04, -5.8379e-04],\n",
      "          [-5.9548e-04, -6.3635e-04, -5.7242e-04, -5.6575e-04, -6.3405e-04],\n",
      "          [-7.2930e-04, -8.1133e-04, -7.9266e-04, -7.7395e-04, -7.9053e-04],\n",
      "          [-5.5724e-04, -5.4769e-04, -5.0190e-04, -4.7628e-04, -4.9536e-04],\n",
      "          [-4.0755e-04, -3.7628e-04, -3.3798e-04, -3.4081e-04, -3.7321e-04]]],\n",
      "\n",
      "\n",
      "        [[[-2.0089e-04, -2.2549e-04, -2.2155e-04, -2.3647e-04, -1.9273e-04],\n",
      "          [-1.9347e-04, -1.8032e-04, -1.9059e-04, -2.2197e-04, -2.0090e-04],\n",
      "          [-1.3339e-04, -1.1586e-04, -1.2064e-04, -1.1534e-04, -1.1771e-04],\n",
      "          [-7.8645e-05, -8.3546e-05, -9.4655e-05, -1.0312e-04, -1.2894e-04],\n",
      "          [-4.3451e-05, -5.8758e-05, -7.7402e-05, -7.7628e-05, -1.1529e-04]]],\n",
      "\n",
      "\n",
      "        [[[ 6.6076e-05,  7.5862e-05,  8.4138e-05,  1.0504e-04,  1.0539e-04],\n",
      "          [ 2.9184e-05,  3.0515e-05,  2.5179e-05,  3.5723e-05,  5.8628e-05],\n",
      "          [ 6.5498e-05,  5.6042e-05,  3.1623e-05,  3.4253e-05,  5.5886e-05],\n",
      "          [ 8.2272e-05,  8.0207e-05,  7.3861e-05,  8.5052e-05,  8.3741e-05],\n",
      "          [ 1.0710e-04,  8.6849e-05,  6.5575e-05,  5.4322e-05,  6.8808e-05]]],\n",
      "\n",
      "\n",
      "        [[[-4.1770e-05, -5.9646e-05, -7.2160e-05, -8.9603e-05, -9.4322e-05],\n",
      "          [-6.8700e-06, -1.1790e-05, -2.1886e-05, -1.2084e-05, -9.2258e-06],\n",
      "          [ 9.3345e-06,  1.0896e-05,  8.6307e-06,  2.0500e-06,  2.3571e-06],\n",
      "          [-4.6079e-05, -1.9901e-05, -5.2107e-05, -5.9061e-05, -6.1139e-05],\n",
      "          [-1.1794e-04, -1.2621e-04, -1.2233e-04, -1.1161e-04, -1.1583e-04]]]],\n",
      "       device='cuda:0'), 'exp_avg_sq': tensor([[[[4.5896e-05, 3.7285e-05, 4.2149e-05, 3.2234e-05, 3.4196e-05],\n",
      "          [9.6088e-05, 9.7792e-05, 1.0166e-04, 9.7460e-05, 9.3056e-05],\n",
      "          [1.1491e-04, 1.0369e-04, 9.0963e-05, 8.4627e-05, 7.4762e-05],\n",
      "          [8.4378e-05, 7.3353e-05, 5.7575e-05, 6.2767e-05, 5.2014e-05],\n",
      "          [5.0236e-05, 4.3007e-05, 3.5403e-05, 3.5900e-05, 4.2509e-05]]],\n",
      "\n",
      "\n",
      "        [[[3.5971e-05, 6.1089e-05, 6.1339e-05, 5.9991e-05, 5.5781e-05],\n",
      "          [4.2753e-05, 4.8894e-05, 8.1147e-05, 7.0978e-05, 9.6533e-05],\n",
      "          [3.3528e-05, 4.3965e-05, 5.7341e-05, 5.0328e-05, 7.6124e-05],\n",
      "          [5.1215e-05, 4.1416e-05, 5.6982e-05, 9.1970e-05, 1.1407e-04],\n",
      "          [8.8751e-05, 6.8486e-05, 6.2035e-05, 9.3899e-05, 1.0439e-04]]],\n",
      "\n",
      "\n",
      "        [[[6.0106e-05, 5.5790e-05, 6.3638e-05, 5.8412e-05, 6.0757e-05],\n",
      "          [4.9793e-05, 5.1341e-05, 4.7045e-05, 4.4029e-05, 5.2815e-05],\n",
      "          [3.4861e-05, 4.0676e-05, 3.6933e-05, 3.9345e-05, 4.2322e-05],\n",
      "          [3.5447e-05, 3.5173e-05, 3.7164e-05, 3.0815e-05, 2.9225e-05],\n",
      "          [2.9481e-05, 3.4940e-05, 3.3105e-05, 2.8452e-05, 2.7667e-05]]],\n",
      "\n",
      "\n",
      "        [[[1.5062e-03, 1.7283e-03, 1.6285e-03, 1.7300e-03, 1.5290e-03],\n",
      "          [9.3120e-04, 7.8583e-04, 7.5142e-04, 6.8451e-04, 6.2862e-04],\n",
      "          [6.8512e-04, 8.1323e-04, 9.3924e-04, 6.4659e-04, 6.2799e-04],\n",
      "          [1.1112e-03, 1.1344e-03, 1.2920e-03, 1.1080e-03, 1.3237e-03],\n",
      "          [1.3440e-03, 1.4991e-03, 1.9344e-03, 1.8236e-03, 1.6547e-03]]],\n",
      "\n",
      "\n",
      "        [[[6.4729e-04, 6.7728e-04, 6.4655e-04, 5.8753e-04, 5.7844e-04],\n",
      "          [7.9623e-04, 7.1464e-04, 7.5894e-04, 7.8345e-04, 7.8890e-04],\n",
      "          [2.5934e-04, 2.1842e-04, 2.2149e-04, 2.5132e-04, 2.5983e-04],\n",
      "          [3.1141e-04, 2.1022e-04, 2.3292e-04, 1.7639e-04, 2.1803e-04],\n",
      "          [1.5930e-04, 1.0347e-04, 1.0056e-04, 1.0807e-04, 1.1328e-04]]],\n",
      "\n",
      "\n",
      "        [[[5.3776e-05, 6.8006e-05, 7.9344e-05, 8.1966e-05, 7.2133e-05],\n",
      "          [5.1561e-05, 4.8399e-05, 6.0834e-05, 4.7016e-05, 4.0428e-05],\n",
      "          [2.8911e-05, 2.6079e-05, 3.6811e-05, 3.6136e-05, 3.4828e-05],\n",
      "          [2.1926e-05, 2.2874e-05, 3.3028e-05, 3.4359e-05, 4.1287e-05],\n",
      "          [2.3017e-05, 2.7068e-05, 3.3837e-05, 2.9165e-05, 4.6726e-05]]],\n",
      "\n",
      "\n",
      "        [[[7.5185e-05, 7.9448e-05, 1.0112e-04, 9.1666e-05, 1.0409e-04],\n",
      "          [9.9953e-05, 1.0613e-04, 1.1035e-04, 1.3002e-04, 1.4327e-04],\n",
      "          [2.3846e-04, 2.3766e-04, 2.3411e-04, 2.1275e-04, 2.3591e-04],\n",
      "          [2.0239e-04, 2.3534e-04, 2.4073e-04, 1.8705e-04, 2.0302e-04],\n",
      "          [1.6319e-04, 1.9902e-04, 2.0508e-04, 2.2528e-04, 2.3387e-04]]],\n",
      "\n",
      "\n",
      "        [[[1.5248e-05, 1.6464e-05, 1.7592e-05, 2.1316e-05, 2.1095e-05],\n",
      "          [6.6596e-06, 9.0298e-06, 7.3557e-06, 7.8187e-06, 6.0289e-06],\n",
      "          [7.5314e-06, 9.2072e-06, 5.7538e-06, 6.1586e-06, 3.9830e-06],\n",
      "          [8.0963e-06, 7.4600e-06, 6.0110e-06, 5.1075e-06, 4.8033e-06],\n",
      "          [1.2284e-05, 8.3950e-06, 6.2451e-06, 5.6905e-06, 8.6887e-06]]],\n",
      "\n",
      "\n",
      "        [[[3.6703e-04, 3.4169e-04, 3.3465e-04, 5.5637e-04, 5.1698e-04],\n",
      "          [3.4683e-04, 2.9869e-04, 3.5258e-04, 6.8199e-04, 7.0959e-04],\n",
      "          [6.1759e-04, 4.3822e-04, 6.7183e-04, 6.3206e-04, 8.3806e-04],\n",
      "          [3.8622e-04, 3.8428e-04, 4.8336e-04, 6.0477e-04, 4.8258e-04],\n",
      "          [6.6883e-04, 6.3020e-04, 7.2963e-04, 6.1483e-04, 5.4625e-04]]],\n",
      "\n",
      "\n",
      "        [[[1.9501e-04, 2.4936e-04, 2.5282e-04, 3.2748e-04, 4.8000e-04],\n",
      "          [3.7137e-04, 3.7855e-04, 6.0399e-04, 7.1627e-04, 5.2696e-04],\n",
      "          [3.8587e-04, 4.8359e-04, 7.0914e-04, 9.8619e-04, 9.4743e-04],\n",
      "          [6.6779e-04, 8.0887e-04, 1.0347e-03, 1.2130e-03, 1.0187e-03],\n",
      "          [8.0757e-04, 9.6095e-04, 9.6968e-04, 1.0040e-03, 1.0603e-03]]],\n",
      "\n",
      "\n",
      "        [[[4.0253e-05, 3.2224e-05, 1.9694e-05, 1.3785e-05, 1.6273e-05],\n",
      "          [2.7353e-05, 1.4961e-05, 9.6786e-06, 2.0880e-05, 2.4460e-05],\n",
      "          [2.2570e-05, 1.0960e-05, 1.0181e-05, 2.2940e-05, 5.5440e-05],\n",
      "          [3.0082e-05, 2.0547e-05, 2.3315e-05, 6.3342e-05, 6.2258e-05],\n",
      "          [1.6032e-05, 2.3321e-05, 4.4293e-05, 8.7416e-05, 8.2418e-05]]],\n",
      "\n",
      "\n",
      "        [[[6.5512e-04, 5.9245e-04, 5.4616e-04, 5.8213e-04, 5.9850e-04],\n",
      "          [6.4199e-04, 6.0837e-04, 6.1700e-04, 5.9026e-04, 5.8732e-04],\n",
      "          [5.9239e-04, 5.0269e-04, 4.9554e-04, 5.0203e-04, 4.8530e-04],\n",
      "          [5.3615e-04, 5.0976e-04, 5.1200e-04, 5.3309e-04, 5.5875e-04],\n",
      "          [5.2538e-04, 4.8385e-04, 4.5890e-04, 4.8246e-04, 5.2976e-04]]],\n",
      "\n",
      "\n",
      "        [[[2.3209e-04, 2.2441e-04, 2.1861e-04, 2.0448e-04, 2.1670e-04],\n",
      "          [2.0368e-04, 1.6303e-04, 1.6558e-04, 1.8866e-04, 2.0057e-04],\n",
      "          [1.7984e-04, 1.7120e-04, 1.8421e-04, 1.6132e-04, 1.6370e-04],\n",
      "          [1.6899e-04, 1.3947e-04, 1.3538e-04, 1.2759e-04, 1.4364e-04],\n",
      "          [1.5315e-04, 1.4276e-04, 1.2481e-04, 1.2980e-04, 1.3506e-04]]],\n",
      "\n",
      "\n",
      "        [[[7.8022e-06, 4.5729e-06, 3.6509e-06, 4.5540e-06, 1.6263e-05],\n",
      "          [4.8050e-06, 6.5995e-06, 9.9655e-06, 7.8238e-06, 1.9132e-05],\n",
      "          [4.7285e-06, 7.5052e-06, 5.0124e-06, 1.4533e-05, 2.0381e-05],\n",
      "          [1.7788e-05, 1.5333e-05, 1.0870e-05, 1.9587e-05, 2.3743e-05],\n",
      "          [1.0470e-05, 1.7518e-05, 1.0743e-05, 1.7975e-05, 1.3282e-05]]],\n",
      "\n",
      "\n",
      "        [[[7.2575e-04, 6.8075e-04, 7.5204e-04, 5.2894e-04, 4.6089e-04],\n",
      "          [5.6811e-04, 7.6445e-04, 9.4462e-04, 9.7411e-04, 9.0971e-04],\n",
      "          [2.2104e-04, 3.3837e-04, 3.6546e-04, 2.1186e-04, 2.7309e-04],\n",
      "          [1.5518e-04, 1.6548e-04, 1.6054e-04, 1.3261e-04, 1.4742e-04],\n",
      "          [2.3089e-04, 3.1061e-04, 3.4058e-04, 3.1616e-04, 3.2411e-04]]],\n",
      "\n",
      "\n",
      "        [[[1.4202e-04, 1.2852e-04, 1.2037e-04, 1.1161e-04, 1.4521e-04],\n",
      "          [8.3288e-05, 7.8064e-05, 8.5620e-05, 8.8643e-05, 1.0606e-04],\n",
      "          [7.9791e-05, 7.7532e-05, 5.8685e-05, 5.7187e-05, 7.1635e-05],\n",
      "          [1.0389e-04, 8.2013e-05, 6.9502e-05, 6.7623e-05, 7.5511e-05],\n",
      "          [9.0335e-05, 8.8565e-05, 5.8434e-05, 5.3740e-05, 5.8413e-05]]],\n",
      "\n",
      "\n",
      "        [[[1.3408e-04, 1.4636e-04, 1.3465e-04, 9.9909e-05, 1.0977e-04],\n",
      "          [5.6831e-05, 7.7293e-05, 5.9598e-05, 6.6635e-05, 7.7268e-05],\n",
      "          [3.5998e-05, 3.8837e-05, 3.8243e-05, 2.8819e-05, 4.0868e-05],\n",
      "          [4.0994e-05, 3.2117e-05, 2.4580e-05, 2.0588e-05, 3.0844e-05],\n",
      "          [4.0092e-05, 2.6497e-05, 2.0658e-05, 1.7735e-05, 1.9077e-05]]],\n",
      "\n",
      "\n",
      "        [[[7.9820e-05, 4.1161e-05, 2.6123e-05, 2.1085e-05, 1.6136e-05],\n",
      "          [5.7344e-05, 3.6213e-05, 2.6356e-05, 1.3460e-05, 1.3918e-05],\n",
      "          [5.4576e-05, 5.1362e-05, 2.3826e-05, 1.4794e-05, 2.3261e-05],\n",
      "          [1.4523e-04, 1.1325e-04, 4.2990e-05, 3.4684e-05, 4.7354e-05],\n",
      "          [5.8794e-05, 6.5673e-05, 3.1826e-05, 1.9773e-05, 2.8378e-05]]],\n",
      "\n",
      "\n",
      "        [[[1.4919e-04, 1.7098e-04, 1.5608e-04, 1.4685e-04, 9.8482e-05],\n",
      "          [6.9646e-05, 6.9475e-05, 5.4829e-05, 5.5201e-05, 4.2309e-05],\n",
      "          [5.5539e-05, 5.2413e-05, 3.7799e-05, 2.8406e-05, 3.2265e-05],\n",
      "          [8.9603e-05, 8.7311e-05, 6.7403e-05, 7.1927e-05, 9.1199e-05],\n",
      "          [1.2814e-04, 1.3756e-04, 1.0784e-04, 9.6504e-05, 9.6965e-05]]],\n",
      "\n",
      "\n",
      "        [[[1.3921e-05, 1.9114e-05, 1.8267e-05, 1.7903e-05, 1.9370e-05],\n",
      "          [1.6243e-05, 1.7746e-05, 1.2333e-05, 1.3552e-05, 1.3724e-05],\n",
      "          [6.9033e-06, 1.0992e-05, 6.2646e-06, 6.3928e-06, 1.0591e-05],\n",
      "          [2.6568e-06, 5.2968e-06, 3.3041e-06, 5.2021e-06, 8.6656e-06],\n",
      "          [5.0603e-06, 1.0013e-05, 8.1947e-06, 5.7968e-06, 4.7483e-06]]],\n",
      "\n",
      "\n",
      "        [[[1.0719e-04, 1.1814e-04, 1.0291e-04, 9.9827e-05, 1.0801e-04],\n",
      "          [1.3393e-04, 1.3522e-04, 1.3784e-04, 1.1530e-04, 1.3724e-04],\n",
      "          [1.2261e-04, 1.1778e-04, 1.1566e-04, 1.2517e-04, 1.5219e-04],\n",
      "          [1.3721e-04, 1.2125e-04, 1.4277e-04, 1.3186e-04, 1.4403e-04],\n",
      "          [1.8427e-04, 1.8611e-04, 1.7541e-04, 1.4872e-04, 1.8638e-04]]],\n",
      "\n",
      "\n",
      "        [[[4.5514e-05, 4.4870e-05, 4.2495e-05, 4.0059e-05, 3.8680e-05],\n",
      "          [3.5790e-05, 4.0452e-05, 3.7792e-05, 3.2765e-05, 3.5904e-05],\n",
      "          [2.5702e-05, 2.1824e-05, 2.2996e-05, 2.1656e-05, 2.0135e-05],\n",
      "          [6.0163e-06, 5.4795e-06, 6.8649e-06, 8.8939e-06, 9.1572e-06],\n",
      "          [9.8094e-06, 6.0887e-06, 7.0908e-06, 5.1797e-06, 5.1208e-06]]],\n",
      "\n",
      "\n",
      "        [[[4.7032e-04, 4.5231e-04, 4.5114e-04, 5.9158e-04, 5.5522e-04],\n",
      "          [5.1988e-04, 4.5373e-04, 4.5734e-04, 5.0495e-04, 5.9483e-04],\n",
      "          [5.7152e-04, 4.7931e-04, 5.8670e-04, 5.8733e-04, 6.0873e-04],\n",
      "          [4.8282e-04, 5.1952e-04, 5.5550e-04, 5.1109e-04, 5.4809e-04],\n",
      "          [3.9418e-04, 4.7863e-04, 4.2538e-04, 5.0127e-04, 5.5581e-04]]],\n",
      "\n",
      "\n",
      "        [[[2.2244e-04, 3.0214e-04, 2.4971e-04, 1.9391e-04, 1.8251e-04],\n",
      "          [2.2104e-04, 2.4173e-04, 2.5267e-04, 1.8538e-04, 2.0170e-04],\n",
      "          [4.7692e-04, 4.8943e-04, 3.9901e-04, 3.1608e-04, 3.5071e-04],\n",
      "          [5.9834e-04, 5.9091e-04, 5.6722e-04, 5.6579e-04, 5.5976e-04],\n",
      "          [3.8085e-04, 3.4319e-04, 3.1309e-04, 2.8301e-04, 3.3968e-04]]],\n",
      "\n",
      "\n",
      "        [[[7.2534e-06, 5.0705e-06, 6.2819e-06, 5.0782e-06, 4.5177e-06],\n",
      "          [6.0907e-06, 6.5306e-06, 7.7784e-06, 6.3265e-06, 5.9272e-06],\n",
      "          [8.0437e-06, 8.2252e-06, 9.1582e-06, 8.9664e-06, 7.9316e-06],\n",
      "          [6.1863e-06, 5.1769e-06, 5.3802e-06, 6.5579e-06, 8.0586e-06],\n",
      "          [8.5921e-06, 1.0081e-05, 1.0207e-05, 9.7526e-06, 1.0862e-05]]],\n",
      "\n",
      "\n",
      "        [[[3.1998e-04, 2.9105e-04, 2.3447e-04, 1.6751e-04, 1.7061e-04],\n",
      "          [3.4876e-04, 3.0554e-04, 2.8464e-04, 2.0434e-04, 1.7719e-04],\n",
      "          [2.5735e-04, 2.5937e-04, 2.2285e-04, 2.3410e-04, 1.8287e-04],\n",
      "          [2.0947e-04, 1.9246e-04, 2.0306e-04, 1.8949e-04, 1.6201e-04],\n",
      "          [2.2133e-04, 2.0150e-04, 2.2523e-04, 1.8201e-04, 2.0516e-04]]],\n",
      "\n",
      "\n",
      "        [[[1.2251e-04, 9.0848e-05, 3.3535e-05, 2.2536e-05, 2.2014e-05],\n",
      "          [1.7203e-04, 1.1049e-04, 5.5427e-05, 3.5768e-05, 3.7175e-05],\n",
      "          [1.2667e-04, 9.6759e-05, 3.9751e-05, 2.5614e-05, 2.2033e-05],\n",
      "          [6.1728e-05, 6.5279e-05, 5.3061e-05, 5.6621e-05, 2.9798e-05],\n",
      "          [7.6132e-05, 4.4569e-05, 3.8510e-05, 5.4577e-05, 6.6246e-05]]],\n",
      "\n",
      "\n",
      "        [[[2.1452e-05, 2.3718e-05, 2.4457e-05, 2.3196e-05, 2.4005e-05],\n",
      "          [1.6917e-05, 1.9247e-05, 2.0046e-05, 1.8465e-05, 1.8957e-05],\n",
      "          [9.8071e-06, 1.1831e-05, 1.1400e-05, 9.6200e-06, 9.5763e-06],\n",
      "          [7.1426e-06, 9.0862e-06, 9.7123e-06, 7.4990e-06, 9.1253e-06],\n",
      "          [5.7409e-06, 5.4528e-06, 5.3978e-06, 5.4649e-06, 4.9183e-06]]],\n",
      "\n",
      "\n",
      "        [[[2.3178e-03, 2.7660e-03, 2.6963e-03, 2.1957e-03, 3.0353e-03],\n",
      "          [2.4936e-03, 2.9100e-03, 2.2900e-03, 2.0408e-03, 2.6746e-03],\n",
      "          [3.4501e-03, 3.9929e-03, 3.9780e-03, 3.6454e-03, 3.7975e-03],\n",
      "          [2.6435e-03, 2.4541e-03, 2.2293e-03, 1.7589e-03, 1.9401e-03],\n",
      "          [1.7946e-03, 1.4231e-03, 1.1365e-03, 1.1535e-03, 1.2693e-03]]],\n",
      "\n",
      "\n",
      "        [[[4.0955e-04, 5.2265e-04, 5.2566e-04, 5.7100e-04, 4.1987e-04],\n",
      "          [3.1283e-04, 3.0781e-04, 3.6700e-04, 4.5643e-04, 3.7758e-04],\n",
      "          [2.2924e-04, 2.1183e-04, 2.1141e-04, 1.6726e-04, 1.7172e-04],\n",
      "          [9.5033e-05, 1.0544e-04, 1.2116e-04, 1.1634e-04, 1.7700e-04],\n",
      "          [7.1069e-05, 8.9283e-05, 8.2790e-05, 7.8119e-05, 1.2405e-04]]],\n",
      "\n",
      "\n",
      "        [[[4.3690e-05, 4.3648e-05, 5.3505e-05, 8.1846e-05, 8.3220e-05],\n",
      "          [2.6361e-05, 3.0560e-05, 2.1489e-05, 3.9574e-05, 5.3690e-05],\n",
      "          [4.0407e-05, 3.3166e-05, 1.8401e-05, 2.9363e-05, 4.8666e-05],\n",
      "          [3.9976e-05, 3.7349e-05, 2.4047e-05, 3.1660e-05, 9.6292e-05],\n",
      "          [6.6296e-05, 4.4617e-05, 2.5327e-05, 3.5261e-05, 4.8397e-05]]],\n",
      "\n",
      "\n",
      "        [[[1.5205e-04, 1.9659e-04, 1.9820e-04, 1.9621e-04, 1.9941e-04],\n",
      "          [1.5892e-04, 2.1193e-04, 1.8953e-04, 1.4580e-04, 1.1602e-04],\n",
      "          [1.5910e-04, 1.7459e-04, 1.3726e-04, 1.1332e-04, 1.0479e-04],\n",
      "          [2.0020e-04, 1.7641e-04, 1.9528e-04, 1.7276e-04, 2.3253e-04],\n",
      "          [3.6040e-04, 3.6333e-04, 3.3019e-04, 2.4769e-04, 2.8425e-04]]]],\n",
      "       device='cuda:0')}, 139943011403960: {'step': 740, 'exp_avg': tensor([-3.6573e-04,  1.3890e-04, -2.8619e-05, -1.1098e-03, -8.3751e-04,\n",
      "        -2.7248e-04, -1.1491e-04, -2.0527e-04,  3.2466e-04,  4.5617e-04,\n",
      "         5.1884e-05,  6.2974e-05,  2.2624e-04,  1.2097e-04, -1.1018e-03,\n",
      "        -3.6543e-04, -3.5048e-04,  1.3995e-04, -5.7127e-04, -7.3944e-05,\n",
      "         4.9934e-06, -1.2065e-04,  4.6907e-04, -6.0864e-04,  4.5879e-05,\n",
      "         7.5873e-05,  2.7226e-04, -1.2677e-04, -1.4071e-03, -3.7690e-04,\n",
      "         3.0292e-04, -1.2094e-04], device='cuda:0'), 'exp_avg_sq': tensor([2.8532e-04, 7.0164e-04, 1.3897e-04, 5.7773e-03, 3.2099e-03, 7.0190e-04,\n",
      "        8.5384e-04, 1.9854e-04, 2.3995e-03, 2.8489e-03, 1.9383e-04, 1.9804e-03,\n",
      "        6.2278e-04, 3.2616e-04, 2.1840e-03, 1.2662e-03, 4.2532e-04, 1.4571e-03,\n",
      "        5.2247e-04, 4.6345e-05, 1.3524e-03, 7.9770e-05, 3.1798e-03, 1.9077e-03,\n",
      "        7.3261e-05, 6.6058e-04, 1.8841e-03, 6.9129e-05, 1.3526e-02, 1.3479e-03,\n",
      "        1.2675e-03, 1.1761e-03], device='cuda:0')}, 139943011404032: {'step': 740, 'exp_avg': tensor([[[[ 1.8037e-39,  1.0290e-39,  6.2867e-40, -9.3307e-41,  2.2473e-40],\n",
      "          [ 2.4169e-39,  2.0446e-39,  5.3999e-40,  1.3271e-40,  6.1227e-40],\n",
      "          [ 2.2831e-39,  2.1811e-39,  1.1900e-39, -1.7846e-40,  1.6587e-40],\n",
      "          [ 1.2061e-39,  1.4852e-39,  1.3007e-39,  6.8028e-40, -2.3942e-40],\n",
      "          [-1.0491e-40, -2.1710e-40,  4.9480e-40,  1.1054e-39,  6.1306e-40]],\n",
      "\n",
      "         [[ 4.7014e-40,  7.3346e-40,  1.4740e-39,  1.2659e-39,  1.4129e-39],\n",
      "          [ 1.0516e-40,  1.7997e-40,  1.0384e-39,  1.0555e-39,  1.5770e-39],\n",
      "          [ 5.5418e-40,  1.8365e-40,  2.1992e-40,  1.1386e-39,  1.0138e-39],\n",
      "          [ 1.5545e-40,  2.9753e-40,  3.8306e-40,  4.8365e-40,  9.5278e-40],\n",
      "          [ 1.9631e-40,  3.8899e-40,  6.0767e-40,  8.1824e-40,  7.6291e-40]],\n",
      "\n",
      "         [[ 1.5804e-39,  1.1540e-39,  4.2040e-40,  5.0653e-40,  1.3888e-39],\n",
      "          [ 1.7754e-39,  1.2408e-39,  1.0628e-39,  8.4552e-40,  1.3991e-39],\n",
      "          [ 1.5438e-39,  9.1937e-40,  1.3253e-39,  8.7927e-40,  1.2357e-39],\n",
      "          [ 1.5616e-39,  1.0725e-39,  8.2418e-40,  4.2103e-40,  9.0714e-40],\n",
      "          [ 1.6015e-39,  1.4236e-39,  1.3943e-39,  8.4337e-40,  9.6616e-40]],\n",
      "\n",
      "         ...,\n",
      "\n",
      "         [[-9.8848e-42,  1.8246e-41, -2.0476e-41,  3.5458e-41, -6.4834e-41],\n",
      "          [-2.0069e-41,  1.6995e-41,  1.1343e-40,  7.2261e-41,  4.0754e-41],\n",
      "          [-1.0546e-41, -9.8820e-42, -8.8378e-41,  7.2989e-41, -1.5179e-41],\n",
      "          [-6.0770e-41, -1.2979e-40,  2.9416e-41,  6.1694e-41, -7.6076e-41],\n",
      "          [ 1.8895e-41, -4.3592e-41, -1.4454e-41,  3.5464e-41,  2.0879e-41]],\n",
      "\n",
      "         [[-2.8662e-41, -1.8482e-41,  1.0666e-40,  9.0347e-41,  3.8994e-41],\n",
      "          [-4.4976e-41, -1.3524e-40,  5.1094e-41,  1.0366e-40,  2.9441e-40],\n",
      "          [ 9.0146e-41, -1.6989e-40,  4.0572e-41,  1.7699e-40,  3.2985e-40],\n",
      "          [ 6.3983e-42, -7.0802e-41, -5.2291e-41,  1.1897e-41,  3.2881e-41],\n",
      "          [-1.0989e-40, -1.0122e-40, -2.0871e-41, -2.0858e-41, -1.3793e-41]],\n",
      "\n",
      "         [[ 2.2013e-40,  3.7130e-40,  1.0922e-41, -1.4365e-40, -2.8495e-41],\n",
      "          [-1.3182e-41,  2.6022e-40,  2.1072e-40,  1.2350e-40, -2.5167e-42],\n",
      "          [ 3.7916e-41,  1.0979e-40,  1.6156e-41, -1.0480e-40,  2.0404e-40],\n",
      "          [-1.1698e-40,  9.9659e-41,  6.7709e-41,  2.0125e-40,  1.8997e-40],\n",
      "          [-3.1346e-41, -4.0880e-41,  1.2269e-40,  3.2392e-41,  2.8263e-40]]],\n",
      "\n",
      "\n",
      "        [[[ 1.1897e-06,  6.5092e-07,  1.0740e-07,  3.2956e-07,  7.3553e-07],\n",
      "          [ 9.2687e-07,  7.6168e-07,  1.4648e-07, -1.0852e-07,  4.5841e-08],\n",
      "          [ 2.1924e-06,  2.8898e-06,  3.7072e-06,  3.7108e-06,  3.5449e-06],\n",
      "          [ 3.9380e-07,  1.4140e-07,  3.2471e-07,  3.2395e-07,  8.2806e-07],\n",
      "          [ 7.3603e-07,  4.1202e-07,  2.4070e-07,  5.0958e-07,  1.2569e-06]],\n",
      "\n",
      "         [[ 9.6148e-08, -1.1807e-07, -7.5840e-08, -4.1306e-07, -2.2726e-07],\n",
      "          [ 2.6521e-07,  2.2329e-07,  1.7099e-07,  2.4780e-07,  2.6903e-07],\n",
      "          [ 1.2331e-07,  6.9764e-08,  8.8695e-09,  5.7525e-08, -7.8074e-08],\n",
      "          [-2.8510e-08, -5.0902e-08,  7.3025e-08,  9.4633e-08, -1.9080e-08],\n",
      "          [ 2.2462e-07, -1.2966e-08,  3.1648e-08,  9.0605e-08,  3.0434e-07]],\n",
      "\n",
      "         [[ 6.1972e-08,  2.4370e-07,  1.3239e-07, -9.5697e-08, -4.6570e-07],\n",
      "          [ 4.2309e-09,  9.6743e-08,  4.9275e-08,  2.0489e-07,  1.1896e-07],\n",
      "          [ 9.3221e-07,  4.5923e-07,  2.5014e-07,  1.4169e-07,  2.7771e-07],\n",
      "          [ 5.9268e-07,  4.5515e-07,  3.5391e-07,  6.2066e-07,  6.6682e-07],\n",
      "          [ 3.3706e-09, -4.0371e-08, -5.0131e-08,  7.6391e-08,  3.5895e-07]],\n",
      "\n",
      "         ...,\n",
      "\n",
      "         [[-1.0960e-07,  1.7340e-07,  1.5161e-07, -9.5164e-08,  2.3332e-07],\n",
      "          [ 4.8488e-07,  3.3642e-07,  1.2377e-08,  1.3278e-07,  2.1267e-07],\n",
      "          [ 5.3813e-07,  5.6648e-07,  8.8383e-07,  1.0414e-06,  7.4507e-07],\n",
      "          [ 3.0823e-07,  2.2705e-07,  3.3037e-07,  5.4258e-07,  5.9098e-07],\n",
      "          [-1.9268e-07, -6.1558e-08,  8.0152e-08,  1.3084e-07,  4.6472e-07]],\n",
      "\n",
      "         [[ 1.7380e-08,  5.8896e-08,  3.1207e-08,  3.8803e-08,  9.4410e-08],\n",
      "          [ 5.4542e-09, -1.8571e-09,  5.1260e-08,  3.5584e-08,  8.7143e-09],\n",
      "          [-1.1107e-08, -5.5086e-09,  2.9997e-09, -7.9186e-10, -1.1614e-08],\n",
      "          [-1.3322e-09, -9.1960e-09, -4.5511e-09,  1.4805e-08, -3.4436e-08],\n",
      "          [ 9.3420e-08,  8.6411e-08,  1.2071e-07,  3.5073e-08, -3.1707e-08]],\n",
      "\n",
      "         [[ 3.9201e-07,  1.3042e-06,  1.7275e-06,  1.0884e-06,  1.1414e-06],\n",
      "          [ 7.3082e-07,  1.2345e-06,  5.9211e-07,  1.4371e-06,  2.1698e-06],\n",
      "          [ 4.0901e-07,  2.0819e-07, -1.7034e-07,  1.6307e-07,  4.0475e-07],\n",
      "          [-2.3435e-08, -1.0795e-07,  5.1263e-08,  2.4659e-07, -1.2582e-08],\n",
      "          [ 4.3910e-07,  3.6406e-07,  3.0813e-07,  4.8480e-07,  7.7450e-07]]],\n",
      "\n",
      "\n",
      "        [[[ 3.7434e-17,  3.1920e-17,  4.5405e-17,  5.1329e-17,  3.1112e-17],\n",
      "          [ 6.7438e-17,  5.6973e-17,  6.2960e-17,  6.7900e-17,  9.1476e-17],\n",
      "          [ 8.2444e-17,  7.2758e-17,  7.9788e-17,  9.3991e-17,  8.6838e-17],\n",
      "          [ 1.6215e-16,  1.4280e-16,  1.1931e-16,  1.4819e-16,  1.3132e-16],\n",
      "          [ 5.5937e-17,  4.1739e-17,  5.6040e-17,  4.4838e-17,  6.4252e-17]],\n",
      "\n",
      "         [[ 4.0227e-17,  4.1082e-17,  3.6948e-17,  3.4528e-17,  5.8394e-17],\n",
      "          [ 3.1252e-17,  6.6245e-17,  4.7600e-17,  2.5383e-17,  3.5296e-17],\n",
      "          [ 5.1343e-17,  4.7817e-17,  5.8904e-17,  3.6194e-17,  1.4618e-17],\n",
      "          [ 5.5437e-17,  4.2225e-17,  4.3821e-17,  4.1617e-17,  4.4202e-17],\n",
      "          [ 8.0851e-17,  5.2822e-17,  3.4439e-17,  4.9219e-17,  8.8498e-17]],\n",
      "\n",
      "         [[ 7.8272e-17,  4.4667e-17,  7.1355e-17,  5.8437e-17,  7.9648e-17],\n",
      "          [ 8.8198e-17,  6.0840e-17,  5.6692e-17,  4.8955e-17,  3.8739e-17],\n",
      "          [ 1.2446e-16,  1.5826e-16,  1.4230e-16,  1.2259e-16,  1.2788e-16],\n",
      "          [ 1.3713e-16,  1.6106e-16,  1.6761e-16,  1.3473e-16,  1.4929e-16],\n",
      "          [ 2.0978e-16,  2.1769e-16,  2.0665e-16,  2.3032e-16,  1.9451e-16]],\n",
      "\n",
      "         ...,\n",
      "\n",
      "         [[ 5.0376e-17,  4.3765e-17,  4.2552e-17,  2.7927e-17,  2.2888e-17],\n",
      "          [ 7.9083e-17,  7.4215e-17,  5.7753e-17,  5.6803e-17,  6.2220e-17],\n",
      "          [ 9.9350e-17,  1.2528e-16,  1.2506e-16,  1.2704e-16,  1.4298e-16],\n",
      "          [ 1.7107e-16,  1.7627e-16,  2.3127e-16,  2.2060e-16,  2.1437e-16],\n",
      "          [ 1.6478e-16,  2.0679e-16,  1.9602e-16,  1.9245e-16,  1.8901e-16]],\n",
      "\n",
      "         [[ 4.6604e-18,  1.0756e-17,  1.0865e-17,  1.6391e-17,  1.8693e-17],\n",
      "          [ 4.5080e-18,  1.0311e-17,  6.2387e-18,  7.4515e-18,  4.3656e-18],\n",
      "          [ 4.6228e-18,  5.5678e-18,  4.7895e-18, -5.7586e-18,  1.0604e-17],\n",
      "          [ 4.1243e-18,  5.6529e-18,  6.9290e-18, -2.6146e-18,  1.2340e-17],\n",
      "          [ 2.2219e-17,  1.2541e-17,  1.3422e-17,  1.9877e-17,  2.7390e-17]],\n",
      "\n",
      "         [[ 6.5408e-17,  7.3149e-17,  7.7442e-17,  1.0379e-16,  1.1389e-16],\n",
      "          [ 7.6892e-17,  6.9387e-17,  6.8566e-17,  6.9050e-17,  7.6263e-17],\n",
      "          [ 1.5232e-16,  1.2328e-16,  1.0731e-16,  1.1591e-16,  7.6077e-17],\n",
      "          [ 7.9830e-17,  8.8472e-17,  8.4986e-17,  6.1847e-17,  6.8736e-17],\n",
      "          [ 1.4764e-16,  1.3428e-16,  1.2886e-16,  1.0639e-16,  9.3879e-17]]],\n",
      "\n",
      "\n",
      "        ...,\n",
      "\n",
      "\n",
      "        [[[-2.5073e-24,  2.6588e-24,  2.2047e-24,  8.6773e-24,  7.0822e-24],\n",
      "          [ 5.6358e-19,  6.9579e-19,  8.2234e-19,  5.7042e-19, -4.1696e-24],\n",
      "          [ 6.6605e-24,  6.8830e-24,  7.1173e-24,  7.0842e-24,  9.1706e-24],\n",
      "          [ 6.6097e-25, -1.5339e-24, -7.3910e-25,  2.7560e-25, -3.2067e-25],\n",
      "          [-1.0580e-24,  1.7324e-24,  2.1915e-24,  1.9738e-24,  2.6777e-24]],\n",
      "\n",
      "         [[ 1.2564e-23,  1.7798e-23,  1.3370e-23,  8.4584e-24,  6.7610e-19],\n",
      "          [ 4.6047e-24,  2.2854e-24,  1.6115e-24,  1.5557e-24,  2.6202e-24],\n",
      "          [ 1.2418e-24, -2.3707e-24,  1.6160e-24, -4.0029e-24,  2.0530e-24],\n",
      "          [ 1.1862e-24,  2.0963e-25,  1.5795e-24,  9.2200e-25,  1.3533e-24],\n",
      "          [ 5.1402e-24, -1.1423e-23,  8.0635e-24, -1.3849e-23,  1.6409e-23]],\n",
      "\n",
      "         [[ 5.5741e-19,  4.6810e-19,  4.1338e-19,  7.0198e-19,  3.6086e-19],\n",
      "          [ 7.7048e-24,  2.0732e-24,  7.1471e-24,  9.6963e-24,  1.1081e-23],\n",
      "          [ 1.5277e-23,  1.0438e-23,  8.6699e-24,  7.2919e-24,  2.4907e-24],\n",
      "          [ 1.0311e-23,  1.1800e-23,  9.2893e-24,  5.9597e-24,  1.5275e-23],\n",
      "          [ 2.4918e-23,  3.0263e-23,  2.0761e-23,  2.5638e-23,  9.0872e-24]],\n",
      "\n",
      "         ...,\n",
      "\n",
      "         [[ 3.3378e-19,  6.2295e-20,  3.1676e-24, -1.3921e-24,  1.1592e-19],\n",
      "          [ 7.6331e-26, -5.6263e-25, -1.0640e-25, -4.6779e-25,  8.3090e-25],\n",
      "          [-3.7425e-24, -1.3921e-24, -1.6023e-24, -1.4959e-24, -1.8895e-24],\n",
      "          [-4.9865e-24, -2.8961e-24, -2.5443e-24, -3.3431e-24, -2.5683e-25],\n",
      "          [-2.8192e-24, -3.6087e-24, -2.0279e-24, -3.0701e-25, -9.8390e-25]],\n",
      "\n",
      "         [[ 1.1282e-24,  1.2484e-24,  1.6788e-24,  1.7409e-24,  4.5588e-25],\n",
      "          [ 5.6550e-25,  2.2576e-25,  1.5643e-28,  1.4230e-25,  9.1133e-25],\n",
      "          [ 1.6856e-25, -4.7786e-28,  6.6119e-28, -8.3607e-28,  2.3236e-25],\n",
      "          [-1.0072e-25, -8.2281e-27, -2.5199e-28, -1.8948e-28, -1.8344e-26],\n",
      "          [-1.6778e-25, -1.6993e-25,  1.6992e-27, -1.4864e-28,  3.4534e-27]],\n",
      "\n",
      "         [[ 5.2240e-19,  3.9610e-19,  2.9547e-19,  3.0474e-23,  6.7354e-20],\n",
      "          [ 9.7759e-20,  1.4030e-19,  2.0457e-19,  2.7626e-21,  1.6035e-19],\n",
      "          [-2.1909e-25,  2.7137e-24,  6.3285e-24,  3.0358e-24,  5.0453e-24],\n",
      "          [ 2.2767e-24,  3.6927e-25,  2.3984e-24,  2.5848e-24,  8.1085e-24],\n",
      "          [-1.6965e-25, -1.5930e-24,  3.2477e-24,  3.5575e-24,  6.2314e-24]]],\n",
      "\n",
      "\n",
      "        [[[ 9.9601e-20,  9.1953e-20,  8.9367e-20,  3.1258e-20,  6.5253e-21],\n",
      "          [ 4.1555e-20,  2.4962e-19,  4.0719e-20,  2.6862e-20,  2.8441e-21],\n",
      "          [ 4.1672e-22,  3.9541e-21,  1.6743e-20,  5.3883e-20,  8.2547e-20],\n",
      "          [ 2.0344e-22,  2.5608e-19,  5.9328e-22,  3.4708e-21, -3.9657e-21],\n",
      "          [ 3.8509e-17,  1.6774e-18, -2.3343e-21,  1.8974e-21,  5.0513e-16]],\n",
      "\n",
      "         [[ 1.7009e-22,  5.4956e-21,  2.0989e-21,  1.1237e-20,  1.4708e-20],\n",
      "          [-4.0910e-22,  1.9550e-21, -1.3461e-21,  8.0661e-21, -9.1927e-21],\n",
      "          [-4.3893e-22,  6.5027e-22, -1.6902e-21,  3.2995e-21, -1.0795e-20],\n",
      "          [ 3.6843e-17,  1.0538e-21, -1.2510e-21,  5.2271e-17,  7.5646e-17],\n",
      "          [ 1.2593e-17,  2.0822e-22,  2.8009e-17,  6.1276e-18, -7.9786e-21]],\n",
      "\n",
      "         [[ 4.9754e-22,  1.9370e-21,  9.5137e-22, -9.3480e-22, -7.1658e-21],\n",
      "          [-1.4344e-21,  3.0909e-21, -4.0524e-21,  2.4785e-20, -1.4287e-20],\n",
      "          [ 5.3587e-22, -8.3825e-22,  9.7681e-22, -2.1133e-21,  2.7661e-21],\n",
      "          [-1.4972e-21,  2.6005e-21, -4.6174e-21,  9.6109e-21, -2.2179e-20],\n",
      "          [ 6.6600e-22, -7.0048e-22,  7.9624e-22,  1.7442e-17,  4.3833e-17]],\n",
      "\n",
      "         ...,\n",
      "\n",
      "         [[-2.1381e-22,  1.0816e-21, -8.2056e-22,  4.2756e-21, -8.4289e-21],\n",
      "          [-1.3776e-23,  5.8371e-22, -4.6472e-22,  2.3201e-21, -3.1355e-21],\n",
      "          [ 1.5753e-22, -4.9128e-23,  3.4816e-22,  8.0907e-23,  5.1374e-22],\n",
      "          [ 1.0014e-22, -1.9087e-23,  1.9305e-22,  1.5989e-22,  5.9171e-22],\n",
      "          [ 2.3231e-22, -2.8580e-22,  6.2946e-22, -6.6196e-22,  1.3937e-21]],\n",
      "\n",
      "         [[-1.0998e-26,  3.9420e-21, -1.7062e-26,  1.8640e-20,  3.2057e-20],\n",
      "          [-1.5403e-26, -1.5516e-27, -1.1627e-25,  2.3900e-25, -1.3036e-24],\n",
      "          [-5.0697e-26,  8.4443e-26, -1.1891e-25,  8.4293e-26,  8.3466e-25],\n",
      "          [-3.4523e-26, -1.0254e-25, -2.0415e-25,  3.0613e-25, -3.7188e-24],\n",
      "          [-1.2551e-25,  3.7307e-25,  7.2820e-26, -9.5983e-25,  1.0267e-23]],\n",
      "\n",
      "         [[ 1.4505e-20,  1.1354e-20,  7.7319e-20,  6.6858e-20,  9.6667e-20],\n",
      "          [ 1.7243e-20,  1.4157e-21,  4.3098e-20,  4.2876e-20,  8.7271e-20],\n",
      "          [ 4.4903e-22,  7.3820e-23,  2.0286e-21,  9.8648e-21,  2.0126e-20],\n",
      "          [ 6.3487e-22, -1.2115e-21,  1.9134e-21,  1.7310e-17,  3.0082e-16],\n",
      "          [ 7.2113e-19,  1.4966e-21,  1.9467e-16,  2.6091e-16,  7.7721e-17]]],\n",
      "\n",
      "\n",
      "        [[[ 2.8308e-17,  3.8835e-17,  4.9375e-17,  4.3984e-17,  3.2598e-17],\n",
      "          [ 1.5191e-17,  1.4003e-17,  1.9509e-17,  1.2508e-17,  1.5352e-17],\n",
      "          [ 5.2940e-17,  5.1816e-17,  4.3096e-17,  3.3675e-17,  3.8968e-17],\n",
      "          [ 2.3705e-17,  3.0860e-17,  2.5512e-17,  1.7392e-17,  2.4565e-17],\n",
      "          [ 1.3735e-17,  2.0492e-17,  1.3682e-17,  1.2827e-17,  1.5455e-17]],\n",
      "\n",
      "         [[-8.7961e-18,  1.1143e-17,  3.3142e-18,  2.6907e-18,  1.1227e-17],\n",
      "          [ 2.4239e-18,  9.6461e-18,  8.9355e-18,  1.0774e-17,  7.9671e-18],\n",
      "          [ 8.3549e-18,  5.1064e-18,  5.2173e-18,  4.9289e-18,  3.9100e-18],\n",
      "          [ 1.8348e-18,  5.4508e-18,  3.5842e-18,  5.4962e-18,  4.9735e-18],\n",
      "          [ 5.3959e-18,  3.5124e-18,  8.5209e-18,  8.8372e-18,  6.0775e-18]],\n",
      "\n",
      "         [[ 4.9970e-17,  3.4450e-17,  3.5895e-17,  3.5414e-17,  3.3486e-17],\n",
      "          [ 4.9567e-17,  4.7956e-17,  3.2471e-17,  3.2939e-17,  2.9658e-17],\n",
      "          [ 3.7625e-17,  3.8812e-17,  2.8692e-17,  2.7545e-17,  2.5246e-17],\n",
      "          [ 5.7495e-17,  5.3052e-17,  4.5646e-17,  4.2046e-17,  4.0068e-17],\n",
      "          [ 3.8716e-17,  4.1672e-17,  4.1066e-17,  4.2013e-17,  3.1828e-17]],\n",
      "\n",
      "         ...,\n",
      "\n",
      "         [[ 1.9073e-17,  1.6495e-17,  1.3614e-17,  1.1706e-17,  6.7422e-18],\n",
      "          [ 1.0476e-17,  1.0527e-17,  8.2568e-18,  4.6237e-18,  1.1776e-18],\n",
      "          [ 8.3860e-18,  6.7028e-18,  4.3873e-18,  6.1198e-18,  6.2753e-18],\n",
      "          [ 2.0935e-17,  1.7454e-17,  1.2955e-17,  1.3210e-17,  1.4483e-17],\n",
      "          [ 2.2538e-17,  1.8250e-17,  9.0345e-18,  9.8996e-18,  7.6675e-18]],\n",
      "\n",
      "         [[ 2.8793e-18,  1.4458e-18,  7.5994e-19, -2.8306e-19,  2.9002e-18],\n",
      "          [ 1.6455e-18,  1.3782e-18,  2.0448e-18,  9.0769e-19,  3.2139e-18],\n",
      "          [ 5.8766e-19, -1.6505e-19,  6.3616e-19,  8.9768e-19, -4.1681e-20],\n",
      "          [ 9.5527e-20,  5.2116e-19,  1.6648e-18,  1.0302e-18, -3.1275e-20],\n",
      "          [ 3.2054e-19,  7.0088e-19,  2.1810e-18,  1.3693e-18,  8.5370e-19]],\n",
      "\n",
      "         [[ 5.7584e-17,  4.8558e-17,  5.7457e-17,  3.8067e-17,  4.6798e-17],\n",
      "          [ 9.1153e-17,  7.0211e-17,  7.8113e-17,  6.3425e-17,  6.2669e-17],\n",
      "          [ 4.7587e-17,  2.5832e-17,  4.1505e-17,  3.0080e-17,  4.2020e-17],\n",
      "          [ 3.1770e-17,  2.8805e-17,  3.1079e-17,  3.6760e-17,  3.4227e-17],\n",
      "          [ 2.6066e-17,  3.6085e-17,  4.1313e-17,  3.9063e-17,  4.2428e-17]]]],\n",
      "       device='cuda:0'), 'exp_avg_sq': tensor([[[[5.2477e-12, 2.0245e-12, 6.4997e-13, 4.5656e-14, 8.4179e-14],\n",
      "          [7.7049e-12, 6.2581e-12, 4.4283e-13, 1.6069e-14, 6.8494e-13],\n",
      "          [6.7295e-12, 6.4806e-12, 2.0551e-12, 4.0037e-13, 5.1097e-14],\n",
      "          [2.0501e-12, 3.1310e-12, 1.9511e-12, 4.2871e-13, 1.2371e-13],\n",
      "          [3.7730e-13, 9.5367e-13, 4.7302e-13, 1.2661e-12, 4.6525e-13]],\n",
      "\n",
      "         [[2.4084e-13, 6.0287e-13, 3.4874e-12, 2.8569e-12, 3.4063e-12],\n",
      "          [1.0651e-14, 3.3948e-14, 1.5274e-12, 1.7788e-12, 4.2007e-12],\n",
      "          [5.0359e-13, 3.0734e-14, 5.1244e-14, 1.9120e-12, 1.7531e-12],\n",
      "          [4.3156e-14, 8.9702e-14, 1.9102e-13, 2.9790e-13, 1.4229e-12],\n",
      "          [8.9832e-14, 1.4505e-13, 4.9480e-13, 1.1354e-12, 8.5395e-13]],\n",
      "\n",
      "         [[3.4462e-12, 1.8523e-12, 1.9609e-13, 3.2194e-13, 3.5314e-12],\n",
      "          [4.5547e-12, 1.9619e-12, 1.5727e-12, 1.0817e-12, 3.3467e-12],\n",
      "          [2.8970e-12, 9.3818e-13, 2.3403e-12, 1.2365e-12, 2.5917e-12],\n",
      "          [2.9761e-12, 1.1137e-12, 6.9864e-13, 1.7561e-13, 1.3855e-12],\n",
      "          [3.1626e-12, 2.1818e-12, 2.6756e-12, 7.4546e-13, 1.5351e-12]],\n",
      "\n",
      "         ...,\n",
      "\n",
      "         [[4.2555e-16, 6.8601e-16, 1.6919e-15, 2.0193e-15, 1.4797e-14],\n",
      "          [8.4274e-16, 6.8614e-16, 1.9829e-14, 8.5553e-15, 3.5024e-15],\n",
      "          [2.2636e-16, 4.4100e-16, 2.7913e-14, 1.0644e-14, 1.5479e-15],\n",
      "          [8.1274e-15, 1.5622e-14, 2.8732e-15, 7.8638e-15, 1.0333e-14],\n",
      "          [1.6928e-15, 8.0740e-15, 3.0073e-16, 5.2794e-15, 1.9373e-15]],\n",
      "\n",
      "         [[1.5061e-14, 4.7058e-14, 1.1252e-14, 7.7279e-15, 1.0487e-14],\n",
      "          [2.2444e-15, 4.9548e-14, 1.1114e-14, 1.0081e-14, 1.0136e-13],\n",
      "          [2.0347e-14, 5.9896e-14, 1.5332e-15, 3.2903e-14, 1.3834e-13],\n",
      "          [5.2171e-17, 1.0264e-14, 3.6235e-15, 9.2947e-16, 2.7314e-15],\n",
      "          [2.1746e-14, 1.3960e-14, 5.0538e-16, 3.2308e-15, 1.0180e-14]],\n",
      "\n",
      "         [[4.5353e-14, 1.6789e-13, 2.7607e-16, 5.9046e-14, 2.5184e-15],\n",
      "          [6.8248e-14, 7.0318e-14, 4.0460e-14, 1.4145e-14, 2.4836e-15],\n",
      "          [6.4759e-15, 1.4664e-14, 1.5786e-14, 1.3333e-13, 4.9024e-14],\n",
      "          [3.7217e-14, 9.3339e-15, 4.8619e-15, 4.3600e-14, 5.9528e-14],\n",
      "          [1.4715e-15, 2.0759e-15, 2.3621e-14, 1.8476e-15, 1.1172e-13]]],\n",
      "\n",
      "\n",
      "        [[[2.2065e-09, 2.2484e-09, 1.3169e-09, 1.0357e-09, 1.2055e-09],\n",
      "          [4.7613e-09, 4.9312e-09, 3.2928e-09, 2.2268e-09, 2.8658e-09],\n",
      "          [2.8744e-09, 3.5531e-09, 2.8898e-09, 2.1527e-09, 3.6321e-09],\n",
      "          [9.8380e-10, 9.2228e-10, 5.9755e-10, 7.1163e-10, 1.4466e-09],\n",
      "          [2.2563e-09, 2.4003e-09, 1.6459e-09, 1.3462e-09, 1.2335e-09]],\n",
      "\n",
      "         [[1.6137e-09, 1.6902e-09, 2.1027e-09, 2.8680e-09, 2.8925e-09],\n",
      "          [1.8656e-09, 1.2308e-09, 2.0053e-09, 2.7044e-09, 2.6709e-09],\n",
      "          [1.8921e-09, 1.3673e-09, 2.0305e-09, 2.1460e-09, 2.5563e-09],\n",
      "          [1.6469e-09, 1.6975e-09, 2.1252e-09, 2.6972e-09, 2.9106e-09],\n",
      "          [1.6532e-09, 1.6413e-09, 1.6405e-09, 2.3813e-09, 2.4367e-09]],\n",
      "\n",
      "         [[8.0580e-09, 7.1285e-09, 6.6673e-09, 7.2203e-09, 8.6289e-09],\n",
      "          [6.6746e-09, 6.1391e-09, 5.5848e-09, 6.6986e-09, 7.9606e-09],\n",
      "          [8.9844e-09, 7.8021e-09, 6.8282e-09, 8.7590e-09, 8.8132e-09],\n",
      "          [7.7862e-09, 7.7948e-09, 8.3000e-09, 8.6801e-09, 9.4692e-09],\n",
      "          [4.8881e-09, 4.1157e-09, 4.7865e-09, 5.5430e-09, 7.2485e-09]],\n",
      "\n",
      "         ...,\n",
      "\n",
      "         [[1.6768e-13, 2.9984e-13, 2.4348e-13, 9.1842e-13, 6.6716e-13],\n",
      "          [1.0904e-12, 3.3002e-13, 1.3362e-13, 1.4972e-13, 1.2092e-13],\n",
      "          [3.2169e-11, 1.4697e-11, 8.2453e-12, 5.3791e-12, 9.2417e-12],\n",
      "          [6.6519e-12, 6.8036e-12, 8.0921e-12, 7.9530e-12, 1.0100e-11],\n",
      "          [2.0875e-12, 1.3927e-12, 1.0447e-12, 2.3473e-12, 2.8893e-12]],\n",
      "\n",
      "         [[7.2137e-12, 1.1383e-11, 2.3050e-11, 2.4456e-11, 1.2511e-11],\n",
      "          [6.7235e-12, 8.5081e-12, 1.5933e-11, 1.8299e-11, 9.1677e-12],\n",
      "          [1.1063e-11, 1.0270e-11, 1.9290e-11, 1.5908e-11, 1.0755e-11],\n",
      "          [1.7333e-11, 2.2769e-11, 3.2793e-11, 2.5366e-11, 1.8096e-11],\n",
      "          [1.2406e-11, 1.7373e-11, 2.8521e-11, 3.2740e-11, 2.3752e-11]],\n",
      "\n",
      "         [[1.3037e-10, 1.2911e-10, 9.7864e-11, 8.8038e-11, 7.4061e-11],\n",
      "          [1.4429e-11, 1.7146e-11, 2.5582e-11, 2.6948e-11, 2.3295e-11],\n",
      "          [4.1142e-12, 3.2289e-12, 2.2911e-12, 1.7672e-12, 4.3419e-12],\n",
      "          [1.1588e-11, 1.6968e-11, 5.3038e-12, 5.4154e-12, 4.8453e-12],\n",
      "          [5.8790e-12, 8.0968e-12, 7.5814e-12, 1.0335e-11, 4.6110e-12]]],\n",
      "\n",
      "\n",
      "        [[[2.0430e-09, 1.3390e-09, 1.9359e-09, 2.6742e-09, 1.9676e-09],\n",
      "          [4.0070e-09, 2.9995e-09, 2.9458e-09, 4.6716e-09, 9.3651e-09],\n",
      "          [4.5062e-09, 3.4539e-09, 4.4468e-09, 8.0363e-09, 6.7925e-09],\n",
      "          [1.6158e-08, 1.8431e-08, 1.5402e-08, 1.7622e-08, 1.5156e-08],\n",
      "          [1.1257e-08, 1.1591e-08, 7.3051e-09, 4.1333e-09, 4.3550e-09]],\n",
      "\n",
      "         [[2.1767e-09, 2.0407e-09, 1.5859e-09, 1.8212e-09, 2.8338e-09],\n",
      "          [1.1088e-09, 3.0681e-09, 2.5745e-09, 1.5385e-09, 1.1847e-09],\n",
      "          [2.9259e-09, 4.3331e-09, 3.5410e-09, 2.1996e-09, 8.9802e-10],\n",
      "          [3.7819e-09, 2.0110e-09, 2.0258e-09, 1.7761e-09, 2.3534e-09],\n",
      "          [5.9709e-09, 2.1414e-09, 1.6697e-09, 2.4328e-09, 5.7856e-09]],\n",
      "\n",
      "         [[5.6348e-09, 3.9776e-09, 4.7149e-09, 4.9630e-09, 7.4397e-09],\n",
      "          [6.8603e-09, 4.2749e-09, 4.0416e-09, 3.8763e-09, 4.1991e-09],\n",
      "          [1.8154e-08, 1.9236e-08, 2.0570e-08, 1.3579e-08, 1.6437e-08],\n",
      "          [1.5512e-08, 1.6590e-08, 1.6219e-08, 1.4768e-08, 1.4638e-08],\n",
      "          [3.7324e-08, 3.8453e-08, 3.4908e-08, 4.0610e-08, 3.3041e-08]],\n",
      "\n",
      "         ...,\n",
      "\n",
      "         [[1.3540e-09, 1.0452e-09, 1.0120e-09, 7.1971e-10, 4.5566e-10],\n",
      "          [5.0092e-09, 5.4682e-09, 3.5693e-09, 2.3214e-09, 2.9700e-09],\n",
      "          [7.4746e-09, 9.6139e-09, 1.1153e-08, 1.2683e-08, 1.5988e-08],\n",
      "          [1.8472e-08, 2.0946e-08, 3.7604e-08, 3.5149e-08, 3.6375e-08],\n",
      "          [3.3782e-08, 3.8011e-08, 3.4886e-08, 3.3808e-08, 3.7066e-08]],\n",
      "\n",
      "         [[4.3017e-10, 5.0190e-10, 4.2857e-10, 4.6823e-10, 7.1300e-10],\n",
      "          [3.6630e-10, 4.6532e-10, 3.1443e-10, 5.4858e-10, 3.6671e-10],\n",
      "          [3.2104e-10, 6.9218e-10, 4.7530e-10, 4.7618e-10, 8.6440e-10],\n",
      "          [4.0577e-10, 8.4631e-10, 7.8657e-10, 9.4550e-10, 1.4418e-09],\n",
      "          [1.0053e-09, 1.0989e-09, 1.5570e-09, 1.9290e-09, 3.2649e-09]],\n",
      "\n",
      "         [[5.3306e-09, 5.1584e-09, 6.5599e-09, 9.7678e-09, 1.3329e-08],\n",
      "          [3.4072e-09, 3.0765e-09, 3.1106e-09, 3.9875e-09, 5.5205e-09],\n",
      "          [2.0087e-08, 2.0392e-08, 1.2535e-08, 1.2570e-08, 8.1012e-09],\n",
      "          [8.9949e-09, 8.5643e-09, 6.1573e-09, 2.9742e-09, 5.3406e-09],\n",
      "          [1.6784e-08, 1.3790e-08, 1.2088e-08, 7.0861e-09, 7.4426e-09]]],\n",
      "\n",
      "\n",
      "        ...,\n",
      "\n",
      "\n",
      "        [[[3.4718e-10, 3.6888e-10, 4.6839e-10, 7.9078e-10, 7.5238e-10],\n",
      "          [7.1679e-10, 6.0649e-10, 6.7549e-10, 6.2701e-10, 4.3747e-10],\n",
      "          [8.3304e-10, 5.9489e-10, 8.9919e-10, 1.0791e-09, 6.0981e-10],\n",
      "          [1.0253e-09, 1.1015e-09, 1.2781e-09, 1.0500e-09, 7.3949e-10],\n",
      "          [1.4330e-09, 1.7527e-09, 1.8126e-09, 1.3531e-09, 1.3093e-09]],\n",
      "\n",
      "         [[5.2766e-10, 8.4664e-10, 7.0648e-10, 6.2037e-10, 4.9761e-10],\n",
      "          [5.2276e-10, 6.8947e-10, 6.3578e-10, 4.2365e-10, 5.1572e-10],\n",
      "          [6.5490e-10, 7.2566e-10, 6.3802e-10, 4.8339e-10, 4.1405e-10],\n",
      "          [6.6021e-10, 5.7413e-10, 6.3985e-10, 5.8588e-10, 5.1055e-10],\n",
      "          [5.8943e-10, 5.0344e-10, 4.8150e-10, 4.5471e-10, 4.9263e-10]],\n",
      "\n",
      "         [[2.8787e-09, 2.8073e-09, 2.9791e-09, 2.6457e-09, 2.1519e-09],\n",
      "          [1.5423e-09, 1.8120e-09, 2.1793e-09, 2.2927e-09, 1.9705e-09],\n",
      "          [2.1212e-09, 2.3820e-09, 2.0916e-09, 1.7727e-09, 1.5476e-09],\n",
      "          [2.9545e-09, 3.0350e-09, 2.7669e-09, 2.5944e-09, 2.3901e-09],\n",
      "          [3.2077e-09, 3.1602e-09, 2.7225e-09, 2.5694e-09, 2.2236e-09]],\n",
      "\n",
      "         ...,\n",
      "\n",
      "         [[9.5174e-12, 6.3047e-12, 7.5297e-12, 1.2594e-12, 1.9940e-11],\n",
      "          [3.5281e-13, 3.1922e-13, 2.8740e-13, 4.5146e-13, 1.2482e-12],\n",
      "          [1.8270e-12, 3.8995e-13, 6.9742e-13, 5.5952e-13, 2.6259e-13],\n",
      "          [5.2829e-12, 1.2465e-12, 2.5971e-12, 1.7271e-12, 4.6472e-13],\n",
      "          [1.1141e-11, 1.1996e-11, 2.2615e-12, 1.9776e-12, 7.0295e-12]],\n",
      "\n",
      "         [[7.1216e-12, 5.8164e-12, 5.7557e-12, 6.2852e-12, 6.9290e-12],\n",
      "          [5.9268e-12, 5.8628e-12, 3.0352e-12, 2.9606e-12, 6.9624e-12],\n",
      "          [2.2664e-12, 2.8258e-12, 1.3920e-12, 1.5550e-12, 3.1014e-12],\n",
      "          [9.7574e-13, 7.3155e-13, 4.0768e-13, 6.5516e-13, 1.6499e-12],\n",
      "          [7.4867e-13, 5.4290e-13, 2.4967e-13, 2.4300e-13, 1.1402e-12]],\n",
      "\n",
      "         [[1.0763e-09, 1.0014e-09, 7.3705e-10, 5.3902e-10, 5.6795e-10],\n",
      "          [2.2104e-10, 2.4025e-10, 2.8316e-10, 1.9082e-10, 4.6008e-10],\n",
      "          [1.1413e-11, 7.6804e-12, 2.3962e-11, 1.3898e-11, 7.1764e-11],\n",
      "          [1.2851e-11, 6.2581e-12, 3.9081e-11, 1.3173e-11, 5.5398e-11],\n",
      "          [5.4955e-12, 9.0661e-12, 3.3096e-12, 9.3532e-12, 2.1829e-11]]],\n",
      "\n",
      "\n",
      "        [[[6.7514e-11, 4.8992e-11, 4.5728e-11, 9.2726e-11, 4.8636e-11],\n",
      "          [1.5974e-10, 1.4504e-10, 1.7038e-10, 2.5248e-10, 1.5275e-10],\n",
      "          [1.4159e-10, 1.2466e-10, 1.8540e-10, 2.6610e-10, 1.9001e-10],\n",
      "          [1.2515e-10, 1.0034e-10, 1.1219e-10, 1.0229e-10, 1.1004e-10],\n",
      "          [1.4131e-10, 1.0315e-10, 1.1981e-10, 1.0643e-10, 1.3212e-10]],\n",
      "\n",
      "         [[6.9388e-11, 8.7364e-11, 8.3392e-11, 4.6712e-11, 6.3566e-11],\n",
      "          [7.5876e-11, 8.8207e-11, 6.8972e-11, 3.6543e-11, 3.7013e-11],\n",
      "          [6.4377e-11, 8.6558e-11, 6.5228e-11, 4.4158e-11, 3.4785e-11],\n",
      "          [4.5047e-11, 5.5537e-11, 6.6603e-11, 3.3145e-11, 4.1521e-11],\n",
      "          [5.0223e-11, 4.6185e-11, 6.7009e-11, 3.9876e-11, 3.4039e-11]],\n",
      "\n",
      "         [[2.2797e-10, 2.5117e-10, 2.5714e-10, 2.5714e-10, 2.3151e-10],\n",
      "          [1.9263e-10, 2.2727e-10, 2.1257e-10, 1.7806e-10, 1.8737e-10],\n",
      "          [3.6409e-10, 3.9665e-10, 3.6516e-10, 2.9552e-10, 2.4044e-10],\n",
      "          [2.4540e-10, 2.8941e-10, 2.8629e-10, 2.9872e-10, 2.4818e-10],\n",
      "          [2.8872e-10, 3.1224e-10, 2.6435e-10, 2.4516e-10, 2.0666e-10]],\n",
      "\n",
      "         ...,\n",
      "\n",
      "         [[9.9904e-14, 6.1436e-15, 9.4052e-14, 6.6950e-14, 6.5390e-14],\n",
      "          [9.0735e-14, 1.2245e-13, 1.6998e-13, 1.6755e-14, 1.4679e-14],\n",
      "          [3.3158e-13, 3.2417e-13, 5.6948e-13, 7.8730e-14, 4.9281e-14],\n",
      "          [1.2687e-14, 1.1907e-13, 9.1312e-14, 3.2949e-14, 4.4724e-14],\n",
      "          [6.2559e-14, 7.8765e-14, 6.1553e-14, 3.6458e-14, 2.9711e-14]],\n",
      "\n",
      "         [[6.2351e-13, 4.2513e-13, 1.1858e-13, 2.5948e-13, 9.8804e-13],\n",
      "          [1.0891e-12, 5.2582e-13, 9.0321e-14, 6.0085e-14, 7.0648e-13],\n",
      "          [8.5979e-13, 5.9026e-13, 1.1936e-13, 2.0754e-13, 8.1235e-13],\n",
      "          [4.7082e-13, 7.0785e-13, 4.6182e-13, 2.7092e-13, 1.1882e-12],\n",
      "          [4.8406e-13, 2.9027e-13, 3.0027e-13, 2.6950e-13, 6.8698e-13]],\n",
      "\n",
      "         [[1.7210e-12, 1.0694e-12, 1.6231e-12, 2.7783e-12, 1.6385e-12],\n",
      "          [3.4279e-13, 8.9384e-14, 4.4944e-13, 5.0147e-13, 3.8997e-13],\n",
      "          [6.6842e-13, 5.4984e-13, 5.0851e-13, 4.8606e-13, 4.0701e-13],\n",
      "          [3.7699e-13, 6.7198e-13, 7.8376e-13, 2.5064e-13, 8.2541e-13],\n",
      "          [5.4008e-13, 5.9423e-13, 6.1758e-13, 3.2538e-13, 7.3462e-13]]],\n",
      "\n",
      "\n",
      "        [[[1.6522e-08, 2.6702e-08, 2.4309e-08, 1.5788e-08, 9.9493e-09],\n",
      "          [3.9694e-09, 7.5748e-09, 4.2228e-09, 2.9849e-09, 4.2988e-09],\n",
      "          [3.1564e-08, 4.7316e-08, 3.0038e-08, 2.2678e-08, 2.3041e-08],\n",
      "          [1.6701e-08, 1.4725e-08, 7.7157e-09, 4.6716e-09, 9.0189e-09],\n",
      "          [8.0173e-09, 5.6218e-09, 1.8021e-09, 2.4375e-09, 4.4611e-09]],\n",
      "\n",
      "         [[2.6764e-09, 2.1313e-09, 5.3189e-10, 1.1569e-09, 1.7619e-09],\n",
      "          [5.4975e-09, 2.2332e-09, 1.9032e-09, 3.4481e-09, 1.5744e-09],\n",
      "          [2.7458e-09, 5.5554e-10, 4.2361e-10, 5.8298e-10, 3.1252e-10],\n",
      "          [2.6293e-10, 5.8190e-10, 2.9602e-10, 4.1464e-10, 4.0202e-10],\n",
      "          [4.2876e-10, 2.3982e-10, 1.0612e-09, 1.0007e-09, 6.4790e-10]],\n",
      "\n",
      "         [[3.5663e-08, 2.9676e-08, 1.6006e-08, 1.6778e-08, 1.9066e-08],\n",
      "          [4.3648e-08, 3.5759e-08, 2.1397e-08, 1.9972e-08, 2.0762e-08],\n",
      "          [2.1488e-08, 1.8604e-08, 1.1138e-08, 1.1000e-08, 9.9491e-09],\n",
      "          [4.4328e-08, 3.6001e-08, 2.9075e-08, 3.0858e-08, 3.1238e-08],\n",
      "          [2.2552e-08, 2.4169e-08, 2.1813e-08, 2.3933e-08, 1.7564e-08]],\n",
      "\n",
      "         ...,\n",
      "\n",
      "         [[4.8074e-09, 3.7292e-09, 3.3697e-09, 2.1210e-09, 1.1050e-09],\n",
      "          [1.2132e-09, 1.5049e-09, 4.9496e-10, 1.6180e-10, 4.9981e-11],\n",
      "          [8.4721e-10, 3.0504e-10, 2.3728e-10, 7.6325e-10, 7.2950e-10],\n",
      "          [5.0901e-09, 3.7439e-09, 2.8530e-09, 2.5149e-09, 3.4241e-09],\n",
      "          [5.6312e-09, 3.5731e-09, 8.0512e-10, 8.1977e-10, 8.9041e-10]],\n",
      "\n",
      "         [[3.7898e-10, 1.4327e-10, 2.1232e-10, 1.7151e-10, 1.9317e-10],\n",
      "          [1.1606e-10, 4.1047e-11, 6.9403e-11, 7.2457e-11, 1.1587e-10],\n",
      "          [5.7453e-11, 1.9717e-12, 1.2907e-11, 3.9661e-11, 1.0266e-11],\n",
      "          [5.0551e-13, 4.2825e-12, 3.0894e-11, 1.6189e-11, 1.0065e-11],\n",
      "          [9.6910e-13, 9.8557e-12, 8.2165e-11, 2.8261e-11, 3.5613e-11]],\n",
      "\n",
      "         [[2.8095e-08, 4.9636e-08, 3.5994e-08, 2.5149e-08, 3.7979e-08],\n",
      "          [1.0553e-07, 1.3016e-07, 8.9117e-08, 7.2967e-08, 7.6936e-08],\n",
      "          [4.2442e-08, 4.2566e-08, 2.0875e-08, 1.5045e-08, 2.9687e-08],\n",
      "          [2.9294e-08, 1.9416e-08, 1.0555e-08, 1.4733e-08, 1.7387e-08],\n",
      "          [2.4363e-08, 1.5634e-08, 1.7653e-08, 1.9348e-08, 2.1215e-08]]]],\n",
      "       device='cuda:0')}, 139943011404104: {'step': 740, 'exp_avg': tensor([ 6.1867e-39,  6.6632e-06,  4.1485e-15,  2.0867e-37,  8.4734e-16,\n",
      "         2.7902e-05,  9.9787e-16,  4.6735e-17,  1.9842e-04, -6.6869e-04,\n",
      "         1.3314e-20,  4.4725e-15, -2.8946e-20, -3.7547e-04,  2.0315e-17,\n",
      "         4.7068e-15, -6.2659e-06,  4.5318e-22,  7.9302e-38,  1.9986e-40,\n",
      "        -1.4596e-04,  1.9061e-37,  1.0974e-12,  4.3374e-17, -2.0312e-04,\n",
      "        -1.0964e-04,  4.3640e-37,  8.8318e-18,  1.3044e-37,  1.5058e-16,\n",
      "        -1.1643e-04,  4.2525e-39,  1.8229e-38, -1.2752e-06,  5.1009e-14,\n",
      "         5.9665e-18,  8.1458e-07,  1.6942e-17,  1.0499e-15,  1.0488e-04,\n",
      "        -1.4011e-06,  7.0676e-38, -3.0754e-12,  2.2033e-13,  2.8404e-38,\n",
      "         2.2986e-04,  1.8292e-13, -3.5889e-22, -2.6520e-11, -3.3647e-04,\n",
      "         9.6517e-12,  1.7117e-16,  1.0392e-38,  1.6710e-12,  7.6205e-40,\n",
      "         1.4840e-12, -3.3806e-06,  6.3891e-39,  3.7059e-23,  2.6715e-15,\n",
      "         1.8067e-04,  3.8200e-18,  1.7679e-15,  5.4513e-16], device='cuda:0'), 'exp_avg_sq': tensor([5.5666e-11, 1.3213e-07, 1.2777e-05, 6.7167e-08, 2.3959e-06, 6.6263e-05,\n",
      "        3.6350e-07, 6.4721e-07, 1.2883e-03, 1.5964e-03, 3.0886e-08, 6.4154e-06,\n",
      "        1.0392e-09, 2.6001e-03, 1.9833e-07, 1.9354e-07, 2.0130e-08, 1.3648e-06,\n",
      "        5.7957e-09, 8.1270e-14, 5.8294e-04, 4.0907e-08, 9.9553e-09, 2.5213e-09,\n",
      "        5.4936e-04, 1.5639e-03, 3.1007e-07, 9.7841e-09, 1.4986e-08, 4.4639e-08,\n",
      "        3.1771e-06, 3.5567e-11, 5.8411e-10, 7.7202e-07, 1.0718e-10, 3.4879e-10,\n",
      "        9.9065e-05, 1.4458e-09, 1.0687e-08, 6.8193e-04, 7.4371e-06, 5.2441e-09,\n",
      "        5.3028e-07, 2.4202e-05, 9.6031e-10, 4.5901e-03, 2.6476e-05, 1.8626e-08,\n",
      "        8.1194e-07, 1.9781e-03, 1.3936e-08, 2.6137e-11, 1.8128e-10, 4.9017e-05,\n",
      "        1.1816e-12, 1.8105e-07, 1.0899e-06, 3.5573e-11, 8.3963e-07, 8.5179e-06,\n",
      "        1.5495e-03, 1.3421e-07, 3.4274e-09, 1.1631e-05], device='cuda:0')}, 139943011404176: {'step': 740, 'exp_avg': tensor([[[[ 1.3329e-40,  1.2641e-40,  2.0694e-40, -2.7665e-40,  2.8723e-40],\n",
      "          [ 1.2015e-40,  2.7506e-40,  1.4823e-40, -9.2172e-41,  2.1510e-42],\n",
      "          [-1.8181e-40,  2.4606e-40,  4.0782e-40,  2.0144e-40,  2.7196e-41],\n",
      "          [ 1.7716e-40,  6.1796e-41, -1.8635e-40, -6.7447e-41,  3.1249e-40],\n",
      "          [ 2.7964e-40,  7.5323e-41, -9.4270e-41, -2.7268e-40,  4.8066e-41]],\n",
      "\n",
      "         [[ 1.2452e-39,  1.8732e-39,  1.3164e-39,  1.4808e-39,  1.6683e-39],\n",
      "          [ 1.6518e-39,  1.8334e-39,  2.0608e-39,  2.6618e-39,  2.0141e-39],\n",
      "          [ 1.6199e-39,  1.4431e-39,  1.5766e-39,  2.1341e-39,  9.7166e-40],\n",
      "          [ 1.1117e-39,  1.1423e-39,  1.3423e-39,  9.8449e-40, -3.2129e-41],\n",
      "          [ 1.4610e-39,  4.2046e-40,  1.7499e-39,  1.0158e-39,  7.1191e-40]],\n",
      "\n",
      "         [[ 1.2306e-39,  1.0125e-39,  1.0867e-39,  4.5644e-40, -5.3206e-41],\n",
      "          [ 1.6741e-39,  1.0710e-39,  1.5859e-39,  1.7506e-39,  5.4938e-40],\n",
      "          [ 1.1109e-39,  1.0312e-39,  1.6736e-39,  1.5323e-39,  8.7659e-40],\n",
      "          [ 1.1820e-39,  1.7241e-39,  1.2793e-39,  5.7459e-40,  6.1180e-40],\n",
      "          [ 8.9426e-40,  1.0956e-39,  1.2641e-39,  2.7149e-40, -6.4859e-41]],\n",
      "\n",
      "         ...,\n",
      "\n",
      "         [[ 3.3255e-40,  1.6295e-40,  8.8980e-40,  3.6589e-40,  7.6360e-40],\n",
      "          [-1.5576e-40,  3.5729e-40, -7.8428e-41, -6.3797e-40, -1.4128e-40],\n",
      "          [ 4.5634e-40,  1.1418e-39,  8.1233e-40,  1.4615e-40,  6.7847e-40],\n",
      "          [ 2.4479e-40,  4.6829e-40, -2.4272e-40, -1.0832e-40,  4.1952e-40],\n",
      "          [ 2.4384e-40,  1.2201e-40,  1.6622e-41,  4.6301e-40,  3.5171e-40]],\n",
      "\n",
      "         [[ 9.4697e-40,  4.5557e-40,  5.0183e-40,  3.0094e-40,  9.1578e-41],\n",
      "          [ 1.8112e-40,  4.5819e-40,  3.9950e-40,  5.0242e-40,  2.9202e-40],\n",
      "          [ 1.0685e-39,  1.2661e-39,  6.0091e-40,  6.0457e-40,  6.4462e-40],\n",
      "          [ 6.4089e-40,  8.9319e-40,  6.1597e-40,  1.6732e-40,  5.4564e-40],\n",
      "          [ 5.0823e-40,  7.4714e-40, -3.7592e-40,  1.6893e-40,  4.7244e-40]],\n",
      "\n",
      "         [[-2.7940e-41, -1.4403e-40,  3.2750e-41,  4.3443e-40,  5.2942e-40],\n",
      "          [ 9.6928e-42, -3.9323e-41,  8.4074e-41, -3.3180e-41,  5.3782e-42],\n",
      "          [ 3.3861e-40,  2.3987e-40, -1.3272e-40, -1.3157e-40, -6.5951e-40],\n",
      "          [ 3.2023e-40,  1.1565e-40,  8.3679e-40,  4.2022e-40, -2.8832e-40],\n",
      "          [ 2.2884e-40,  3.9990e-40,  5.1721e-40,  4.2345e-40,  1.4329e-40]]],\n",
      "\n",
      "\n",
      "        [[[ 9.3001e-41,  6.8683e-41, -5.4101e-40, -1.3350e-41,  4.8113e-40],\n",
      "          [ 5.8388e-41,  4.7356e-40, -1.1485e-40, -1.1642e-40, -1.9739e-40],\n",
      "          [ 4.3814e-41,  6.2177e-40,  6.9342e-40,  4.4335e-40,  3.3351e-40],\n",
      "          [ 2.9395e-41,  4.2383e-40,  3.7136e-40,  1.9102e-40,  1.1760e-40],\n",
      "          [ 2.2849e-40,  6.3951e-40,  4.3902e-40,  7.3574e-41,  1.2301e-40]],\n",
      "\n",
      "         [[-3.7681e-07, -5.2474e-07, -7.5112e-07, -9.3094e-07, -9.1515e-07],\n",
      "          [-5.7718e-08, -1.0975e-07, -6.9174e-08, -8.9466e-08,  4.4792e-09],\n",
      "          [-8.7039e-09,  3.5000e-08, -1.6927e-09,  2.4839e-09,  2.0897e-08],\n",
      "          [-4.0794e-10, -1.8277e-09, -2.8460e-10,  3.2406e-11,  4.8081e-11],\n",
      "          [-2.8674e-08,  2.3533e-08, -3.7953e-08, -3.5945e-08, -5.1563e-08]],\n",
      "\n",
      "         [[-5.7029e-19, -4.6444e-19, -9.4757e-19, -8.3230e-19, -4.6057e-19],\n",
      "          [-3.3408e-19, -1.5754e-19, -1.1818e-19, -2.6693e-19, -3.2896e-19],\n",
      "          [-8.8359e-19, -6.8857e-19, -1.1089e-18, -1.1777e-18, -8.1198e-19],\n",
      "          [-2.5628e-18, -3.3312e-18, -4.0877e-18, -4.1820e-18, -4.9689e-18],\n",
      "          [-1.0289e-18,  5.0522e-19,  6.7438e-19, -1.5005e-18, -2.6086e-18]],\n",
      "\n",
      "         ...,\n",
      "\n",
      "         [[-2.4122e-35, -1.6589e-36, -1.7402e-30, -3.9849e-30,  9.1386e-35],\n",
      "          [ 1.0834e-37, -7.1768e-31,  8.8144e-37, -1.1101e-36,  1.8853e-36],\n",
      "          [ 2.7556e-37, -2.8829e-37,  3.3294e-37, -6.8793e-37,  1.3497e-36],\n",
      "          [ 8.9590e-37, -1.1143e-36,  1.5799e-36, -2.4562e-36,  3.2203e-36],\n",
      "          [ 8.6572e-37, -3.3810e-37,  1.8619e-36, -1.3982e-36,  7.0141e-36]],\n",
      "\n",
      "         [[ 2.0519e-31, -1.9789e-31,  2.0066e-32, -1.8994e-32,  3.9559e-33],\n",
      "          [-2.9290e-31,  3.5536e-31, -4.2181e-32,  2.4108e-32, -1.0234e-32],\n",
      "          [ 8.1861e-31, -1.6265e-31,  7.5700e-32, -3.3386e-32,  6.5500e-33],\n",
      "          [-1.4035e-30, -1.3225e-31, -2.2283e-31, -2.5385e-32, -4.5386e-32],\n",
      "          [ 4.2075e-30,  1.4258e-30,  5.3199e-31,  6.7486e-32,  7.3568e-32]],\n",
      "\n",
      "         [[-2.1376e-21, -2.4260e-21, -2.2071e-21, -2.5182e-21, -2.0836e-21],\n",
      "          [-4.0020e-20, -2.3742e-21, -2.6740e-21, -3.4143e-21, -2.2483e-21],\n",
      "          [-5.6195e-21, -3.8263e-21, -3.5169e-21, -3.1374e-21, -2.0707e-21],\n",
      "          [-2.1059e-21, -2.4161e-21, -1.6511e-21, -9.8529e-22, -4.4364e-22],\n",
      "          [-3.8258e-22, -1.6139e-22, -1.9045e-23, -3.6313e-24, -1.3755e-21]]],\n",
      "\n",
      "\n",
      "        [[[-8.4650e-40, -7.2331e-40, -5.3198e-40, -2.5543e-40, -2.2544e-40],\n",
      "          [-4.4934e-40, -4.1742e-40, -4.8666e-40, -4.0785e-40, -5.5422e-40],\n",
      "          [-5.9618e-40, -5.0046e-40, -7.5141e-40, -9.0588e-40, -5.8643e-40],\n",
      "          [-6.9380e-40, -6.8742e-40, -3.8374e-40, -4.1272e-40, -4.3087e-40],\n",
      "          [-4.9525e-40, -8.2148e-40, -8.7960e-40, -4.3750e-40, -4.6649e-40]],\n",
      "\n",
      "         [[ 1.4025e-07,  2.5058e-07,  1.5784e-07,  1.8890e-07,  2.1862e-08],\n",
      "          [ 8.9258e-08,  2.3053e-07,  8.6927e-08, -4.2034e-09, -4.6553e-08],\n",
      "          [ 3.6763e-08,  3.1248e-08,  2.6322e-09,  1.0607e-08,  1.9909e-07],\n",
      "          [-6.1045e-09,  7.0067e-08,  7.1582e-08,  1.8012e-08, -8.5100e-08],\n",
      "          [-2.1037e-08, -2.6460e-08, -6.9601e-09, -2.5777e-08,  8.8450e-09]],\n",
      "\n",
      "         [[ 5.2738e-18,  2.7919e-18,  1.5149e-18,  1.2979e-18,  7.0512e-18],\n",
      "          [ 1.0162e-17,  4.5684e-18,  3.4836e-18, -3.0248e-18, -2.6735e-18],\n",
      "          [ 9.4492e-18,  5.3138e-18,  2.7027e-18,  4.1127e-18,  7.6706e-18],\n",
      "          [ 9.8271e-18,  1.2474e-17,  1.4063e-17,  1.8273e-17,  5.9528e-18],\n",
      "          [ 2.0008e-17,  7.8753e-18,  3.9250e-18,  7.3170e-18,  2.3531e-19]],\n",
      "\n",
      "         ...,\n",
      "\n",
      "         [[ 8.9064e-25,  5.1237e-26, -1.8362e-25, -2.5984e-26, -2.8932e-25],\n",
      "          [-1.4328e-25, -1.0586e-24,  5.4148e-25,  2.1795e-25, -3.6468e-25],\n",
      "          [-4.7100e-26, -1.7710e-26,  4.7593e-27, -3.2243e-25,  1.3194e-25],\n",
      "          [ 3.7060e-25, -6.1230e-25,  4.9330e-25,  7.7011e-25, -3.2621e-25],\n",
      "          [ 7.3927e-24, -1.8472e-25,  5.8011e-25,  1.1381e-24,  2.3436e-24]],\n",
      "\n",
      "         [[-5.2390e-31,  4.7174e-32,  4.9547e-32, -3.6564e-32,  4.6449e-33],\n",
      "          [-4.3989e-31, -1.5599e-31, -2.8241e-31, -1.0080e-31, -1.8395e-31],\n",
      "          [ 3.9675e-31, -1.2693e-31,  1.8253e-31,  2.3763e-34,  5.0582e-32],\n",
      "          [ 1.3880e-31, -2.1550e-31, -1.4223e-31, -1.2470e-31, -8.6455e-32],\n",
      "          [ 1.1213e-30, -4.7238e-31,  3.1532e-31,  5.7114e-30, -6.3884e-32]],\n",
      "\n",
      "         [[-2.7386e-19, -1.1410e-18, -8.6698e-19,  1.2711e-19, -8.8762e-19],\n",
      "          [ 4.5896e-19,  1.5138e-19, -7.9520e-19, -4.7017e-19, -1.9310e-18],\n",
      "          [ 8.9532e-19, -4.7209e-19, -1.1097e-18, -3.8555e-19, -1.4551e-18],\n",
      "          [ 1.1326e-18,  8.6418e-19, -1.1778e-18, -5.7567e-19, -4.4146e-19],\n",
      "          [ 1.4975e-18,  2.3091e-19, -1.2877e-18, -1.1899e-19, -7.0590e-19]]],\n",
      "\n",
      "\n",
      "        ...,\n",
      "\n",
      "\n",
      "        [[[-1.3802e-40, -1.5908e-40, -2.9957e-40,  2.5516e-41, -1.2596e-40],\n",
      "          [-2.5480e-40,  1.1147e-40,  5.5027e-40, -1.8807e-40,  8.0514e-41],\n",
      "          [ 1.3773e-41,  2.7191e-40,  2.1139e-40, -2.0781e-41,  1.2933e-41],\n",
      "          [ 1.0208e-40, -1.0068e-40, -3.0304e-41, -1.6852e-40, -1.2640e-42],\n",
      "          [ 3.1540e-41,  6.9245e-41,  2.9150e-40, -1.2637e-40,  9.3929e-41]],\n",
      "\n",
      "         [[-1.1473e-07, -6.3067e-08, -3.8468e-08, -3.8048e-08, -1.0086e-07],\n",
      "          [-4.4095e-08, -1.5036e-08, -4.5242e-09, -5.3433e-09, -2.9206e-08],\n",
      "          [ 1.2460e-08, -1.7605e-08, -1.4379e-09,  3.0821e-08,  5.8615e-08],\n",
      "          [ 7.4002e-09, -5.0894e-09,  6.3316e-09,  4.6796e-09,  2.4490e-09],\n",
      "          [ 8.9507e-08,  1.4158e-08, -3.2496e-10,  6.6048e-09,  4.7312e-08]],\n",
      "\n",
      "         [[ 2.3981e-19, -4.9564e-20,  5.8191e-21, -2.5592e-19, -2.5753e-19],\n",
      "          [ 5.7036e-19,  2.1257e-19,  3.4125e-19,  3.2755e-19,  1.7060e-19],\n",
      "          [ 1.3086e-18,  5.4567e-19,  3.8839e-19,  4.0307e-19,  4.5843e-19],\n",
      "          [ 1.2476e-18,  1.3302e-18,  2.3611e-19,  6.1651e-21, -3.2800e-19],\n",
      "          [ 5.7776e-19,  1.5488e-18,  8.1863e-19,  1.0514e-19, -3.8737e-19]],\n",
      "\n",
      "         ...,\n",
      "\n",
      "         [[-1.1829e-26,  4.1611e-28,  4.6693e-29,  2.3141e-27,  6.9790e-30],\n",
      "          [-1.9709e-26, -5.2467e-27, -7.7817e-32, -6.5327e-28, -3.4565e-30],\n",
      "          [-2.4621e-26, -2.2296e-28,  6.1993e-30,  4.9585e-27,  1.0499e-29],\n",
      "          [ 2.4081e-27, -9.7105e-31, -9.2283e-27, -9.5372e-27, -3.9191e-26],\n",
      "          [-8.7173e-27, -6.1206e-27, -1.2964e-26, -4.8068e-26,  3.0098e-26]],\n",
      "\n",
      "         [[ 3.1803e-39,  2.4687e-39,  2.2700e-39,  3.2245e-39,  2.6451e-39],\n",
      "          [ 3.1119e-39,  2.2561e-39,  2.1919e-39,  2.5194e-39,  2.4185e-39],\n",
      "          [ 2.8060e-39,  3.0168e-39,  2.3763e-39,  2.0332e-39,  1.9251e-39],\n",
      "          [ 1.9893e-39,  2.7901e-39,  1.5875e-39,  7.4726e-40,  1.7066e-39],\n",
      "          [ 1.9878e-39,  2.4109e-39,  3.1596e-39,  2.9417e-39,  2.3213e-39]],\n",
      "\n",
      "         [[-1.0848e-19,  1.8152e-19, -1.5874e-19, -3.1665e-19, -2.5849e-19],\n",
      "          [-1.6940e-19, -6.8630e-20, -1.4107e-19, -3.8589e-19, -1.5546e-19],\n",
      "          [-3.2446e-20, -2.9778e-19, -2.6896e-19, -2.4470e-19,  4.1096e-19],\n",
      "          [-6.5137e-20, -3.5032e-19, -6.1448e-19,  2.6359e-19,  2.7503e-19],\n",
      "          [-1.6788e-19, -6.0183e-19, -6.3842e-19,  1.3164e-19, -4.9118e-19]]],\n",
      "\n",
      "\n",
      "        [[[-6.4464e-41,  3.1253e-40,  2.6412e-40,  1.3228e-40,  6.4626e-40],\n",
      "          [ 6.3427e-41,  1.3059e-40,  1.9774e-40, -2.6658e-40, -3.4537e-40],\n",
      "          [ 3.9295e-40,  2.6100e-40,  2.1783e-40,  2.4341e-40,  6.5299e-41],\n",
      "          [ 2.0526e-40,  5.6155e-40,  1.2381e-40,  7.6875e-42,  5.9509e-40],\n",
      "          [-1.9378e-40,  6.3691e-40,  2.2037e-40,  2.6834e-40,  4.9145e-41]],\n",
      "\n",
      "         [[-5.5732e-08,  4.9059e-08,  1.5043e-07,  2.9600e-07,  4.0170e-07],\n",
      "          [ 2.7338e-07,  1.4599e-07,  2.0459e-07,  1.7958e-07,  5.5430e-08],\n",
      "          [ 2.2329e-08, -2.6493e-08, -1.2407e-08,  2.9928e-09,  7.7532e-11],\n",
      "          [-3.2759e-08,  1.9443e-10, -1.1028e-08,  5.7831e-09,  8.3044e-08],\n",
      "          [-1.7650e-07, -1.2097e-08, -3.6309e-07, -4.7184e-07,  6.3994e-08]],\n",
      "\n",
      "         [[ 1.6505e-18, -5.7048e-19, -2.3407e-18, -5.1580e-18, -1.9820e-18],\n",
      "          [ 1.0196e-18,  1.4504e-19, -1.0571e-18, -7.6717e-19, -2.9948e-19],\n",
      "          [ 5.4263e-19,  4.8077e-18,  6.8844e-18, -3.6763e-18, -3.3679e-18],\n",
      "          [ 7.9827e-18,  1.3451e-17,  1.1107e-17,  6.3445e-18, -3.5721e-18],\n",
      "          [ 4.2410e-18,  8.0674e-18,  2.1807e-18,  1.4509e-18, -1.1520e-17]],\n",
      "\n",
      "         ...,\n",
      "\n",
      "         [[-5.7463e-29,  1.2891e-28, -3.1919e-29,  3.8201e-29, -7.9053e-29],\n",
      "          [ 2.4402e-29, -1.7759e-29,  1.4335e-29,  4.8145e-31,  9.8739e-30],\n",
      "          [ 7.0414e-30,  2.3914e-30, -2.6355e-29,  7.1754e-30, -6.0105e-29],\n",
      "          [ 6.5550e-29,  7.0868e-30,  1.3331e-29,  5.3094e-30,  9.2107e-30],\n",
      "          [ 4.9076e-26, -4.4722e-30, -4.0215e-26, -1.1473e-25, -2.4097e-28]],\n",
      "\n",
      "         [[ 5.3440e-22,  3.9616e-23, -4.5992e-23, -2.5822e-22, -7.6044e-22],\n",
      "          [ 3.7235e-22,  4.0795e-22, -4.3693e-23,  5.4113e-22, -1.6836e-22],\n",
      "          [ 1.3936e-21, -2.2833e-17,  5.3919e-18, -3.2886e-22, -3.5327e-22],\n",
      "          [ 3.7735e-17, -1.0474e-22,  9.6034e-19, -1.3658e-22,  3.9678e-23],\n",
      "          [ 1.3837e-21,  1.1987e-21,  5.3368e-22,  2.7019e-22,  1.3537e-22]],\n",
      "\n",
      "         [[-1.3662e-18, -1.8224e-18,  3.2074e-20,  2.9943e-19,  1.7927e-19],\n",
      "          [-6.0668e-19, -1.1106e-18, -8.1419e-20,  1.9623e-19,  2.2293e-19],\n",
      "          [-1.8105e-18, -6.1655e-19, -1.7570e-21,  2.9594e-18,  1.7526e-18],\n",
      "          [-1.8592e-18, -2.0997e-18, -1.4493e-20,  3.0330e-18,  1.2410e-18],\n",
      "          [ 3.2201e-18,  3.7397e-18,  4.1152e-18,  4.3954e-18,  4.1849e-18]]],\n",
      "\n",
      "\n",
      "        [[[-2.7991e-40, -5.3507e-41,  1.4082e-40,  1.2192e-40, -1.0136e-41],\n",
      "          [ 1.6813e-40,  4.5757e-40, -3.0747e-40, -2.3599e-40,  1.1688e-41],\n",
      "          [ 2.8441e-40,  3.7225e-40, -7.6987e-41,  1.3674e-40, -2.2257e-40],\n",
      "          [ 3.5054e-40,  4.3965e-40,  1.2607e-40,  3.7588e-40, -9.5400e-42],\n",
      "          [ 1.5714e-40,  4.2665e-40,  2.0040e-40, -1.8883e-40, -7.7388e-41]],\n",
      "\n",
      "         [[ 8.8642e-39,  8.3821e-39,  6.8798e-39,  7.2271e-39,  7.3481e-39],\n",
      "          [ 9.1421e-39,  7.7574e-39,  6.8075e-39,  6.9228e-39,  5.5327e-39],\n",
      "          [ 6.8607e-39,  5.7766e-39,  5.8296e-39,  5.9176e-39,  6.1860e-39],\n",
      "          [ 8.2890e-39,  6.9970e-39,  6.3754e-39,  5.7719e-39,  5.9816e-39],\n",
      "          [ 8.1602e-39,  7.4762e-39,  6.3683e-39,  5.9198e-39,  6.0742e-39]],\n",
      "\n",
      "         [[ 3.3304e-39,  3.8770e-39,  4.1444e-39,  4.6110e-39,  3.9284e-39],\n",
      "          [ 4.1479e-39,  4.0314e-39,  2.8189e-39,  3.8604e-39,  3.9349e-39],\n",
      "          [ 3.8915e-39,  3.6174e-39,  3.5445e-39,  4.1604e-39,  4.2101e-39],\n",
      "          [ 2.4285e-39,  3.0789e-39,  3.2871e-39,  3.1757e-39,  3.2815e-39],\n",
      "          [ 1.6941e-39,  2.1553e-39,  1.7730e-39,  2.4344e-39,  2.9120e-39]],\n",
      "\n",
      "         ...,\n",
      "\n",
      "         [[ 1.4662e-39,  2.1367e-39,  2.2360e-39,  1.7088e-39,  1.5997e-39],\n",
      "          [ 1.9127e-39,  2.4570e-39,  1.5651e-39,  1.8322e-39,  1.6969e-39],\n",
      "          [ 2.1677e-39,  2.8323e-39,  2.2660e-39,  1.6410e-39,  6.4184e-40],\n",
      "          [ 1.8680e-39,  2.4514e-39,  2.2586e-39,  2.2647e-39,  1.5510e-39],\n",
      "          [ 2.1475e-39,  2.1179e-39,  2.7582e-39,  2.5491e-39,  2.0007e-39]],\n",
      "\n",
      "         [[ 1.3703e-39,  1.0695e-39,  2.0477e-39,  1.7959e-39,  1.6766e-39],\n",
      "          [ 2.2106e-39,  2.4225e-39,  1.7916e-39,  7.4467e-40,  5.8494e-40],\n",
      "          [ 1.2742e-39,  1.7193e-39,  1.4334e-39,  1.1825e-39,  8.0100e-40],\n",
      "          [ 2.0033e-39,  1.9170e-39,  2.0598e-39,  1.5278e-39,  6.6612e-40],\n",
      "          [ 1.7440e-39,  1.8316e-39,  1.4236e-39,  1.8625e-39,  1.1233e-39]],\n",
      "\n",
      "         [[ 1.4259e-39,  1.2015e-39,  1.1285e-39,  1.1683e-39,  1.2164e-39],\n",
      "          [ 8.8057e-40,  9.2434e-40,  1.1654e-39,  1.4042e-39,  7.0845e-40],\n",
      "          [ 1.9380e-39,  1.1630e-39,  1.4800e-39,  1.0216e-39,  8.6006e-40],\n",
      "          [ 2.5765e-39,  1.8768e-39,  1.7076e-39,  1.2503e-39,  1.4817e-39],\n",
      "          [ 1.7886e-39,  2.0819e-39,  1.7970e-39,  1.8843e-39,  1.3409e-39]]]],\n",
      "       device='cuda:0'), 'exp_avg_sq': tensor([[[[3.6149e-14, 3.2514e-14, 8.7130e-14, 1.5573e-13, 1.6786e-13],\n",
      "          [2.7442e-14, 1.5394e-13, 4.4707e-14, 1.7285e-14, 9.4261e-18],\n",
      "          [6.7254e-14, 1.2319e-13, 3.3839e-13, 8.2565e-14, 1.5051e-15],\n",
      "          [6.3858e-14, 8.3562e-15, 7.0653e-14, 8.4303e-15, 1.9563e-13],\n",
      "          [1.5819e-13, 1.1544e-14, 1.8082e-14, 1.5129e-13, 4.7007e-15]],\n",
      "\n",
      "         [[3.0033e-12, 7.2062e-12, 3.1226e-12, 4.1083e-12, 4.3533e-12],\n",
      "          [5.1553e-12, 5.9027e-12, 7.8346e-12, 1.3199e-11, 7.0198e-12],\n",
      "          [5.1423e-12, 3.9258e-12, 4.6170e-12, 9.0273e-12, 1.4774e-12],\n",
      "          [2.4387e-12, 2.7985e-12, 3.2435e-12, 1.7921e-12, 3.3976e-14],\n",
      "          [3.9481e-12, 2.8177e-13, 5.0670e-12, 1.8641e-12, 8.9745e-13]],\n",
      "\n",
      "         [[2.7991e-12, 1.8134e-12, 2.2443e-12, 3.7888e-13, 4.5158e-14],\n",
      "          [5.1065e-12, 2.1324e-12, 4.7475e-12, 5.8559e-12, 3.8280e-13],\n",
      "          [2.3233e-12, 1.9559e-12, 5.2418e-12, 4.4635e-12, 1.3883e-12],\n",
      "          [2.6631e-12, 5.3051e-12, 3.3385e-12, 6.4418e-13, 7.0565e-13],\n",
      "          [1.7131e-12, 2.2382e-12, 3.4755e-12, 1.3927e-13, 1.4066e-14]],\n",
      "\n",
      "         ...,\n",
      "\n",
      "         [[1.9454e-13, 3.2995e-14, 1.5710e-12, 2.2251e-13, 1.1966e-12],\n",
      "          [4.9361e-14, 2.6006e-13, 1.2515e-14, 8.2811e-13, 4.4340e-14],\n",
      "          [4.2036e-13, 2.6280e-12, 1.3251e-12, 4.1628e-14, 8.9908e-13],\n",
      "          [1.1166e-13, 4.0399e-13, 1.2963e-13, 2.9194e-14, 3.1969e-13],\n",
      "          [1.1035e-13, 2.7851e-14, 2.6059e-16, 4.1211e-13, 2.3113e-13]],\n",
      "\n",
      "         [[1.8074e-12, 3.8064e-13, 5.2519e-13, 1.7828e-13, 1.3338e-14],\n",
      "          [5.6959e-14, 4.2652e-13, 3.3031e-13, 4.6509e-13, 1.6059e-13],\n",
      "          [2.2927e-12, 3.2318e-12, 6.9274e-13, 7.1832e-13, 8.3010e-13],\n",
      "          [8.3590e-13, 1.5945e-12, 7.5997e-13, 5.7266e-14, 6.0575e-13],\n",
      "          [5.0732e-13, 1.0954e-12, 3.1708e-13, 4.4383e-14, 4.0918e-13]],\n",
      "\n",
      "         [[1.4909e-15, 4.2743e-14, 1.0867e-15, 3.8646e-13, 5.7483e-13],\n",
      "          [2.3440e-16, 4.8736e-15, 1.4382e-14, 2.2400e-15, 3.8975e-17],\n",
      "          [2.3335e-13, 1.1707e-13, 3.5787e-14, 3.5223e-14, 8.8497e-13],\n",
      "          [2.0822e-13, 2.9214e-14, 1.4442e-12, 3.6049e-13, 1.6997e-13],\n",
      "          [9.5763e-14, 3.1568e-13, 5.3500e-13, 3.5657e-13, 3.8413e-14]]],\n",
      "\n",
      "\n",
      "        [[[8.2603e-15, 8.0335e-15, 6.4372e-13, 6.5591e-15, 4.1293e-13],\n",
      "          [1.1330e-14, 4.0123e-13, 5.2036e-14, 5.1650e-14, 1.3167e-13],\n",
      "          [8.1197e-15, 7.3537e-13, 8.6431e-13, 3.6133e-13, 1.5670e-13],\n",
      "          [7.9260e-16, 3.1644e-13, 2.0850e-13, 3.8139e-14, 1.4234e-14],\n",
      "          [7.0383e-14, 6.8038e-13, 3.2268e-13, 6.3640e-15, 1.4770e-14]],\n",
      "\n",
      "         [[2.7923e-10, 2.3918e-10, 4.3315e-10, 3.2507e-10, 4.3646e-10],\n",
      "          [2.8913e-10, 2.3036e-10, 3.6305e-10, 2.2100e-10, 2.5769e-10],\n",
      "          [5.0961e-10, 3.8356e-10, 5.2608e-10, 3.9031e-10, 3.6269e-10],\n",
      "          [3.4643e-10, 2.2293e-10, 2.3866e-10, 2.3098e-10, 2.2461e-10],\n",
      "          [5.1162e-10, 4.0376e-10, 4.7027e-10, 4.3672e-10, 3.9440e-10]],\n",
      "\n",
      "         [[7.0569e-11, 5.1204e-11, 7.5860e-11, 5.6339e-11, 5.5364e-11],\n",
      "          [5.1989e-11, 4.5031e-11, 7.1357e-11, 4.8308e-11, 5.3699e-11],\n",
      "          [4.1612e-11, 2.7653e-11, 4.6522e-11, 5.1187e-11, 4.5991e-11],\n",
      "          [4.3868e-11, 3.1719e-11, 6.0809e-11, 8.7723e-11, 7.9941e-11],\n",
      "          [6.4749e-11, 5.7662e-11, 7.7343e-11, 1.3238e-10, 1.3016e-10]],\n",
      "\n",
      "         ...,\n",
      "\n",
      "         [[6.1491e-12, 5.5421e-12, 5.8068e-12, 5.9227e-12, 5.0113e-12],\n",
      "          [8.3893e-12, 1.0018e-11, 7.0836e-12, 9.8738e-12, 1.0206e-11],\n",
      "          [6.4998e-12, 7.0669e-12, 5.6642e-12, 9.0016e-12, 6.3171e-12],\n",
      "          [5.2679e-12, 1.0689e-11, 9.9232e-12, 1.1411e-11, 8.4614e-12],\n",
      "          [5.2720e-12, 7.3412e-12, 5.4535e-12, 4.9870e-12, 7.0719e-12]],\n",
      "\n",
      "         [[6.1061e-12, 6.9932e-12, 3.4439e-12, 8.1414e-12, 8.4140e-12],\n",
      "          [3.6334e-12, 6.3258e-12, 2.5893e-12, 6.5186e-12, 5.0063e-12],\n",
      "          [5.0778e-12, 1.0347e-11, 6.9403e-12, 8.2839e-12, 9.3978e-12],\n",
      "          [2.6609e-12, 6.0700e-12, 6.0598e-12, 5.0801e-12, 4.9600e-12],\n",
      "          [5.1141e-12, 1.3956e-11, 9.1273e-12, 7.5997e-12, 6.2610e-12]],\n",
      "\n",
      "         [[1.2960e-12, 1.1571e-12, 1.5514e-12, 1.6429e-12, 1.4341e-12],\n",
      "          [2.7613e-12, 3.7976e-12, 2.5202e-12, 2.9237e-12, 1.6517e-12],\n",
      "          [3.5453e-12, 5.3317e-12, 3.7050e-12, 4.8070e-12, 3.7734e-12],\n",
      "          [3.1376e-12, 3.5715e-12, 3.4206e-12, 2.4759e-12, 2.7509e-12],\n",
      "          [5.6053e-12, 5.1154e-12, 5.7641e-12, 4.1728e-12, 5.2964e-12]]],\n",
      "\n",
      "\n",
      "        [[[1.6022e-12, 1.2843e-12, 7.6824e-13, 1.6970e-13, 1.4386e-13],\n",
      "          [5.5213e-13, 4.4729e-13, 5.7656e-13, 4.3440e-13, 6.5469e-13],\n",
      "          [8.4793e-13, 5.7354e-13, 1.3427e-12, 1.9858e-12, 9.1438e-13],\n",
      "          [1.1475e-12, 1.0784e-12, 3.5117e-13, 4.6968e-13, 6.9934e-13],\n",
      "          [6.3264e-13, 1.4895e-12, 1.8704e-12, 4.4185e-13, 4.9469e-13]],\n",
      "\n",
      "         [[4.6659e-10, 4.6816e-10, 4.5628e-10, 4.8429e-10, 5.2300e-10],\n",
      "          [3.9233e-10, 4.1843e-10, 4.3087e-10, 4.2567e-10, 4.2647e-10],\n",
      "          [5.5662e-10, 5.7572e-10, 5.5248e-10, 5.1712e-10, 5.1356e-10],\n",
      "          [3.6898e-10, 4.4773e-10, 4.8667e-10, 4.0467e-10, 3.5293e-10],\n",
      "          [4.3732e-10, 5.2778e-10, 5.2724e-10, 3.3735e-10, 4.7392e-10]],\n",
      "\n",
      "         [[1.5968e-10, 1.6911e-10, 1.3633e-10, 1.8729e-10, 2.2858e-10],\n",
      "          [3.0573e-10, 1.8523e-10, 1.4814e-10, 1.7915e-10, 2.7009e-10],\n",
      "          [3.4396e-10, 1.4550e-10, 1.8488e-10, 2.0924e-10, 2.8681e-10],\n",
      "          [4.0064e-10, 6.8245e-10, 4.0908e-10, 3.2968e-10, 3.1407e-10],\n",
      "          [2.9088e-10, 1.7596e-10, 1.6279e-10, 1.4875e-10, 1.1979e-10]],\n",
      "\n",
      "         ...,\n",
      "\n",
      "         [[2.6916e-11, 2.2980e-11, 2.1816e-11, 1.4679e-11, 1.0915e-11],\n",
      "          [3.2333e-11, 2.2841e-11, 2.9716e-11, 2.5553e-11, 2.1009e-11],\n",
      "          [1.9840e-11, 1.8526e-11, 2.0337e-11, 1.5797e-11, 1.2915e-11],\n",
      "          [2.2672e-11, 1.9558e-11, 2.2032e-11, 2.0313e-11, 1.7893e-11],\n",
      "          [4.7617e-11, 2.7980e-11, 2.6180e-11, 2.1583e-11, 1.9317e-11]],\n",
      "\n",
      "         [[2.0561e-11, 1.2546e-11, 1.6250e-11, 1.5073e-11, 1.0749e-11],\n",
      "          [1.7878e-11, 1.6980e-11, 1.6715e-11, 1.4154e-11, 1.2552e-11],\n",
      "          [1.7511e-11, 1.4694e-11, 1.7348e-11, 2.0244e-11, 1.5370e-11],\n",
      "          [1.9172e-11, 1.7050e-11, 2.3976e-11, 1.7520e-11, 1.3172e-11],\n",
      "          [1.5299e-11, 1.8161e-11, 1.5198e-11, 2.0222e-11, 1.4797e-11]],\n",
      "\n",
      "         [[5.8601e-11, 3.8539e-11, 1.1236e-11, 1.3549e-11, 1.2188e-11],\n",
      "          [9.4607e-11, 3.2142e-11, 1.8165e-11, 1.3775e-11, 2.4719e-11],\n",
      "          [8.2020e-11, 2.6884e-11, 2.2357e-11, 1.4448e-11, 2.7333e-11],\n",
      "          [9.7143e-11, 3.9430e-11, 2.2282e-11, 1.6020e-11, 1.7267e-11],\n",
      "          [2.7259e-10, 9.8836e-11, 3.6188e-11, 1.8805e-11, 2.5096e-11]]],\n",
      "\n",
      "\n",
      "        ...,\n",
      "\n",
      "\n",
      "        [[[6.7812e-14, 7.6725e-14, 2.2016e-13, 6.2758e-15, 7.4237e-14],\n",
      "          [1.5060e-13, 2.4703e-14, 5.4384e-13, 1.3204e-13, 6.5056e-15],\n",
      "          [2.7892e-15, 7.7194e-14, 5.4669e-14, 1.1032e-14, 1.5254e-15],\n",
      "          [9.5654e-15, 3.0114e-14, 3.5752e-14, 1.2076e-13, 1.9385e-16],\n",
      "          [9.2605e-16, 5.6272e-15, 1.1193e-13, 6.5671e-14, 1.5652e-14]],\n",
      "\n",
      "         [[3.8091e-10, 4.4827e-10, 4.7831e-10, 3.0355e-10, 3.6864e-10],\n",
      "          [2.6891e-10, 2.7286e-10, 3.3259e-10, 2.1244e-10, 3.1860e-10],\n",
      "          [3.5221e-10, 3.8764e-10, 4.3374e-10, 4.1094e-10, 4.6280e-10],\n",
      "          [2.6223e-10, 2.0621e-10, 2.6042e-10, 2.4343e-10, 3.1202e-10],\n",
      "          [3.0594e-10, 3.2706e-10, 3.4569e-10, 3.8270e-10, 3.7784e-10]],\n",
      "\n",
      "         [[3.7651e-11, 3.9742e-11, 4.8846e-11, 3.6194e-11, 4.3592e-11],\n",
      "          [3.5991e-11, 4.6771e-11, 7.8262e-11, 5.2891e-11, 4.6020e-11],\n",
      "          [4.9952e-11, 4.1191e-11, 7.3767e-11, 6.7684e-11, 3.9229e-11],\n",
      "          [4.5948e-11, 4.8671e-11, 5.2435e-11, 6.9750e-11, 7.4829e-11],\n",
      "          [4.3717e-11, 4.0312e-11, 4.5252e-11, 5.5212e-11, 5.6337e-11]],\n",
      "\n",
      "         ...,\n",
      "\n",
      "         [[9.4666e-12, 8.8447e-12, 1.4804e-11, 1.8323e-11, 2.1265e-11],\n",
      "          [1.2614e-11, 1.4674e-11, 1.5677e-11, 1.4177e-11, 1.0347e-11],\n",
      "          [1.5842e-11, 1.2382e-11, 8.7447e-12, 7.7683e-12, 7.6947e-12],\n",
      "          [1.5481e-11, 1.6421e-11, 1.6963e-11, 1.7067e-11, 1.4351e-11],\n",
      "          [1.2959e-11, 1.5434e-11, 1.6776e-11, 1.6534e-11, 2.1005e-11]],\n",
      "\n",
      "         [[9.7961e-12, 7.5628e-12, 5.1657e-12, 1.0760e-11, 7.2585e-12],\n",
      "          [8.8497e-12, 6.0089e-12, 5.1014e-12, 6.8581e-12, 5.4199e-12],\n",
      "          [9.5542e-12, 1.0334e-11, 6.6621e-12, 5.9331e-12, 4.5516e-12],\n",
      "          [5.2971e-12, 7.8998e-12, 4.0087e-12, 3.7886e-12, 3.4470e-12],\n",
      "          [5.8321e-12, 7.7232e-12, 9.8258e-12, 8.2882e-12, 5.2737e-12]],\n",
      "\n",
      "         [[2.5301e-11, 2.0285e-11, 2.0147e-11, 2.0227e-11, 2.8815e-11],\n",
      "          [1.5977e-11, 1.4417e-11, 1.7520e-11, 1.9443e-11, 4.0772e-11],\n",
      "          [2.1056e-11, 1.2673e-11, 1.5739e-11, 1.5983e-11, 6.7371e-11],\n",
      "          [2.3490e-11, 1.1989e-11, 1.5524e-11, 2.0772e-11, 3.6676e-11],\n",
      "          [2.2987e-11, 2.5871e-11, 3.0544e-11, 2.8284e-11, 1.9385e-11]]],\n",
      "\n",
      "\n",
      "        [[[3.4214e-14, 1.5018e-13, 1.1927e-13, 1.7573e-14, 6.4053e-13],\n",
      "          [3.9466e-15, 3.0727e-14, 6.2411e-14, 1.8587e-13, 2.7589e-13],\n",
      "          [2.3953e-13, 9.2273e-14, 6.9162e-14, 8.1525e-14, 3.9237e-15],\n",
      "          [5.9770e-14, 5.0804e-13, 2.5021e-14, 5.7626e-16, 5.1468e-13],\n",
      "          [1.1777e-13, 7.2951e-13, 7.5922e-14, 1.1890e-13, 2.7078e-15]],\n",
      "\n",
      "         [[3.5622e-10, 4.4409e-10, 3.9568e-10, 3.2310e-10, 2.9368e-10],\n",
      "          [3.2280e-10, 3.4361e-10, 3.3678e-10, 3.2376e-10, 3.2210e-10],\n",
      "          [3.2505e-10, 3.6745e-10, 2.9785e-10, 2.6519e-10, 2.2664e-10],\n",
      "          [4.3059e-10, 4.8002e-10, 4.1206e-10, 4.3767e-10, 3.9232e-10],\n",
      "          [3.0617e-10, 3.0722e-10, 3.1620e-10, 3.6651e-10, 3.2840e-10]],\n",
      "\n",
      "         [[7.3560e-11, 5.7160e-11, 5.8006e-11, 6.8494e-11, 5.3275e-11],\n",
      "          [7.6342e-11, 5.4460e-11, 5.6610e-11, 5.4937e-11, 6.8460e-11],\n",
      "          [7.4559e-11, 5.3721e-11, 6.2254e-11, 8.7766e-11, 8.4438e-11],\n",
      "          [6.3167e-11, 1.1889e-10, 1.2200e-10, 9.0815e-11, 7.7714e-11],\n",
      "          [2.3142e-10, 1.1958e-10, 1.6320e-10, 1.4169e-10, 1.2330e-10]],\n",
      "\n",
      "         ...,\n",
      "\n",
      "         [[1.0565e-11, 1.0630e-11, 4.1498e-12, 9.2773e-12, 1.0016e-11],\n",
      "          [1.3256e-11, 1.6312e-11, 1.7227e-11, 1.8036e-11, 1.8159e-11],\n",
      "          [1.1939e-11, 1.2836e-11, 1.3422e-11, 2.1769e-11, 1.4274e-11],\n",
      "          [5.7893e-12, 5.5389e-12, 6.5174e-12, 6.8329e-12, 5.5159e-12],\n",
      "          [1.1545e-11, 9.2140e-12, 1.1165e-11, 7.1144e-12, 1.3960e-11]],\n",
      "\n",
      "         [[5.8901e-12, 6.7492e-12, 5.6434e-12, 4.8868e-12, 5.0933e-12],\n",
      "          [5.3867e-12, 3.5652e-12, 3.2757e-12, 6.4654e-12, 7.7104e-12],\n",
      "          [5.6561e-12, 4.9973e-12, 6.2286e-12, 6.2673e-12, 4.4588e-12],\n",
      "          [7.2619e-12, 1.0342e-11, 1.2875e-11, 1.1058e-11, 9.3749e-12],\n",
      "          [4.5842e-12, 5.4301e-12, 5.4640e-12, 4.3350e-12, 4.7471e-12]],\n",
      "\n",
      "         [[3.5894e-11, 2.1611e-11, 8.1820e-12, 5.5911e-12, 1.1111e-11],\n",
      "          [2.0905e-11, 2.4441e-11, 1.2103e-11, 1.5178e-11, 2.7513e-11],\n",
      "          [5.1634e-11, 3.0809e-11, 3.2127e-11, 1.3854e-10, 1.6167e-10],\n",
      "          [7.3457e-11, 6.5998e-11, 2.1551e-11, 2.2285e-10, 8.7219e-11],\n",
      "          [1.6033e-10, 2.7663e-10, 5.1335e-10, 1.8115e-10, 1.2089e-10]]],\n",
      "\n",
      "\n",
      "        [[[1.6766e-13, 1.3186e-14, 3.7595e-14, 2.8612e-14, 2.0194e-16],\n",
      "          [5.5789e-14, 4.1400e-13, 2.2488e-13, 1.2257e-13, 1.7517e-16],\n",
      "          [1.2397e-13, 2.1994e-13, 2.4771e-14, 2.3900e-14, 1.1014e-13],\n",
      "          [2.0461e-13, 3.4650e-13, 1.4567e-14, 1.9966e-13, 1.0736e-14],\n",
      "          [5.0892e-14, 3.3520e-13, 5.4581e-14, 1.1591e-13, 5.3243e-14]],\n",
      "\n",
      "         [[7.8833e-11, 6.4782e-11, 4.7959e-11, 5.5353e-11, 5.4531e-11],\n",
      "          [8.3565e-11, 5.7294e-11, 4.6795e-11, 6.0635e-11, 5.0428e-11],\n",
      "          [5.4503e-11, 3.4140e-11, 3.7195e-11, 5.4460e-11, 5.0924e-11],\n",
      "          [7.3428e-11, 4.7912e-11, 4.5091e-11, 4.6821e-11, 4.5962e-11],\n",
      "          [6.8306e-11, 5.3031e-11, 4.2360e-11, 3.7981e-11, 3.8804e-11]],\n",
      "\n",
      "         [[1.1140e-11, 1.3758e-11, 1.6481e-11, 2.0700e-11, 1.4643e-11],\n",
      "          [1.5715e-11, 1.4928e-11, 1.1527e-11, 1.6875e-11, 1.5473e-11],\n",
      "          [1.3803e-11, 1.2065e-11, 1.3262e-11, 1.9112e-11, 1.7746e-11],\n",
      "          [7.8965e-12, 8.9129e-12, 1.0279e-11, 1.2073e-11, 1.3407e-11],\n",
      "          [5.9441e-12, 4.8550e-12, 4.2284e-12, 6.8458e-12, 9.3040e-12]],\n",
      "\n",
      "         ...,\n",
      "\n",
      "         [[2.4613e-12, 5.5052e-12, 5.5558e-12, 3.4699e-12, 2.8974e-12],\n",
      "          [3.8083e-12, 6.8022e-12, 2.3527e-12, 3.9711e-12, 2.9600e-12],\n",
      "          [4.5533e-12, 9.1397e-12, 5.3607e-12, 3.0913e-12, 4.3408e-13],\n",
      "          [3.1863e-12, 5.5921e-12, 4.8767e-12, 4.9740e-12, 2.3030e-12],\n",
      "          [5.1181e-12, 4.7972e-12, 8.4971e-12, 6.6174e-12, 4.0315e-12]],\n",
      "\n",
      "         [[1.8965e-12, 1.0442e-12, 4.6373e-12, 4.3825e-12, 3.3678e-12],\n",
      "          [5.3527e-12, 6.3908e-12, 3.2492e-12, 5.0853e-13, 3.6541e-13],\n",
      "          [1.5248e-12, 2.9517e-12, 1.8721e-12, 1.2755e-12, 8.7169e-13],\n",
      "          [3.8508e-12, 3.3538e-12, 3.9053e-12, 2.1720e-12, 8.5294e-13],\n",
      "          [2.7712e-12, 3.0864e-12, 1.8536e-12, 3.2941e-12, 1.2421e-12]],\n",
      "\n",
      "         [[2.9662e-12, 2.4597e-12, 2.1449e-12, 2.2351e-12, 2.5033e-12],\n",
      "          [9.0274e-13, 1.1345e-12, 2.1194e-12, 2.9340e-12, 6.1732e-13],\n",
      "          [5.4650e-12, 1.7850e-12, 3.2095e-12, 1.2394e-12, 9.8243e-13],\n",
      "          [8.5715e-12, 4.0726e-12, 3.1801e-12, 1.9589e-12, 3.1345e-12],\n",
      "          [3.9651e-12, 5.4163e-12, 3.7388e-12, 4.3032e-12, 1.8292e-12]]]],\n",
      "       device='cuda:0')}, 139943011404248: {'step': 740, 'exp_avg': tensor([ 3.5662e-37,  1.0776e-05, -5.8540e-05, -2.3478e-05, -6.0087e-11,\n",
      "        -1.0811e-12,  1.9332e-38,  1.3376e-31, -1.2797e-05,  3.9722e-38,\n",
      "         4.2740e-28,  5.5985e-37, -2.2843e-08, -1.0524e-04,  2.3173e-31,\n",
      "        -1.4754e-07,  8.5015e-16,  1.8811e-33, -1.4713e-04, -2.2213e-04,\n",
      "         5.4482e-05,  5.0979e-33, -1.1021e-04,  2.2498e-37, -5.1499e-04,\n",
      "        -2.6956e-04,  3.7732e-05, -1.8287e-05, -8.6838e-12,  5.2682e-19,\n",
      "         2.5373e-08, -1.5621e-04,  7.4619e-15,  6.3313e-25, -8.3474e-12,\n",
      "         3.9108e-34,  8.5971e-40, -5.1611e-12,  8.1359e-22, -2.9743e-05,\n",
      "         4.6143e-39, -9.5753e-25, -1.2042e-05,  3.6436e-37, -3.7298e-05,\n",
      "         3.9408e-33, -1.0135e-04,  3.9211e-24,  5.9631e-27,  2.6276e-34,\n",
      "         1.1401e-37, -3.2857e-06,  1.8425e-17,  3.4693e-16, -2.1093e-04,\n",
      "         6.6910e-33,  1.4972e-35,  6.6082e-35,  6.2535e-30, -4.0224e-14,\n",
      "        -1.5956e-19, -9.5884e-18,  1.0398e-15,  9.5464e-24, -6.9917e-06,\n",
      "        -4.5247e-23, -8.6301e-06,  1.6951e-04,  5.4411e-18,  4.1773e-21,\n",
      "         1.7125e-18, -1.5182e-12, -1.9296e-08,  3.8799e-27, -4.5513e-09,\n",
      "        -1.4346e-06, -2.6100e-11,  2.0455e-27, -2.9478e-08, -1.4907e-22,\n",
      "         5.4791e-05, -5.7735e-05,  8.1747e-16,  7.6073e-15,  1.3660e-15,\n",
      "         2.3035e-05,  2.0435e-17,  1.5162e-31,  2.1473e-37, -3.8910e-05,\n",
      "        -4.8551e-06, -1.6235e-04,  6.0885e-33,  1.2849e-36, -6.2744e-10,\n",
      "         7.2883e-20,  6.6928e-27, -1.1943e-13,  1.2208e-16,  4.3444e-19,\n",
      "        -6.1372e-05,  2.0677e-38,  4.5162e-15, -7.7440e-06, -1.2791e-21,\n",
      "        -2.7196e-22, -2.2355e-08, -8.6663e-05, -4.7240e-05,  1.0284e-13,\n",
      "        -2.3483e-08, -8.3012e-24, -4.8670e-17, -6.3936e-05,  6.6723e-38,\n",
      "        -1.3859e-06,  2.3740e-33, -1.4755e-37, -9.4829e-08,  7.5325e-24,\n",
      "         1.3075e-20, -2.1187e-05,  8.8180e-05, -6.2051e-07,  1.0844e-36,\n",
      "        -6.1805e-05, -4.7875e-05,  1.6350e-37], device='cuda:0'), 'exp_avg_sq': tensor([5.1451e-08, 2.6723e-06, 1.0580e-04, 4.6637e-05, 5.7658e-08, 6.7298e-08,\n",
      "        4.4337e-10, 5.4791e-08, 4.0759e-04, 3.2213e-09, 3.6532e-06, 2.0031e-13,\n",
      "        8.5424e-07, 1.8190e-04, 3.3323e-10, 1.0953e-07, 3.9604e-05, 6.9932e-09,\n",
      "        4.8376e-04, 2.3502e-03, 4.2065e-05, 2.3010e-08, 3.7958e-04, 3.9191e-08,\n",
      "        3.9670e-03, 5.9054e-04, 7.7910e-04, 3.5954e-05, 5.5843e-06, 2.7708e-09,\n",
      "        4.0507e-06, 5.2782e-04, 2.2515e-07, 1.3362e-08, 3.3208e-06, 3.7457e-09,\n",
      "        1.5038e-12, 4.1012e-07, 7.0421e-06, 2.2684e-04, 4.2921e-11, 1.7646e-07,\n",
      "        4.7257e-05, 1.7253e-07, 6.1155e-04, 8.8390e-09, 3.0221e-04, 1.8348e-09,\n",
      "        6.8594e-06, 4.0174e-08, 1.1990e-08, 3.4811e-06, 1.0484e-07, 1.5642e-08,\n",
      "        1.9163e-04, 3.1519e-11, 3.0406e-12, 2.4611e-11, 8.5289e-07, 1.5696e-07,\n",
      "        1.1641e-09, 5.3037e-06, 5.9955e-05, 2.0411e-06, 2.9236e-04, 8.6262e-09,\n",
      "        5.0993e-03, 1.8180e-04, 8.7870e-07, 5.3811e-06, 2.4731e-06, 7.8027e-07,\n",
      "        1.4551e-05, 2.8220e-07, 6.2314e-07, 4.6326e-05, 7.3253e-07, 1.7799e-11,\n",
      "        8.5444e-07, 4.9109e-08, 1.5258e-04, 4.3028e-04, 6.6465e-06, 1.0858e-05,\n",
      "        7.0042e-05, 2.1799e-04, 2.8266e-12, 5.0622e-08, 5.1443e-08, 1.0999e-04,\n",
      "        1.9776e-04, 6.7829e-04, 6.2220e-08, 6.7430e-07, 4.7619e-05, 5.7722e-09,\n",
      "        9.5050e-07, 5.6352e-06, 2.3784e-05, 2.0004e-06, 3.2247e-05, 8.6990e-10,\n",
      "        2.0789e-10, 7.8967e-06, 2.8976e-09, 5.0768e-08, 6.3222e-07, 3.3311e-05,\n",
      "        8.7239e-06, 3.6662e-06, 1.6106e-06, 5.6674e-09, 3.9684e-09, 4.4127e-03,\n",
      "        4.0865e-09, 1.9352e-05, 1.7018e-12, 3.2597e-12, 5.9419e-07, 1.7460e-12,\n",
      "        1.3479e-09, 2.5575e-06, 7.5035e-05, 9.7253e-06, 2.8789e-11, 7.4610e-06,\n",
      "        8.3791e-06, 3.8277e-08], device='cuda:0')}, 139943011404392: {'step': 740, 'exp_avg': tensor([[-3.0144e-40,  1.3919e-40,  7.1774e-40,  ...,  1.3283e-38,\n",
      "          1.3351e-38,  1.3629e-38],\n",
      "        [-2.3006e-40,  1.0623e-40,  5.4779e-40,  ...,  1.0137e-38,\n",
      "          1.0190e-38,  1.0402e-38],\n",
      "        [-1.1874e-40,  4.4381e-41,  2.5507e-40,  ...,  4.5120e-39,\n",
      "          4.5212e-39,  4.7266e-39],\n",
      "        ...,\n",
      "        [-6.1006e-41, -3.2303e-41,  3.1237e-40,  ...,  2.3384e-39,\n",
      "          2.9521e-39,  3.2580e-39],\n",
      "        [ 7.4137e-41,  7.8333e-43, -1.4711e-40,  ..., -3.1428e-39,\n",
      "         -3.1732e-39, -3.2700e-39],\n",
      "        [ 1.3368e-42, -3.7134e-42, -1.3298e-42,  ...,  5.4651e-43,\n",
      "         -7.9482e-42, -3.9573e-42]], device='cuda:0'), 'exp_avg_sq': tensor([[1.8488e-13, 3.9421e-14, 1.0481e-12,  ..., 3.5896e-10, 3.6267e-10,\n",
      "         3.7795e-10],\n",
      "        [1.0769e-13, 2.2963e-14, 6.1054e-13,  ..., 2.0910e-10, 2.1125e-10,\n",
      "         2.2016e-10],\n",
      "        [2.8686e-14, 4.0074e-15, 1.3237e-13,  ..., 4.1422e-11, 4.1591e-11,\n",
      "         4.5455e-11],\n",
      "        ...,\n",
      "        [7.5723e-15, 2.1231e-15, 1.9854e-13,  ..., 1.1125e-11, 1.7732e-11,\n",
      "         2.1597e-11],\n",
      "        [1.0821e-14, 2.8809e-15, 6.1750e-14,  ..., 2.0958e-11, 2.1172e-11,\n",
      "         2.2060e-11],\n",
      "        [5.7099e-18, 1.2544e-16, 1.2954e-16,  ..., 4.9464e-19, 1.0423e-16,\n",
      "         2.5827e-17]], device='cuda:0')}, 139943011404464: {'step': 740, 'exp_avg': tensor([-4.8363e-06,  5.7692e-35,  4.6711e-38,  9.6398e-38,  6.0272e-38,\n",
      "         5.1123e-33, -1.2972e-15,  1.6746e-37,  5.7722e-06, -1.4544e-06,\n",
      "        -9.2596e-06,  1.0485e-35,  2.0777e-36, -8.4572e-06, -2.5229e-17,\n",
      "        -5.5793e-06,  3.1083e-37, -2.7544e-07,  5.1527e-39, -4.5941e-06,\n",
      "         4.3537e-38, -3.5980e-06,  4.9483e-35,  1.1952e-06, -7.2436e-06,\n",
      "         9.0146e-07,  9.9717e-39, -2.0731e-06,  9.9931e-39,  4.6389e-06,\n",
      "         3.6733e-06,  6.1863e-38, -5.3378e-06,  2.6885e-38,  6.9697e-35,\n",
      "         2.1229e-39,  5.1741e-38,  2.4651e-06, -3.8656e-06,  1.2831e-38,\n",
      "         7.9663e-36,  1.4582e-38,  1.2800e-06,  3.5528e-35,  5.7275e-38,\n",
      "         6.7056e-06,  2.5761e-06,  6.1804e-38,  8.2495e-07,  1.5478e-38,\n",
      "         1.9322e-06,  8.7607e-36, -1.1884e-06,  6.5689e-38, -1.4991e-08,\n",
      "        -3.5061e-06,  1.8741e-27, -6.3328e-07,  1.6688e-39,  5.2695e-36,\n",
      "        -3.5647e-06,  1.8867e-35,  8.2843e-39,  3.4906e-06,  2.2169e-35,\n",
      "        -9.8063e-06, -2.1518e-06, -6.6014e-06,  5.8928e-06,  3.0026e-35,\n",
      "        -1.8360e-06,  7.9119e-38,  2.6244e-36,  1.7705e-38,  6.1961e-38,\n",
      "         7.3810e-37,  1.0592e-36, -5.8521e-06,  2.4182e-30,  2.0817e-38,\n",
      "         4.7095e-38,  9.3067e-35, -4.4873e-06,  4.0250e-38,  2.3301e-39,\n",
      "         5.5453e-18, -5.0065e-06, -1.6056e-06,  3.7551e-38,  2.2485e-06,\n",
      "         3.9835e-06,  1.4826e-07, -4.0668e-06,  3.5825e-25, -3.7915e-06,\n",
      "         1.0218e-05,  1.3744e-34,  4.2043e-06, -7.1236e-06,  9.2243e-07,\n",
      "        -4.9289e-06,  3.2224e-06,  4.6858e-35, -7.3614e-06,  7.3711e-38,\n",
      "         6.6140e-38,  2.0399e-38,  2.5409e-35,  9.3001e-38,  1.2758e-35,\n",
      "        -2.1999e-06,  8.9494e-40,  4.6424e-38,  6.4857e-35, -5.5621e-07,\n",
      "        -5.0056e-07, -5.3020e-06,  1.0297e-06,  7.4091e-36, -4.1828e-06,\n",
      "         7.9004e-38,  1.2200e-37,  9.7676e-38, -5.8998e-06,  4.9751e-06,\n",
      "         5.8035e-39, -1.1189e-07,  1.2817e-37,  2.3038e-38, -1.3220e-12,\n",
      "        -3.1921e-06, -8.4286e-06,  1.4833e-40,  2.8500e-06,  7.0193e-34,\n",
      "         9.7117e-38,  2.1974e-35,  4.9959e-40, -2.8155e-08, -7.4396e-06,\n",
      "         2.0576e-38,  1.0342e-37, -5.0104e-07, -1.0698e-07,  4.9499e-38,\n",
      "        -7.6113e-06,  1.4128e-35,  1.0043e-36,  6.6340e-35,  1.2381e-20,\n",
      "        -9.6721e-07,  4.9279e-38,  1.1806e-38,  8.4061e-40,  3.9874e-08,\n",
      "        -5.4171e-06,  1.6014e-37,  8.5712e-07, -1.7731e-06,  7.1936e-06,\n",
      "        -2.3423e-06,  7.5123e-12, -4.9327e-06,  2.6027e-40,  3.6152e-35,\n",
      "         1.2138e-06,  1.2556e-16,  4.8634e-38,  3.8135e-35, -1.2914e-06,\n",
      "         4.6780e-06, -5.1958e-06,  8.3321e-07,  5.1610e-39,  2.5392e-06,\n",
      "         2.1047e-06,  7.9205e-39,  6.8901e-06, -5.1751e-06,  1.1267e-34,\n",
      "         2.5064e-06,  1.7393e-38, -7.2893e-06,  4.5790e-38, -5.2991e-06,\n",
      "         1.7770e-06,  4.9042e-06, -3.4790e-06, -8.5754e-06,  5.6259e-36,\n",
      "         3.2107e-06,  2.2631e-06,  3.5446e-36,  8.0079e-08, -8.7878e-06,\n",
      "         1.5940e-20, -5.5622e-06,  4.7907e-34,  6.8441e-39,  5.5537e-06,\n",
      "        -5.5971e-06,  6.2053e-06,  2.9881e-35, -1.4828e-06,  2.8000e-38,\n",
      "        -2.1831e-37,  4.6891e-06, -7.0702e-06,  2.8531e-36,  5.2947e-06,\n",
      "        -6.2053e-06,  6.3619e-38,  1.1200e-34, -5.2016e-06,  1.9623e-39,\n",
      "         1.8095e-39, -3.5699e-06,  7.2823e-07, -3.2955e-06,  1.3954e-11,\n",
      "         6.3213e-38, -2.5461e-06,  1.5988e-39,  2.5688e-37, -6.1541e-06,\n",
      "         4.0579e-06,  9.0878e-39,  5.1507e-40,  4.6716e-38, -6.9070e-06,\n",
      "        -5.8560e-06,  8.0790e-39, -6.0299e-06,  4.1514e-37,  2.9642e-35,\n",
      "        -4.9254e-06,  7.7029e-07,  2.1447e-06, -4.4985e-06,  2.3081e-06,\n",
      "         1.0960e-36,  2.2264e-38,  2.9020e-06,  4.6998e-38,  2.7452e-06,\n",
      "         5.3562e-06,  4.1766e-36,  1.1240e-38,  9.4352e-39, -1.2649e-05,\n",
      "         1.5919e-38,  1.6922e-38, -4.1433e-06, -4.6412e-07,  3.3795e-06,\n",
      "         1.9631e-37,  2.9466e-06,  2.7419e-39, -1.7613e-06,  1.6610e-38,\n",
      "         6.4656e-37,  4.1656e-06,  9.0655e-35,  3.5745e-35,  1.8082e-35,\n",
      "         2.8458e-06,  1.2764e-06, -7.5251e-06, -3.5878e-06, -7.5222e-06,\n",
      "        -8.7524e-06,  5.9330e-06, -4.5204e-06,  7.1960e-37, -1.6119e-08,\n",
      "         7.4159e-39,  7.2101e-36,  4.1144e-39,  5.1626e-39,  6.8711e-06,\n",
      "        -5.4373e-06, -5.9205e-06,  1.9877e-37,  1.6785e-06,  2.3317e-06,\n",
      "        -2.8815e-08,  2.3680e-06,  1.8001e-35,  6.7686e-38,  2.2659e-38,\n",
      "         9.3242e-39,  1.0771e-39,  9.7349e-39,  1.2397e-35,  1.3722e-37,\n",
      "         5.6126e-39,  4.1112e-38,  1.2976e-07, -4.9759e-06,  4.3217e-35,\n",
      "        -6.3764e-06, -1.1564e-06,  2.9137e-36, -3.7966e-06, -4.7832e-06,\n",
      "        -4.2138e-06,  8.6466e-36,  5.4789e-37,  8.8207e-36,  1.2888e-37,\n",
      "         4.8233e-06, -8.7399e-06,  6.8590e-39, -1.6627e-06,  1.2048e-34,\n",
      "         1.0774e-38, -1.0337e-05,  3.4823e-38,  6.3830e-38, -6.0937e-06,\n",
      "         2.1836e-38, -9.8612e-06,  1.3992e-06,  2.6400e-37,  1.1869e-38,\n",
      "         3.6548e-39,  8.3292e-38,  1.9260e-38,  7.7909e-15, -3.5374e-09,\n",
      "        -1.6210e-06,  6.4550e-06,  1.8987e-35,  3.0181e-38, -2.8157e-06,\n",
      "        -1.3611e-05,  2.5459e-35,  1.0055e-36,  1.4093e-38, -7.5842e-06,\n",
      "         2.7671e-22,  7.7059e-35,  2.9329e-13,  1.7998e-38,  6.1523e-38,\n",
      "         4.6767e-37,  1.0006e-38,  2.5499e-06,  1.4440e-34,  3.1882e-34,\n",
      "        -4.5130e-10, -8.0274e-11, -2.1047e-06,  5.2885e-06,  2.0833e-39,\n",
      "        -4.0608e-06, -3.9436e-06,  7.6749e-37, -3.5587e-06, -6.0255e-06,\n",
      "         4.7537e-06,  5.9962e-39,  3.5981e-06,  3.1031e-35,  9.9066e-38,\n",
      "         1.2218e-37,  2.9951e-35,  1.3808e-06, -4.0154e-06,  5.0397e-38,\n",
      "         1.1581e-36, -2.3123e-07,  4.0932e-36,  5.1618e-38,  4.5755e-38,\n",
      "        -1.4801e-06,  1.5741e-34,  1.2034e-35,  1.5272e-38,  2.2621e-38,\n",
      "         5.0419e-35, -4.3022e-06,  6.9815e-07,  9.7153e-35,  1.3808e-36,\n",
      "        -4.5823e-07,  4.6359e-06, -3.6051e-06,  2.3388e-36,  3.0958e-06,\n",
      "         5.0685e-35,  3.2186e-09,  4.8391e-06,  3.4939e-06,  8.1830e-38,\n",
      "         2.0146e-39,  5.3451e-06,  2.9357e-06,  6.9505e-38,  5.1088e-39,\n",
      "         2.5895e-39,  3.8215e-39,  2.0514e-35,  9.3161e-39, -1.9705e-17,\n",
      "        -6.3491e-06, -3.1533e-06, -4.8981e-06,  8.9989e-40, -1.1634e-05,\n",
      "        -9.6992e-10,  3.8382e-38,  6.3974e-06,  1.4112e-38,  3.7315e-38,\n",
      "         9.7641e-11,  1.8598e-38,  1.6551e-38,  1.4097e-36,  4.9072e-37,\n",
      "        -8.8297e-06,  8.9638e-35,  1.3911e-12,  1.2668e-38,  7.6323e-38,\n",
      "        -2.9669e-06, -6.7709e-07,  9.9060e-35,  1.1075e-34,  2.9687e-11,\n",
      "        -2.4091e-06,  4.1521e-37, -5.2039e-06,  1.7823e-06,  7.2791e-39,\n",
      "         3.6168e-38,  1.0986e-38, -2.8214e-06,  8.7995e-37, -4.4106e-06,\n",
      "         1.0868e-38,  2.7290e-06,  2.0714e-06,  5.9239e-06, -4.2002e-06,\n",
      "         4.5740e-38,  4.6291e-06,  1.2239e-34, -8.7587e-06,  2.7267e-38,\n",
      "        -7.2066e-06,  6.3968e-38,  3.0038e-06, -7.0470e-06,  1.4453e-38,\n",
      "         3.9290e-36,  4.0216e-38,  1.3203e-38,  3.2759e-38,  1.4181e-34,\n",
      "         4.2749e-38,  1.8375e-37, -6.6702e-07,  7.3531e-06,  2.3301e-35,\n",
      "        -5.0853e-06,  3.4127e-06,  3.2923e-06,  3.9856e-06,  3.7008e-41,\n",
      "        -3.6895e-06,  1.2998e-33, -2.5594e-08,  1.9574e-06, -1.0345e-17,\n",
      "         3.8013e-35,  8.5987e-38,  5.8783e-06, -8.0136e-06, -9.8069e-34,\n",
      "         1.1643e-06,  1.0727e-34,  2.5185e-06,  6.3365e-38,  4.4485e-38,\n",
      "         1.4196e-39,  5.8155e-38,  8.9306e-07, -6.2627e-06, -5.2667e-06,\n",
      "        -3.5705e-20, -1.4402e-06, -4.6031e-06,  3.8262e-06,  8.8879e-34,\n",
      "        -3.4867e-07, -2.7356e-06,  1.3337e-06,  4.4846e-07,  2.1898e-28,\n",
      "        -4.9670e-06, -6.0408e-07, -4.0588e-06, -7.3121e-06, -4.5821e-06,\n",
      "         2.7605e-06,  1.7588e-39,  3.5712e-06,  5.4243e-06,  1.0486e-36,\n",
      "         1.5292e-07, -1.0633e-06], device='cuda:0'), 'exp_avg_sq': tensor([1.4170e-06, 2.5849e-08, 3.5062e-09, 1.8907e-08, 7.3913e-09, 8.5999e-11,\n",
      "        1.5374e-09, 4.3098e-10, 1.4847e-06, 1.1653e-07, 6.0147e-07, 1.3553e-09,\n",
      "        7.1570e-10, 6.9847e-07, 4.9547e-09, 9.1156e-07, 3.5553e-10, 1.7767e-07,\n",
      "        4.3909e-11, 1.1838e-07, 3.8567e-09, 1.1720e-06, 7.9403e-09, 5.4997e-07,\n",
      "        2.3371e-07, 1.2324e-07, 2.0231e-10, 2.2259e-07, 2.0318e-10, 2.9268e-07,\n",
      "        1.3061e-06, 7.7867e-09, 3.8830e-07, 1.4707e-09, 4.5650e-09, 9.1698e-12,\n",
      "        5.4469e-09, 1.2814e-07, 4.2674e-07, 2.7158e-10, 3.5745e-11, 1.5195e-11,\n",
      "        3.8057e-07, 2.1098e-09, 3.4177e-09, 9.4323e-07, 1.6223e-06, 7.7718e-09,\n",
      "        4.7949e-07, 3.9522e-10, 5.3577e-07, 1.5009e-08, 4.4978e-08, 8.7797e-09,\n",
      "        3.5428e-08, 6.3928e-07, 2.7659e-10, 2.4446e-07, 5.6660e-12, 6.2285e-10,\n",
      "        1.5087e-06, 1.6683e-09, 1.1322e-10, 5.1017e-07, 7.2057e-10, 7.8357e-07,\n",
      "        9.9930e-07, 4.9043e-07, 6.3940e-07, 1.5198e-09, 9.1708e-08, 1.2736e-08,\n",
      "        2.6559e-11, 1.7832e-10, 7.8114e-09, 9.9391e-11, 2.7484e-08, 4.3614e-07,\n",
      "        4.0987e-13, 7.1493e-10, 4.5128e-09, 2.3483e-08, 5.1276e-07, 3.2963e-09,\n",
      "        1.1047e-11, 1.2037e-10, 3.5207e-07, 4.1511e-07, 2.8689e-09, 1.9333e-07,\n",
      "        1.1315e-06, 5.1153e-07, 1.5205e-06, 4.5846e-09, 2.4693e-07, 1.7139e-06,\n",
      "        1.1069e-08, 4.8375e-07, 6.5178e-07, 8.8485e-07, 3.7443e-07, 1.1753e-07,\n",
      "        9.3977e-10, 2.8791e-07, 1.1055e-08, 8.9004e-09, 8.4664e-10, 9.2128e-11,\n",
      "        1.7598e-08, 1.6235e-09, 7.7905e-07, 1.3213e-12, 4.3850e-09, 1.2240e-08,\n",
      "        2.9827e-07, 3.8053e-08, 1.1476e-06, 7.3357e-07, 4.2512e-09, 4.6635e-07,\n",
      "        1.2699e-08, 3.0283e-08, 1.9412e-08, 5.2932e-07, 1.3514e-06, 6.8527e-11,\n",
      "        4.8423e-07, 3.3424e-08, 1.0799e-09, 1.9559e-09, 1.5725e-07, 3.6234e-07,\n",
      "        3.6297e-14, 9.8165e-07, 4.8537e-08, 1.9190e-08, 1.0701e-08, 4.1175e-13,\n",
      "        6.2271e-09, 4.6338e-07, 8.6141e-10, 5.9882e-10, 1.6780e-07, 9.6869e-08,\n",
      "        4.9852e-09, 1.5826e-07, 4.9377e-10, 9.1880e-11, 1.6943e-08, 3.5331e-11,\n",
      "        1.4802e-06, 4.9410e-09, 2.3060e-11, 1.4377e-12, 9.4107e-08, 7.4829e-07,\n",
      "        1.4433e-10, 6.0604e-07, 1.5765e-06, 5.6886e-07, 1.8032e-06, 8.5799e-10,\n",
      "        1.5078e-07, 1.1175e-13, 4.5406e-09, 3.9707e-08, 3.3505e-08, 4.8124e-09,\n",
      "        2.7768e-10, 7.2530e-10, 1.1449e-06, 1.2311e-06, 4.2967e-07, 5.4195e-11,\n",
      "        2.0330e-06, 6.7644e-08, 6.8039e-11, 9.8567e-07, 2.2758e-07, 2.2829e-08,\n",
      "        1.4842e-06, 3.2809e-10, 6.6937e-07, 4.2661e-09, 9.7740e-07, 4.4454e-07,\n",
      "        2.2888e-07, 1.0576e-06, 8.7067e-07, 2.0133e-10, 3.9297e-07, 2.8690e-06,\n",
      "        8.0715e-09, 1.6091e-06, 6.2010e-07, 4.6760e-09, 5.2637e-07, 1.3301e-10,\n",
      "        6.2243e-12, 1.1282e-06, 9.7398e-07, 1.1873e-06, 1.1317e-08, 3.6206e-07,\n",
      "        8.3876e-12, 1.9292e-10, 4.6536e-07, 8.9708e-07, 5.9507e-09, 1.1597e-06,\n",
      "        1.6889e-07, 6.8153e-09, 3.0209e-08, 3.6261e-07, 7.8345e-12, 5.4018e-12,\n",
      "        5.8305e-07, 8.7077e-07, 2.1655e-07, 6.0518e-10, 8.1302e-09, 1.8855e-06,\n",
      "        4.2168e-12, 1.2234e-09, 3.1511e-07, 2.0784e-07, 8.9569e-11, 5.3978e-13,\n",
      "        3.6003e-09, 1.4554e-06, 3.9453e-07, 4.6538e-11, 9.8291e-07, 7.3780e-12,\n",
      "        4.3827e-09, 2.0783e-06, 2.7954e-07, 1.1106e-07, 3.6458e-06, 6.0041e-07,\n",
      "        2.5789e-09, 1.0086e-09, 4.1649e-07, 5.2787e-10, 7.1448e-08, 3.5551e-06,\n",
      "        7.4957e-11, 2.5705e-10, 6.1483e-12, 7.7884e-07, 5.1558e-10, 1.0756e-10,\n",
      "        4.7473e-07, 3.7606e-08, 1.6710e-07, 2.5005e-11, 6.2860e-07, 6.5823e-13,\n",
      "        1.1223e-06, 5.6135e-10, 3.2898e-11, 2.0665e-06, 1.6355e-08, 8.0039e-11,\n",
      "        9.4055e-10, 5.7366e-07, 1.3661e-06, 7.1628e-07, 2.5019e-07, 4.1564e-07,\n",
      "        1.6293e-06, 1.1716e-06, 3.9407e-07, 3.6139e-09, 6.0837e-08, 1.1190e-10,\n",
      "        2.3956e-10, 2.2644e-11, 5.4229e-11, 1.3496e-06, 9.8904e-07, 5.1814e-07,\n",
      "        2.9795e-10, 5.6549e-07, 7.3689e-07, 1.2143e-09, 1.4900e-07, 6.5343e-09,\n",
      "        3.5520e-11, 1.0446e-09, 8.7023e-11, 1.9141e-12, 1.5634e-10, 9.3682e-10,\n",
      "        6.0812e-10, 5.1968e-11, 3.4389e-09, 4.2060e-09, 3.0133e-07, 2.7315e-09,\n",
      "        2.0336e-07, 4.7006e-07, 2.9821e-09, 4.9923e-07, 1.9799e-07, 1.5670e-07,\n",
      "        2.9106e-12, 1.5687e-10, 9.5405e-10, 3.3795e-08, 6.3518e-07, 7.4324e-07,\n",
      "        9.5721e-11, 7.7606e-07, 5.2571e-08, 2.3619e-10, 8.9882e-07, 2.4673e-09,\n",
      "        8.2897e-09, 5.2291e-07, 5.4427e-11, 3.3893e-07, 1.0716e-07, 4.1373e-10,\n",
      "        1.9265e-10, 1.7867e-11, 1.4116e-08, 2.2151e-11, 3.6889e-09, 3.0003e-08,\n",
      "        7.9502e-08, 2.0605e-06, 1.7927e-09, 1.8533e-09, 1.9242e-07, 1.3097e-06,\n",
      "        2.0347e-09, 5.7750e-13, 4.0410e-10, 2.3620e-07, 7.0589e-10, 7.9114e-09,\n",
      "        3.7600e-10, 7.9268e-11, 7.7014e-09, 3.6031e-08, 1.6517e-10, 1.6303e-07,\n",
      "        4.7558e-08, 1.2118e-09, 9.3564e-10, 1.0476e-09, 9.3138e-08, 3.5220e-06,\n",
      "        8.8302e-12, 2.2838e-07, 4.2808e-07, 4.3652e-11, 3.1614e-07, 1.6723e-07,\n",
      "        3.4134e-07, 7.3154e-11, 1.0573e-06, 1.0474e-09, 1.9894e-09, 1.2519e-08,\n",
      "        9.9083e-10, 3.9268e-07, 4.5831e-07, 4.6864e-09, 1.1825e-09, 1.7540e-06,\n",
      "        5.8352e-11, 5.9930e-10, 4.2596e-09, 4.9754e-07, 6.9297e-08, 5.7805e-11,\n",
      "        4.7458e-10, 1.0412e-09, 3.3935e-09, 7.6746e-07, 1.2316e-08, 1.6677e-08,\n",
      "        7.2708e-09, 8.9413e-07, 1.8835e-06, 3.7219e-07, 3.6135e-10, 2.1004e-07,\n",
      "        4.0837e-09, 1.9682e-08, 8.6143e-07, 1.0133e-06, 1.1068e-10, 6.6953e-12,\n",
      "        2.3123e-06, 4.5875e-07, 9.8292e-09, 5.3103e-11, 1.0501e-11, 2.9714e-11,\n",
      "        7.8770e-10, 1.7658e-10, 6.7338e-08, 7.9820e-07, 1.2185e-06, 6.1755e-07,\n",
      "        1.6477e-12, 8.2754e-07, 5.9029e-09, 2.9974e-09, 1.3830e-06, 4.0520e-10,\n",
      "        2.8331e-09, 4.6669e-10, 7.0377e-10, 8.9843e-11, 7.6567e-10, 5.9499e-10,\n",
      "        1.1977e-06, 1.0381e-10, 1.3324e-09, 3.2654e-10, 1.1852e-08, 5.4984e-07,\n",
      "        1.3264e-06, 6.7527e-11, 2.6150e-08, 5.0788e-10, 2.6014e-07, 3.1635e-11,\n",
      "        2.6929e-07, 3.3410e-07, 1.0780e-10, 2.6615e-09, 1.4502e-10, 7.8815e-07,\n",
      "        9.2536e-09, 8.8912e-08, 2.4030e-10, 7.8859e-07, 1.8085e-07, 2.7869e-07,\n",
      "        2.4935e-07, 8.8123e-11, 1.8863e-06, 7.3226e-09, 7.8915e-07, 1.5127e-09,\n",
      "        3.7113e-07, 8.3256e-09, 5.8240e-07, 7.5645e-07, 3.4459e-10, 1.2474e-08,\n",
      "        3.2907e-09, 3.5465e-10, 9.3958e-11, 2.7725e-08, 3.7182e-09, 4.4110e-10,\n",
      "        1.8771e-07, 3.1631e-07, 4.1345e-09, 3.0192e-06, 2.9364e-07, 1.2143e-06,\n",
      "        1.6575e-06, 2.7866e-15, 7.0261e-07, 4.6373e-12, 4.3664e-09, 1.3493e-08,\n",
      "        3.4114e-09, 1.2881e-09, 1.5043e-08, 2.8376e-06, 2.2621e-07, 5.1177e-09,\n",
      "        3.0802e-07, 1.1796e-09, 2.3057e-07, 8.1695e-09, 4.0264e-09, 3.3248e-12,\n",
      "        6.8813e-09, 7.5577e-07, 3.1886e-06, 2.9521e-06, 6.3349e-11, 1.5904e-07,\n",
      "        2.4972e-06, 9.9727e-07, 2.4702e-09, 5.7569e-09, 6.3822e-07, 7.5273e-07,\n",
      "        1.8078e-07, 2.2843e-08, 4.6037e-07, 3.2587e-07, 1.2758e-07, 1.0929e-06,\n",
      "        3.9792e-07, 5.5232e-07, 5.1031e-12, 4.5629e-07, 2.6399e-07, 1.1229e-08,\n",
      "        1.8649e-08, 5.0629e-09], device='cuda:0')}, 139943011404536: {'step': 740, 'exp_avg': tensor([[ 3.2910e-05, -2.9682e-35, -1.6615e-38,  ..., -2.6730e-36,\n",
      "         -8.7673e-06, -4.3835e-05],\n",
      "        [-3.2910e-05,  2.9682e-35,  1.6615e-38,  ...,  2.6730e-36,\n",
      "          8.7674e-06,  4.3835e-05]], device='cuda:0'), 'exp_avg_sq': tensor([[1.5208e-05, 4.7490e-09, 5.2864e-10,  ..., 4.8808e-08, 1.0782e-06,\n",
      "         1.4252e-06],\n",
      "        [1.5208e-05, 4.7490e-09, 5.2864e-10,  ..., 4.8808e-08, 1.0782e-06,\n",
      "         1.4252e-06]], device='cuda:0')}, 139943011404608: {'step': 740, 'exp_avg': tensor([ 4.3103e-05, -4.3103e-05], device='cuda:0'), 'exp_avg_sq': tensor([0.0003, 0.0003], device='cuda:0')}}\n",
      "param_groups \t [{'lr': 0.001, 'betas': (0.9, 0.999), 'eps': 1e-08, 'weight_decay': 0, 'amsgrad': False, 'params': [139943011403888, 139943011403960, 139943011404032, 139943011404104, 139943011404176, 139943011404248, 139943011404392, 139943011404464, 139943011404536, 139943011404608]}]\n"
     ]
    },
    {
     "name": "stderr",
     "output_type": "stream",
     "text": [
      "/home/desktop-anand/.local/lib/python3.6/site-packages/torch/serialization.py:292: UserWarning: Couldn't retrieve source code for container of type Net. It won't be checked for correctness upon loading.\n",
      "  \"type \" + obj.__name__ + \". It won't be checked \"\n",
      "/home/desktop-anand/.local/lib/python3.6/site-packages/torch/serialization.py:292: UserWarning: Couldn't retrieve source code for container of type Conv2d. It won't be checked for correctness upon loading.\n",
      "  \"type \" + obj.__name__ + \". It won't be checked \"\n",
      "/home/desktop-anand/.local/lib/python3.6/site-packages/torch/serialization.py:292: UserWarning: Couldn't retrieve source code for container of type Linear. It won't be checked for correctness upon loading.\n",
      "  \"type \" + obj.__name__ + \". It won't be checked \"\n"
     ]
    }
   ],
   "source": [
    "# Print model's state_dict\n",
    "print(\"Model's state_dict:\")\n",
    "for param_tensor in net.state_dict():\n",
    "    print(param_tensor, \"\\t\", net.state_dict()[param_tensor].size())\n",
    "\n",
    "print('')\n",
    "print('')\n",
    "print('')\n",
    "\n",
    "print(\"Optimizer's state_dict:\")\n",
    "for var_name in optimizer.state_dict():\n",
    "    print(var_name, \"\\t\", optimizer.state_dict()[var_name])\n",
    "    \n",
    "torch.save(net, 'checkpoint1_val.pt')\n"
   ]
  }
 ],
 "metadata": {
  "kernelspec": {
   "display_name": "Python 3",
   "language": "python",
   "name": "python3"
  },
  "language_info": {
   "codemirror_mode": {
    "name": "ipython",
    "version": 3
   },
   "file_extension": ".py",
   "mimetype": "text/x-python",
   "name": "python",
   "nbconvert_exporter": "python",
   "pygments_lexer": "ipython3",
   "version": "3.6.4"
  }
 },
 "nbformat": 4,
 "nbformat_minor": 2
}
