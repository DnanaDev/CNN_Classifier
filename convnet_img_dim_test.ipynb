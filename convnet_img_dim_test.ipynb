{
 "cells": [
  {
   "cell_type": "markdown",
   "metadata": {},
   "source": [
    "# Parkzap Labs Machine Learning Associate Task - Anand\n",
    "\n",
    " Task : Object Classification model to identify the model of a car from an image.\n",
    " \n",
    " <b>Completed tasks 1 and 2 and created dataset (2000 Images) and trained car classifer that achieves 85% accuracy when classifying between Swift/Innova.</b><br>\n",
    " \n",
    "# Binary Car classifier that classifies images of Maruti/Suzuki Swift and Toyota Innova.\n",
    "\n",
    " #### A. Findings presented in this readme using model created in PyTorch (conversion of <i>convnet_img_dim_test.ipynb notebook</i>)\n",
    " #### B. For just inferencing test using best model - Section 5 of Notebook.\n",
    " \n",
    "## Files of Interest :\n",
    "1. Unprocessed images - CarImages folder.\n",
    "2. Best Model - convnet_img_dim_test.ipynb\n",
    "3. Preprocessed Dataset - Car_classifier_data_120_val.npy\n",
    "4. Saved model/Checkpoint - checkpoint_acc_0.867_img_size120_batch_50_epochs_20.pt\n",
    "5. Validation metrics on older model - convnet-Validation_metrics.ipynb\n",
    "6. Validation using your files - Validate folder and section 5."
   ]
  },
  {
   "cell_type": "markdown",
   "metadata": {},
   "source": [
    "# 0. Gathering the data\n",
    " \n",
    "1. Used <b> google_images_download </b> python web scraping module that uses a Selenium and BeautifulSoup backend to get images from google.\n",
    "2. Download around 1500 images for each class - Swift, Innova.\n",
    "3. Manually removed irrelevant examples.\n",
    "4. Final division stood around a <b>1000</b> images for each(Balanced Dataset.)"
   ]
  },
  {
   "cell_type": "markdown",
   "metadata": {},
   "source": [
    "# 1 Preparing Dataset \n",
    "1. Created Dataset and saved in the form of numpy array <b> \"Car_classifier_data_120.npy\" </b>.\n",
    "2. <b>Resized images to 120*120 due to GPU VRAM Restrictions.</b>\n",
    "\n",
    "## 1.1 Loading Images and creating dataset with labels.\n",
    "\n",
    "1. <b> Suffled data </b> when creating dataset.\n",
    "2. Classification Ouputs Label in the form of Tensor index.<br>\n",
    "Tensor [Swift, Innova]\n"
   ]
  },
  {
   "cell_type": "code",
   "execution_count": 2,
   "metadata": {},
   "outputs": [
    {
     "name": "stderr",
     "output_type": "stream",
     "text": [
      "  1%|▏         | 16/1068 [00:00<00:06, 158.29it/s]"
     ]
    },
    {
     "name": "stdout",
     "output_type": "stream",
     "text": [
      "CarImages/Swift\n"
     ]
    },
    {
     "name": "stderr",
     "output_type": "stream",
     "text": [
      "100%|██████████| 1068/1068 [00:06<00:00, 165.97it/s]\n",
      "  2%|▏         | 16/1014 [00:00<00:09, 107.57it/s]"
     ]
    },
    {
     "name": "stdout",
     "output_type": "stream",
     "text": [
      "CarImages/Innova\n"
     ]
    },
    {
     "name": "stderr",
     "output_type": "stream",
     "text": [
      "100%|██████████| 1014/1014 [00:06<00:00, 125.97it/s]\n"
     ]
    },
    {
     "name": "stdout",
     "output_type": "stream",
     "text": [
      "Innova Count : 1001\n",
      "Swift Count : 1037\n"
     ]
    }
   ],
   "source": [
    "import os\n",
    "import cv2\n",
    "import numpy as np\n",
    "from tqdm import tqdm    # for progress meter in loop\n",
    "\n",
    "\n",
    "REBUILD_DATA = True   # Set to false if you don't want to rebuild train, test sets for each execution. \n",
    "IMG_SIZE = 120\n",
    "\n",
    "class SwiftVsInnova():\n",
    "    IMG_SIZE = 120\n",
    "    Swift = \"CarImages/Swift\"\n",
    "    Innova = \"CarImages/Innova\"\n",
    "    labels = {Swift : 0, Innova : 1}    \n",
    "    training_data = []\n",
    "    swiftcount = 0\n",
    "    innovacount = 0\n",
    "    \n",
    "    def Make_Training_Data(self) :\n",
    "        for label in self.labels :\n",
    "            print(label)\n",
    "            for f in tqdm(os.listdir(label)):\n",
    "                if \"jpg\" in f:\n",
    "                    try:\n",
    "                        path = os.path.join(label, f)\n",
    "                        img = cv2.imread(path, cv2.IMREAD_GRAYSCALE)\n",
    "                        img = cv2.resize(img, (self.IMG_SIZE, self.IMG_SIZE))\n",
    "                        self.training_data.append([np.array(img), np.eye(2)[self.labels[label]]])\n",
    "                        \n",
    "                        if label == self.Swift:\n",
    "                            self.swiftcount +=1\n",
    "                        elif label == self.Innova:\n",
    "                            self.innovacount +=1\n",
    "                    except Exception as e:\n",
    "                        pass\n",
    "                        #print(str(e))\n",
    "                \n",
    "        np.random.shuffle(self.training_data)\n",
    "        np.save(\"Car_classifier_data_120.npy\", self.training_data)\n",
    "        # To check balance of data in terms of target variables.\n",
    "        print(\"Innova Count :\", self.innovacount)\n",
    "        print(\"Swift Count :\", self.swiftcount)\n",
    "\n",
    "if REBUILD_DATA:\n",
    "    swiftvinnova = SwiftVsInnova()\n",
    "    swiftvinnova.Make_Training_Data()\n"
   ]
  },
  {
   "cell_type": "code",
   "execution_count": 3,
   "metadata": {
    "scrolled": true
   },
   "outputs": [
    {
     "name": "stdout",
     "output_type": "stream",
     "text": [
      "2038\n",
      "[[ 78  76  78 ...  72  74  76]\n",
      " [ 86  81  81 ...  74  76  90]\n",
      " [ 87  84  39 ...  80 111 160]\n",
      " ...\n",
      " [104 100  92 ... 125 119 117]\n",
      " [104  98  93 ... 128 125 121]\n",
      " [ 95  96  94 ... 128 127 122]]\n"
     ]
    }
   ],
   "source": [
    "training_data = np.load(\"Car_classifier_data_120.npy\", allow_pickle=True)\n",
    "print(len(training_data))\n",
    "print(training_data[0][0])"
   ]
  },
  {
   "cell_type": "markdown",
   "metadata": {},
   "source": [
    "## 1.2 Checking dataset \n",
    "1. Plotting images from dataset to check conversion, displayed image number.<br>\n",
    "2. Outputs label in tensor [Swift, Innova]"
   ]
  },
  {
   "cell_type": "code",
   "execution_count": 5,
   "metadata": {},
   "outputs": [
    {
     "name": "stdout",
     "output_type": "stream",
     "text": [
      "704\n"
     ]
    },
    {
     "data": {
      "image/png": "[encoded data removed]",
      "text/plain": [
       "<Figure size 432x288 with 1 Axes>"
      ]
     },
     "metadata": {
      "needs_background": "light"
     },
     "output_type": "display_data"
    },
    {
     "name": "stdout",
     "output_type": "stream",
     "text": [
      "[1. 0.]\n"
     ]
    }
   ],
   "source": [
    "#%matplotlib notebook\n",
    "import matplotlib.pyplot as plt\n",
    "num = np.random.randint(1291)\n",
    "print(num)\n",
    "plt.imshow(training_data[num][0], cmap = \"gray\")\n",
    "plt.show()\n",
    "print(training_data[num][1]) "
   ]
  },
  {
   "cell_type": "markdown",
   "metadata": {},
   "source": [
    "# 2. Building the Model/Passing data in feed forward (Using PyTorch)\n",
    "\n",
    "The architecture of the network is printed along with the number of parameters.\n",
    "## Model:\n",
    "1. 3 Covolution layers, with maxpool and Relu\n",
    "2. 2 Fully Connected layers\n",
    "3. Softmax Activation function"
   ]
  },
  {
   "cell_type": "code",
   "execution_count": 7,
   "metadata": {},
   "outputs": [
    {
     "name": "stdout",
     "output_type": "stream",
     "text": [
      "Running on the CPU\n",
      "Net(\n",
      "  (conv1): Conv2d(1, 32, kernel_size=(5, 5), stride=(1, 1))\n",
      "  (conv2): Conv2d(32, 64, kernel_size=(5, 5), stride=(1, 1))\n",
      "  (conv3): Conv2d(64, 128, kernel_size=(5, 5), stride=(1, 1))\n",
      "  (fc1): Linear(in_features=15488, out_features=512, bias=True)\n",
      "  (fc2): Linear(in_features=512, out_features=2, bias=True)\n",
      ")\n"
     ]
    }
   ],
   "source": [
    "import torch\n",
    "import torch.nn as nn\n",
    "import torch.nn.functional as F\n",
    "\n",
    "from IPython.core.debugger import set_trace # For debugging in Python\n",
    "\n",
    "# Selecting whether to run on GPU (if available) or CPU\n",
    "if torch.cuda.is_available():\n",
    "    device = torch.device(\"cuda:0\")\n",
    "    print(\"Running on the GPU\")\n",
    "else:\n",
    "    device = torch.device(\"cpu\")\n",
    "    print(\"Running on the CPU\")\n",
    "\n",
    "class Net(nn.Module) :\n",
    "    def __init__(self) :\n",
    "        super().__init__()\n",
    "        self.conv1 = nn.Conv2d(1, 32, 5)\n",
    "        self.conv2 = nn.Conv2d(32, 64, 5)\n",
    "        self.conv3 = nn.Conv2d(64, 128, 5)\n",
    "        # Passing random data x \n",
    "        x = torch.randn(120,120).view(-1,1,120,120)\n",
    "        self._to_linear = None\n",
    "        self.convs(x)   # Partial forward pass  \n",
    "        self.fc1 = nn.Linear(self._to_linear, 512) # Flattening , from calculation should be 2*2, 4\n",
    "        self.fc2 = nn.Linear(512, 2)   \n",
    "    def convs(self, x):           # Passing data through conv, using Relu activation and maxpool layer \n",
    "        x = F.relu(self.conv1(x))\n",
    "        x = F.max_pool2d(x,(2,2))\n",
    "        x = F.relu(self.conv2(x))\n",
    "        x = F.max_pool2d(x,(2,2))\n",
    "        x = F.relu(self.conv3(x))\n",
    "        x = F.max_pool2d(x,(2,2))\n",
    "        if self._to_linear is None:\n",
    "            self._to_linear = x[0].shape[0]*x[0].shape[1]*x[0].shape[2]\n",
    "        return x\n",
    " # Feed forward propogation   \n",
    "    def forward(self, x):\n",
    "        x = self.convs(x)\n",
    "        x = x.view(-1, self._to_linear)\n",
    "        x = F.relu(self.fc1(x))\n",
    "        x = self.fc2(x)\n",
    "        return F.softmax(x, dim=1)\n",
    "net = Net().to(device)\n",
    "# Network/Model Architecture \n",
    "print(net)"
   ]
  },
  {
   "cell_type": "markdown",
   "metadata": {},
   "source": [
    "# 3. Training - Loss and Optimizing parameters\n",
    "1. Passing the Training data through the Model and calculating loss<b> (Mean Squared Error)</b>. Then using<b> Adam optimizer</b> to adjust parameters/weights of the model.<br>\n",
    "2. <b>Default learning rate = .001 </b><br>\n",
    "3. Split into test and train sets 90:10. <b> 1835 images in train, 203 in test </b>. Already shuffled.\n",
    "4. Trained with<b> batch size 50 (limited by GPU) for 20 EPOCHS</b>.\n",
    "5. Loss output at each Epoch below."
   ]
  },
  {
   "cell_type": "code",
   "execution_count": 8,
   "metadata": {},
   "outputs": [
    {
     "name": "stdout",
     "output_type": "stream",
     "text": [
      "203\n"
     ]
    }
   ],
   "source": [
    "import torch.optim as optim\n",
    "\n",
    "optimizer = optim.Adam(net.parameters(), lr = .001)  #Passing model to optimizer and setting Learning rate\n",
    "loss_function = nn.MSELoss()\n",
    "\n",
    "X = torch.Tensor([i[0] for i in training_data]).view(-1, 120, 120)\n",
    "X = X/255.0    # Pixel values are between 0 and 255, to transform to 0 - 1 range\n",
    "y = torch.Tensor([i[1] for i in training_data])\n",
    "\n",
    "# Creating validation set/ Test set\n",
    "VAL_PCT = 0.1\n",
    "val_size = int(len(X)*VAL_PCT) # coverting to int as it will be used as a number to slice with\n",
    "print(val_size)"
   ]
  },
  {
   "cell_type": "code",
   "execution_count": 9,
   "metadata": {},
   "outputs": [
    {
     "name": "stdout",
     "output_type": "stream",
     "text": [
      "1835\n",
      "203\n"
     ]
    }
   ],
   "source": [
    "train_X = X[:-val_size]\n",
    "train_y = y[:-val_size]\n",
    "test_X = X[-val_size:]\n",
    "test_y = y[-val_size:]\n",
    "\n",
    "print(len(train_X))\n",
    "print(len(test_X))"
   ]
  },
  {
   "cell_type": "code",
   "execution_count": 7,
   "metadata": {},
   "outputs": [
    {
     "name": "stderr",
     "output_type": "stream",
     "text": [
      "100%|██████████| 37/37 [00:04<00:00,  8.80it/s]\n",
      "  5%|▌         | 2/37 [00:00<00:02, 12.35it/s]"
     ]
    },
    {
     "name": "stdout",
     "output_type": "stream",
     "text": [
      "Epoch: 0. Loss: 0.24880678951740265\n"
     ]
    },
    {
     "name": "stderr",
     "output_type": "stream",
     "text": [
      "100%|██████████| 37/37 [00:04<00:00,  8.84it/s]\n",
      "  5%|▌         | 2/37 [00:00<00:02, 12.29it/s]"
     ]
    },
    {
     "name": "stdout",
     "output_type": "stream",
     "text": [
      "Epoch: 1. Loss: 0.23515813052654266\n"
     ]
    },
    {
     "name": "stderr",
     "output_type": "stream",
     "text": [
      "100%|██████████| 37/37 [00:04<00:00,  8.85it/s]\n",
      "  5%|▌         | 2/37 [00:00<00:02, 12.20it/s]"
     ]
    },
    {
     "name": "stdout",
     "output_type": "stream",
     "text": [
      "Epoch: 2. Loss: 0.17049643397331238\n"
     ]
    },
    {
     "name": "stderr",
     "output_type": "stream",
     "text": [
      "100%|██████████| 37/37 [00:04<00:00,  8.83it/s]\n",
      "  5%|▌         | 2/37 [00:00<00:02, 11.83it/s]"
     ]
    },
    {
     "name": "stdout",
     "output_type": "stream",
     "text": [
      "Epoch: 3. Loss: 0.13410940766334534\n"
     ]
    },
    {
     "name": "stderr",
     "output_type": "stream",
     "text": [
      "100%|██████████| 37/37 [00:04<00:00,  8.58it/s]\n",
      "  5%|▌         | 2/37 [00:00<00:02, 12.16it/s]"
     ]
    },
    {
     "name": "stdout",
     "output_type": "stream",
     "text": [
      "Epoch: 4. Loss: 0.12306389212608337\n"
     ]
    },
    {
     "name": "stderr",
     "output_type": "stream",
     "text": [
      "100%|██████████| 37/37 [00:04<00:00,  8.84it/s]\n",
      "  5%|▌         | 2/37 [00:00<00:02, 12.23it/s]"
     ]
    },
    {
     "name": "stdout",
     "output_type": "stream",
     "text": [
      "Epoch: 5. Loss: 0.09291809052228928\n"
     ]
    },
    {
     "name": "stderr",
     "output_type": "stream",
     "text": [
      "100%|██████████| 37/37 [00:04<00:00,  8.84it/s]\n",
      "  5%|▌         | 2/37 [00:00<00:02, 12.21it/s]"
     ]
    },
    {
     "name": "stdout",
     "output_type": "stream",
     "text": [
      "Epoch: 6. Loss: 0.045314181596040726\n"
     ]
    },
    {
     "name": "stderr",
     "output_type": "stream",
     "text": [
      "100%|██████████| 37/37 [00:04<00:00,  8.55it/s]\n",
      "  5%|▌         | 2/37 [00:00<00:02, 12.15it/s]"
     ]
    },
    {
     "name": "stdout",
     "output_type": "stream",
     "text": [
      "Epoch: 7. Loss: 0.029772350564599037\n"
     ]
    },
    {
     "name": "stderr",
     "output_type": "stream",
     "text": [
      "100%|██████████| 37/37 [00:04<00:00,  8.83it/s]\n",
      "  5%|▌         | 2/37 [00:00<00:02, 12.20it/s]"
     ]
    },
    {
     "name": "stdout",
     "output_type": "stream",
     "text": [
      "Epoch: 8. Loss: 0.026872942224144936\n"
     ]
    },
    {
     "name": "stderr",
     "output_type": "stream",
     "text": [
      "100%|██████████| 37/37 [00:04<00:00,  8.83it/s]\n",
      "  5%|▌         | 2/37 [00:00<00:02, 12.23it/s]"
     ]
    },
    {
     "name": "stdout",
     "output_type": "stream",
     "text": [
      "Epoch: 9. Loss: 0.023383140563964844\n"
     ]
    },
    {
     "name": "stderr",
     "output_type": "stream",
     "text": [
      "100%|██████████| 37/37 [00:04<00:00,  8.59it/s]\n",
      "  5%|▌         | 2/37 [00:00<00:02, 11.82it/s]"
     ]
    },
    {
     "name": "stdout",
     "output_type": "stream",
     "text": [
      "Epoch: 10. Loss: 0.07413015514612198\n"
     ]
    },
    {
     "name": "stderr",
     "output_type": "stream",
     "text": [
      "100%|██████████| 37/37 [00:04<00:00,  8.75it/s]\n",
      "  5%|▌         | 2/37 [00:00<00:02, 12.20it/s]"
     ]
    },
    {
     "name": "stdout",
     "output_type": "stream",
     "text": [
      "Epoch: 11. Loss: 0.016286632046103477\n"
     ]
    },
    {
     "name": "stderr",
     "output_type": "stream",
     "text": [
      "100%|██████████| 37/37 [00:04<00:00,  8.84it/s]\n",
      "  5%|▌         | 2/37 [00:00<00:02, 12.14it/s]"
     ]
    },
    {
     "name": "stdout",
     "output_type": "stream",
     "text": [
      "Epoch: 12. Loss: 0.022982312366366386\n"
     ]
    },
    {
     "name": "stderr",
     "output_type": "stream",
     "text": [
      "100%|██████████| 37/37 [00:04<00:00,  8.83it/s]\n",
      "  5%|▌         | 2/37 [00:00<00:02, 12.18it/s]"
     ]
    },
    {
     "name": "stdout",
     "output_type": "stream",
     "text": [
      "Epoch: 13. Loss: 0.0047156005166471004\n"
     ]
    },
    {
     "name": "stderr",
     "output_type": "stream",
     "text": [
      "100%|██████████| 37/37 [00:04<00:00,  8.82it/s]\n",
      "  5%|▌         | 2/37 [00:00<00:02, 12.20it/s]"
     ]
    },
    {
     "name": "stdout",
     "output_type": "stream",
     "text": [
      "Epoch: 14. Loss: 0.0023736346047371626\n"
     ]
    },
    {
     "name": "stderr",
     "output_type": "stream",
     "text": [
      "100%|██████████| 37/37 [00:04<00:00,  8.83it/s]\n",
      "  5%|▌         | 2/37 [00:00<00:02, 12.16it/s]"
     ]
    },
    {
     "name": "stdout",
     "output_type": "stream",
     "text": [
      "Epoch: 15. Loss: 0.0001548502768855542\n"
     ]
    },
    {
     "name": "stderr",
     "output_type": "stream",
     "text": [
      "100%|██████████| 37/37 [00:04<00:00,  8.83it/s]\n",
      "  5%|▌         | 2/37 [00:00<00:02, 12.17it/s]"
     ]
    },
    {
     "name": "stdout",
     "output_type": "stream",
     "text": [
      "Epoch: 16. Loss: 0.00015510951925534755\n"
     ]
    },
    {
     "name": "stderr",
     "output_type": "stream",
     "text": [
      "100%|██████████| 37/37 [00:04<00:00,  8.69it/s]\n",
      "  5%|▌         | 2/37 [00:00<00:02, 12.01it/s]"
     ]
    },
    {
     "name": "stdout",
     "output_type": "stream",
     "text": [
      "Epoch: 17. Loss: 8.530705963494256e-05\n"
     ]
    },
    {
     "name": "stderr",
     "output_type": "stream",
     "text": [
      "100%|██████████| 37/37 [00:04<00:00,  8.81it/s]\n",
      "  5%|▌         | 2/37 [00:00<00:02, 12.18it/s]"
     ]
    },
    {
     "name": "stdout",
     "output_type": "stream",
     "text": [
      "Epoch: 18. Loss: 3.468523209448904e-05\n"
     ]
    },
    {
     "name": "stderr",
     "output_type": "stream",
     "text": [
      "100%|██████████| 37/37 [00:04<00:00,  8.80it/s]"
     ]
    },
    {
     "name": "stdout",
     "output_type": "stream",
     "text": [
      "Epoch: 19. Loss: 2.887372647819575e-05\n"
     ]
    },
    {
     "name": "stderr",
     "output_type": "stream",
     "text": [
      "\n"
     ]
    }
   ],
   "source": [
    "BATCH_SIZE = 50 # First thing to reduce if you run into memory errors. If lower than 8, tweak the model\n",
    "EPOCHS = 20\n",
    "\n",
    "def train (net) :\n",
    "    for epoch in range(EPOCHS):\n",
    "        for i in tqdm(range(0, len(train_X), BATCH_SIZE)) :  \n",
    "            # Splitting in Batches\n",
    "            batch_X = train_X[i:i+BATCH_SIZE].view(-1,1,120,120)\n",
    "            batch_y = train_y[i:i+BATCH_SIZE]\n",
    "            # Data is a batch of featuremaps and labels\n",
    "            batch_X, batch_y = batch_X.to(device), batch_y.to(device) # Sending train,test batch to device (GPU if available)\n",
    "            net.zero_grad()                          # In PyTorch, we need to set the gradients to zero before starting to do backpropragation because PyTorch accumulates the gradients on subsequent backward passes.\n",
    "            outputs = net(batch_X)                   # Passing batch through the network\n",
    "            loss = loss_function(outputs, batch_y)   # Calculate the loss on output of network and labels Y, using MSE\n",
    "            loss.backward()                          # Backward propagation of loss/Reducing loss through partial derivatives\n",
    "            optimizer.step()                         # Adjusts the weight\n",
    "\n",
    "        print(f\"Epoch: {epoch}. Loss: {loss}\")\n",
    "\n",
    "train(net)    \n"
   ]
  },
  {
   "cell_type": "markdown",
   "metadata": {},
   "source": [
    "# 4. Accuracy - Validating/Testing Model on validation set \n",
    "\n",
    "1. <b>Accuracy on test set around 85%. </b>\n",
    "2. Tried multiple batch sizes, image sizes and training model for more epochs, but model couldn't improve further .\n",
    "3. Possible regularization problem, either use more data, use dropout etc, better models like resnet. (Not tried in interest of time)"
   ]
  },
  {
   "cell_type": "code",
   "execution_count": 8,
   "metadata": {
    "scrolled": true
   },
   "outputs": [
    {
     "name": "stderr",
     "output_type": "stream",
     "text": [
      "100%|██████████| 203/203 [00:00<00:00, 554.02it/s]"
     ]
    },
    {
     "name": "stdout",
     "output_type": "stream",
     "text": [
      "Accuracy : 0.867\n"
     ]
    },
    {
     "name": "stderr",
     "output_type": "stream",
     "text": [
      "\n"
     ]
    }
   ],
   "source": [
    "# moving testing tensors to the GPU if available\n",
    "test_X.to(device)\n",
    "test_y.to(device)\n",
    "\n",
    "def test(net):\n",
    "    correct = 0 \n",
    "    total = 0\n",
    "    with torch.no_grad():\n",
    "        for i in tqdm(range(len(test_X))) :\n",
    "            real_class = torch.argmax(test_y[i]).to(device)\n",
    "            net_out = net(test_X[i].view(-1,1,120,120).to(device))[0]\n",
    "            predicted_class = torch.argmax(net_out)\n",
    "            if predicted_class == real_class :\n",
    "                correct += 1\n",
    "            total += 1\n",
    "\n",
    "    accuracy = round(correct/total,3)\n",
    "    print(\"Accuracy :\", accuracy)\n",
    "    return accuracy \n",
    "\n",
    "accuracy =  test(net)"
   ]
  },
  {
   "cell_type": "markdown",
   "metadata": {},
   "source": [
    "# 4.1 Validation Metrics (*)\n",
    "\n",
    "1. *From another run of the model, using different parameters.\n",
    "2. created using <b>convnet-Validation_metrics.ipynb notebook.</b><br>\n",
    "3. <b>Overfitting can be seen to occur around the 10th EPOCH.\n",
    "  * Tried multiple batch sizes, image sizes and training model for more epochs, but model couldn't improve further .\n",
    "  * Possible regularization problem, would need to either use more data, use dropout etc, better models like resnet. (Not tried in interest of time)</b> \n",
    "4. True accuracy should be around high 70's or mid 80's."
   ]
  },
  {
   "cell_type": "code",
   "execution_count": 10,
   "metadata": {
    "scrolled": true
   },
   "outputs": [
    {
     "data": {
      "image/png": "[encoded data removed]",
      "text/plain": [
       "<Figure size 432x288 with 2 Axes>"
      ]
     },
     "metadata": {},
     "output_type": "display_data"
    }
   ],
   "source": [
    "#%matplotlib notebook\n",
    "import matplotlib.pyplot as plt\n",
    "from matplotlib import style\n",
    "\n",
    "style.use(\"ggplot\")\n",
    "\n",
    "model_name = \"model-1579336059\" # grab whichever model name you want here. We could also just reference the MODEL_NAME if you're in a notebook still.\n",
    "\n",
    "\n",
    "def create_acc_loss_graph(model_name):\n",
    "    contents = open(\"model.log\", \"r\").read().split(\"\\n\")\n",
    "\n",
    "    times = []\n",
    "    accuracies = []\n",
    "    losses = []\n",
    "\n",
    "    val_accs = []\n",
    "    val_losses = []\n",
    "\n",
    "    for c in contents:\n",
    "        if model_name in c:\n",
    "            name, timestamp, acc, loss, val_acc, val_loss, epoch = c.split(\",\")\n",
    "\n",
    "            times.append(float(timestamp))\n",
    "            accuracies.append(float(acc))\n",
    "            losses.append(float(loss))\n",
    "\n",
    "            val_accs.append(float(val_acc))\n",
    "            val_losses.append(float(val_loss))\n",
    "\n",
    "\n",
    "    fig = plt.figure()\n",
    "\n",
    "    ax1 = plt.subplot2grid((2,1), (0,0))\n",
    "    ax2 = plt.subplot2grid((2,1), (1,0), sharex=ax1)\n",
    "\n",
    "\n",
    "    ax1.plot(times, accuracies, label=\"acc\")\n",
    "    ax1.plot(times, val_accs, label=\"val_acc\")\n",
    "    ax1.legend(loc=2)\n",
    "    ax2.plot(times,losses, label=\"loss\")\n",
    "    ax2.plot(times,val_losses, label=\"val_loss\")\n",
    "    ax2.legend(loc=2)\n",
    "    plt.show()\n",
    "\n",
    "create_acc_loss_graph(model_name)"
   ]
  },
  {
   "cell_type": "markdown",
   "metadata": {},
   "source": [
    "# 4.2 Manual Validation\n",
    "\n",
    "1. Manually validating examples from Test set.<br>\n",
    "Output tensor index 0 - Maruti Swift <br>\n",
    "Output tensor index 1 - Toyota Innova\n",
    "2. Run again for random sample."
   ]
  },
  {
   "cell_type": "code",
   "execution_count": 12,
   "metadata": {},
   "outputs": [
    {
     "name": "stdout",
     "output_type": "stream",
     "text": [
      "73\n"
     ]
    },
    {
     "data": {
      "image/png": "[encoded data removed]",
      "text/plain": [
       "<Figure size 432x288 with 1 Axes>"
      ]
     },
     "metadata": {},
     "output_type": "display_data"
    },
    {
     "name": "stdout",
     "output_type": "stream",
     "text": [
      "tensor(1)\n"
     ]
    }
   ],
   "source": [
    "## import matplotlib.pyplot as plt\n",
    "#plt.imshow(X[2].view(50,50))\n",
    "#%matplotlib notebook\n",
    "\n",
    "num = np.random.randint(203)\n",
    "print(num)\n",
    "plt.imshow(test_X[num].view(120,120), cmap = \"gray\")\n",
    "plt.show()\n",
    "net_out = net(test_X[num].view(-1,1,120,120).to(device))[0]\n",
    "print(torch.argmax(net_out))"
   ]
  },
  {
   "cell_type": "markdown",
   "metadata": {},
   "source": [
    "# 4.3 Print Model Parameters and Save Checkpoint \n",
    "1. Printing entire models' learned parameters/weights. (commented out)\n",
    "2. Saved model in the format <b> \"checkpoint_acc_img_size_batch_epochs.pt\"</b>.\n",
    "3. Can be used for inferencing directly (section 5.)"
   ]
  },
  {
   "cell_type": "code",
   "execution_count": 16,
   "metadata": {},
   "outputs": [
    {
     "name": "stdout",
     "output_type": "stream",
     "text": [
      "Model's state_dict:\n",
      "conv1.weight \t torch.Size([32, 1, 5, 5])\n",
      "conv1.bias \t torch.Size([32])\n",
      "conv2.weight \t torch.Size([64, 32, 5, 5])\n",
      "conv2.bias \t torch.Size([64])\n",
      "conv3.weight \t torch.Size([128, 64, 5, 5])\n",
      "conv3.bias \t torch.Size([128])\n",
      "fc1.weight \t torch.Size([512, 15488])\n",
      "fc1.bias \t torch.Size([512])\n",
      "fc2.weight \t torch.Size([2, 512])\n",
      "fc2.bias \t torch.Size([2])\n",
      "\n",
      "\n",
      "\n",
      "Optimizer's state_dict:\n"
     ]
    }
   ],
   "source": [
    "# Print model's state_dict\n",
    "print(\"Model's state_dict:\")\n",
    "for param_tensor in net.state_dict():\n",
    "    print(param_tensor, \"\\t\", net.state_dict()[param_tensor].size())\n",
    "\n",
    "print('')\n",
    "print('')\n",
    "print('')\n",
    "\n",
    "print(\"Optimizer's state_dict:\")\n",
    "#for var_name in optimizer.state_dict():\n",
    "    #print(var_name, \"\\t\", optimizer.state_dict()[var_name])\n",
    "    \n",
    "#torch.save(net, 'checkpoint' + '_acc_' + str(accuracy) + '_img_size' + str(IMG_SIZE) + '_batch_' + str(BATCH_SIZE) + '_epochs_' + str(EPOCHS)+ '.pt')\n"
   ]
  },
  {
   "cell_type": "markdown",
   "metadata": {},
   "source": [
    "# 5. Classify your own images/ Loading just model for inferencing \n",
    "1. dependencies mentioned here.\n",
    "2. Loads best model trained.\n",
    "3. Can run on the GPU.\n",
    "4. <b>Load images by changing path below or replacing test.jpg in validate folder.</b>\n",
    "5. Classification Ouputs Label in the form of Tensor index.<br>\n",
    "Tensor [Swift, Innova]"
   ]
  },
  {
   "cell_type": "code",
   "execution_count": 11,
   "metadata": {
    "scrolled": true
   },
   "outputs": [
    {
     "name": "stdout",
     "output_type": "stream",
     "text": [
      "Running on the CPU\n"
     ]
    },
    {
     "data": {
      "image/png": "[encoded data removed]",
      "text/plain": [
       "<Figure size 432x288 with 1 Axes>"
      ]
     },
     "metadata": {},
     "output_type": "display_data"
    },
    {
     "name": "stdout",
     "output_type": "stream",
     "text": [
      "Prediction :  tensor(0)\n",
      "The image is of a Maruti Swift\n"
     ]
    }
   ],
   "source": [
    "# Loading Saved model for inference \n",
    "import numpy as np\n",
    "import matplotlib.pyplot as plt\n",
    "import torch\n",
    "import torch.nn as nn\n",
    "import torch.nn.functional as F\n",
    "import cv2\n",
    "\n",
    "# Selecting whether to run on GPU (if available) or CPU\n",
    "if torch.cuda.is_available():\n",
    "    device = torch.device(\"cuda:0\")  \n",
    "    print(\"Running on the GPU\")\n",
    "else:\n",
    "    device = torch.device(\"cpu\")\n",
    "    print(\"Running on the CPU\")\n",
    "    \n",
    "class Net(nn.Module) :\n",
    "    def __init__(self) :\n",
    "        super().__init__()\n",
    "        self.conv1 = nn.Conv2d(1, 32, 5)\n",
    "        self.conv2 = nn.Conv2d(32, 64, 5)\n",
    "        self.conv3 = nn.Conv2d(64, 128, 5)\n",
    "        x = torch.randn(120,120).view(-1,1,120,120)\n",
    "        self._to_linear = None\n",
    "        self.convs(x)   # Partial forward pass\n",
    "        self.fc1 = nn.Linear(self._to_linear, 512) \n",
    "        self.fc2 = nn.Linear(512, 2)  \n",
    "    def convs(self, x):           \n",
    "        x = F.relu(self.conv1(x))\n",
    "        x = F.max_pool2d(x,(2,2))\n",
    "        x = F.relu(self.conv2(x))\n",
    "        x = F.max_pool2d(x,(2,2))\n",
    "        x = F.relu(self.conv3(x))\n",
    "        x = F.max_pool2d(x,(2,2))\n",
    "        if self._to_linear is None:\n",
    "            self._to_linear = x[0].shape[0]*x[0].shape[1]*x[0].shape[2]\n",
    "        return x\n",
    "    def forward(self, x):\n",
    "        x = self.convs(x)\n",
    "        x = x.view(-1, self._to_linear)\n",
    "        x = F.relu(self.fc1(x))\n",
    "        x = self.fc2(x)\n",
    "        return F.softmax(x, dim=1)\n",
    "\n",
    "net = torch.load('checkpoint_acc_0.867_img_size120_batch_50_epochs_20.pt',map_location={'cuda:0': 'cpu'})\n",
    "net.eval()\n",
    "\n",
    "img_test = cv2.imread('validate/test_2.jpg', cv2.IMREAD_GRAYSCALE)\n",
    "img_test = cv2.resize(img_test, (120,120))\n",
    "test_data = []\n",
    "test_data.append(np.array(img_test))       \n",
    "test = torch.Tensor([test_data]).view(-1, 120, 120)\n",
    "plt.imshow(img_test, cmap = \"gray\")\n",
    "plt.show()\n",
    "\n",
    "net_out = net(test.view(-1,1,120,120).to(device))\n",
    "prediction = torch.argmax(net_out)\n",
    "\n",
    "pred_num = prediction.numpy()\n",
    "\n",
    "if pred_num == 1 :\n",
    "    print(\"Prediction : \" , prediction)\n",
    "    print(\"The image is of a Toyota Innova\")\n",
    "    \n",
    "else :\n",
    "    print(\"Prediction : \" , prediction)\n",
    "    print(\"The image is of a Maruti Swift\")  "
   ]
  }
 ],
 "metadata": {
  "kernelspec": {
   "display_name": "Python 3",
   "language": "python",
   "name": "python3"
  },
  "language_info": {
   "codemirror_mode": {
    "name": "ipython",
    "version": 3
   },
   "file_extension": ".py",
   "mimetype": "text/x-python",
   "name": "python",
   "nbconvert_exporter": "python",
   "pygments_lexer": "ipython3",
   "version": "3.6.4"
  }
 },
 "nbformat": 4,
 "nbformat_minor": 2
}
